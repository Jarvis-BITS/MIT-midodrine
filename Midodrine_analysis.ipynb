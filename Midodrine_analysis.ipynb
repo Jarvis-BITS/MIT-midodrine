{
  "nbformat": 4,
  "nbformat_minor": 0,
  "metadata": {
    "colab": {
      "name": "Midodrine-analysis.ipynb",
      "provenance": [],
      "toc_visible": true,
      "collapsed_sections": [],
      "include_colab_link": true
    },
    "kernelspec": {
      "name": "python3",
      "display_name": "Python 3"
    },
    "language_info": {
      "name": "python"
    }
  },
  "cells": [
    {
      "cell_type": "markdown",
      "metadata": {
        "id": "view-in-github",
        "colab_type": "text"
      },
      "source": [
        "<a href=\"https://colab.research.google.com/github/Jarvis-BITS/MIT-midodrine/blob/main/Midodrine_analysis.ipynb\" target=\"_parent\"><img src=\"https://colab.research.google.com/assets/colab-badge.svg\" alt=\"Open In Colab\"/></a>"
      ]
    },
    {
      "cell_type": "markdown",
      "source": [
        "Import libraries"
      ],
      "metadata": {
        "id": "_HjDBG56TISW"
      }
    },
    {
      "cell_type": "code",
      "execution_count": 22,
      "metadata": {
        "colab": {
          "base_uri": "https://localhost:8080/"
        },
        "id": "2vbq436UTFSP",
        "outputId": "113e31c7-2522-4984-80b8-d19cb16ed6bb"
      },
      "outputs": [
        {
          "output_type": "stream",
          "name": "stdout",
          "text": [
            "Tensorflow version 2.8.0\n",
            "Authenticated\n"
          ]
        }
      ],
      "source": [
        "import pandas as pd\n",
        "import matplotlib.pyplot as plt\n",
        "import numpy as np\n",
        "import tensorflow as tf\n",
        "print(\"Tensorflow version \" + tf.__version__)\n",
        "from google.colab import auth\n",
        "from google.cloud import bigquery\n",
        "auth.authenticate_user()\n",
        "print('Authenticated')"
      ]
    },
    {
      "cell_type": "markdown",
      "source": [
        "run if TPU's are *connected*"
      ],
      "metadata": {
        "id": "D2y7hHrlTJ9r"
      }
    },
    {
      "cell_type": "code",
      "source": [
        "try:\n",
        "  tpu = tf.distribute.cluster_resolver.TPUClusterResolver()  # TPU detection\n",
        "  print('Running on TPU ', tpu.cluster_spec().as_dict()['worker'])\n",
        "except ValueError:\n",
        "  raise BaseException('ERROR: Not connected to a TPU runtime')\n",
        "\n",
        "tf.config.experimental_connect_to_cluster(tpu)\n",
        "tf.tpu.experimental.initialize_tpu_system(tpu)\n",
        "tpu_strategy = tf.distribute.experimental.TPUStrategy(tpu)"
      ],
      "metadata": {
        "id": "bdsDEjBnTPyz"
      },
      "execution_count": null,
      "outputs": []
    },
    {
      "cell_type": "markdown",
      "source": [
        "run if GPU's connected"
      ],
      "metadata": {
        "id": "hY0ZrbpxVk-c"
      }
    },
    {
      "cell_type": "code",
      "source": [
        "device_name = tf.test.gpu_device_name()\n",
        "if device_name != '/device:GPU:0':\n",
        "  raise SystemError('GPU device not found')\n",
        "print('Found GPU at: {}'.format(device_name))"
      ],
      "metadata": {
        "id": "TKhCjC8sVkYD"
      },
      "execution_count": null,
      "outputs": []
    },
    {
      "cell_type": "code",
      "source": [
        "from google.colab import auth\n",
        "\n",
        "auth.authenticate_user()\n",
        "print('Authenticated')\n",
        " "
      ],
      "metadata": {
        "colab": {
          "base_uri": "https://localhost:8080/"
        },
        "id": "p0YMMRIwqArn",
        "outputId": "a01fff4d-4292-4c87-e5cb-5c59054b5a92"
      },
      "execution_count": null,
      "outputs": [
        {
          "output_type": "stream",
          "name": "stdout",
          "text": [
            "Authenticated\n"
          ]
        }
      ]
    },
    {
      "cell_type": "markdown",
      "source": [
        "# Demographic analysis\n",
        "\n",
        "\n",
        "---\n",
        "\n",
        "\n",
        "**List of variables/column names we should pull**: \n",
        "\n",
        "1.   from mimic_core.admissions: subject_id, gender, admittime,\tdischtime, deathtime, ethnicity\n",
        "2.   from derived: weight/height, age, some indicators related to midodrine injection (still in search)\n",
        "\n",
        "\n"
      ],
      "metadata": {
        "id": "_kel6TFOTRsV"
      }
    },
    {
      "cell_type": "code",
      "source": [
        "%load_ext google.colab.data_table"
      ],
      "metadata": {
        "id": "zC0rv5dvua7f"
      },
      "execution_count": 2,
      "outputs": []
    },
    {
      "cell_type": "code",
      "source": [
        "%load_ext google.cloud.bigquery"
      ],
      "metadata": {
        "colab": {
          "base_uri": "https://localhost:8080/"
        },
        "id": "QcPjbqIO5Qtv",
        "outputId": "13529140-80b8-405c-8b7b-5604690b1b32"
      },
      "execution_count": 10,
      "outputs": [
        {
          "output_type": "stream",
          "name": "stdout",
          "text": [
            "The google.cloud.bigquery extension is already loaded. To reload it, use:\n",
            "  %reload_ext google.cloud.bigquery\n"
          ]
        }
      ]
    },
    {
      "cell_type": "code",
      "source": [
        "bqclient = bigquery.Client(project='my-project-eicu')"
      ],
      "metadata": {
        "id": "SHxW06SpAAoB"
      },
      "execution_count": null,
      "outputs": []
    },
    {
      "cell_type": "code",
      "source": [
        "# Population Extraction\n",
        "Population = \"\"\"\n",
        "WITH Demographic AS (\n",
        "  SELECT subject_id, intime, outtime, los, first_careunit\n",
        "  FROM `physionet-data.mimic_icu.icustays`\n",
        "  WHERE first_careunit = last_careunit\n",
        ")\n",
        ", Age AS (\n",
        "  SELECT subject_id, anchor_age, gender\n",
        "  FROM `physionet-data.mimic_core.patients`\n",
        ")\n",
        ", Midodrine_injection AS(\n",
        "  SELECT subject_id, starttime\n",
        "  FROM `physionet-data.mimic_hosp.pharmacy`\n",
        "  WHERE lower(medication) like 'midodrine'\n",
        ")\n",
        ", exclude_Midodrine_date AS(\n",
        "  SELECT subject_id\n",
        "  , CASE WHEN LOGICAL_OR(starttime < DATE_TRUNC(intime - interval '1' day, DAY) or starttime > outtime) THEN 1 ELSE 0 END AS exclude_midodrine\n",
        "  FROM `physionet-data.mimic_icu.icustays` LEFT JOIN Midodrine_injection USING (subject_id)\n",
        "  GROUP BY subject_id\n",
        ")\n",
        ", Midodrine AS (\n",
        "  SELECT subject_id\n",
        "  , CASE WHEN LOGICAL_OR(medication = 'midodrine' or medication = 'Midodrine') THEN 1 ELSE 0 END AS midodrine_injection\n",
        "  , AVG(doses_per_24_hrs) AS avg_doses_per_24_hrs\n",
        "  FROM `physionet-data.mimic_hosp.pharmacy`  \n",
        "  WHERE doses_per_24_hrs is not null \n",
        "  GROUP BY subject_id\n",
        ")\n",
        ", Population AS (\n",
        "  SELECT *\n",
        "  FROM(SELECT DISTINCT subject_id FROM `physionet-data.mimic_icu.icustays`)\n",
        "  LEFT JOIN Demographic USING (subject_id)\n",
        "  LEFT JOIN Midodrine USING (subject_id)\n",
        "  LEFT JOIN exclude_Midodrine_date USING (subject_id)\n",
        "  LEFT JOIN Age USING (subject_id)\n",
        ")\n",
        "SELECT * FROM Population\n",
        "\"\"\""
      ],
      "metadata": {
        "id": "hxtZV9pOqFUG"
      },
      "execution_count": 169,
      "outputs": []
    },
    {
      "cell_type": "code",
      "source": [
        "population_data = (\n",
        "    bqclient.query(Population)\n",
        "    .result()\n",
        "    .to_dataframe()\n",
        ")"
      ],
      "metadata": {
        "id": "Sb8Mg_D0iC9N"
      },
      "execution_count": 170,
      "outputs": []
    },
    {
      "cell_type": "code",
      "source": [
        "population_data"
      ],
      "metadata": {
        "colab": {
          "base_uri": "https://localhost:8080/",
          "height": 833
        },
        "id": "lfQKIvawEDmK",
        "outputId": "8813860d-7e54-42e4-d103-886c66a33969"
      },
      "execution_count": 172,
      "outputs": [
        {
          "output_type": "stream",
          "name": "stdout",
          "text": [
            "Warning: total number of rows (73724) exceeds max_rows (20000). Falling back to pandas display.\n"
          ]
        },
        {
          "output_type": "execute_result",
          "data": {
            "text/plain": [
              "       subject_id              intime             outtime       los  \\\n",
              "0        14303051 2175-11-20 01:02:00 2175-11-21 16:06:17  1.627975   \n",
              "1        13386137 2125-09-27 20:05:47 2125-09-28 16:32:59  0.852222   \n",
              "2        13315365 2178-03-03 20:16:03 2178-03-04 16:46:26  0.854433   \n",
              "3        18917282 2153-11-01 12:06:00 2153-11-01 15:40:42  0.149097   \n",
              "4        10318816 2184-08-12 06:31:00 2184-08-13 15:52:40  1.390046   \n",
              "...           ...                 ...                 ...       ...   \n",
              "73719    18227829 2177-11-18 13:20:00 2177-11-19 19:36:10  1.261227   \n",
              "73720    13762560 2144-11-24 02:45:00 2144-11-24 22:28:50  0.822106   \n",
              "73721    14247952 2139-09-16 14:40:00 2139-09-19 18:18:37  3.151817   \n",
              "73722    15694615 2111-09-13 04:30:31 2111-09-13 14:58:22  0.436007   \n",
              "73723    10534155 2124-05-28 01:08:00 2124-05-28 14:29:52  0.556852   \n",
              "\n",
              "                                         first_careunit  midodrine_injection  \\\n",
              "0                                        Neuro Stepdown                  0.0   \n",
              "1                                        Neuro Stepdown                  0.0   \n",
              "2                                        Neuro Stepdown                  0.0   \n",
              "3                                        Neuro Stepdown                  0.0   \n",
              "4                                        Neuro Stepdown                  0.0   \n",
              "...                                                 ...                  ...   \n",
              "73719  Medical/Surgical Intensive Care Unit (MICU/SICU)                  0.0   \n",
              "73720  Medical/Surgical Intensive Care Unit (MICU/SICU)                  0.0   \n",
              "73721  Medical/Surgical Intensive Care Unit (MICU/SICU)                  0.0   \n",
              "73722  Medical/Surgical Intensive Care Unit (MICU/SICU)                  0.0   \n",
              "73723  Medical/Surgical Intensive Care Unit (MICU/SICU)                  0.0   \n",
              "\n",
              "       avg_doses_per_24_hrs  exclude_midodrine  anchor_age gender  \n",
              "0                  2.090909                  0          24      F  \n",
              "1                  1.540541                  0          20      F  \n",
              "2                  1.600000                  0          37      F  \n",
              "3                  1.800000                  0          23      M  \n",
              "4                  2.000000                  0          29      F  \n",
              "...                     ...                ...         ...    ...  \n",
              "73719              1.354839                  0          91      M  \n",
              "73720              1.000000                  0          91      F  \n",
              "73721              1.000000                  0          91      F  \n",
              "73722              1.428571                  0          91      M  \n",
              "73723              0.800000                  0          91      M  \n",
              "\n",
              "[73724 rows x 10 columns]"
            ],
            "text/html": [
              "\n",
              "  <div id=\"df-c59692b9-abd7-4866-9644-047653d1cd16\">\n",
              "    <div class=\"colab-df-container\">\n",
              "      <div>\n",
              "<style scoped>\n",
              "    .dataframe tbody tr th:only-of-type {\n",
              "        vertical-align: middle;\n",
              "    }\n",
              "\n",
              "    .dataframe tbody tr th {\n",
              "        vertical-align: top;\n",
              "    }\n",
              "\n",
              "    .dataframe thead th {\n",
              "        text-align: right;\n",
              "    }\n",
              "</style>\n",
              "<table border=\"1\" class=\"dataframe\">\n",
              "  <thead>\n",
              "    <tr style=\"text-align: right;\">\n",
              "      <th></th>\n",
              "      <th>subject_id</th>\n",
              "      <th>intime</th>\n",
              "      <th>outtime</th>\n",
              "      <th>los</th>\n",
              "      <th>first_careunit</th>\n",
              "      <th>midodrine_injection</th>\n",
              "      <th>avg_doses_per_24_hrs</th>\n",
              "      <th>exclude_midodrine</th>\n",
              "      <th>anchor_age</th>\n",
              "      <th>gender</th>\n",
              "    </tr>\n",
              "  </thead>\n",
              "  <tbody>\n",
              "    <tr>\n",
              "      <th>0</th>\n",
              "      <td>14303051</td>\n",
              "      <td>2175-11-20 01:02:00</td>\n",
              "      <td>2175-11-21 16:06:17</td>\n",
              "      <td>1.627975</td>\n",
              "      <td>Neuro Stepdown</td>\n",
              "      <td>0.0</td>\n",
              "      <td>2.090909</td>\n",
              "      <td>0</td>\n",
              "      <td>24</td>\n",
              "      <td>F</td>\n",
              "    </tr>\n",
              "    <tr>\n",
              "      <th>1</th>\n",
              "      <td>13386137</td>\n",
              "      <td>2125-09-27 20:05:47</td>\n",
              "      <td>2125-09-28 16:32:59</td>\n",
              "      <td>0.852222</td>\n",
              "      <td>Neuro Stepdown</td>\n",
              "      <td>0.0</td>\n",
              "      <td>1.540541</td>\n",
              "      <td>0</td>\n",
              "      <td>20</td>\n",
              "      <td>F</td>\n",
              "    </tr>\n",
              "    <tr>\n",
              "      <th>2</th>\n",
              "      <td>13315365</td>\n",
              "      <td>2178-03-03 20:16:03</td>\n",
              "      <td>2178-03-04 16:46:26</td>\n",
              "      <td>0.854433</td>\n",
              "      <td>Neuro Stepdown</td>\n",
              "      <td>0.0</td>\n",
              "      <td>1.600000</td>\n",
              "      <td>0</td>\n",
              "      <td>37</td>\n",
              "      <td>F</td>\n",
              "    </tr>\n",
              "    <tr>\n",
              "      <th>3</th>\n",
              "      <td>18917282</td>\n",
              "      <td>2153-11-01 12:06:00</td>\n",
              "      <td>2153-11-01 15:40:42</td>\n",
              "      <td>0.149097</td>\n",
              "      <td>Neuro Stepdown</td>\n",
              "      <td>0.0</td>\n",
              "      <td>1.800000</td>\n",
              "      <td>0</td>\n",
              "      <td>23</td>\n",
              "      <td>M</td>\n",
              "    </tr>\n",
              "    <tr>\n",
              "      <th>4</th>\n",
              "      <td>10318816</td>\n",
              "      <td>2184-08-12 06:31:00</td>\n",
              "      <td>2184-08-13 15:52:40</td>\n",
              "      <td>1.390046</td>\n",
              "      <td>Neuro Stepdown</td>\n",
              "      <td>0.0</td>\n",
              "      <td>2.000000</td>\n",
              "      <td>0</td>\n",
              "      <td>29</td>\n",
              "      <td>F</td>\n",
              "    </tr>\n",
              "    <tr>\n",
              "      <th>...</th>\n",
              "      <td>...</td>\n",
              "      <td>...</td>\n",
              "      <td>...</td>\n",
              "      <td>...</td>\n",
              "      <td>...</td>\n",
              "      <td>...</td>\n",
              "      <td>...</td>\n",
              "      <td>...</td>\n",
              "      <td>...</td>\n",
              "      <td>...</td>\n",
              "    </tr>\n",
              "    <tr>\n",
              "      <th>73719</th>\n",
              "      <td>18227829</td>\n",
              "      <td>2177-11-18 13:20:00</td>\n",
              "      <td>2177-11-19 19:36:10</td>\n",
              "      <td>1.261227</td>\n",
              "      <td>Medical/Surgical Intensive Care Unit (MICU/SICU)</td>\n",
              "      <td>0.0</td>\n",
              "      <td>1.354839</td>\n",
              "      <td>0</td>\n",
              "      <td>91</td>\n",
              "      <td>M</td>\n",
              "    </tr>\n",
              "    <tr>\n",
              "      <th>73720</th>\n",
              "      <td>13762560</td>\n",
              "      <td>2144-11-24 02:45:00</td>\n",
              "      <td>2144-11-24 22:28:50</td>\n",
              "      <td>0.822106</td>\n",
              "      <td>Medical/Surgical Intensive Care Unit (MICU/SICU)</td>\n",
              "      <td>0.0</td>\n",
              "      <td>1.000000</td>\n",
              "      <td>0</td>\n",
              "      <td>91</td>\n",
              "      <td>F</td>\n",
              "    </tr>\n",
              "    <tr>\n",
              "      <th>73721</th>\n",
              "      <td>14247952</td>\n",
              "      <td>2139-09-16 14:40:00</td>\n",
              "      <td>2139-09-19 18:18:37</td>\n",
              "      <td>3.151817</td>\n",
              "      <td>Medical/Surgical Intensive Care Unit (MICU/SICU)</td>\n",
              "      <td>0.0</td>\n",
              "      <td>1.000000</td>\n",
              "      <td>0</td>\n",
              "      <td>91</td>\n",
              "      <td>F</td>\n",
              "    </tr>\n",
              "    <tr>\n",
              "      <th>73722</th>\n",
              "      <td>15694615</td>\n",
              "      <td>2111-09-13 04:30:31</td>\n",
              "      <td>2111-09-13 14:58:22</td>\n",
              "      <td>0.436007</td>\n",
              "      <td>Medical/Surgical Intensive Care Unit (MICU/SICU)</td>\n",
              "      <td>0.0</td>\n",
              "      <td>1.428571</td>\n",
              "      <td>0</td>\n",
              "      <td>91</td>\n",
              "      <td>M</td>\n",
              "    </tr>\n",
              "    <tr>\n",
              "      <th>73723</th>\n",
              "      <td>10534155</td>\n",
              "      <td>2124-05-28 01:08:00</td>\n",
              "      <td>2124-05-28 14:29:52</td>\n",
              "      <td>0.556852</td>\n",
              "      <td>Medical/Surgical Intensive Care Unit (MICU/SICU)</td>\n",
              "      <td>0.0</td>\n",
              "      <td>0.800000</td>\n",
              "      <td>0</td>\n",
              "      <td>91</td>\n",
              "      <td>M</td>\n",
              "    </tr>\n",
              "  </tbody>\n",
              "</table>\n",
              "<p>73724 rows × 10 columns</p>\n",
              "</div>\n",
              "      <button class=\"colab-df-convert\" onclick=\"convertToInteractive('df-c59692b9-abd7-4866-9644-047653d1cd16')\"\n",
              "              title=\"Convert this dataframe to an interactive table.\"\n",
              "              style=\"display:none;\">\n",
              "        \n",
              "  <svg xmlns=\"http://www.w3.org/2000/svg\" height=\"24px\"viewBox=\"0 0 24 24\"\n",
              "       width=\"24px\">\n",
              "    <path d=\"M0 0h24v24H0V0z\" fill=\"none\"/>\n",
              "    <path d=\"M18.56 5.44l.94 2.06.94-2.06 2.06-.94-2.06-.94-.94-2.06-.94 2.06-2.06.94zm-11 1L8.5 8.5l.94-2.06 2.06-.94-2.06-.94L8.5 2.5l-.94 2.06-2.06.94zm10 10l.94 2.06.94-2.06 2.06-.94-2.06-.94-.94-2.06-.94 2.06-2.06.94z\"/><path d=\"M17.41 7.96l-1.37-1.37c-.4-.4-.92-.59-1.43-.59-.52 0-1.04.2-1.43.59L10.3 9.45l-7.72 7.72c-.78.78-.78 2.05 0 2.83L4 21.41c.39.39.9.59 1.41.59.51 0 1.02-.2 1.41-.59l7.78-7.78 2.81-2.81c.8-.78.8-2.07 0-2.86zM5.41 20L4 18.59l7.72-7.72 1.47 1.35L5.41 20z\"/>\n",
              "  </svg>\n",
              "      </button>\n",
              "      \n",
              "  <style>\n",
              "    .colab-df-container {\n",
              "      display:flex;\n",
              "      flex-wrap:wrap;\n",
              "      gap: 12px;\n",
              "    }\n",
              "\n",
              "    .colab-df-convert {\n",
              "      background-color: #E8F0FE;\n",
              "      border: none;\n",
              "      border-radius: 50%;\n",
              "      cursor: pointer;\n",
              "      display: none;\n",
              "      fill: #1967D2;\n",
              "      height: 32px;\n",
              "      padding: 0 0 0 0;\n",
              "      width: 32px;\n",
              "    }\n",
              "\n",
              "    .colab-df-convert:hover {\n",
              "      background-color: #E2EBFA;\n",
              "      box-shadow: 0px 1px 2px rgba(60, 64, 67, 0.3), 0px 1px 3px 1px rgba(60, 64, 67, 0.15);\n",
              "      fill: #174EA6;\n",
              "    }\n",
              "\n",
              "    [theme=dark] .colab-df-convert {\n",
              "      background-color: #3B4455;\n",
              "      fill: #D2E3FC;\n",
              "    }\n",
              "\n",
              "    [theme=dark] .colab-df-convert:hover {\n",
              "      background-color: #434B5C;\n",
              "      box-shadow: 0px 1px 3px 1px rgba(0, 0, 0, 0.15);\n",
              "      filter: drop-shadow(0px 1px 2px rgba(0, 0, 0, 0.3));\n",
              "      fill: #FFFFFF;\n",
              "    }\n",
              "  </style>\n",
              "\n",
              "      <script>\n",
              "        const buttonEl =\n",
              "          document.querySelector('#df-c59692b9-abd7-4866-9644-047653d1cd16 button.colab-df-convert');\n",
              "        buttonEl.style.display =\n",
              "          google.colab.kernel.accessAllowed ? 'block' : 'none';\n",
              "\n",
              "        async function convertToInteractive(key) {\n",
              "          const element = document.querySelector('#df-c59692b9-abd7-4866-9644-047653d1cd16');\n",
              "          const dataTable =\n",
              "            await google.colab.kernel.invokeFunction('convertToInteractive',\n",
              "                                                     [key], {});\n",
              "          if (!dataTable) return;\n",
              "\n",
              "          const docLinkHtml = 'Like what you see? Visit the ' +\n",
              "            '<a target=\"_blank\" href=https://colab.research.google.com/notebooks/data_table.ipynb>data table notebook</a>'\n",
              "            + ' to learn more about interactive tables.';\n",
              "          element.innerHTML = '';\n",
              "          dataTable['output_type'] = 'display_data';\n",
              "          await google.colab.output.renderOutput(dataTable, element);\n",
              "          const docLink = document.createElement('div');\n",
              "          docLink.innerHTML = docLinkHtml;\n",
              "          element.appendChild(docLink);\n",
              "        }\n",
              "      </script>\n",
              "    </div>\n",
              "  </div>\n",
              "  "
            ]
          },
          "metadata": {},
          "execution_count": 172
        }
      ]
    },
    {
      "cell_type": "markdown",
      "source": [
        "## Next, we need to build the cohort table\n",
        "### First, exclude the child (< 18 years' old)\n",
        "### Second, exclude those who have been to ICU more than once\n",
        "### Third, exclude those whose ICU care is not 'MICU' or 'SICU'\n",
        "### Fourth, exclude those who accepted midodrine more than one day before icu care or after icu care (have been done before)"
      ],
      "metadata": {
        "id": "J4qxmGbGMFl4"
      }
    },
    {
      "cell_type": "code",
      "source": [
        "# first part\n",
        "cohort_first = population_data[population_data['anchor_age']>18]\n",
        "cohort_first.shape"
      ],
      "metadata": {
        "colab": {
          "base_uri": "https://localhost:8080/"
        },
        "id": "ol7kIvYvM3Qk",
        "outputId": "b6f78ad0-8b6c-48e0-91f2-9826fd664ccd"
      },
      "execution_count": 174,
      "outputs": [
        {
          "output_type": "execute_result",
          "data": {
            "text/plain": [
              "(73618, 10)"
            ]
          },
          "metadata": {},
          "execution_count": 174
        }
      ]
    },
    {
      "cell_type": "code",
      "source": [
        "# second part\n",
        "cohort_second = cohort_first.drop_duplicates(subset='subject_id', \n",
        "                                             keep=False, \n",
        "                                             inplace=False,\n",
        "                                             ignore_index=False)\n",
        "cohort_second.shape"
      ],
      "metadata": {
        "colab": {
          "base_uri": "https://localhost:8080/"
        },
        "id": "-hZ1AAbvN-XO",
        "outputId": "25b8d5b7-7bb0-4197-a755-71f49a0fbdb2"
      },
      "execution_count": 176,
      "outputs": [
        {
          "output_type": "execute_result",
          "data": {
            "text/plain": [
              "(41245, 10)"
            ]
          },
          "metadata": {},
          "execution_count": 176
        }
      ]
    },
    {
      "cell_type": "code",
      "source": [
        "# Third\n",
        "cohort_third = cohort_second[(cohort_second['first_careunit'].str.contains('MICU')) | (cohort_second['first_careunit'].str.contains('SICU'))]\n",
        "cohort_third.shape"
      ],
      "metadata": {
        "colab": {
          "base_uri": "https://localhost:8080/"
        },
        "id": "Jqt_awViPSmk",
        "outputId": "dc354af3-43cf-454e-b540-7269bd641652"
      },
      "execution_count": 180,
      "outputs": [
        {
          "output_type": "execute_result",
          "data": {
            "text/plain": [
              "(25093, 10)"
            ]
          },
          "metadata": {},
          "execution_count": 180
        }
      ]
    },
    {
      "cell_type": "code",
      "source": [
        "# Fourth\n",
        "cohort_final = cohort_third[cohort_third['exclude_midodrine']==0]\n",
        "cohort_final.shape"
      ],
      "metadata": {
        "colab": {
          "base_uri": "https://localhost:8080/"
        },
        "id": "sYyk9-JvQCA3",
        "outputId": "56f5bc0e-4b59-40ef-a700-046f2f97bb2d"
      },
      "execution_count": 181,
      "outputs": [
        {
          "output_type": "execute_result",
          "data": {
            "text/plain": [
              "(24581, 10)"
            ]
          },
          "metadata": {},
          "execution_count": 181
        }
      ]
    },
    {
      "cell_type": "code",
      "source": [
        ""
      ],
      "metadata": {
        "id": "kXzsSkrCQJWv"
      },
      "execution_count": null,
      "outputs": []
    }
  ]
}