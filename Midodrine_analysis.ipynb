{
  "nbformat": 4,
  "nbformat_minor": 0,
  "metadata": {
    "colab": {
      "name": "Midodrine-analysis.ipynb",
      "provenance": [],
      "toc_visible": true,
      "include_colab_link": true
    },
    "kernelspec": {
      "name": "python3",
      "display_name": "Python 3"
    },
    "language_info": {
      "name": "python"
    }
  },
  "cells": [
    {
      "cell_type": "markdown",
      "metadata": {
        "id": "view-in-github",
        "colab_type": "text"
      },
      "source": [
        "<a href=\"https://colab.research.google.com/github/Jarvis-BITS/MIT-midodrine/blob/main/Midodrine_analysis.ipynb\" target=\"_parent\"><img src=\"https://colab.research.google.com/assets/colab-badge.svg\" alt=\"Open In Colab\"/></a>"
      ]
    },
    {
      "cell_type": "markdown",
      "source": [
        "Import libraries"
      ],
      "metadata": {
        "id": "_HjDBG56TISW"
      }
    },
    {
      "cell_type": "code",
      "execution_count": null,
      "metadata": {
        "colab": {
          "base_uri": "https://localhost:8080/"
        },
        "id": "2vbq436UTFSP",
        "outputId": "6b5987f2-4626-46a5-f040-907c6eb8b0b6"
      },
      "outputs": [
        {
          "output_type": "stream",
          "name": "stdout",
          "text": [
            "Tensorflow version 2.8.0\n"
          ]
        }
      ],
      "source": [
        "import pandas as pd\n",
        "import matplotlib.pyplot as plt\n",
        "import numpy as np\n",
        "import tensorflow as tf\n",
        "print(\"Tensorflow version \" + tf.__version__)\n"
      ]
    },
    {
      "cell_type": "markdown",
      "source": [
        "run if TPU's are *connected*"
      ],
      "metadata": {
        "id": "D2y7hHrlTJ9r"
      }
    },
    {
      "cell_type": "code",
      "source": [
        "try:\n",
        "  tpu = tf.distribute.cluster_resolver.TPUClusterResolver()  # TPU detection\n",
        "  print('Running on TPU ', tpu.cluster_spec().as_dict()['worker'])\n",
        "except ValueError:\n",
        "  raise BaseException('ERROR: Not connected to a TPU runtime')\n",
        "\n",
        "tf.config.experimental_connect_to_cluster(tpu)\n",
        "tf.tpu.experimental.initialize_tpu_system(tpu)\n",
        "tpu_strategy = tf.distribute.experimental.TPUStrategy(tpu)"
      ],
      "metadata": {
        "id": "bdsDEjBnTPyz"
      },
      "execution_count": null,
      "outputs": []
    },
    {
      "cell_type": "markdown",
      "source": [
        "run if GPU's connected"
      ],
      "metadata": {
        "id": "hY0ZrbpxVk-c"
      }
    },
    {
      "cell_type": "code",
      "source": [
        "device_name = tf.test.gpu_device_name()\n",
        "if device_name != '/device:GPU:0':\n",
        "  raise SystemError('GPU device not found')\n",
        "print('Found GPU at: {}'.format(device_name))"
      ],
      "metadata": {
        "id": "TKhCjC8sVkYD"
      },
      "execution_count": null,
      "outputs": []
    },
    {
      "cell_type": "code",
      "source": [
        "from google.colab import auth\n",
        "auth.authenticate_user()\n",
        "print('Authenticated')\n",
        " "
      ],
      "metadata": {
        "id": "p0YMMRIwqArn",
        "outputId": "020a19b6-c379-4b1b-88b6-e552fca33f86",
        "colab": {
          "base_uri": "https://localhost:8080/"
        }
      },
      "execution_count": 5,
      "outputs": [
        {
          "output_type": "stream",
          "name": "stdout",
          "text": [
            "Authenticated\n"
          ]
        }
      ]
    },
    {
      "cell_type": "markdown",
      "source": [
        "# Demographic analysis\n",
        "\n",
        "\n",
        "---\n",
        "\n",
        "\n",
        "**List of variables/column names we should pull**: \n",
        "\n",
        "1.   from mimic_core.admissions: subject_id, gender, admittime,\tdischtime, deathtime, ethnicity\n",
        "2.   from derived: weight/height, age, some indicators related to midodrine injection (still in search)\n",
        "\n",
        "\n"
      ],
      "metadata": {
        "id": "_kel6TFOTRsV"
      }
    },
    {
      "cell_type": "code",
      "source": [
        "%load_ext google.colab.data_table"
      ],
      "metadata": {
        "id": "zC0rv5dvua7f"
      },
      "execution_count": 4,
      "outputs": []
    },
    {
      "cell_type": "code",
      "source": [
        "%%bigquery --project midodrine\n",
        "SELECT \n",
        "  COUNT(*) as total_rows\n",
        "FROM `physionet-data.mimic_core.admissions`"
      ],
      "metadata": {
        "id": "hxtZV9pOqFUG",
        "outputId": "7c75b106-a56f-4bfb-83b1-98b9eaed1e69",
        "colab": {
          "base_uri": "https://localhost:8080/"
        }
      },
      "execution_count": 3,
      "outputs": [
        {
          "output_type": "stream",
          "name": "stderr",
          "text": [
            "\n",
            "ERROR:\n",
            " 400 POST https://bigquery.googleapis.com/bigquery/v2/projects/midodrine/jobs: ProjectId and DatasetId must be non-empty\n",
            "\n",
            "(job ID: ad54017e-066c-4e09-b9eb-bde1f2f8d72b)\n",
            "\n",
            "        -----Query Job SQL Follows-----         \n",
            "\n",
            "    |    .    |    .    |    .    |    .    |\n",
            "   1:SELECT \n",
            "   2:  COUNT(*) as total_rows\n",
            "   3:FROM `physionet-data.mimic_core.admissions`\n",
            "    |    .    |    .    |    .    |    .    |\n"
          ]
        }
      ]
    }
  ]
}