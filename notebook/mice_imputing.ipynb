{
  "cells": [
    {
      "cell_type": "markdown",
      "metadata": {
        "id": "view-in-github",
        "colab_type": "text"
      },
      "source": [
        "<a href=\"https://colab.research.google.com/github/Jarvis-BITS/midodrine-mimic-iv/blob/demo/notebook/mice_imputing.ipynb\" target=\"_parent\"><img src=\"https://colab.research.google.com/assets/colab-badge.svg\" alt=\"Open In Colab\"/></a>"
      ]
    },
    {
      "cell_type": "markdown",
      "metadata": {
        "id": "_HjDBG56TISW"
      },
      "source": [
        "Import libraries"
      ]
    },
    {
      "cell_type": "code",
      "source": [
        "!pip install rpy2"
      ],
      "metadata": {
        "id": "BZ_aFSIUS5-L"
      },
      "execution_count": null,
      "outputs": []
    },
    {
      "cell_type": "code",
      "source": [
        "%load_ext rpy2.ipython"
      ],
      "metadata": {
        "id": "7-XW8oPFBcSs"
      },
      "execution_count": 7,
      "outputs": []
    },
    {
      "cell_type": "code",
      "source": [
        "%%R\n",
        "install.packages(\"mice\")"
      ],
      "metadata": {
        "id": "7iCetjJXopog"
      },
      "execution_count": null,
      "outputs": []
    },
    {
      "cell_type": "markdown",
      "source": [
        "### Data Imputation for tmle\n",
        "\n",
        "---\n",
        "Dashti, Ghazaleh, and Lee, Katherine J, et al. \"Handling missing data for causal effect estimation in cohort studies using Targeted Maximum Likelihood Estimation\". INTERNATIONAL JOURNAL OF EPIDEMIOLOGY, vol.50, 2021, pp. 55-55. doi:10.1093/ije/dyab168.150"
      ],
      "metadata": {
        "id": "GUIL5QLxKk8r"
      }
    },
    {
      "cell_type": "code",
      "source": [
        "%%R\n",
        "library(mice)"
      ],
      "metadata": {
        "id": "I4FTCYKufjej"
      },
      "execution_count": null,
      "outputs": []
    },
    {
      "cell_type": "code",
      "source": [
        "%%R\n",
        "full_data <- read.csv(\"https://raw.githubusercontent.com/Jarvis-BITS/midodrine-mimic-iv/demo/data/table_cohort.csv\")"
      ],
      "metadata": {
        "id": "HhQDcNR2N3fr"
      },
      "execution_count": 10,
      "outputs": []
    },
    {
      "cell_type": "code",
      "source": [
        "%%R\n",
        "class(full_data)"
      ],
      "metadata": {
        "colab": {
          "base_uri": "https://localhost:8080/"
        },
        "id": "T-6YDBPvSOoD",
        "outputId": "a19ee462-2c7b-4072-bcfe-d2cf1db2af32"
      },
      "execution_count": null,
      "outputs": [
        {
          "output_type": "stream",
          "name": "stdout",
          "text": [
            "[1] \"data.frame\"\n"
          ]
        }
      ]
    },
    {
      "cell_type": "code",
      "source": [
        "%%R\n",
        "as_tibble(full_data)"
      ],
      "metadata": {
        "colab": {
          "base_uri": "https://localhost:8080/"
        },
        "id": "kA1mGmeBg78B",
        "outputId": "5b4be6f3-dc15-46b9-fd56-03ba22ac47e2"
      },
      "execution_count": null,
      "outputs": [
        {
          "output_type": "stream",
          "name": "stdout",
          "text": [
            "# A tibble: 35,300 × 50\n",
            "    stay_id hadm_id subject_id   age Gender ethnicity midodrine avg_doses_per_2…\n",
            "      <int>   <int>      <int> <int>  <int> <chr>         <int>            <dbl>\n",
            " 1 36014877  2.72e7   11861017    87      0 WHITE             1             1.60\n",
            " 2 32272859  2.60e7   11259141    60      1 WHITE             1             1.63\n",
            " 3 34023828  2.18e7   18010960    59      0 UNKNOWN           1             1.59\n",
            " 4 37798199  2.98e7   10926537    42      1 BLACK/AF…         1             1.57\n",
            " 5 32309766  2.93e7   15703353    59      1 WHITE             1             1.52\n",
            " 6 32470068  2.99e7   12682108    32      1 WHITE             1             1.67\n",
            " 7 39913468  2.56e7   14695267    26      0 UNKNOWN           1             1.96\n",
            " 8 36158255  2.69e7   11544355    29      0 UNKNOWN           1             1.69\n",
            " 9 39406131  2.71e7   16583373    51      0 WHITE             1             1.64\n",
            "10 38515563  2.42e7   11896370    62      1 WHITE             1             1.37\n",
            "# … with 35,290 more rows, and 42 more variables: MICU <int>,\n",
            "#   adm_weekday <int>, weight <dbl>, sapsii <dbl>, charlson_index <dbl>,\n",
            "#   CPD_or_COPD_rate <dbl>, Maligancy_rate <dbl>, mild_liver_rate <dbl>,\n",
            "#   severe_liver_rate <dbl>, Renal_rate <dbl>, CAD_rate <dbl>, AFIB_rate <dbl>,\n",
            "#   hemoglobin <dbl>, platelet <dbl>, wbc <dbl>, sodium <dbl>, potassium <dbl>,\n",
            "#   bicarbonate <dbl>, chloride <dbl>, bun <dbl>, creatinine <dbl>,\n",
            "#   lactate <dbl>, ph <dbl>, po2 <dbl>, pco2 <dbl>, bnp <dbl>, …\n"
          ]
        }
      ]
    },
    {
      "cell_type": "code",
      "source": [
        "%%R\n",
        "features = subset(full_data,select=-c(stay_id,hadm_id,subject_id,ethnicity,midodrine,avg_doses_per_24_hrs,mortality,mort_28_day,vasopressor_use))"
      ],
      "metadata": {
        "id": "r84rZoLpoKQd"
      },
      "execution_count": 11,
      "outputs": []
    },
    {
      "cell_type": "code",
      "source": [
        "%%R\n",
        "str(features)"
      ],
      "metadata": {
        "colab": {
          "base_uri": "https://localhost:8080/"
        },
        "id": "qddbLWeVpSLD",
        "outputId": "9cf3b84b-811a-4278-e1ad-7b7fb20aeba9"
      },
      "execution_count": null,
      "outputs": [
        {
          "output_type": "stream",
          "name": "stdout",
          "text": [
            "'data.frame':\t35300 obs. of  41 variables:\n",
            " $ age              : int  87 60 59 42 59 32 26 29 51 62 ...\n",
            " $ Gender           : int  0 1 0 1 1 1 0 0 0 1 ...\n",
            " $ MICU             : int  0 0 0 0 0 0 0 0 1 0 ...\n",
            " $ adm_weekday      : int  1 7 1 7 6 3 2 7 1 5 ...\n",
            " $ weight           : num  70 81.6 90 73 72.7 86.3 81 66.8 62 111 ...\n",
            " $ sapsii           : num  42 34 15 30 20 18 38 24 31 23 ...\n",
            " $ charlson_index   : num  8.83 3.33 3 2 3 ...\n",
            " $ CPD_or_COPD_rate : num  0 0 0 0 0 0 0 0 0 0 ...\n",
            " $ Maligancy_rate   : num  0 0 0 0 0 0 0 0 0 0 ...\n",
            " $ mild_liver_rate  : num  0 0 0 0 0 0 0 0 1 0 ...\n",
            " $ severe_liver_rate: num  0 0 0 0 0 0 0 0 0 0 ...\n",
            " $ Renal_rate       : num  0 0 0 0 0 0 0 0 0 0 ...\n",
            " $ CAD_rate         : num  1 0 0 0 0 0 0 0 0 0 ...\n",
            " $ AFIB_rate        : num  0 1 0 0 0 0 0 0 1 0 ...\n",
            " $ hemoglobin       : num  10.4 11.2 13.2 12.4 8 ...\n",
            " $ platelet         : num  273 238 157 195 223 ...\n",
            " $ wbc              : num  11.7 10.6 11.5 12.1 10.2 ...\n",
            " $ sodium           : num  136 135 142 140 136 ...\n",
            " $ potassium        : num  3.6 4.17 3.4 3.8 4.25 ...\n",
            " $ bicarbonate      : num  20 24 21 18 22.5 20 18 22 20 24 ...\n",
            " $ chloride         : num  97 103 110 112 101 ...\n",
            " $ bun              : num  15.5 7.67 13 8 10 ...\n",
            " $ creatinine       : num  0.8 0.4 0.8 0.7 0.6 0.7 0.8 0.75 0.6 0.7 ...\n",
            " $ lactate          : num  1.7 1.1 NA NA NA NA 0.7 1.1 NA 1.1 ...\n",
            " $ ph               : num  7.45 7.45 NA NA NA ...\n",
            " $ po2              : num  221 100 NA NA NA ...\n",
            " $ pco2             : num  31 38 NA NA NA NA 35.5 38 40.5 42 ...\n",
            " $ bnp              : num  0 0 0 0 0 0 0 0 0 0 ...\n",
            " $ troponin         : num  0 0 0 0 0 0 0 0 0 0 ...\n",
            " $ creatinine_kinase: num  0 1 1 0 0 1 1 0 0 1 ...\n",
            " $ heart_rate_mean  : num  78.3 100.3 53.9 66.9 82.2 ...\n",
            " $ sbp_mean         : num  123 120 129 121 114 ...\n",
            " $ dbp_mean         : num  51.6 77.6 65.5 71 57.5 ...\n",
            " $ mbp_mean         : num  76.6 93.3 84.7 82.7 77.5 ...\n",
            " $ resp_rate_mean   : num  17.6 17.3 15.4 17.2 21.7 ...\n",
            " $ temperature_mean : num  36.4 36.9 36.8 37.1 37.4 ...\n",
            " $ spo2_mean        : num  100 97.3 96.6 99.8 98.2 ...\n",
            " $ glucose_mean     : num  247 120 98 95 137 ...\n",
            " $ sedative_use     : num  1 1 1 1 1 0 1 1 1 0 ...\n",
            " $ ventilation_use  : num  1 1 1 1 1 1 1 1 1 1 ...\n",
            " $ admit_hour       : int  15 18 15 17 3 12 17 15 0 5 ...\n"
          ]
        }
      ]
    },
    {
      "cell_type": "code",
      "source": [
        "%%R\n",
        "imputed_data <- mice(features, method=\"cart\", m=3,  maxit=5,seed=500)\n",
        "features_complete <- complete(imputed_data) "
      ],
      "metadata": {
        "id": "5Mg5O6FpfepN",
        "outputId": "09981450-47e6-4aac-9683-08babe88759b",
        "colab": {
          "base_uri": "https://localhost:8080/"
        }
      },
      "execution_count": 12,
      "outputs": [
        {
          "output_type": "stream",
          "name": "stdout",
          "text": [
            "\n",
            " iter imp variable\n",
            "  1   1  weight  sapsii  hemoglobin  platelet  wbc  sodium  potassium  bicarbonate  chloride  bun  creatinine  lactate  ph  po2  pco2  heart_rate_mean  sbp_mean  dbp_mean  mbp_mean  resp_rate_mean  temperature_mean  spo2_mean  glucose_mean  sedative_use\n",
            "  1   2  weight  sapsii  hemoglobin  platelet  wbc  sodium  potassium  bicarbonate  chloride  bun  creatinine  lactate  ph  po2  pco2  heart_rate_mean  sbp_mean  dbp_mean  mbp_mean  resp_rate_mean  temperature_mean  spo2_mean  glucose_mean  sedative_use\n",
            "  1   3  weight  sapsii  hemoglobin  platelet  wbc  sodium  potassium  bicarbonate  chloride  bun  creatinine  lactate  ph  po2  pco2  heart_rate_mean  sbp_mean  dbp_mean  mbp_mean  resp_rate_mean  temperature_mean  spo2_mean  glucose_mean  sedative_use\n",
            "  2   1  weight  sapsii  hemoglobin  platelet  wbc  sodium  potassium  bicarbonate  chloride  bun  creatinine  lactate  ph  po2  pco2  heart_rate_mean  sbp_mean  dbp_mean  mbp_mean  resp_rate_mean  temperature_mean  spo2_mean  glucose_mean  sedative_use\n",
            "  2   2  weight  sapsii  hemoglobin  platelet  wbc  sodium  potassium  bicarbonate  chloride  bun  creatinine  lactate  ph  po2  pco2  heart_rate_mean  sbp_mean  dbp_mean  mbp_mean  resp_rate_mean  temperature_mean  spo2_mean  glucose_mean  sedative_use\n",
            "  2   3  weight  sapsii  hemoglobin  platelet  wbc  sodium  potassium  bicarbonate  chloride  bun  creatinine  lactate  ph  po2  pco2  heart_rate_mean  sbp_mean  dbp_mean  mbp_mean  resp_rate_mean  temperature_mean  spo2_mean  glucose_mean  sedative_use\n",
            "  3   1  weight  sapsii  hemoglobin  platelet  wbc  sodium  potassium  bicarbonate  chloride  bun  creatinine  lactate  ph  po2  pco2  heart_rate_mean  sbp_mean  dbp_mean  mbp_mean  resp_rate_mean  temperature_mean  spo2_mean  glucose_mean  sedative_use\n",
            "  3   2  weight  sapsii  hemoglobin  platelet  wbc  sodium  potassium  bicarbonate  chloride  bun  creatinine  lactate  ph  po2  pco2  heart_rate_mean  sbp_mean  dbp_mean  mbp_mean  resp_rate_mean  temperature_mean  spo2_mean  glucose_mean  sedative_use\n",
            "  3   3  weight  sapsii  hemoglobin  platelet  wbc  sodium  potassium  bicarbonate  chloride  bun  creatinine  lactate  ph  po2  pco2  heart_rate_mean  sbp_mean  dbp_mean  mbp_mean  resp_rate_mean  temperature_mean  spo2_mean  glucose_mean  sedative_use\n",
            "  4   1  weight  sapsii  hemoglobin  platelet  wbc  sodium  potassium  bicarbonate  chloride  bun  creatinine  lactate  ph  po2  pco2  heart_rate_mean  sbp_mean  dbp_mean  mbp_mean  resp_rate_mean  temperature_mean  spo2_mean  glucose_mean  sedative_use 4   2  weight  sapsii  hemoglobin  platelet  wbc  sodium  potassium  bicarbonate  chloride  bun  creatinine  lactate  ph  po2  pco2  heart_rate_mean  sbp_mean  dbp_mean  mbp_mean  resp_rate_mean  temperature_mean  spo2_mean  glucose_mean  sedative_use\n",
            "  4   3  weight  sapsii  hemoglobin  platelet  wbc  sodium  potassium  bicarbonate  chloride  bun  creatinine  lactate  ph  po2  pco2  heart_rate_mean  sbp_mean  dbp_mean  mbp_mean  resp_rate_mean  temperature_mean  spo2_mean  glucose_mean  sedative_use\n",
            "  5   1  weight  sapsii  hemoglobin platelet  wbc  sodium  potassium  bicarbonate  chloride  bun  creatinine  lactate  ph  po2  pco2  heart_rate_mean  sbp_mean  dbp_mean  mbp_mean  resp_rate_mean  temperature_mean  spo2_mean  glucose_mean  sedative_use\n",
            "  5   2  weight  sapsii  hemoglobin  platelet  wbc  sodium  potassium  bicarbonate  chloride  bun  creatinine  lactate  ph  po2  pco2  heart_rate_mean  sbp_mean  dbp_mean  mbp_mean  resp_rate_mean  temperature_mean  spo2_mean  glucose_mean  sedative_use\n",
            "  5   3  weight  sapsii  hemoglobin  platelet  wbc  sodium  potassium  bicarbonate  chloride  bun  creatinine  lactate  ph  po2  pco2  heart_rate_mean  sbp_mean  dbp_mean  mbp_mean  resp_rate_mean  temperature_mean  spo2_mean  glucose_mean  sedative_use\n"
          ]
        }
      ]
    },
    {
      "cell_type": "code",
      "source": [
        "%%R\n",
        "summary(features_complete)"
      ],
      "metadata": {
        "id": "bX4zw1ZqMD8g",
        "outputId": "635e6256-6f00-47c5-c03b-fd15efbed738",
        "colab": {
          "base_uri": "https://localhost:8080/"
        }
      },
      "execution_count": 14,
      "outputs": [
        {
          "output_type": "stream",
          "name": "stdout",
          "text": [
            "      age             Gender            MICU         adm_weekday   \n",
            " Min.   : 18.00   Min.   :0.0000   Min.   :0.0000   Min.   :1.000  \n",
            " 1st Qu.: 51.00   1st Qu.:0.0000   1st Qu.:0.0000   1st Qu.:2.000  \n",
            " Median : 64.00   Median :0.0000   Median :1.0000   Median :4.000  \n",
            " Mean   : 62.71   Mean   :0.4698   Mean   :0.5343   Mean   :3.993  \n",
            " 3rd Qu.: 77.00   3rd Qu.:1.0000   3rd Qu.:1.0000   3rd Qu.:6.000  \n",
            " Max.   :102.00   Max.   :1.0000   Max.   :1.0000   Max.   :7.000  \n",
            "                                                                   \n",
            "     weight           sapsii       charlson_index   CPD_or_COPD_rate\n",
            " Min.   :   1.0   Min.   :  0.00   Min.   : 0.000   Min.   :0.0000  \n",
            " 1st Qu.:  64.7   1st Qu.: 24.00   1st Qu.: 3.000   1st Qu.:0.0000  \n",
            " Median :  77.1   Median : 32.00   Median : 5.000   Median :0.0000  \n",
            " Mean   :  80.7   Mean   : 34.06   Mean   : 5.026   Mean   :0.2337  \n",
            " 3rd Qu.:  92.4   3rd Qu.: 42.00   3rd Qu.: 7.000   3rd Qu.:0.0000  \n",
            " Max.   :1120.0   Max.   :114.00   Max.   :19.000   Max.   :1.0000  \n",
            "                                                                    \n",
            " Maligancy_rate   mild_liver_rate  severe_liver_rate   Renal_rate    \n",
            " Min.   :0.0000   Min.   :0.0000   Min.   :0.00000   Min.   :0.0000  \n",
            " 1st Qu.:0.0000   1st Qu.:0.0000   1st Qu.:0.00000   1st Qu.:0.0000  \n",
            " Median :0.0000   Median :0.0000   Median :0.00000   Median :0.0000  \n",
            " Mean   :0.1613   Mean   :0.1245   Mean   :0.05601   Mean   :0.1646  \n",
            " 3rd Qu.:0.0000   3rd Qu.:0.0000   3rd Qu.:0.00000   3rd Qu.:0.0000  \n",
            " Max.   :1.0000   Max.   :1.0000   Max.   :1.00000   Max.   :1.0000  \n",
            "                                                                     \n",
            "    CAD_rate        AFIB_rate        hemoglobin        platelet     \n",
            " Min.   :0.0000   Min.   :0.0000   Min.   : 3.500   Min.   :   6.0  \n",
            " 1st Qu.:0.0000   1st Qu.:0.0000   1st Qu.: 9.333   1st Qu.: 144.0  \n",
            " Median :0.0000   Median :0.0000   Median :10.850   Median : 198.5  \n",
            " Mean   :0.1583   Mean   :0.2182   Mean   :10.905   Mean   : 212.1  \n",
            " 3rd Qu.:0.0000   3rd Qu.:0.0000   3rd Qu.:12.400   3rd Qu.: 261.0  \n",
            " Max.   :1.0000   Max.   :1.0000   Max.   :20.940   Max.   :2436.0  \n",
            "                                                                    \n",
            "      wbc             sodium        potassium      bicarbonate   \n",
            " Min.   :  0.10   Min.   :104.2   Min.   :1.600   Min.   : 3.00  \n",
            " 1st Qu.:  7.55   1st Qu.:136.0   1st Qu.:3.733   1st Qu.:20.50  \n",
            " Median : 10.40   Median :139.0   Median :4.050   Median :23.00  \n",
            " Mean   : 12.03   Mean   :138.5   Mean   :4.124   Mean   :23.05  \n",
            " 3rd Qu.: 14.20   3rd Qu.:141.0   3rd Qu.:4.400   3rd Qu.:25.50  \n",
            " Max.   :474.70   Max.   :179.0   Max.   :9.600   Max.   :49.00  \n",
            "                                                                 \n",
            "    chloride          bun          creatinine        lactate      \n",
            " Min.   : 67.0   Min.   :  1.0   Min.   : 0.100   Min.   : 0.200  \n",
            " 1st Qu.:101.0   1st Qu.: 12.0   1st Qu.: 0.700   1st Qu.: 1.133  \n",
            " Median :104.5   Median : 17.5   Median : 0.900   Median : 1.600  \n",
            " Mean   :104.2   Mean   : 24.3   Mean   : 1.341   Mean   : 2.040  \n",
            " 3rd Qu.:108.0   3rd Qu.: 28.5   3rd Qu.: 1.300   3rd Qu.: 2.367  \n",
            " Max.   :152.2   Max.   :228.0   Max.   :31.950   Max.   :26.660  \n",
            "                                                                  \n",
            "       ph             po2             pco2             bnp        \n",
            " Min.   :6.720   Min.   : 14.0   Min.   : 10.40   Min.   :0.0000  \n",
            " 1st Qu.:7.330   1st Qu.: 61.5   1st Qu.: 36.00   1st Qu.:0.0000  \n",
            " Median :7.380   Median : 95.0   Median : 40.67   Median :0.0000  \n",
            " Mean   :7.374   Mean   :115.4   Mean   : 41.94   Mean   :0.0297  \n",
            " 3rd Qu.:7.426   3rd Qu.:150.5   3rd Qu.: 46.00   3rd Qu.:0.0000  \n",
            " Max.   :7.690   Max.   :587.0   Max.   :228.50   Max.   :1.0000  \n",
            "                                                                  \n",
            "    troponin      creatinine_kinase heart_rate_mean     sbp_mean     \n",
            " Min.   :0.0000   Min.   :0.0000    Min.   : 29.81   Min.   : 34.17  \n",
            " 1st Qu.:0.0000   1st Qu.:0.0000    1st Qu.: 74.08   1st Qu.:107.87  \n",
            " Median :0.0000   Median :0.0000    Median : 85.00   Median :118.83  \n",
            " Mean   :0.1701   Mean   :0.2565    Mean   : 86.13   Mean   :120.43  \n",
            " 3rd Qu.:0.0000   3rd Qu.:0.6667    3rd Qu.: 97.00   3rd Qu.:131.60  \n",
            " Max.   :1.0000   Max.   :1.0000    Max.   :167.00   Max.   :206.39  \n",
            "                                                                     \n",
            "    dbp_mean         mbp_mean      resp_rate_mean  temperature_mean\n",
            " Min.   : 17.00   Min.   : 24.07   Min.   : 6.00   Min.   :30.40   \n",
            " 1st Qu.: 57.07   1st Qu.: 71.44   1st Qu.:16.50   1st Qu.:36.62   \n",
            " Median : 64.00   Median : 78.49   Median :18.65   Median :36.85   \n",
            " Mean   : 64.98   Mean   : 79.61   Mean   :19.28   Mean   :36.88   \n",
            " 3rd Qu.: 71.95   3rd Qu.: 86.75   3rd Qu.:21.45   3rd Qu.:37.14   \n",
            " Max.   :131.00   Max.   :151.53   Max.   :48.00   Max.   :40.10   \n",
            "                                                                   \n",
            "   spo2_mean       glucose_mean       sedative_use    ventilation_use\n",
            " Min.   : 26.60   Min.   :    34.0   Min.   :0.0000   Min.   :1      \n",
            " 1st Qu.: 95.54   1st Qu.:   107.3   1st Qu.:0.0000   1st Qu.:1      \n",
            " Median : 96.94   Median :   128.8   Median :0.0000   Median :1      \n",
            " Mean   : 96.69   Mean   :   256.8   Mean   :0.3922   Mean   :1      \n",
            " 3rd Qu.: 98.32   3rd Qu.:   159.6   3rd Qu.:1.0000   3rd Qu.:1      \n",
            " Max.   :100.00   Max.   :999999.0   Max.   :1.0000   Max.   :1      \n",
            "                                                      NA's   :9788   \n",
            "   admit_hour   \n",
            " Min.   : 0.00  \n",
            " 1st Qu.: 5.00  \n",
            " Median :15.00  \n",
            " Mean   :12.86  \n",
            " 3rd Qu.:19.00  \n",
            " Max.   :23.00  \n",
            "                \n"
          ]
        }
      ]
    },
    {
      "cell_type": "code",
      "source": [
        "%%R\n",
        "summary(features)"
      ],
      "metadata": {
        "id": "d9pDeTIcMcwh",
        "outputId": "d95279ce-934c-45c4-c482-cc7fdb29346a",
        "colab": {
          "base_uri": "https://localhost:8080/"
        }
      },
      "execution_count": 15,
      "outputs": [
        {
          "output_type": "stream",
          "name": "stdout",
          "text": [
            "      age             Gender            MICU         adm_weekday   \n",
            " Min.   : 18.00   Min.   :0.0000   Min.   :0.0000   Min.   :1.000  \n",
            " 1st Qu.: 51.00   1st Qu.:0.0000   1st Qu.:0.0000   1st Qu.:2.000  \n",
            " Median : 64.00   Median :0.0000   Median :1.0000   Median :4.000  \n",
            " Mean   : 62.71   Mean   :0.4698   Mean   :0.5343   Mean   :3.993  \n",
            " 3rd Qu.: 77.00   3rd Qu.:1.0000   3rd Qu.:1.0000   3rd Qu.:6.000  \n",
            " Max.   :102.00   Max.   :1.0000   Max.   :1.0000   Max.   :7.000  \n",
            "                                                                   \n",
            "     weight            sapsii       charlson_index   CPD_or_COPD_rate\n",
            " Min.   :   1.00   Min.   :  0.00   Min.   : 0.000   Min.   :0.0000  \n",
            " 1st Qu.:  64.70   1st Qu.: 25.00   1st Qu.: 3.000   1st Qu.:0.0000  \n",
            " Median :  77.10   Median : 33.00   Median : 5.000   Median :0.0000  \n",
            " Mean   :  80.65   Mean   : 34.97   Mean   : 5.026   Mean   :0.2337  \n",
            " 3rd Qu.:  92.30   3rd Qu.: 43.00   3rd Qu.: 7.000   3rd Qu.:0.0000  \n",
            " Max.   :1120.00   Max.   :114.00   Max.   :19.000   Max.   :1.0000  \n",
            " NA's   :680       NA's   :8617                                      \n",
            " Maligancy_rate   mild_liver_rate  severe_liver_rate   Renal_rate    \n",
            " Min.   :0.0000   Min.   :0.0000   Min.   :0.00000   Min.   :0.0000  \n",
            " 1st Qu.:0.0000   1st Qu.:0.0000   1st Qu.:0.00000   1st Qu.:0.0000  \n",
            " Median :0.0000   Median :0.0000   Median :0.00000   Median :0.0000  \n",
            " Mean   :0.1613   Mean   :0.1245   Mean   :0.05601   Mean   :0.1646  \n",
            " 3rd Qu.:0.0000   3rd Qu.:0.0000   3rd Qu.:0.00000   3rd Qu.:0.0000  \n",
            " Max.   :1.0000   Max.   :1.0000   Max.   :1.00000   Max.   :1.0000  \n",
            "                                                                     \n",
            "    CAD_rate        AFIB_rate        hemoglobin       platelet     \n",
            " Min.   :0.0000   Min.   :0.0000   Min.   : 3.50   Min.   :   6.0  \n",
            " 1st Qu.:0.0000   1st Qu.:0.0000   1st Qu.: 9.30   1st Qu.: 143.8  \n",
            " Median :0.0000   Median :0.0000   Median :10.85   Median : 198.0  \n",
            " Mean   :0.1583   Mean   :0.2182   Mean   :10.89   Mean   : 211.5  \n",
            " 3rd Qu.:0.0000   3rd Qu.:0.0000   3rd Qu.:12.40   3rd Qu.: 260.5  \n",
            " Max.   :1.0000   Max.   :1.0000   Max.   :20.94   Max.   :2436.0  \n",
            "                                   NA's   :1216    NA's   :1209    \n",
            "      wbc              sodium        potassium      bicarbonate   \n",
            " Min.   :  0.100   Min.   :104.2   Min.   :1.600   Min.   : 3.00  \n",
            " 1st Qu.:  7.533   1st Qu.:136.0   1st Qu.:3.733   1st Qu.:20.50  \n",
            " Median : 10.400   Median :139.0   Median :4.050   Median :23.00  \n",
            " Mean   : 11.993   Mean   :138.5   Mean   :4.125   Mean   :23.05  \n",
            " 3rd Qu.: 14.200   3rd Qu.:141.0   3rd Qu.:4.400   3rd Qu.:25.50  \n",
            " Max.   :474.700   Max.   :179.0   Max.   :9.600   Max.   :49.00  \n",
            " NA's   :1207      NA's   :1008    NA's   :1004    NA's   :1028   \n",
            "    chloride          bun           creatinine        lactate      \n",
            " Min.   : 67.0   Min.   :  1.00   Min.   : 0.100   Min.   : 0.200  \n",
            " 1st Qu.:101.0   1st Qu.: 12.00   1st Qu.: 0.700   1st Qu.: 1.200  \n",
            " Median :104.5   Median : 17.67   Median : 0.900   Median : 1.714  \n",
            " Mean   :104.2   Mean   : 24.40   Mean   : 1.347   Mean   : 2.327  \n",
            " 3rd Qu.:108.0   3rd Qu.: 28.75   3rd Qu.: 1.333   3rd Qu.: 2.633  \n",
            " Max.   :152.2   Max.   :228.00   Max.   :31.950   Max.   :26.660  \n",
            " NA's   :1014    NA's   :1016     NA's   :1005     NA's   :19459   \n",
            "       ph             po2              pco2             bnp        \n",
            " Min.   :6.720   Min.   : 14.00   Min.   : 10.40   Min.   :0.0000  \n",
            " 1st Qu.:7.320   1st Qu.: 64.62   1st Qu.: 35.00   1st Qu.:0.0000  \n",
            " Median :7.372   Median : 99.50   Median : 40.00   Median :0.0000  \n",
            " Mean   :7.365   Mean   :118.68   Mean   : 41.62   Mean   :0.0297  \n",
            " 3rd Qu.:7.420   3rd Qu.:155.50   3rd Qu.: 46.00   3rd Qu.:0.0000  \n",
            " Max.   :7.690   Max.   :587.00   Max.   :228.50   Max.   :1.0000  \n",
            " NA's   :16495   NA's   :16494    NA's   :16494                    \n",
            "    troponin      creatinine_kinase heart_rate_mean     sbp_mean     \n",
            " Min.   :0.0000   Min.   :0.0000    Min.   : 29.81   Min.   : 34.17  \n",
            " 1st Qu.:0.0000   1st Qu.:0.0000    1st Qu.: 74.07   1st Qu.:107.88  \n",
            " Median :0.0000   Median :0.0000    Median : 84.97   Median :118.83  \n",
            " Mean   :0.1701   Mean   :0.2565    Mean   : 86.13   Mean   :120.43  \n",
            " 3rd Qu.:0.0000   3rd Qu.:0.6667    3rd Qu.: 97.00   3rd Qu.:131.60  \n",
            " Max.   :1.0000   Max.   :1.0000    Max.   :167.00   Max.   :206.39  \n",
            "                                    NA's   :59       NA's   :147     \n",
            "    dbp_mean         mbp_mean      resp_rate_mean  temperature_mean\n",
            " Min.   : 17.00   Min.   : 24.07   Min.   : 6.00   Min.   :30.40   \n",
            " 1st Qu.: 57.08   1st Qu.: 71.44   1st Qu.:16.50   1st Qu.:36.63   \n",
            " Median : 64.00   Median : 78.50   Median :18.65   Median :36.85   \n",
            " Mean   : 64.99   Mean   : 79.62   Mean   :19.28   Mean   :36.88   \n",
            " 3rd Qu.: 71.96   3rd Qu.: 86.75   3rd Qu.:21.45   3rd Qu.:37.14   \n",
            " Max.   :131.00   Max.   :151.53   Max.   :48.00   Max.   :40.10   \n",
            " NA's   :148      NA's   :73       NA's   :65      NA's   :314     \n",
            "   spo2_mean       glucose_mean       sedative_use    ventilation_use\n",
            " Min.   : 26.60   Min.   :    34.0   Min.   :0.0000   Min.   :1      \n",
            " 1st Qu.: 95.54   1st Qu.:   107.3   1st Qu.:0.0000   1st Qu.:1      \n",
            " Median : 96.94   Median :   129.0   Median :0.0000   Median :1      \n",
            " Mean   : 96.69   Mean   :   260.2   Mean   :0.3926   Mean   :1      \n",
            " 3rd Qu.: 98.32   3rd Qu.:   159.8   3rd Qu.:1.0000   3rd Qu.:1      \n",
            " Max.   :100.00   Max.   :999999.0   Max.   :1.0000   Max.   :1      \n",
            " NA's   :86       NA's   :974        NA's   :187      NA's   :9788   \n",
            "   admit_hour   \n",
            " Min.   : 0.00  \n",
            " 1st Qu.: 5.00  \n",
            " Median :15.00  \n",
            " Mean   :12.86  \n",
            " 3rd Qu.:19.00  \n",
            " Max.   :23.00  \n",
            "                \n"
          ]
        }
      ]
    },
    {
      "cell_type": "code",
      "source": [
        "%%R\n",
        "write.csv(features_complete, file='features_complete.csv')"
      ],
      "metadata": {
        "id": "5QVM2DzoNm_1"
      },
      "execution_count": 17,
      "outputs": []
    }
  ],
  "metadata": {
    "colab": {
      "background_execution": "on",
      "collapsed_sections": [],
      "name": "Midodrine-analysis.ipynb",
      "provenance": [],
      "include_colab_link": true
    },
    "kernelspec": {
      "display_name": "Python 3",
      "name": "python3"
    },
    "language_info": {
      "name": "python"
    },
    "gpuClass": "standard",
    "accelerator": "GPU"
  },
  "nbformat": 4,
  "nbformat_minor": 0
}