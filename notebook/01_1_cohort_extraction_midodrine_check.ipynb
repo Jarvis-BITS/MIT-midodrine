{
  "cells": [
    {
      "cell_type": "markdown",
      "metadata": {
        "id": "view-in-github",
        "colab_type": "text"
      },
      "source": [
        "<a href=\"https://colab.research.google.com/github/Jarvis-BITS/midodrine-mimic-iv/blob/main/notebook/01_1_cohort_extraction_midodrine_check.ipynb\" target=\"_parent\"><img src=\"https://colab.research.google.com/assets/colab-badge.svg\" alt=\"Open In Colab\"/></a>"
      ]
    },
    {
      "cell_type": "markdown",
      "metadata": {
        "id": "_HjDBG56TISW"
      },
      "source": [
        "Import libraries"
      ]
    },
    {
      "cell_type": "code",
      "execution_count": 1,
      "metadata": {
        "id": "2vbq436UTFSP"
      },
      "outputs": [],
      "source": [
        "from google.cloud import bigquery\n",
        "import numpy as np\n",
        "import pandas as pd\n",
        "import seaborn as sns\n",
        "sns.set(rc={'figure.figsize':(16,10)}, font_scale=1.3)\n",
        "import sys\n",
        "import warnings\n",
        "warnings.filterwarnings('ignore')"
      ]
    },
    {
      "cell_type": "markdown",
      "metadata": {
        "id": "IGR0wA9op54U"
      },
      "source": [
        "Authenticate with GCP account having MIMIC-IV dataset"
      ]
    },
    {
      "cell_type": "code",
      "execution_count": 2,
      "metadata": {
        "colab": {
          "base_uri": "https://localhost:8080/"
        },
        "id": "p0YMMRIwqArn",
        "outputId": "05fd4200-8875-4b12-ad81-a511d839836d"
      },
      "outputs": [
        {
          "output_type": "stream",
          "name": "stdout",
          "text": [
            "Authenticated\n"
          ]
        }
      ],
      "source": [
        "from google.colab import auth\n",
        "\n",
        "auth.authenticate_user()\n",
        "print('Authenticated')"
      ]
    },
    {
      "cell_type": "code",
      "execution_count": 3,
      "metadata": {
        "id": "zC0rv5dvua7f"
      },
      "outputs": [],
      "source": [
        "%load_ext google.colab.data_table"
      ]
    },
    {
      "cell_type": "code",
      "execution_count": 4,
      "metadata": {
        "id": "QcPjbqIO5Qtv"
      },
      "outputs": [],
      "source": [
        "%load_ext google.cloud.bigquery"
      ]
    },
    {
      "cell_type": "code",
      "execution_count": 5,
      "metadata": {
        "id": "SHxW06SpAAoB"
      },
      "outputs": [],
      "source": [
        "project_id = \"my-project-eicu\" #@param {type:\"string\"} #Enter your project ID from GCP bigquey here\n",
        "bqclient = bigquery.Client(project=project_id)"
      ]
    },
    {
      "cell_type": "markdown",
      "source": [
        "# BigQuery data extraction of patient details in ICU (1st day)"
      ],
      "metadata": {
        "id": "jGzHNqjcJ0Sb"
      }
    },
    {
      "cell_type": "code",
      "execution_count": 6,
      "metadata": {
        "id": "n2Avnn0sA7XG"
      },
      "outputs": [],
      "source": [
        "population_string = \"\"\"\n",
        "WITH patient_details AS (\n",
        "  SELECT\n",
        "  ie.subject_id, ie.hadm_id, ie.stay_id\n",
        "  , pat.gender, ie.ethnicity\n",
        "  , ie.admittime, ie.dischtime\n",
        "  , DATETIME_DIFF(ie.admittime, DATETIME(pat.anchor_year, 1, 1, 0, 0, 0), YEAR) + pat.anchor_age AS age\n",
        "  , adm.deathtime\n",
        "  , ie.hospital_expire_flag\n",
        "\n",
        "-- icu level factors\n",
        "  , ie.icu_intime, ie.icu_outtime\n",
        "  , ie.first_icu_stay\n",
        "  , ie.los_icu, ie.los_hospital\n",
        "  FROM `physionet-data.mimic_derived.icustay_detail` ie\n",
        "  INNER JOIN `physionet-data.mimic_core.admissions` adm\n",
        "  ON ie.hadm_id = adm.hadm_id\n",
        "  INNER JOIN `physionet-data.mimic_core.patients` pat\n",
        "  ON ie.subject_id = pat.subject_id\n",
        "\n",
        "-- midodrine cohort\n",
        "  )\n",
        "  , midodrine AS (\n",
        "    SELECT hadm_id, pharmacy_id, starttime AS drug_starttime\n",
        "    FROM `physionet-data.mimic_hosp.pharmacy`\n",
        "    WHERE lower(medication) like 'midodrine'\n",
        "  )\n",
        "  , midodrine_exclude AS (\n",
        "    SELECT stay_id,\n",
        "    CASE WHEN LOGICAL_AND(drug_starttime < DATE_TRUNC(intime - interval '1' day, DAY) OR drug_starttime > outtime) THEN 1 \n",
        "    ELSE 0 END AS midodrine_exclude\n",
        "    FROM `physionet-data.mimic_icu.icustays` \n",
        "    LEFT JOIN midodrine USING (hadm_id)\n",
        "    GROUP BY stay_id\n",
        "  )\n",
        "  , midodrine_include AS (\n",
        "    SELECT stay_id, mi.pharmacy_id,\n",
        "    CASE WHEN LOGICAL_AND(drug_starttime is NULL)\n",
        "    OR LOGICAL_OR(drug_starttime BETWEEN DATE_TRUNC(intime - interval '1' day, DAY) AND outtime) THEN 1\n",
        "    ELSE 0 END AS midodrine_include\n",
        "    FROM `physionet-data.mimic_icu.icustays`  \n",
        "    LEFT JOIN midodrine mi USING (hadm_id)\n",
        "    GROUP BY stay_id, mi.pharmacy_id\n",
        "  )\n",
        "  , midodrine_first AS (\n",
        "  SELECT stay_id, min(drug_starttime) AS drug_starttime \n",
        "  FROM `physionet-data.mimic_icu.icustays` LEFT JOIN midodrine mi USING (hadm_id)\n",
        "  WHERE drug_starttime BETWEEN DATE_TRUNC(intime - interval '1' day, DAY) AND outtime\n",
        "  GROUP BY stay_id\n",
        "  )\n",
        " , midodrine_dose AS (\n",
        "  SELECT ic.stay_id, AVG(doses_per_24_hrs) AS avg_doses_per_24_hrs\n",
        "  FROM `physionet-data.mimic_hosp.pharmacy` ph\n",
        "  INNER JOIN `physionet-data.mimic_icu.icustays`ic\n",
        "  ON ph.hadm_id = ic.hadm_id\n",
        "  GROUP BY ic.stay_id\n",
        "  )\n",
        "\n",
        " , sepsis3 AS (\n",
        "   SELECT stay_id, sepsis3\n",
        "   FROM `physionet-data.mimic_derived.sepsis3`\n",
        " )\n",
        "\n",
        "  , adm_weekday AS (\n",
        "    SELECT stay_id,\n",
        "      EXTRACT(DAYOFWEEK FROM intime) AS adm_weekday\n",
        "    FROM `physionet-data.mimic_icu.icustays`\n",
        "  )\n",
        "\n",
        "  , population AS (\n",
        "    SELECT *  \n",
        "    FROM (SELECT DISTINCT stay_id, first_careunit, FROM `physionet-data.mimic_icu.icustays`) a\n",
        "    LEFT JOIN patient_details USING (stay_id)\n",
        "    LEFT JOIN midodrine_first USING (stay_id)\n",
        "    LEFT JOIN midodrine_exclude USING (stay_id)\n",
        "    LEFT JOIN midodrine_include USING (stay_id)\n",
        "    LEFT JOIN midodrine_dose USING (stay_id)\n",
        "    LEFT JOIN sepsis3 USING (stay_id)\n",
        "    LEFT JOIN adm_weekday USING (stay_id)\n",
        "    )\n",
        "    SELECT * FROM population\n",
        "\"\"\""
      ]
    },
    {
      "cell_type": "code",
      "source": [
        "mortality_string = \"\"\"\n",
        "SELECT ic.stay_id,\n",
        "MAX(CASE WHEN pa.dod is not null THEN 1 ELSE 0 END) AS mortality,\n",
        "MAX(CASE WHEN pa.dod <= DATETIME_ADD(ic.intime , INTERVAL '28' DAY) AND pa.dod >= ic.intime THEN 1 ELSE 0 END) AS mort_28_day\n",
        "FROM `physionet-data.mimic_icu.icustays` ic\n",
        "LEFT JOIN `physionet-data.mimic_core.patients` pa\n",
        "ON ic.subject_id = pa.subject_id\n",
        "GROUP BY ic.stay_id\n",
        "\"\"\""
      ],
      "metadata": {
        "id": "g-ae7lDISo4n"
      },
      "execution_count": 14,
      "outputs": []
    },
    {
      "cell_type": "markdown",
      "source": [
        "# Building cohort table"
      ],
      "metadata": {
        "id": "h5MDsnO06pon"
      }
    },
    {
      "cell_type": "markdown",
      "source": [
        "## Extract population info"
      ],
      "metadata": {
        "id": "EzBHdluYIsxb"
      }
    },
    {
      "cell_type": "code",
      "execution_count": 15,
      "metadata": {
        "id": "Sb8Mg_D0iC9N"
      },
      "outputs": [],
      "source": [
        "population_data = (\n",
        "    bqclient.query(population_string)\n",
        "    .result()\n",
        "    .to_dataframe()\n",
        ")"
      ]
    },
    {
      "cell_type": "code",
      "source": [
        "population_data.info()    "
      ],
      "metadata": {
        "id": "KhRE0r6U4ETX",
        "outputId": "ac734bfa-89b0-42e3-84da-997f9f1b6fdd",
        "colab": {
          "base_uri": "https://localhost:8080/"
        }
      },
      "execution_count": null,
      "outputs": [
        {
          "output_type": "stream",
          "name": "stdout",
          "text": [
            "<class 'pandas.core.frame.DataFrame'>\n",
            "RangeIndex: 76540 entries, 0 to 76539\n",
            "Data columns (total 22 columns):\n",
            " #   Column                Non-Null Count  Dtype         \n",
            "---  ------                --------------  -----         \n",
            " 0   stay_id               76540 non-null  int64         \n",
            " 1   first_careunit        76540 non-null  object        \n",
            " 2   subject_id            76540 non-null  int64         \n",
            " 3   hadm_id               76540 non-null  int64         \n",
            " 4   gender                76540 non-null  object        \n",
            " 5   ethnicity             76540 non-null  object        \n",
            " 6   admittime             76540 non-null  datetime64[ns]\n",
            " 7   dischtime             76540 non-null  datetime64[ns]\n",
            " 8   age                   76540 non-null  int64         \n",
            " 9   deathtime             8813 non-null   datetime64[ns]\n",
            " 10  hospital_expire_flag  76540 non-null  int64         \n",
            " 11  icu_intime            76540 non-null  datetime64[ns]\n",
            " 12  icu_outtime           76540 non-null  datetime64[ns]\n",
            " 13  first_icu_stay        76540 non-null  bool          \n",
            " 14  los_icu               76540 non-null  float64       \n",
            " 15  los_hospital          76540 non-null  int64         \n",
            " 16  drug_starttime        2203 non-null   datetime64[ns]\n",
            " 17  midodrine_exclude     76540 non-null  int64         \n",
            " 18  midodrine_include     76540 non-null  int64         \n",
            " 19  avg_doses_per_24_hrs  76353 non-null  float64       \n",
            " 20  sepsis3               34789 non-null  object        \n",
            " 21  adm_weekday           76540 non-null  int64         \n",
            "dtypes: bool(1), datetime64[ns](6), float64(2), int64(9), object(4)\n",
            "memory usage: 12.3+ MB\n"
          ]
        }
      ]
    },
    {
      "cell_type": "markdown",
      "metadata": {
        "id": "J4qxmGbGMFl4"
      },
      "source": [
        "## Building the cohort table (consisting of only ICU patients)\n",
        "1. Include adults (>= 18 years' old)\n",
        "2. Include the first ICU admission of each patient\n",
        "3. Include patients whose ICU care is 'MICU' or 'SICU'\n",
        "4. Exclude those who accepted midodrine more than one day before icu care or after icu care (have been done before)\n",
        "\n",
        "Note: midodrine_include is just opposite of midodrine_exclude so use either of the two for this"
      ]
    },
    {
      "cell_type": "markdown",
      "source": [
        "Filtering on age"
      ],
      "metadata": {
        "id": "2_H5rfDo4U4q"
      }
    },
    {
      "cell_type": "code",
      "source": [
        "cohort_1 = population_data.loc[population_data['age'] >= 18]\n",
        "cohort_1.shape"
      ],
      "metadata": {
        "colab": {
          "base_uri": "https://localhost:8080/"
        },
        "id": "ciktzjmi8T-R",
        "outputId": "bc4e14ca-11e8-435b-8378-d731feb947f3"
      },
      "execution_count": 16,
      "outputs": [
        {
          "output_type": "execute_result",
          "data": {
            "text/plain": [
              "(83999, 23)"
            ]
          },
          "metadata": {},
          "execution_count": 16
        }
      ]
    },
    {
      "cell_type": "markdown",
      "source": [
        "Filtering on first ICU admission"
      ],
      "metadata": {
        "id": "HX8NwyTc4S3R"
      }
    },
    {
      "cell_type": "code",
      "source": [
        "cohort_2 = cohort_1.loc[cohort_1['first_icu_stay']  == True]\n",
        "cohort_2.shape"
      ],
      "metadata": {
        "colab": {
          "base_uri": "https://localhost:8080/"
        },
        "id": "no8gVVGo-l8Q",
        "outputId": "9ed1509c-f528-4581-e095-4ac7b8c0276f"
      },
      "execution_count": 17,
      "outputs": [
        {
          "output_type": "execute_result",
          "data": {
            "text/plain": [
              "(73910, 23)"
            ]
          },
          "metadata": {},
          "execution_count": 17
        }
      ]
    },
    {
      "cell_type": "markdown",
      "source": [
        "Filtering out if death/discharge before 24hrs of intime"
      ],
      "metadata": {
        "id": "j231Jyxw4P85"
      }
    },
    {
      "cell_type": "code",
      "source": [
        "# 24 hrs = 86400s ;(24x60x60)\n",
        "cohort_3 = cohort_2.loc[((cohort_2['deathtime'] - cohort_2['icu_intime']).dt.total_seconds() > 86400) | (cohort_2['deathtime'].isnull())] # Passed away after 24hrs or alive\n",
        "cohort_3 = cohort_3.loc[((cohort_3['icu_outtime'] - cohort_3['icu_intime']).dt.total_seconds() > 86400)] # Discharged in 24hrs \n",
        "cohort_3 = cohort_3.loc[((cohort_3['dischtime'] - cohort_3['icu_intime']).dt.total_seconds() > 86400)] # Discharged in 24hrs \n",
        "cohort_3.shape"
      ],
      "metadata": {
        "id": "QU0Uat7muYQk",
        "outputId": "e2efebfc-81c4-41bc-8ed6-14a12febac0f",
        "colab": {
          "base_uri": "https://localhost:8080/"
        }
      },
      "execution_count": 18,
      "outputs": [
        {
          "output_type": "execute_result",
          "data": {
            "text/plain": [
              "(58497, 23)"
            ]
          },
          "metadata": {},
          "execution_count": 18
        }
      ]
    },
    {
      "cell_type": "markdown",
      "source": [
        " Filtering in only MICU & SICU first care units"
      ],
      "metadata": {
        "id": "t6Rv46aa4LhP"
      }
    },
    {
      "cell_type": "code",
      "source": [
        "cohort_4 = cohort_3.loc[cohort_3['first_careunit'].str.contains(\"micu|sicu\", case=False)]\n",
        "cohort_4.shape"
      ],
      "metadata": {
        "id": "4zznMcDNaUQQ",
        "colab": {
          "base_uri": "https://localhost:8080/"
        },
        "outputId": "973f037a-c33c-45f5-e89f-2e176df4f854"
      },
      "execution_count": 19,
      "outputs": [
        {
          "output_type": "execute_result",
          "data": {
            "text/plain": [
              "(39453, 23)"
            ]
          },
          "metadata": {},
          "execution_count": 19
        }
      ]
    },
    {
      "cell_type": "markdown",
      "source": [
        "Filtering on sepsis "
      ],
      "metadata": {
        "id": "NgzTELfdlf9x"
      }
    },
    {
      "cell_type": "code",
      "source": [
        "cohort_5 = cohort_4.loc[cohort_4['sepsis3']  == True]\n",
        "cohort_5.shape"
      ],
      "metadata": {
        "id": "VKhjSkZJGAYk",
        "outputId": "4a7a3be7-1c27-4211-bebf-5b4fd05c014d",
        "colab": {
          "base_uri": "https://localhost:8080/"
        }
      },
      "execution_count": 20,
      "outputs": [
        {
          "output_type": "execute_result",
          "data": {
            "text/plain": [
              "(22582, 23)"
            ]
          },
          "metadata": {},
          "execution_count": 20
        }
      ]
    },
    {
      "cell_type": "markdown",
      "source": [
        "Filtering on vasopressor treatments"
      ],
      "metadata": {
        "id": "Z5_ODpV0lefe"
      }
    },
    {
      "cell_type": "code",
      "source": [
        "vaso_id = (\n",
        "    bqclient.query(vasopressor_id)\n",
        "    .result()\n",
        "    .to_dataframe()   \n",
        ")"
      ],
      "metadata": {
        "id": "HuAekhmLlSdy"
      },
      "execution_count": 21,
      "outputs": []
    },
    {
      "cell_type": "code",
      "source": [
        "cohort_6 = pd.merge(cohort_5, vaso_id, on='stay_id', how='inner')\n",
        "cohort_6.shape"
      ],
      "metadata": {
        "colab": {
          "base_uri": "https://localhost:8080/"
        },
        "id": "Uzzb7OhbHqal",
        "outputId": "d787519b-6cf5-40f4-ba2a-4dfc2bf7ae24"
      },
      "execution_count": 22,
      "outputs": [
        {
          "output_type": "execute_result",
          "data": {
            "text/plain": [
              "(10928, 23)"
            ]
          },
          "metadata": {},
          "execution_count": 22
        }
      ]
    },
    {
      "cell_type": "markdown",
      "source": [
        "Filtering on midodrine ***perscribed*** for first time"
      ],
      "metadata": {
        "id": "FYMMDTiQ35LH"
      }
    },
    {
      "cell_type": "code",
      "source": [
        "cohort_table = cohort_6.loc[cohort_6['midodrine_include'] == 1]\n",
        "cohort_table.shape"
      ],
      "metadata": {
        "colab": {
          "base_uri": "https://localhost:8080/"
        },
        "id": "ZQxPH5_jCwsq",
        "outputId": "7b1480bd-7edf-409a-8de4-85ccf4d7291f"
      },
      "execution_count": 23,
      "outputs": [
        {
          "output_type": "execute_result",
          "data": {
            "text/plain": [
              "(9792, 23)"
            ]
          },
          "metadata": {},
          "execution_count": 23
        }
      ]
    },
    {
      "cell_type": "markdown",
      "source": [
        "## Divide the Midodrine Group"
      ],
      "metadata": {
        "id": "f7vKuA38eprQ"
      }
    },
    {
      "cell_type": "code",
      "execution_count": 40,
      "metadata": {
        "colab": {
          "base_uri": "https://localhost:8080/",
          "height": 939
        },
        "id": "qPAGC3dLljMp",
        "outputId": "8d8565d6-f1e9-4075-9581-265dd04f537b"
      },
      "outputs": [
        {
          "output_type": "stream",
          "name": "stdout",
          "text": [
            "Warning: Total number of columns (23) exceeds max_columns (20). Falling back to pandas display.\n"
          ]
        },
        {
          "output_type": "execute_result",
          "data": {
            "text/plain": [
              "        stay_id                                    first_careunit  subject_id  \\\n",
              "7      36014877                               Trauma SICU (TSICU)    11861017   \n",
              "8      36014877                               Trauma SICU (TSICU)    11861017   \n",
              "9      36014877                               Trauma SICU (TSICU)    11861017   \n",
              "10     36014877                               Trauma SICU (TSICU)    11861017   \n",
              "11     36014877                               Trauma SICU (TSICU)    11861017   \n",
              "...         ...                                               ...         ...   \n",
              "10899  38743934  Medical/Surgical Intensive Care Unit (MICU/SICU)    19894790   \n",
              "10900  38743934  Medical/Surgical Intensive Care Unit (MICU/SICU)    19894790   \n",
              "10919  39446578  Medical/Surgical Intensive Care Unit (MICU/SICU)    14781720   \n",
              "10926  39918058  Medical/Surgical Intensive Care Unit (MICU/SICU)    15689523   \n",
              "10927  39918058  Medical/Surgical Intensive Care Unit (MICU/SICU)    15689523   \n",
              "\n",
              "        hadm_id gender ethnicity           admittime           dischtime  age  \\\n",
              "7      27162817      M     WHITE 2189-03-15 15:47:00 2189-05-06 17:00:00   87   \n",
              "8      27162817      M     WHITE 2189-03-15 15:47:00 2189-05-06 17:00:00   87   \n",
              "9      27162817      M     WHITE 2189-03-15 15:47:00 2189-05-06 17:00:00   87   \n",
              "10     27162817      M     WHITE 2189-03-15 15:47:00 2189-05-06 17:00:00   87   \n",
              "11     27162817      M     WHITE 2189-03-15 15:47:00 2189-05-06 17:00:00   87   \n",
              "...         ...    ...       ...                 ...                 ...  ...   \n",
              "10899  27933693      M     WHITE 2140-08-25 17:58:00 2140-09-13 18:00:00   84   \n",
              "10900  27933693      M     WHITE 2140-08-25 17:58:00 2140-09-13 18:00:00   84   \n",
              "10919  23795457      F     WHITE 2189-01-07 21:03:00 2189-01-26 15:11:00   92   \n",
              "10926  23914765      M     ASIAN 2159-06-25 16:25:00 2159-07-24 19:30:00   67   \n",
              "10927  23914765      M     ASIAN 2159-06-25 16:25:00 2159-07-24 19:30:00   67   \n",
              "\n",
              "                deathtime  ...  first_icu_stay los_icu los_hospital  \\\n",
              "7                     NaT  ...            True   46.42           52   \n",
              "8                     NaT  ...            True   46.42           52   \n",
              "9                     NaT  ...            True   46.42           52   \n",
              "10                    NaT  ...            True   46.42           52   \n",
              "11                    NaT  ...            True   46.42           52   \n",
              "...                   ...  ...             ...     ...          ...   \n",
              "10899 2140-09-13 18:00:00  ...            True   16.88           19   \n",
              "10900 2140-09-13 18:00:00  ...            True   16.88           19   \n",
              "10919                 NaT  ...            True    4.08           19   \n",
              "10926                 NaT  ...            True   29.17           29   \n",
              "10927                 NaT  ...            True   29.17           29   \n",
              "\n",
              "           drug_starttime  midodrine_exclude  pharmacy_id midodrine_include  \\\n",
              "7     2189-04-17 16:00:00                  0   45772957.0                 1   \n",
              "8     2189-04-17 16:00:00                  0   82401425.0                 1   \n",
              "9     2189-04-17 16:00:00                  0   55309217.0                 1   \n",
              "10    2189-04-17 16:00:00                  0   26557617.0                 1   \n",
              "11    2189-04-17 16:00:00                  0   67458919.0                 1   \n",
              "...                   ...                ...          ...               ...   \n",
              "10899 2140-09-01 14:00:00                  0   23223011.0                 1   \n",
              "10900 2140-09-01 14:00:00                  0   19002419.0                 1   \n",
              "10919 2189-01-26 14:00:00                  0   22076632.0                 1   \n",
              "10926 2159-07-08 14:00:00                  0   79916784.0                 1   \n",
              "10927 2159-07-08 14:00:00                  0   81843269.0                 1   \n",
              "\n",
              "       avg_doses_per_24_hrs  sepsis3  adm_weekday  \n",
              "7                  1.595745     True            1  \n",
              "8                  1.595745     True            1  \n",
              "9                  1.595745     True            1  \n",
              "10                 1.595745     True            1  \n",
              "11                 1.595745     True            1  \n",
              "...                     ...      ...          ...  \n",
              "10899              1.947368     True            5  \n",
              "10900              1.947368     True            5  \n",
              "10919              1.409091     True            5  \n",
              "10926              1.453846     True            2  \n",
              "10927              1.453846     True            2  \n",
              "\n",
              "[1969 rows x 23 columns]"
            ],
            "text/html": [
              "\n",
              "  <div id=\"df-dc7a40d6-0541-4092-a4c7-2bbf7bcd7888\">\n",
              "    <div class=\"colab-df-container\">\n",
              "      <div>\n",
              "<style scoped>\n",
              "    .dataframe tbody tr th:only-of-type {\n",
              "        vertical-align: middle;\n",
              "    }\n",
              "\n",
              "    .dataframe tbody tr th {\n",
              "        vertical-align: top;\n",
              "    }\n",
              "\n",
              "    .dataframe thead th {\n",
              "        text-align: right;\n",
              "    }\n",
              "</style>\n",
              "<table border=\"1\" class=\"dataframe\">\n",
              "  <thead>\n",
              "    <tr style=\"text-align: right;\">\n",
              "      <th></th>\n",
              "      <th>stay_id</th>\n",
              "      <th>first_careunit</th>\n",
              "      <th>subject_id</th>\n",
              "      <th>hadm_id</th>\n",
              "      <th>gender</th>\n",
              "      <th>ethnicity</th>\n",
              "      <th>admittime</th>\n",
              "      <th>dischtime</th>\n",
              "      <th>age</th>\n",
              "      <th>deathtime</th>\n",
              "      <th>...</th>\n",
              "      <th>first_icu_stay</th>\n",
              "      <th>los_icu</th>\n",
              "      <th>los_hospital</th>\n",
              "      <th>drug_starttime</th>\n",
              "      <th>midodrine_exclude</th>\n",
              "      <th>pharmacy_id</th>\n",
              "      <th>midodrine_include</th>\n",
              "      <th>avg_doses_per_24_hrs</th>\n",
              "      <th>sepsis3</th>\n",
              "      <th>adm_weekday</th>\n",
              "    </tr>\n",
              "  </thead>\n",
              "  <tbody>\n",
              "    <tr>\n",
              "      <th>7</th>\n",
              "      <td>36014877</td>\n",
              "      <td>Trauma SICU (TSICU)</td>\n",
              "      <td>11861017</td>\n",
              "      <td>27162817</td>\n",
              "      <td>M</td>\n",
              "      <td>WHITE</td>\n",
              "      <td>2189-03-15 15:47:00</td>\n",
              "      <td>2189-05-06 17:00:00</td>\n",
              "      <td>87</td>\n",
              "      <td>NaT</td>\n",
              "      <td>...</td>\n",
              "      <td>True</td>\n",
              "      <td>46.42</td>\n",
              "      <td>52</td>\n",
              "      <td>2189-04-17 16:00:00</td>\n",
              "      <td>0</td>\n",
              "      <td>45772957.0</td>\n",
              "      <td>1</td>\n",
              "      <td>1.595745</td>\n",
              "      <td>True</td>\n",
              "      <td>1</td>\n",
              "    </tr>\n",
              "    <tr>\n",
              "      <th>8</th>\n",
              "      <td>36014877</td>\n",
              "      <td>Trauma SICU (TSICU)</td>\n",
              "      <td>11861017</td>\n",
              "      <td>27162817</td>\n",
              "      <td>M</td>\n",
              "      <td>WHITE</td>\n",
              "      <td>2189-03-15 15:47:00</td>\n",
              "      <td>2189-05-06 17:00:00</td>\n",
              "      <td>87</td>\n",
              "      <td>NaT</td>\n",
              "      <td>...</td>\n",
              "      <td>True</td>\n",
              "      <td>46.42</td>\n",
              "      <td>52</td>\n",
              "      <td>2189-04-17 16:00:00</td>\n",
              "      <td>0</td>\n",
              "      <td>82401425.0</td>\n",
              "      <td>1</td>\n",
              "      <td>1.595745</td>\n",
              "      <td>True</td>\n",
              "      <td>1</td>\n",
              "    </tr>\n",
              "    <tr>\n",
              "      <th>9</th>\n",
              "      <td>36014877</td>\n",
              "      <td>Trauma SICU (TSICU)</td>\n",
              "      <td>11861017</td>\n",
              "      <td>27162817</td>\n",
              "      <td>M</td>\n",
              "      <td>WHITE</td>\n",
              "      <td>2189-03-15 15:47:00</td>\n",
              "      <td>2189-05-06 17:00:00</td>\n",
              "      <td>87</td>\n",
              "      <td>NaT</td>\n",
              "      <td>...</td>\n",
              "      <td>True</td>\n",
              "      <td>46.42</td>\n",
              "      <td>52</td>\n",
              "      <td>2189-04-17 16:00:00</td>\n",
              "      <td>0</td>\n",
              "      <td>55309217.0</td>\n",
              "      <td>1</td>\n",
              "      <td>1.595745</td>\n",
              "      <td>True</td>\n",
              "      <td>1</td>\n",
              "    </tr>\n",
              "    <tr>\n",
              "      <th>10</th>\n",
              "      <td>36014877</td>\n",
              "      <td>Trauma SICU (TSICU)</td>\n",
              "      <td>11861017</td>\n",
              "      <td>27162817</td>\n",
              "      <td>M</td>\n",
              "      <td>WHITE</td>\n",
              "      <td>2189-03-15 15:47:00</td>\n",
              "      <td>2189-05-06 17:00:00</td>\n",
              "      <td>87</td>\n",
              "      <td>NaT</td>\n",
              "      <td>...</td>\n",
              "      <td>True</td>\n",
              "      <td>46.42</td>\n",
              "      <td>52</td>\n",
              "      <td>2189-04-17 16:00:00</td>\n",
              "      <td>0</td>\n",
              "      <td>26557617.0</td>\n",
              "      <td>1</td>\n",
              "      <td>1.595745</td>\n",
              "      <td>True</td>\n",
              "      <td>1</td>\n",
              "    </tr>\n",
              "    <tr>\n",
              "      <th>11</th>\n",
              "      <td>36014877</td>\n",
              "      <td>Trauma SICU (TSICU)</td>\n",
              "      <td>11861017</td>\n",
              "      <td>27162817</td>\n",
              "      <td>M</td>\n",
              "      <td>WHITE</td>\n",
              "      <td>2189-03-15 15:47:00</td>\n",
              "      <td>2189-05-06 17:00:00</td>\n",
              "      <td>87</td>\n",
              "      <td>NaT</td>\n",
              "      <td>...</td>\n",
              "      <td>True</td>\n",
              "      <td>46.42</td>\n",
              "      <td>52</td>\n",
              "      <td>2189-04-17 16:00:00</td>\n",
              "      <td>0</td>\n",
              "      <td>67458919.0</td>\n",
              "      <td>1</td>\n",
              "      <td>1.595745</td>\n",
              "      <td>True</td>\n",
              "      <td>1</td>\n",
              "    </tr>\n",
              "    <tr>\n",
              "      <th>...</th>\n",
              "      <td>...</td>\n",
              "      <td>...</td>\n",
              "      <td>...</td>\n",
              "      <td>...</td>\n",
              "      <td>...</td>\n",
              "      <td>...</td>\n",
              "      <td>...</td>\n",
              "      <td>...</td>\n",
              "      <td>...</td>\n",
              "      <td>...</td>\n",
              "      <td>...</td>\n",
              "      <td>...</td>\n",
              "      <td>...</td>\n",
              "      <td>...</td>\n",
              "      <td>...</td>\n",
              "      <td>...</td>\n",
              "      <td>...</td>\n",
              "      <td>...</td>\n",
              "      <td>...</td>\n",
              "      <td>...</td>\n",
              "      <td>...</td>\n",
              "    </tr>\n",
              "    <tr>\n",
              "      <th>10899</th>\n",
              "      <td>38743934</td>\n",
              "      <td>Medical/Surgical Intensive Care Unit (MICU/SICU)</td>\n",
              "      <td>19894790</td>\n",
              "      <td>27933693</td>\n",
              "      <td>M</td>\n",
              "      <td>WHITE</td>\n",
              "      <td>2140-08-25 17:58:00</td>\n",
              "      <td>2140-09-13 18:00:00</td>\n",
              "      <td>84</td>\n",
              "      <td>2140-09-13 18:00:00</td>\n",
              "      <td>...</td>\n",
              "      <td>True</td>\n",
              "      <td>16.88</td>\n",
              "      <td>19</td>\n",
              "      <td>2140-09-01 14:00:00</td>\n",
              "      <td>0</td>\n",
              "      <td>23223011.0</td>\n",
              "      <td>1</td>\n",
              "      <td>1.947368</td>\n",
              "      <td>True</td>\n",
              "      <td>5</td>\n",
              "    </tr>\n",
              "    <tr>\n",
              "      <th>10900</th>\n",
              "      <td>38743934</td>\n",
              "      <td>Medical/Surgical Intensive Care Unit (MICU/SICU)</td>\n",
              "      <td>19894790</td>\n",
              "      <td>27933693</td>\n",
              "      <td>M</td>\n",
              "      <td>WHITE</td>\n",
              "      <td>2140-08-25 17:58:00</td>\n",
              "      <td>2140-09-13 18:00:00</td>\n",
              "      <td>84</td>\n",
              "      <td>2140-09-13 18:00:00</td>\n",
              "      <td>...</td>\n",
              "      <td>True</td>\n",
              "      <td>16.88</td>\n",
              "      <td>19</td>\n",
              "      <td>2140-09-01 14:00:00</td>\n",
              "      <td>0</td>\n",
              "      <td>19002419.0</td>\n",
              "      <td>1</td>\n",
              "      <td>1.947368</td>\n",
              "      <td>True</td>\n",
              "      <td>5</td>\n",
              "    </tr>\n",
              "    <tr>\n",
              "      <th>10919</th>\n",
              "      <td>39446578</td>\n",
              "      <td>Medical/Surgical Intensive Care Unit (MICU/SICU)</td>\n",
              "      <td>14781720</td>\n",
              "      <td>23795457</td>\n",
              "      <td>F</td>\n",
              "      <td>WHITE</td>\n",
              "      <td>2189-01-07 21:03:00</td>\n",
              "      <td>2189-01-26 15:11:00</td>\n",
              "      <td>92</td>\n",
              "      <td>NaT</td>\n",
              "      <td>...</td>\n",
              "      <td>True</td>\n",
              "      <td>4.08</td>\n",
              "      <td>19</td>\n",
              "      <td>2189-01-26 14:00:00</td>\n",
              "      <td>0</td>\n",
              "      <td>22076632.0</td>\n",
              "      <td>1</td>\n",
              "      <td>1.409091</td>\n",
              "      <td>True</td>\n",
              "      <td>5</td>\n",
              "    </tr>\n",
              "    <tr>\n",
              "      <th>10926</th>\n",
              "      <td>39918058</td>\n",
              "      <td>Medical/Surgical Intensive Care Unit (MICU/SICU)</td>\n",
              "      <td>15689523</td>\n",
              "      <td>23914765</td>\n",
              "      <td>M</td>\n",
              "      <td>ASIAN</td>\n",
              "      <td>2159-06-25 16:25:00</td>\n",
              "      <td>2159-07-24 19:30:00</td>\n",
              "      <td>67</td>\n",
              "      <td>NaT</td>\n",
              "      <td>...</td>\n",
              "      <td>True</td>\n",
              "      <td>29.17</td>\n",
              "      <td>29</td>\n",
              "      <td>2159-07-08 14:00:00</td>\n",
              "      <td>0</td>\n",
              "      <td>79916784.0</td>\n",
              "      <td>1</td>\n",
              "      <td>1.453846</td>\n",
              "      <td>True</td>\n",
              "      <td>2</td>\n",
              "    </tr>\n",
              "    <tr>\n",
              "      <th>10927</th>\n",
              "      <td>39918058</td>\n",
              "      <td>Medical/Surgical Intensive Care Unit (MICU/SICU)</td>\n",
              "      <td>15689523</td>\n",
              "      <td>23914765</td>\n",
              "      <td>M</td>\n",
              "      <td>ASIAN</td>\n",
              "      <td>2159-06-25 16:25:00</td>\n",
              "      <td>2159-07-24 19:30:00</td>\n",
              "      <td>67</td>\n",
              "      <td>NaT</td>\n",
              "      <td>...</td>\n",
              "      <td>True</td>\n",
              "      <td>29.17</td>\n",
              "      <td>29</td>\n",
              "      <td>2159-07-08 14:00:00</td>\n",
              "      <td>0</td>\n",
              "      <td>81843269.0</td>\n",
              "      <td>1</td>\n",
              "      <td>1.453846</td>\n",
              "      <td>True</td>\n",
              "      <td>2</td>\n",
              "    </tr>\n",
              "  </tbody>\n",
              "</table>\n",
              "<p>1969 rows × 23 columns</p>\n",
              "</div>\n",
              "      <button class=\"colab-df-convert\" onclick=\"convertToInteractive('df-dc7a40d6-0541-4092-a4c7-2bbf7bcd7888')\"\n",
              "              title=\"Convert this dataframe to an interactive table.\"\n",
              "              style=\"display:none;\">\n",
              "        \n",
              "  <svg xmlns=\"http://www.w3.org/2000/svg\" height=\"24px\"viewBox=\"0 0 24 24\"\n",
              "       width=\"24px\">\n",
              "    <path d=\"M0 0h24v24H0V0z\" fill=\"none\"/>\n",
              "    <path d=\"M18.56 5.44l.94 2.06.94-2.06 2.06-.94-2.06-.94-.94-2.06-.94 2.06-2.06.94zm-11 1L8.5 8.5l.94-2.06 2.06-.94-2.06-.94L8.5 2.5l-.94 2.06-2.06.94zm10 10l.94 2.06.94-2.06 2.06-.94-2.06-.94-.94-2.06-.94 2.06-2.06.94z\"/><path d=\"M17.41 7.96l-1.37-1.37c-.4-.4-.92-.59-1.43-.59-.52 0-1.04.2-1.43.59L10.3 9.45l-7.72 7.72c-.78.78-.78 2.05 0 2.83L4 21.41c.39.39.9.59 1.41.59.51 0 1.02-.2 1.41-.59l7.78-7.78 2.81-2.81c.8-.78.8-2.07 0-2.86zM5.41 20L4 18.59l7.72-7.72 1.47 1.35L5.41 20z\"/>\n",
              "  </svg>\n",
              "      </button>\n",
              "      \n",
              "  <style>\n",
              "    .colab-df-container {\n",
              "      display:flex;\n",
              "      flex-wrap:wrap;\n",
              "      gap: 12px;\n",
              "    }\n",
              "\n",
              "    .colab-df-convert {\n",
              "      background-color: #E8F0FE;\n",
              "      border: none;\n",
              "      border-radius: 50%;\n",
              "      cursor: pointer;\n",
              "      display: none;\n",
              "      fill: #1967D2;\n",
              "      height: 32px;\n",
              "      padding: 0 0 0 0;\n",
              "      width: 32px;\n",
              "    }\n",
              "\n",
              "    .colab-df-convert:hover {\n",
              "      background-color: #E2EBFA;\n",
              "      box-shadow: 0px 1px 2px rgba(60, 64, 67, 0.3), 0px 1px 3px 1px rgba(60, 64, 67, 0.15);\n",
              "      fill: #174EA6;\n",
              "    }\n",
              "\n",
              "    [theme=dark] .colab-df-convert {\n",
              "      background-color: #3B4455;\n",
              "      fill: #D2E3FC;\n",
              "    }\n",
              "\n",
              "    [theme=dark] .colab-df-convert:hover {\n",
              "      background-color: #434B5C;\n",
              "      box-shadow: 0px 1px 3px 1px rgba(0, 0, 0, 0.15);\n",
              "      filter: drop-shadow(0px 1px 2px rgba(0, 0, 0, 0.3));\n",
              "      fill: #FFFFFF;\n",
              "    }\n",
              "  </style>\n",
              "\n",
              "      <script>\n",
              "        const buttonEl =\n",
              "          document.querySelector('#df-dc7a40d6-0541-4092-a4c7-2bbf7bcd7888 button.colab-df-convert');\n",
              "        buttonEl.style.display =\n",
              "          google.colab.kernel.accessAllowed ? 'block' : 'none';\n",
              "\n",
              "        async function convertToInteractive(key) {\n",
              "          const element = document.querySelector('#df-dc7a40d6-0541-4092-a4c7-2bbf7bcd7888');\n",
              "          const dataTable =\n",
              "            await google.colab.kernel.invokeFunction('convertToInteractive',\n",
              "                                                     [key], {});\n",
              "          if (!dataTable) return;\n",
              "\n",
              "          const docLinkHtml = 'Like what you see? Visit the ' +\n",
              "            '<a target=\"_blank\" href=https://colab.research.google.com/notebooks/data_table.ipynb>data table notebook</a>'\n",
              "            + ' to learn more about interactive tables.';\n",
              "          element.innerHTML = '';\n",
              "          dataTable['output_type'] = 'display_data';\n",
              "          await google.colab.output.renderOutput(dataTable, element);\n",
              "          const docLink = document.createElement('div');\n",
              "          docLink.innerHTML = docLinkHtml;\n",
              "          element.appendChild(docLink);\n",
              "        }\n",
              "      </script>\n",
              "    </div>\n",
              "  </div>\n",
              "  "
            ]
          },
          "metadata": {},
          "execution_count": 40
        }
      ],
      "source": [
        "cohort_mid = cohort_table.loc[pd.notnull(cohort_table['drug_starttime'])]\n",
        "cohort_mid"
      ]
    },
    {
      "cell_type": "markdown",
      "source": [
        "# **Insert Part**: \n",
        "check if there's any missing data for the midodrine group"
      ],
      "metadata": {
        "id": "4Q0FM64XyIHC"
      }
    },
    {
      "cell_type": "markdown",
      "source": [
        "1. have a look at all the pharmacy id used in the midodrine group"
      ],
      "metadata": {
        "id": "no5fy0WqyV-T"
      }
    },
    {
      "cell_type": "code",
      "source": [
        "list(cohort_mid.pharmacy_id.unique())"
      ],
      "metadata": {
        "id": "Eq-u2C2Kx5aw"
      },
      "execution_count": null,
      "outputs": []
    },
    {
      "cell_type": "markdown",
      "source": [
        "2. extract pharmacy id from midodrine group, mimic_hosp.emar_detail, mimic_hosp.prescriptions"
      ],
      "metadata": {
        "id": "xZPVSh7Dyf0J"
      }
    },
    {
      "cell_type": "code",
      "source": [
        "# these are search strategy. Since it's too slow to run the following code in colab,\n",
        "# the code was executed in GCP directly and the data can be found in GitHub 'check_data_midodrine' folder\n",
        "emar_string = \"\"\"\n",
        "SELECT subject_id, pharmacy_id\n",
        "FROM physionet-data.mimic_hosp.emar_detail\n",
        "WHERE pharmacy_id is not null\n",
        "\"\"\"\n",
        "\n",
        "prescriptions_string = \"\"\"\n",
        "SELECT subject_id, pharmacy_id\n",
        "FROM physionet-data.mimic_hosp.prescriptions\n",
        "WHERE lower(drug) like 'midodrine'\n",
        "\"\"\""
      ],
      "metadata": {
        "id": "DpdZiRzoyfMS"
      },
      "execution_count": 53,
      "outputs": []
    },
    {
      "cell_type": "markdown",
      "source": [
        "3. connect to Google Drive to extract the data"
      ],
      "metadata": {
        "id": "LymZHNvn6sPc"
      }
    },
    {
      "cell_type": "code",
      "source": [
        "from google.colab import drive\n",
        "drive.mount('/content/drive')"
      ],
      "metadata": {
        "id": "JAZGTzMz6qq1"
      },
      "execution_count": null,
      "outputs": []
    },
    {
      "cell_type": "markdown",
      "source": [
        "4. import data from google drive"
      ],
      "metadata": {
        "id": "cZ49Uz966zwr"
      }
    },
    {
      "cell_type": "code",
      "source": [
        "# emar_data = pd.read_csv('/content/drive/MyDrive/bq-results-20220709-073542-1657352178548/check_data_emar_detail.csv')\n",
        "# emar_data.shape"
      ],
      "metadata": {
        "colab": {
          "base_uri": "https://localhost:8080/"
        },
        "id": "czLGE7aM1f2i",
        "outputId": "d47f8640-4ec3-4f4f-b206-4f8ad834d984"
      },
      "execution_count": 58,
      "outputs": [
        {
          "output_type": "execute_result",
          "data": {
            "text/plain": [
              "(26711806, 2)"
            ]
          },
          "metadata": {},
          "execution_count": 58
        }
      ]
    },
    {
      "cell_type": "code",
      "source": [
        "prescriptions_data = pd.read_csv('/content/drive/MyDrive/bq-results-20220709-073718-1657352391947/check_data_prescriptions.csv')\n",
        "prescriptions_data.shape"
      ],
      "metadata": {
        "colab": {
          "base_uri": "https://localhost:8080/"
        },
        "id": "BiPG1bid7Ar6",
        "outputId": "387f79c6-fa63-4a09-a28c-60dbe402ccaf"
      },
      "execution_count": 60,
      "outputs": [
        {
          "output_type": "execute_result",
          "data": {
            "text/plain": [
              "(12795, 2)"
            ]
          },
          "metadata": {},
          "execution_count": 60
        }
      ]
    },
    {
      "cell_type": "markdown",
      "source": [
        "5. extract those who have been to the ICU"
      ],
      "metadata": {
        "id": "uUU6SYTy8spc"
      }
    },
    {
      "cell_type": "code",
      "source": [
        "icu_subject_id = cohort_6.subject_id # notice, here the cohort_6, not the populations_data table, is used"
      ],
      "metadata": {
        "id": "7QTudyKV8fcy"
      },
      "execution_count": 64,
      "outputs": []
    },
    {
      "cell_type": "code",
      "source": [
        "# icu_emar = emar_data[emar_data['subject_id'].isin(icu_subject_id)]\n",
        "icu_prescriptions = prescriptions_data[prescriptions_data['subject_id'].isin(icu_subject_id)]"
      ],
      "metadata": {
        "id": "XLqMBHz29CkG"
      },
      "execution_count": 65,
      "outputs": []
    },
    {
      "cell_type": "code",
      "source": [
        "# print(icu_emar.shape)\n",
        "print(icu_prescriptions.shape)"
      ],
      "metadata": {
        "colab": {
          "base_uri": "https://localhost:8080/"
        },
        "id": "IOXEwUwY9SVh",
        "outputId": "1c5cfc29-9b46-45bc-faea-70af9870038b"
      },
      "execution_count": 66,
      "outputs": [
        {
          "output_type": "stream",
          "name": "stdout",
          "text": [
            "(5245580, 2)\n",
            "(5604, 2)\n"
          ]
        }
      ]
    },
    {
      "cell_type": "markdown",
      "source": [
        "6. Since there is no way to tell which pharmacy id in emar_detail stands for midodrine, the following part only use prescriptions_data"
      ],
      "metadata": {
        "id": "1f47magz_UqW"
      }
    },
    {
      "cell_type": "code",
      "source": [
        "# check if there is any missing midodrine data by pharmacy_id\n",
        "print('-----First-------')\n",
        "print(icu_prescriptions.pharmacy_id.unique().shape[0])\n",
        "print(cohort_mid.pharmacy_id.unique().shape[0])\n",
        "\n",
        "print('-----Second-------')\n",
        "print(icu_prescriptions.subject_id.unique().shape[0])\n",
        "print(cohort_mid.subject_id.unique().shape[0])\n",
        "\n",
        "# to make sure that previous operation has made no mistaks (check if unique(stay_id) == 851, as previous cohort data shows)\n",
        "print('-----Third-------')\n",
        "print(cohort_mid.stay_id.unique().shape[0])\n",
        "\n",
        "# check if all midodrine from pharmacy module is contained in prescriptions module\n",
        "print('-----Fourth-------')\n",
        "print(cohort_mid[cohort_mid['pharmacy_id'].isin(icu_prescriptions.pharmacy_id)].pharmacy_id.unique().shape[0])\n",
        "print(cohort_mid[cohort_mid['subject_id'].isin(icu_prescriptions.subject_id)].subject_id.unique().shape[0])"
      ],
      "metadata": {
        "colab": {
          "base_uri": "https://localhost:8080/"
        },
        "id": "hpOn_Urm_wEe",
        "outputId": "4a0d723d-8ad9-48ec-abba-bef5df734b1d"
      },
      "execution_count": 78,
      "outputs": [
        {
          "output_type": "stream",
          "name": "stdout",
          "text": [
            "-----First-------\n",
            "5604\n",
            "1969\n",
            "-----Second-------\n",
            "1096\n",
            "775\n",
            "-----Third-------\n",
            "851\n",
            "-----Fourth-------\n",
            "1969\n",
            "775\n"
          ]
        }
      ]
    },
    {
      "cell_type": "markdown",
      "source": [
        "It seems that there is indeed some missing data, but we need to further check if the extra data comes from those who were given midodrine a day befor ICU admission or after the ICU admission"
      ],
      "metadata": {
        "id": "W96J73vFKhzX"
      }
    },
    {
      "cell_type": "markdown",
      "source": [
        "7. check using pharmacy id from cohort_6 to see if the set of pharmacy_id from cohort_6 contains the set from prescriptions"
      ],
      "metadata": {
        "id": "EaTW1AujK66J"
      }
    },
    {
      "cell_type": "code",
      "source": [
        "print('-----First-----')\n",
        "print(cohort_6.pharmacy_id.unique().shape[0])\n",
        "\n",
        "print('-----Second-----')\n",
        "print(icu_prescriptions[icu_prescriptions['pharmacy_id'].isin(cohort_6.pharmacy_id)].pharmacy_id.unique().shape[0])"
      ],
      "metadata": {
        "colab": {
          "base_uri": "https://localhost:8080/"
        },
        "id": "7EC6EZEDKhFu",
        "outputId": "71f2afa2-2a72-43af-e0e9-8fefff29471b"
      },
      "execution_count": 80,
      "outputs": [
        {
          "output_type": "stream",
          "name": "stdout",
          "text": [
            "-----First-----\n",
            "3106\n",
            "-----Second-----\n",
            "3105\n"
          ]
        }
      ]
    },
    {
      "cell_type": "markdown",
      "source": [
        "There is a huge gap between 5604 and 3105, showing that there is indeed some missing midodrine data which is in the prescriptions"
      ],
      "metadata": {
        "id": "Am03PLBwLsCp"
      }
    }
  ],
  "metadata": {
    "colab": {
      "background_execution": "on",
      "collapsed_sections": [],
      "name": "01.1_cohort_extraction_midodrine_check.ipynb",
      "provenance": [],
      "include_colab_link": true
    },
    "kernelspec": {
      "display_name": "Python 3",
      "name": "python3"
    },
    "language_info": {
      "name": "python"
    },
    "gpuClass": "standard"
  },
  "nbformat": 4,
  "nbformat_minor": 0
}