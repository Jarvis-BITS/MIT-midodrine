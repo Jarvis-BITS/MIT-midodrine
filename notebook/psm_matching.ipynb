{
  "cells": [
    {
      "cell_type": "markdown",
      "metadata": {
        "id": "view-in-github",
        "colab_type": "text"
      },
      "source": [
        "<a href=\"https://colab.research.google.com/github/Jarvis-BITS/midodrine-mimic-iv/blob/demo/notebook/psm_matching.ipynb\" target=\"_parent\"><img src=\"https://colab.research.google.com/assets/colab-badge.svg\" alt=\"Open In Colab\"/></a>"
      ]
    },
    {
      "cell_type": "markdown",
      "metadata": {
        "id": "_HjDBG56TISW"
      },
      "source": [
        "Import libraries"
      ]
    },
    {
      "cell_type": "code",
      "source": [
        "!pip install psmpy\n",
        "!pip install pysmatch\n",
        "!pip install causalml\n",
        "!pip install xgboost\n",
        "!pip install zepid\n",
        "!pip install rpy2"
      ],
      "metadata": {
        "id": "BZ_aFSIUS5-L"
      },
      "execution_count": null,
      "outputs": []
    },
    {
      "cell_type": "code",
      "execution_count": 1,
      "metadata": {
        "id": "2vbq436UTFSP",
        "colab": {
          "base_uri": "https://localhost:8080/"
        },
        "outputId": "472d5b29-b2c9-4274-a1b1-0e8711dff75b"
      },
      "outputs": [
        {
          "output_type": "stream",
          "name": "stderr",
          "text": [
            "/usr/local/lib/python3.7/dist-packages/statsmodels/tools/_testing.py:19: FutureWarning: pandas.util.testing is deprecated. Use the functions in the public API at pandas.testing instead.\n",
            "  import pandas.util.testing as tm\n"
          ]
        }
      ],
      "source": [
        "import pandas as pd\n",
        "import matplotlib.pyplot as plt\n",
        "import numpy as np\n",
        "import tensorflow as tf \n",
        "from causalml import match\n",
        "from pysmatch.Matcher import Matcher\n",
        "from psmpy import PsmPy\n",
        "from psmpy.functions import cohenD\n",
        "from psmpy.plotting import *\n",
        "from sklearn.linear_model import LogisticRegression as lr\n",
        "from sklearn.ensemble import RandomForestClassifier \n",
        "import xgboost as xgb\n",
        "from  xgboost import XGBClassifier\n",
        "from zepid import (RiskDifference, RiskRatio, OddsRatio, NNT,\n",
        "                   IncidenceRateRatio, IncidenceRateDifference)\n",
        "from zepid.superlearner import GLMSL, StepwiseSL, SuperLearner\n",
        "from zepid.causal.doublyrobust import TMLE, SingleCrossfitAIPTW, SingleCrossfitTMLE\n",
        "import rpy2.robjects as ro\n",
        "from rpy2.robjects import r, pandas2ri\n",
        "from rpy2.robjects.conversion import localconverter \n",
        "import seaborn as sns\n",
        "sns.set(rc={'figure.figsize':(16,10)}, font_scale=1.3)\n",
        "\n",
        "import sys\n",
        "import requests \n",
        "import io\n",
        "import warnings\n",
        "warnings.filterwarnings('ignore')"
      ]
    },
    {
      "cell_type": "code",
      "source": [
        "%%R\n",
        "install.packages(\"tmle\")\n",
        "install.packages(\"xgboost\")"
      ],
      "metadata": {
        "id": "7-XW8oPFBcSs"
      },
      "execution_count": null,
      "outputs": []
    },
    {
      "cell_type": "markdown",
      "source": [
        "Check to see if GPU connected. \n",
        "It is advised to add GPU from Runtime<Change runtime type<Hardware Accelaration<GPU for faster processing speeds"
      ],
      "metadata": {
        "id": "VJiP7tcPIMXX"
      }
    },
    {
      "cell_type": "code",
      "source": [
        "device_name = tf.test.gpu_device_name()\n",
        "if device_name != '/device:GPU:0':\n",
        "  raise SystemError('GPU device not found')\n",
        "print('Found GPU at: {}'.format(device_name))"
      ],
      "metadata": {
        "colab": {
          "base_uri": "https://localhost:8080/"
        },
        "id": "MxyKCFb-IJxA",
        "outputId": "08ac5ada-21d7-43ae-d1db-d0d9857340e3"
      },
      "execution_count": 4,
      "outputs": [
        {
          "output_type": "stream",
          "name": "stdout",
          "text": [
            "Found GPU at: /device:GPU:0\n"
          ]
        }
      ]
    },
    {
      "cell_type": "markdown",
      "source": [
        "## Importing csv "
      ],
      "metadata": {
        "id": "ZjmnXLRqXSb6"
      }
    },
    {
      "cell_type": "code",
      "source": [
        "url = \"https://raw.githubusercontent.com/Jarvis-BITS/midodrine-mimic-iv/demo/data/table_cohort.csv\"\n",
        "download = requests.get(url).content"
      ],
      "metadata": {
        "id": "IEAXgI9HXUs4"
      },
      "execution_count": 5,
      "outputs": []
    },
    {
      "cell_type": "code",
      "source": [
        "cohort_table = pd.read_csv(io.StringIO(download.decode('utf-8')))\n",
        "cohort_table"
      ],
      "metadata": {
        "colab": {
          "base_uri": "https://localhost:8080/",
          "height": 505
        },
        "id": "dtF7xgZl2L9D",
        "outputId": "db0a0952-e7ed-4cb3-855c-60f2502e07ac"
      },
      "execution_count": 6,
      "outputs": [
        {
          "output_type": "execute_result",
          "data": {
            "text/plain": [
              "        stay_id   hadm_id  subject_id  age  Gender               ethnicity  \\\n",
              "0      36014877  27162817    11861017   87       0                   WHITE   \n",
              "1      32272859  25963696    11259141   60       1                   WHITE   \n",
              "2      34023828  21782431    18010960   59       0                 UNKNOWN   \n",
              "3      37798199  29764966    10926537   42       1  BLACK/AFRICAN AMERICAN   \n",
              "4      32309766  29272306    15703353   59       1                   WHITE   \n",
              "...         ...       ...         ...  ...     ...                     ...   \n",
              "35295  39955170  24679700    12799579   55       1                   WHITE   \n",
              "35296  39977793  20968809    13886051   66       1                   WHITE   \n",
              "35297  39980385  21253505    11392990   73       0                   WHITE   \n",
              "35298  39985296  29295929    19632565   59       1                   WHITE   \n",
              "35299  39987031  23194856    12762280   82       1                   WHITE   \n",
              "\n",
              "       midodrine  avg_doses_per_24_hrs  MICU  adm_weekday  ...  \\\n",
              "0              1              1.595745     0            1  ...   \n",
              "1              1              1.633333     0            7  ...   \n",
              "2              1              1.589041     0            1  ...   \n",
              "3              1              1.568627     0            7  ...   \n",
              "4              1              1.517241     0            6  ...   \n",
              "...          ...                   ...   ...          ...  ...   \n",
              "35295          0              1.464286     1            7  ...   \n",
              "35296          0              1.407407     1            3  ...   \n",
              "35297          0              1.592593     1            5  ...   \n",
              "35298          0              1.782609     1            2  ...   \n",
              "35299          0              2.035714     1            7  ...   \n",
              "\n",
              "       resp_rate_mean  temperature_mean   spo2_mean  glucose_mean  \\\n",
              "0           17.600000         36.416667  100.000000    247.375000   \n",
              "1           17.333333         36.898333   97.259259    120.200000   \n",
              "2           15.392857         36.786667   96.629630     98.000000   \n",
              "3           17.240000         37.142857   99.791667     95.000000   \n",
              "4           21.740741         37.372000   98.178571    136.800000   \n",
              "...               ...               ...         ...           ...   \n",
              "35295       24.148148         37.325000   94.115385    148.333333   \n",
              "35296       14.400000         36.646364   97.205882     96.333333   \n",
              "35297       19.605263         36.835000   93.605263    203.200000   \n",
              "35298       25.692308         36.603333   96.296296    173.400000   \n",
              "35299       18.608696         36.508571   96.095238    118.666667   \n",
              "\n",
              "       sedative_use  ventilation_use  vasopressor_use  mortality  mort_28_day  \\\n",
              "0               1.0              1.0                1          0            0   \n",
              "1               1.0              1.0                1          0            0   \n",
              "2               1.0              1.0                1          0            0   \n",
              "3               1.0              1.0                1          0            0   \n",
              "4               1.0              1.0                1          0            0   \n",
              "...             ...              ...              ...        ...          ...   \n",
              "35295           0.0              1.0                1          0            0   \n",
              "35296           0.0              1.0                1          1            1   \n",
              "35297           0.0              1.0                1          1            0   \n",
              "35298           0.0              1.0                1          1            1   \n",
              "35299           0.0              1.0                1          0            0   \n",
              "\n",
              "       admit_hour  \n",
              "0              15  \n",
              "1              18  \n",
              "2              15  \n",
              "3              17  \n",
              "4               3  \n",
              "...           ...  \n",
              "35295          19  \n",
              "35296          19  \n",
              "35297           6  \n",
              "35298          15  \n",
              "35299          22  \n",
              "\n",
              "[35300 rows x 50 columns]"
            ],
            "text/html": [
              "\n",
              "  <div id=\"df-ddb89fe6-75b1-42e6-8eed-5c38e072bb65\">\n",
              "    <div class=\"colab-df-container\">\n",
              "      <div>\n",
              "<style scoped>\n",
              "    .dataframe tbody tr th:only-of-type {\n",
              "        vertical-align: middle;\n",
              "    }\n",
              "\n",
              "    .dataframe tbody tr th {\n",
              "        vertical-align: top;\n",
              "    }\n",
              "\n",
              "    .dataframe thead th {\n",
              "        text-align: right;\n",
              "    }\n",
              "</style>\n",
              "<table border=\"1\" class=\"dataframe\">\n",
              "  <thead>\n",
              "    <tr style=\"text-align: right;\">\n",
              "      <th></th>\n",
              "      <th>stay_id</th>\n",
              "      <th>hadm_id</th>\n",
              "      <th>subject_id</th>\n",
              "      <th>age</th>\n",
              "      <th>Gender</th>\n",
              "      <th>ethnicity</th>\n",
              "      <th>midodrine</th>\n",
              "      <th>avg_doses_per_24_hrs</th>\n",
              "      <th>MICU</th>\n",
              "      <th>adm_weekday</th>\n",
              "      <th>...</th>\n",
              "      <th>resp_rate_mean</th>\n",
              "      <th>temperature_mean</th>\n",
              "      <th>spo2_mean</th>\n",
              "      <th>glucose_mean</th>\n",
              "      <th>sedative_use</th>\n",
              "      <th>ventilation_use</th>\n",
              "      <th>vasopressor_use</th>\n",
              "      <th>mortality</th>\n",
              "      <th>mort_28_day</th>\n",
              "      <th>admit_hour</th>\n",
              "    </tr>\n",
              "  </thead>\n",
              "  <tbody>\n",
              "    <tr>\n",
              "      <th>0</th>\n",
              "      <td>36014877</td>\n",
              "      <td>27162817</td>\n",
              "      <td>11861017</td>\n",
              "      <td>87</td>\n",
              "      <td>0</td>\n",
              "      <td>WHITE</td>\n",
              "      <td>1</td>\n",
              "      <td>1.595745</td>\n",
              "      <td>0</td>\n",
              "      <td>1</td>\n",
              "      <td>...</td>\n",
              "      <td>17.600000</td>\n",
              "      <td>36.416667</td>\n",
              "      <td>100.000000</td>\n",
              "      <td>247.375000</td>\n",
              "      <td>1.0</td>\n",
              "      <td>1.0</td>\n",
              "      <td>1</td>\n",
              "      <td>0</td>\n",
              "      <td>0</td>\n",
              "      <td>15</td>\n",
              "    </tr>\n",
              "    <tr>\n",
              "      <th>1</th>\n",
              "      <td>32272859</td>\n",
              "      <td>25963696</td>\n",
              "      <td>11259141</td>\n",
              "      <td>60</td>\n",
              "      <td>1</td>\n",
              "      <td>WHITE</td>\n",
              "      <td>1</td>\n",
              "      <td>1.633333</td>\n",
              "      <td>0</td>\n",
              "      <td>7</td>\n",
              "      <td>...</td>\n",
              "      <td>17.333333</td>\n",
              "      <td>36.898333</td>\n",
              "      <td>97.259259</td>\n",
              "      <td>120.200000</td>\n",
              "      <td>1.0</td>\n",
              "      <td>1.0</td>\n",
              "      <td>1</td>\n",
              "      <td>0</td>\n",
              "      <td>0</td>\n",
              "      <td>18</td>\n",
              "    </tr>\n",
              "    <tr>\n",
              "      <th>2</th>\n",
              "      <td>34023828</td>\n",
              "      <td>21782431</td>\n",
              "      <td>18010960</td>\n",
              "      <td>59</td>\n",
              "      <td>0</td>\n",
              "      <td>UNKNOWN</td>\n",
              "      <td>1</td>\n",
              "      <td>1.589041</td>\n",
              "      <td>0</td>\n",
              "      <td>1</td>\n",
              "      <td>...</td>\n",
              "      <td>15.392857</td>\n",
              "      <td>36.786667</td>\n",
              "      <td>96.629630</td>\n",
              "      <td>98.000000</td>\n",
              "      <td>1.0</td>\n",
              "      <td>1.0</td>\n",
              "      <td>1</td>\n",
              "      <td>0</td>\n",
              "      <td>0</td>\n",
              "      <td>15</td>\n",
              "    </tr>\n",
              "    <tr>\n",
              "      <th>3</th>\n",
              "      <td>37798199</td>\n",
              "      <td>29764966</td>\n",
              "      <td>10926537</td>\n",
              "      <td>42</td>\n",
              "      <td>1</td>\n",
              "      <td>BLACK/AFRICAN AMERICAN</td>\n",
              "      <td>1</td>\n",
              "      <td>1.568627</td>\n",
              "      <td>0</td>\n",
              "      <td>7</td>\n",
              "      <td>...</td>\n",
              "      <td>17.240000</td>\n",
              "      <td>37.142857</td>\n",
              "      <td>99.791667</td>\n",
              "      <td>95.000000</td>\n",
              "      <td>1.0</td>\n",
              "      <td>1.0</td>\n",
              "      <td>1</td>\n",
              "      <td>0</td>\n",
              "      <td>0</td>\n",
              "      <td>17</td>\n",
              "    </tr>\n",
              "    <tr>\n",
              "      <th>4</th>\n",
              "      <td>32309766</td>\n",
              "      <td>29272306</td>\n",
              "      <td>15703353</td>\n",
              "      <td>59</td>\n",
              "      <td>1</td>\n",
              "      <td>WHITE</td>\n",
              "      <td>1</td>\n",
              "      <td>1.517241</td>\n",
              "      <td>0</td>\n",
              "      <td>6</td>\n",
              "      <td>...</td>\n",
              "      <td>21.740741</td>\n",
              "      <td>37.372000</td>\n",
              "      <td>98.178571</td>\n",
              "      <td>136.800000</td>\n",
              "      <td>1.0</td>\n",
              "      <td>1.0</td>\n",
              "      <td>1</td>\n",
              "      <td>0</td>\n",
              "      <td>0</td>\n",
              "      <td>3</td>\n",
              "    </tr>\n",
              "    <tr>\n",
              "      <th>...</th>\n",
              "      <td>...</td>\n",
              "      <td>...</td>\n",
              "      <td>...</td>\n",
              "      <td>...</td>\n",
              "      <td>...</td>\n",
              "      <td>...</td>\n",
              "      <td>...</td>\n",
              "      <td>...</td>\n",
              "      <td>...</td>\n",
              "      <td>...</td>\n",
              "      <td>...</td>\n",
              "      <td>...</td>\n",
              "      <td>...</td>\n",
              "      <td>...</td>\n",
              "      <td>...</td>\n",
              "      <td>...</td>\n",
              "      <td>...</td>\n",
              "      <td>...</td>\n",
              "      <td>...</td>\n",
              "      <td>...</td>\n",
              "      <td>...</td>\n",
              "    </tr>\n",
              "    <tr>\n",
              "      <th>35295</th>\n",
              "      <td>39955170</td>\n",
              "      <td>24679700</td>\n",
              "      <td>12799579</td>\n",
              "      <td>55</td>\n",
              "      <td>1</td>\n",
              "      <td>WHITE</td>\n",
              "      <td>0</td>\n",
              "      <td>1.464286</td>\n",
              "      <td>1</td>\n",
              "      <td>7</td>\n",
              "      <td>...</td>\n",
              "      <td>24.148148</td>\n",
              "      <td>37.325000</td>\n",
              "      <td>94.115385</td>\n",
              "      <td>148.333333</td>\n",
              "      <td>0.0</td>\n",
              "      <td>1.0</td>\n",
              "      <td>1</td>\n",
              "      <td>0</td>\n",
              "      <td>0</td>\n",
              "      <td>19</td>\n",
              "    </tr>\n",
              "    <tr>\n",
              "      <th>35296</th>\n",
              "      <td>39977793</td>\n",
              "      <td>20968809</td>\n",
              "      <td>13886051</td>\n",
              "      <td>66</td>\n",
              "      <td>1</td>\n",
              "      <td>WHITE</td>\n",
              "      <td>0</td>\n",
              "      <td>1.407407</td>\n",
              "      <td>1</td>\n",
              "      <td>3</td>\n",
              "      <td>...</td>\n",
              "      <td>14.400000</td>\n",
              "      <td>36.646364</td>\n",
              "      <td>97.205882</td>\n",
              "      <td>96.333333</td>\n",
              "      <td>0.0</td>\n",
              "      <td>1.0</td>\n",
              "      <td>1</td>\n",
              "      <td>1</td>\n",
              "      <td>1</td>\n",
              "      <td>19</td>\n",
              "    </tr>\n",
              "    <tr>\n",
              "      <th>35297</th>\n",
              "      <td>39980385</td>\n",
              "      <td>21253505</td>\n",
              "      <td>11392990</td>\n",
              "      <td>73</td>\n",
              "      <td>0</td>\n",
              "      <td>WHITE</td>\n",
              "      <td>0</td>\n",
              "      <td>1.592593</td>\n",
              "      <td>1</td>\n",
              "      <td>5</td>\n",
              "      <td>...</td>\n",
              "      <td>19.605263</td>\n",
              "      <td>36.835000</td>\n",
              "      <td>93.605263</td>\n",
              "      <td>203.200000</td>\n",
              "      <td>0.0</td>\n",
              "      <td>1.0</td>\n",
              "      <td>1</td>\n",
              "      <td>1</td>\n",
              "      <td>0</td>\n",
              "      <td>6</td>\n",
              "    </tr>\n",
              "    <tr>\n",
              "      <th>35298</th>\n",
              "      <td>39985296</td>\n",
              "      <td>29295929</td>\n",
              "      <td>19632565</td>\n",
              "      <td>59</td>\n",
              "      <td>1</td>\n",
              "      <td>WHITE</td>\n",
              "      <td>0</td>\n",
              "      <td>1.782609</td>\n",
              "      <td>1</td>\n",
              "      <td>2</td>\n",
              "      <td>...</td>\n",
              "      <td>25.692308</td>\n",
              "      <td>36.603333</td>\n",
              "      <td>96.296296</td>\n",
              "      <td>173.400000</td>\n",
              "      <td>0.0</td>\n",
              "      <td>1.0</td>\n",
              "      <td>1</td>\n",
              "      <td>1</td>\n",
              "      <td>1</td>\n",
              "      <td>15</td>\n",
              "    </tr>\n",
              "    <tr>\n",
              "      <th>35299</th>\n",
              "      <td>39987031</td>\n",
              "      <td>23194856</td>\n",
              "      <td>12762280</td>\n",
              "      <td>82</td>\n",
              "      <td>1</td>\n",
              "      <td>WHITE</td>\n",
              "      <td>0</td>\n",
              "      <td>2.035714</td>\n",
              "      <td>1</td>\n",
              "      <td>7</td>\n",
              "      <td>...</td>\n",
              "      <td>18.608696</td>\n",
              "      <td>36.508571</td>\n",
              "      <td>96.095238</td>\n",
              "      <td>118.666667</td>\n",
              "      <td>0.0</td>\n",
              "      <td>1.0</td>\n",
              "      <td>1</td>\n",
              "      <td>0</td>\n",
              "      <td>0</td>\n",
              "      <td>22</td>\n",
              "    </tr>\n",
              "  </tbody>\n",
              "</table>\n",
              "<p>35300 rows × 50 columns</p>\n",
              "</div>\n",
              "      <button class=\"colab-df-convert\" onclick=\"convertToInteractive('df-ddb89fe6-75b1-42e6-8eed-5c38e072bb65')\"\n",
              "              title=\"Convert this dataframe to an interactive table.\"\n",
              "              style=\"display:none;\">\n",
              "        \n",
              "  <svg xmlns=\"http://www.w3.org/2000/svg\" height=\"24px\"viewBox=\"0 0 24 24\"\n",
              "       width=\"24px\">\n",
              "    <path d=\"M0 0h24v24H0V0z\" fill=\"none\"/>\n",
              "    <path d=\"M18.56 5.44l.94 2.06.94-2.06 2.06-.94-2.06-.94-.94-2.06-.94 2.06-2.06.94zm-11 1L8.5 8.5l.94-2.06 2.06-.94-2.06-.94L8.5 2.5l-.94 2.06-2.06.94zm10 10l.94 2.06.94-2.06 2.06-.94-2.06-.94-.94-2.06-.94 2.06-2.06.94z\"/><path d=\"M17.41 7.96l-1.37-1.37c-.4-.4-.92-.59-1.43-.59-.52 0-1.04.2-1.43.59L10.3 9.45l-7.72 7.72c-.78.78-.78 2.05 0 2.83L4 21.41c.39.39.9.59 1.41.59.51 0 1.02-.2 1.41-.59l7.78-7.78 2.81-2.81c.8-.78.8-2.07 0-2.86zM5.41 20L4 18.59l7.72-7.72 1.47 1.35L5.41 20z\"/>\n",
              "  </svg>\n",
              "      </button>\n",
              "      \n",
              "  <style>\n",
              "    .colab-df-container {\n",
              "      display:flex;\n",
              "      flex-wrap:wrap;\n",
              "      gap: 12px;\n",
              "    }\n",
              "\n",
              "    .colab-df-convert {\n",
              "      background-color: #E8F0FE;\n",
              "      border: none;\n",
              "      border-radius: 50%;\n",
              "      cursor: pointer;\n",
              "      display: none;\n",
              "      fill: #1967D2;\n",
              "      height: 32px;\n",
              "      padding: 0 0 0 0;\n",
              "      width: 32px;\n",
              "    }\n",
              "\n",
              "    .colab-df-convert:hover {\n",
              "      background-color: #E2EBFA;\n",
              "      box-shadow: 0px 1px 2px rgba(60, 64, 67, 0.3), 0px 1px 3px 1px rgba(60, 64, 67, 0.15);\n",
              "      fill: #174EA6;\n",
              "    }\n",
              "\n",
              "    [theme=dark] .colab-df-convert {\n",
              "      background-color: #3B4455;\n",
              "      fill: #D2E3FC;\n",
              "    }\n",
              "\n",
              "    [theme=dark] .colab-df-convert:hover {\n",
              "      background-color: #434B5C;\n",
              "      box-shadow: 0px 1px 3px 1px rgba(0, 0, 0, 0.15);\n",
              "      filter: drop-shadow(0px 1px 2px rgba(0, 0, 0, 0.3));\n",
              "      fill: #FFFFFF;\n",
              "    }\n",
              "  </style>\n",
              "\n",
              "      <script>\n",
              "        const buttonEl =\n",
              "          document.querySelector('#df-ddb89fe6-75b1-42e6-8eed-5c38e072bb65 button.colab-df-convert');\n",
              "        buttonEl.style.display =\n",
              "          google.colab.kernel.accessAllowed ? 'block' : 'none';\n",
              "\n",
              "        async function convertToInteractive(key) {\n",
              "          const element = document.querySelector('#df-ddb89fe6-75b1-42e6-8eed-5c38e072bb65');\n",
              "          const dataTable =\n",
              "            await google.colab.kernel.invokeFunction('convertToInteractive',\n",
              "                                                     [key], {});\n",
              "          if (!dataTable) return;\n",
              "\n",
              "          const docLinkHtml = 'Like what you see? Visit the ' +\n",
              "            '<a target=\"_blank\" href=https://colab.research.google.com/notebooks/data_table.ipynb>data table notebook</a>'\n",
              "            + ' to learn more about interactive tables.';\n",
              "          element.innerHTML = '';\n",
              "          dataTable['output_type'] = 'display_data';\n",
              "          await google.colab.output.renderOutput(dataTable, element);\n",
              "          const docLink = document.createElement('div');\n",
              "          docLink.innerHTML = docLinkHtml;\n",
              "          element.appendChild(docLink);\n",
              "        }\n",
              "      </script>\n",
              "    </div>\n",
              "  </div>\n",
              "  "
            ]
          },
          "metadata": {},
          "execution_count": 6
        }
      ]
    },
    {
      "cell_type": "code",
      "source": [
        "cohort_table.columns"
      ],
      "metadata": {
        "colab": {
          "base_uri": "https://localhost:8080/"
        },
        "id": "LBgql2I6aZ6x",
        "outputId": "6b416be5-1435-4aa6-d14a-5479d04c5f36"
      },
      "execution_count": 33,
      "outputs": [
        {
          "output_type": "execute_result",
          "data": {
            "text/plain": [
              "Index(['stay_id', 'hadm_id', 'subject_id', 'age', 'Gender', 'ethnicity',\n",
              "       'midodrine', 'avg_doses_per_24_hrs', 'MICU', 'adm_weekday', 'weight',\n",
              "       'sapsii', 'charlson_index', 'CPD_or_COPD_rate', 'Maligancy_rate',\n",
              "       'mild_liver_rate', 'severe_liver_rate', 'Renal_rate', 'CAD_rate',\n",
              "       'AFIB_rate', 'hemoglobin', 'platelet', 'wbc', 'sodium', 'potassium',\n",
              "       'bicarbonate', 'chloride', 'bun', 'creatinine', 'lactate', 'ph', 'po2',\n",
              "       'pco2', 'bnp', 'troponin', 'creatinine_kinase', 'heart_rate_mean',\n",
              "       'sbp_mean', 'dbp_mean', 'mbp_mean', 'resp_rate_mean',\n",
              "       'temperature_mean', 'spo2_mean', 'glucose_mean', 'sedative_use',\n",
              "       'ventilation_use', 'vasopressor_use', 'mortality', 'mort_28_day',\n",
              "       'admit_hour'],\n",
              "      dtype='object')"
            ]
          },
          "metadata": {},
          "execution_count": 33
        }
      ]
    },
    {
      "cell_type": "code",
      "source": [
        "cohort_table.describe()"
      ],
      "metadata": {
        "colab": {
          "base_uri": "https://localhost:8080/",
          "height": 393
        },
        "id": "eY01lw6aXqwD",
        "outputId": "ac49d95d-7135-4252-8d8e-ba1401f8a748"
      },
      "execution_count": 34,
      "outputs": [
        {
          "output_type": "execute_result",
          "data": {
            "text/plain": [
              "            stay_id       hadm_id    subject_id           age        Gender  \\\n",
              "count  3.530000e+04  3.530000e+04  3.530000e+04  35300.000000  35300.000000   \n",
              "mean   3.498390e+07  2.497613e+07  1.499966e+07     62.705694      0.469830   \n",
              "std    2.892380e+06  2.889905e+06  2.887420e+06     18.424232      0.499096   \n",
              "min    3.000015e+07  2.000035e+07  1.000003e+07     18.000000      0.000000   \n",
              "25%    3.245169e+07  2.247389e+07  1.249361e+07     51.000000      0.000000   \n",
              "50%    3.499433e+07  2.494200e+07  1.501041e+07     64.000000      0.000000   \n",
              "75%    3.748920e+07  2.747473e+07  1.750540e+07     77.000000      1.000000   \n",
              "max    3.999938e+07  2.999962e+07  1.999999e+07    102.000000      1.000000   \n",
              "\n",
              "          midodrine  avg_doses_per_24_hrs          MICU   adm_weekday  \\\n",
              "count  35300.000000          35184.000000  35300.000000  35300.000000   \n",
              "mean       0.022946              1.622051      0.534334      3.992663   \n",
              "std        0.149734              0.357446      0.498827      1.995172   \n",
              "min        0.000000              0.000000      0.000000      1.000000   \n",
              "25%        0.000000              1.400000      0.000000      2.000000   \n",
              "50%        0.000000              1.575000      1.000000      4.000000   \n",
              "75%        0.000000              1.794872      1.000000      6.000000   \n",
              "max        1.000000              9.250000      1.000000      7.000000   \n",
              "\n",
              "             weight  ...  resp_rate_mean  temperature_mean     spo2_mean  \\\n",
              "count  34620.000000  ...    35235.000000      34986.000000  35214.000000   \n",
              "mean      80.654058  ...       19.282602         36.878330     96.686357   \n",
              "std       26.148795  ...        3.934879          0.543675      2.634797   \n",
              "min        1.000000  ...        6.000000         30.400000     26.600000   \n",
              "25%       64.700000  ...       16.500000         36.626278     95.542857   \n",
              "50%       77.100000  ...       18.653846         36.853333     96.941176   \n",
              "75%       92.300000  ...       21.454545         37.135714     98.315789   \n",
              "max     1120.000000  ...       48.000000         40.104118    100.000000   \n",
              "\n",
              "        glucose_mean  sedative_use  ventilation_use  vasopressor_use  \\\n",
              "count   34326.000000  35113.000000          25512.0          35300.0   \n",
              "mean      260.224735      0.392647              1.0              1.0   \n",
              "std      7141.871173      0.488346              0.0              0.0   \n",
              "min        34.000000      0.000000              1.0              1.0   \n",
              "25%       107.333333      0.000000              1.0              1.0   \n",
              "50%       129.000000      0.000000              1.0              1.0   \n",
              "75%       159.750000      1.000000              1.0              1.0   \n",
              "max    999999.000000      1.000000              1.0              1.0   \n",
              "\n",
              "          mortality   mort_28_day    admit_hour  \n",
              "count  35300.000000  35300.000000  35300.000000  \n",
              "mean       0.172550      0.111841     12.855581  \n",
              "std        0.377863      0.315176      7.540701  \n",
              "min        0.000000      0.000000      0.000000  \n",
              "25%        0.000000      0.000000      5.000000  \n",
              "50%        0.000000      0.000000     15.000000  \n",
              "75%        0.000000      0.000000     19.000000  \n",
              "max        1.000000      1.000000     23.000000  \n",
              "\n",
              "[8 rows x 49 columns]"
            ],
            "text/html": [
              "\n",
              "  <div id=\"df-4114f013-405c-4567-afff-599137c30ca8\">\n",
              "    <div class=\"colab-df-container\">\n",
              "      <div>\n",
              "<style scoped>\n",
              "    .dataframe tbody tr th:only-of-type {\n",
              "        vertical-align: middle;\n",
              "    }\n",
              "\n",
              "    .dataframe tbody tr th {\n",
              "        vertical-align: top;\n",
              "    }\n",
              "\n",
              "    .dataframe thead th {\n",
              "        text-align: right;\n",
              "    }\n",
              "</style>\n",
              "<table border=\"1\" class=\"dataframe\">\n",
              "  <thead>\n",
              "    <tr style=\"text-align: right;\">\n",
              "      <th></th>\n",
              "      <th>stay_id</th>\n",
              "      <th>hadm_id</th>\n",
              "      <th>subject_id</th>\n",
              "      <th>age</th>\n",
              "      <th>Gender</th>\n",
              "      <th>midodrine</th>\n",
              "      <th>avg_doses_per_24_hrs</th>\n",
              "      <th>MICU</th>\n",
              "      <th>adm_weekday</th>\n",
              "      <th>weight</th>\n",
              "      <th>...</th>\n",
              "      <th>resp_rate_mean</th>\n",
              "      <th>temperature_mean</th>\n",
              "      <th>spo2_mean</th>\n",
              "      <th>glucose_mean</th>\n",
              "      <th>sedative_use</th>\n",
              "      <th>ventilation_use</th>\n",
              "      <th>vasopressor_use</th>\n",
              "      <th>mortality</th>\n",
              "      <th>mort_28_day</th>\n",
              "      <th>admit_hour</th>\n",
              "    </tr>\n",
              "  </thead>\n",
              "  <tbody>\n",
              "    <tr>\n",
              "      <th>count</th>\n",
              "      <td>3.530000e+04</td>\n",
              "      <td>3.530000e+04</td>\n",
              "      <td>3.530000e+04</td>\n",
              "      <td>35300.000000</td>\n",
              "      <td>35300.000000</td>\n",
              "      <td>35300.000000</td>\n",
              "      <td>35184.000000</td>\n",
              "      <td>35300.000000</td>\n",
              "      <td>35300.000000</td>\n",
              "      <td>34620.000000</td>\n",
              "      <td>...</td>\n",
              "      <td>35235.000000</td>\n",
              "      <td>34986.000000</td>\n",
              "      <td>35214.000000</td>\n",
              "      <td>34326.000000</td>\n",
              "      <td>35113.000000</td>\n",
              "      <td>25512.0</td>\n",
              "      <td>35300.0</td>\n",
              "      <td>35300.000000</td>\n",
              "      <td>35300.000000</td>\n",
              "      <td>35300.000000</td>\n",
              "    </tr>\n",
              "    <tr>\n",
              "      <th>mean</th>\n",
              "      <td>3.498390e+07</td>\n",
              "      <td>2.497613e+07</td>\n",
              "      <td>1.499966e+07</td>\n",
              "      <td>62.705694</td>\n",
              "      <td>0.469830</td>\n",
              "      <td>0.022946</td>\n",
              "      <td>1.622051</td>\n",
              "      <td>0.534334</td>\n",
              "      <td>3.992663</td>\n",
              "      <td>80.654058</td>\n",
              "      <td>...</td>\n",
              "      <td>19.282602</td>\n",
              "      <td>36.878330</td>\n",
              "      <td>96.686357</td>\n",
              "      <td>260.224735</td>\n",
              "      <td>0.392647</td>\n",
              "      <td>1.0</td>\n",
              "      <td>1.0</td>\n",
              "      <td>0.172550</td>\n",
              "      <td>0.111841</td>\n",
              "      <td>12.855581</td>\n",
              "    </tr>\n",
              "    <tr>\n",
              "      <th>std</th>\n",
              "      <td>2.892380e+06</td>\n",
              "      <td>2.889905e+06</td>\n",
              "      <td>2.887420e+06</td>\n",
              "      <td>18.424232</td>\n",
              "      <td>0.499096</td>\n",
              "      <td>0.149734</td>\n",
              "      <td>0.357446</td>\n",
              "      <td>0.498827</td>\n",
              "      <td>1.995172</td>\n",
              "      <td>26.148795</td>\n",
              "      <td>...</td>\n",
              "      <td>3.934879</td>\n",
              "      <td>0.543675</td>\n",
              "      <td>2.634797</td>\n",
              "      <td>7141.871173</td>\n",
              "      <td>0.488346</td>\n",
              "      <td>0.0</td>\n",
              "      <td>0.0</td>\n",
              "      <td>0.377863</td>\n",
              "      <td>0.315176</td>\n",
              "      <td>7.540701</td>\n",
              "    </tr>\n",
              "    <tr>\n",
              "      <th>min</th>\n",
              "      <td>3.000015e+07</td>\n",
              "      <td>2.000035e+07</td>\n",
              "      <td>1.000003e+07</td>\n",
              "      <td>18.000000</td>\n",
              "      <td>0.000000</td>\n",
              "      <td>0.000000</td>\n",
              "      <td>0.000000</td>\n",
              "      <td>0.000000</td>\n",
              "      <td>1.000000</td>\n",
              "      <td>1.000000</td>\n",
              "      <td>...</td>\n",
              "      <td>6.000000</td>\n",
              "      <td>30.400000</td>\n",
              "      <td>26.600000</td>\n",
              "      <td>34.000000</td>\n",
              "      <td>0.000000</td>\n",
              "      <td>1.0</td>\n",
              "      <td>1.0</td>\n",
              "      <td>0.000000</td>\n",
              "      <td>0.000000</td>\n",
              "      <td>0.000000</td>\n",
              "    </tr>\n",
              "    <tr>\n",
              "      <th>25%</th>\n",
              "      <td>3.245169e+07</td>\n",
              "      <td>2.247389e+07</td>\n",
              "      <td>1.249361e+07</td>\n",
              "      <td>51.000000</td>\n",
              "      <td>0.000000</td>\n",
              "      <td>0.000000</td>\n",
              "      <td>1.400000</td>\n",
              "      <td>0.000000</td>\n",
              "      <td>2.000000</td>\n",
              "      <td>64.700000</td>\n",
              "      <td>...</td>\n",
              "      <td>16.500000</td>\n",
              "      <td>36.626278</td>\n",
              "      <td>95.542857</td>\n",
              "      <td>107.333333</td>\n",
              "      <td>0.000000</td>\n",
              "      <td>1.0</td>\n",
              "      <td>1.0</td>\n",
              "      <td>0.000000</td>\n",
              "      <td>0.000000</td>\n",
              "      <td>5.000000</td>\n",
              "    </tr>\n",
              "    <tr>\n",
              "      <th>50%</th>\n",
              "      <td>3.499433e+07</td>\n",
              "      <td>2.494200e+07</td>\n",
              "      <td>1.501041e+07</td>\n",
              "      <td>64.000000</td>\n",
              "      <td>0.000000</td>\n",
              "      <td>0.000000</td>\n",
              "      <td>1.575000</td>\n",
              "      <td>1.000000</td>\n",
              "      <td>4.000000</td>\n",
              "      <td>77.100000</td>\n",
              "      <td>...</td>\n",
              "      <td>18.653846</td>\n",
              "      <td>36.853333</td>\n",
              "      <td>96.941176</td>\n",
              "      <td>129.000000</td>\n",
              "      <td>0.000000</td>\n",
              "      <td>1.0</td>\n",
              "      <td>1.0</td>\n",
              "      <td>0.000000</td>\n",
              "      <td>0.000000</td>\n",
              "      <td>15.000000</td>\n",
              "    </tr>\n",
              "    <tr>\n",
              "      <th>75%</th>\n",
              "      <td>3.748920e+07</td>\n",
              "      <td>2.747473e+07</td>\n",
              "      <td>1.750540e+07</td>\n",
              "      <td>77.000000</td>\n",
              "      <td>1.000000</td>\n",
              "      <td>0.000000</td>\n",
              "      <td>1.794872</td>\n",
              "      <td>1.000000</td>\n",
              "      <td>6.000000</td>\n",
              "      <td>92.300000</td>\n",
              "      <td>...</td>\n",
              "      <td>21.454545</td>\n",
              "      <td>37.135714</td>\n",
              "      <td>98.315789</td>\n",
              "      <td>159.750000</td>\n",
              "      <td>1.000000</td>\n",
              "      <td>1.0</td>\n",
              "      <td>1.0</td>\n",
              "      <td>0.000000</td>\n",
              "      <td>0.000000</td>\n",
              "      <td>19.000000</td>\n",
              "    </tr>\n",
              "    <tr>\n",
              "      <th>max</th>\n",
              "      <td>3.999938e+07</td>\n",
              "      <td>2.999962e+07</td>\n",
              "      <td>1.999999e+07</td>\n",
              "      <td>102.000000</td>\n",
              "      <td>1.000000</td>\n",
              "      <td>1.000000</td>\n",
              "      <td>9.250000</td>\n",
              "      <td>1.000000</td>\n",
              "      <td>7.000000</td>\n",
              "      <td>1120.000000</td>\n",
              "      <td>...</td>\n",
              "      <td>48.000000</td>\n",
              "      <td>40.104118</td>\n",
              "      <td>100.000000</td>\n",
              "      <td>999999.000000</td>\n",
              "      <td>1.000000</td>\n",
              "      <td>1.0</td>\n",
              "      <td>1.0</td>\n",
              "      <td>1.000000</td>\n",
              "      <td>1.000000</td>\n",
              "      <td>23.000000</td>\n",
              "    </tr>\n",
              "  </tbody>\n",
              "</table>\n",
              "<p>8 rows × 49 columns</p>\n",
              "</div>\n",
              "      <button class=\"colab-df-convert\" onclick=\"convertToInteractive('df-4114f013-405c-4567-afff-599137c30ca8')\"\n",
              "              title=\"Convert this dataframe to an interactive table.\"\n",
              "              style=\"display:none;\">\n",
              "        \n",
              "  <svg xmlns=\"http://www.w3.org/2000/svg\" height=\"24px\"viewBox=\"0 0 24 24\"\n",
              "       width=\"24px\">\n",
              "    <path d=\"M0 0h24v24H0V0z\" fill=\"none\"/>\n",
              "    <path d=\"M18.56 5.44l.94 2.06.94-2.06 2.06-.94-2.06-.94-.94-2.06-.94 2.06-2.06.94zm-11 1L8.5 8.5l.94-2.06 2.06-.94-2.06-.94L8.5 2.5l-.94 2.06-2.06.94zm10 10l.94 2.06.94-2.06 2.06-.94-2.06-.94-.94-2.06-.94 2.06-2.06.94z\"/><path d=\"M17.41 7.96l-1.37-1.37c-.4-.4-.92-.59-1.43-.59-.52 0-1.04.2-1.43.59L10.3 9.45l-7.72 7.72c-.78.78-.78 2.05 0 2.83L4 21.41c.39.39.9.59 1.41.59.51 0 1.02-.2 1.41-.59l7.78-7.78 2.81-2.81c.8-.78.8-2.07 0-2.86zM5.41 20L4 18.59l7.72-7.72 1.47 1.35L5.41 20z\"/>\n",
              "  </svg>\n",
              "      </button>\n",
              "      \n",
              "  <style>\n",
              "    .colab-df-container {\n",
              "      display:flex;\n",
              "      flex-wrap:wrap;\n",
              "      gap: 12px;\n",
              "    }\n",
              "\n",
              "    .colab-df-convert {\n",
              "      background-color: #E8F0FE;\n",
              "      border: none;\n",
              "      border-radius: 50%;\n",
              "      cursor: pointer;\n",
              "      display: none;\n",
              "      fill: #1967D2;\n",
              "      height: 32px;\n",
              "      padding: 0 0 0 0;\n",
              "      width: 32px;\n",
              "    }\n",
              "\n",
              "    .colab-df-convert:hover {\n",
              "      background-color: #E2EBFA;\n",
              "      box-shadow: 0px 1px 2px rgba(60, 64, 67, 0.3), 0px 1px 3px 1px rgba(60, 64, 67, 0.15);\n",
              "      fill: #174EA6;\n",
              "    }\n",
              "\n",
              "    [theme=dark] .colab-df-convert {\n",
              "      background-color: #3B4455;\n",
              "      fill: #D2E3FC;\n",
              "    }\n",
              "\n",
              "    [theme=dark] .colab-df-convert:hover {\n",
              "      background-color: #434B5C;\n",
              "      box-shadow: 0px 1px 3px 1px rgba(0, 0, 0, 0.15);\n",
              "      filter: drop-shadow(0px 1px 2px rgba(0, 0, 0, 0.3));\n",
              "      fill: #FFFFFF;\n",
              "    }\n",
              "  </style>\n",
              "\n",
              "      <script>\n",
              "        const buttonEl =\n",
              "          document.querySelector('#df-4114f013-405c-4567-afff-599137c30ca8 button.colab-df-convert');\n",
              "        buttonEl.style.display =\n",
              "          google.colab.kernel.accessAllowed ? 'block' : 'none';\n",
              "\n",
              "        async function convertToInteractive(key) {\n",
              "          const element = document.querySelector('#df-4114f013-405c-4567-afff-599137c30ca8');\n",
              "          const dataTable =\n",
              "            await google.colab.kernel.invokeFunction('convertToInteractive',\n",
              "                                                     [key], {});\n",
              "          if (!dataTable) return;\n",
              "\n",
              "          const docLinkHtml = 'Like what you see? Visit the ' +\n",
              "            '<a target=\"_blank\" href=https://colab.research.google.com/notebooks/data_table.ipynb>data table notebook</a>'\n",
              "            + ' to learn more about interactive tables.';\n",
              "          element.innerHTML = '';\n",
              "          dataTable['output_type'] = 'display_data';\n",
              "          await google.colab.output.renderOutput(dataTable, element);\n",
              "          const docLink = document.createElement('div');\n",
              "          docLink.innerHTML = docLinkHtml;\n",
              "          element.appendChild(docLink);\n",
              "        }\n",
              "      </script>\n",
              "    </div>\n",
              "  </div>\n",
              "  "
            ]
          },
          "metadata": {},
          "execution_count": 34
        }
      ]
    },
    {
      "cell_type": "code",
      "source": [
        "cohort_table.info()"
      ],
      "metadata": {
        "colab": {
          "base_uri": "https://localhost:8080/"
        },
        "id": "_lJajQun82uH",
        "outputId": "212f46a0-79bf-49f7-f065-d7049281bd91"
      },
      "execution_count": 35,
      "outputs": [
        {
          "output_type": "stream",
          "name": "stdout",
          "text": [
            "<class 'pandas.core.frame.DataFrame'>\n",
            "RangeIndex: 35300 entries, 0 to 35299\n",
            "Data columns (total 50 columns):\n",
            " #   Column                Non-Null Count  Dtype  \n",
            "---  ------                --------------  -----  \n",
            " 0   stay_id               35300 non-null  int64  \n",
            " 1   hadm_id               35300 non-null  int64  \n",
            " 2   subject_id            35300 non-null  int64  \n",
            " 3   age                   35300 non-null  int64  \n",
            " 4   Gender                35300 non-null  int64  \n",
            " 5   ethnicity             35300 non-null  object \n",
            " 6   midodrine             35300 non-null  int64  \n",
            " 7   avg_doses_per_24_hrs  35184 non-null  float64\n",
            " 8   MICU                  35300 non-null  int64  \n",
            " 9   adm_weekday           35300 non-null  int64  \n",
            " 10  weight                34620 non-null  float64\n",
            " 11  sapsii                26683 non-null  float64\n",
            " 12  charlson_index        35300 non-null  float64\n",
            " 13  CPD_or_COPD_rate      35300 non-null  float64\n",
            " 14  Maligancy_rate        35300 non-null  float64\n",
            " 15  mild_liver_rate       35300 non-null  float64\n",
            " 16  severe_liver_rate     35300 non-null  float64\n",
            " 17  Renal_rate            35300 non-null  float64\n",
            " 18  CAD_rate              35300 non-null  float64\n",
            " 19  AFIB_rate             35300 non-null  float64\n",
            " 20  hemoglobin            34084 non-null  float64\n",
            " 21  platelet              34091 non-null  float64\n",
            " 22  wbc                   34093 non-null  float64\n",
            " 23  sodium                34292 non-null  float64\n",
            " 24  potassium             34296 non-null  float64\n",
            " 25  bicarbonate           34272 non-null  float64\n",
            " 26  chloride              34286 non-null  float64\n",
            " 27  bun                   34284 non-null  float64\n",
            " 28  creatinine            34295 non-null  float64\n",
            " 29  lactate               15841 non-null  float64\n",
            " 30  ph                    18805 non-null  float64\n",
            " 31  po2                   18806 non-null  float64\n",
            " 32  pco2                  18806 non-null  float64\n",
            " 33  bnp                   35300 non-null  float64\n",
            " 34  troponin              35300 non-null  float64\n",
            " 35  creatinine_kinase     35300 non-null  float64\n",
            " 36  heart_rate_mean       35241 non-null  float64\n",
            " 37  sbp_mean              35153 non-null  float64\n",
            " 38  dbp_mean              35152 non-null  float64\n",
            " 39  mbp_mean              35227 non-null  float64\n",
            " 40  resp_rate_mean        35235 non-null  float64\n",
            " 41  temperature_mean      34986 non-null  float64\n",
            " 42  spo2_mean             35214 non-null  float64\n",
            " 43  glucose_mean          34326 non-null  float64\n",
            " 44  sedative_use          35113 non-null  float64\n",
            " 45  ventilation_use       25512 non-null  float64\n",
            " 46  vasopressor_use       35300 non-null  int64  \n",
            " 47  mortality             35300 non-null  int64  \n",
            " 48  mort_28_day           35300 non-null  int64  \n",
            " 49  admit_hour            35300 non-null  int64  \n",
            "dtypes: float64(37), int64(12), object(1)\n",
            "memory usage: 13.5+ MB\n"
          ]
        }
      ]
    },
    {
      "cell_type": "code",
      "source": [
        "cohort_table = cohort_table.drop(columns=['ethnicity','hadm_id','subject_id'])"
      ],
      "metadata": {
        "id": "x3-hIpMV9Gc7"
      },
      "execution_count": 7,
      "outputs": []
    },
    {
      "cell_type": "code",
      "source": [
        "mido_data = cohort_table.loc[cohort_table['midodrine'] == 1]\n",
        "nomido_data = cohort_table.loc[cohort_table['midodrine'] == 0]"
      ],
      "metadata": {
        "id": "5NGxDZWJFHy7"
      },
      "execution_count": 8,
      "outputs": []
    },
    {
      "cell_type": "markdown",
      "source": [
        "# Propensity score matching"
      ],
      "metadata": {
        "id": "PsjK-gZo2JUw"
      }
    },
    {
      "cell_type": "markdown",
      "source": [
        "### First method\n",
        "For this method, you need to change the source code because it can't deal with the situation that 'age' propensity score equals 1\n",
        "<br>Methods: make those who equal to 1 '-0.0001'"
      ],
      "metadata": {
        "id": "LIamJD76DE2a"
      }
    },
    {
      "cell_type": "code",
      "source": [
        "from psmpy import PsmPy\n",
        "from psmpy.functions import cohenD\n",
        "from psmpy.plotting import *"
      ],
      "metadata": {
        "id": "CnMX76iURKfW"
      },
      "execution_count": 14,
      "outputs": []
    },
    {
      "cell_type": "code",
      "source": [
        "psm = PsmPy(cohort_table, treatment='midodrine', indx='stay_id', exclude = ['mortality'])"
      ],
      "metadata": {
        "id": "mVHiH-VLnJkB"
      },
      "execution_count": 16,
      "outputs": []
    },
    {
      "cell_type": "code",
      "source": [
        "psm.logistic_ps(balance = True)"
      ],
      "metadata": {
        "id": "oeOSbBN4qha5",
        "colab": {
          "base_uri": "https://localhost:8080/",
          "height": 323
        },
        "outputId": "dbe203f0-a4e1-4e88-a4eb-70ab3fe35fe3"
      },
      "execution_count": 17,
      "outputs": [
        {
          "output_type": "error",
          "ename": "ValueError",
          "evalue": "ignored",
          "traceback": [
            "\u001b[0;31m---------------------------------------------------------------------------\u001b[0m",
            "\u001b[0;31mValueError\u001b[0m                                Traceback (most recent call last)",
            "\u001b[0;32m<ipython-input-17-b4fb0e997bfe>\u001b[0m in \u001b[0;36m<module>\u001b[0;34m()\u001b[0m\n\u001b[0;32m----> 1\u001b[0;31m \u001b[0mpsm\u001b[0m\u001b[0;34m.\u001b[0m\u001b[0mlogistic_ps\u001b[0m\u001b[0;34m(\u001b[0m\u001b[0mbalance\u001b[0m \u001b[0;34m=\u001b[0m \u001b[0;32mTrue\u001b[0m\u001b[0;34m)\u001b[0m\u001b[0;34m\u001b[0m\u001b[0;34m\u001b[0m\u001b[0m\n\u001b[0m",
            "\u001b[0;32m/usr/local/lib/python3.7/dist-packages/psmpy/psmpy.py\u001b[0m in \u001b[0;36mlogistic_ps\u001b[0;34m(self, balance)\u001b[0m\n\u001b[1;32m     92\u001b[0m                 \u001b[0mdf_cleaned\u001b[0m \u001b[0;34m=\u001b[0m \u001b[0mjoint_df\u001b[0m\u001b[0;34m.\u001b[0m\u001b[0mdrop\u001b[0m\u001b[0;34m(\u001b[0m\u001b[0;34m[\u001b[0m\u001b[0mself\u001b[0m\u001b[0;34m.\u001b[0m\u001b[0mtreatment\u001b[0m\u001b[0;34m]\u001b[0m\u001b[0;34m,\u001b[0m \u001b[0maxis\u001b[0m\u001b[0;34m=\u001b[0m\u001b[0;36m1\u001b[0m\u001b[0;34m)\u001b[0m\u001b[0;34m\u001b[0m\u001b[0;34m\u001b[0m\u001b[0m\n\u001b[1;32m     93\u001b[0m                 \u001b[0mlogistic\u001b[0m \u001b[0;34m=\u001b[0m \u001b[0mLogisticRegression\u001b[0m\u001b[0;34m(\u001b[0m\u001b[0msolver\u001b[0m\u001b[0;34m=\u001b[0m\u001b[0;34m'liblinear'\u001b[0m\u001b[0;34m)\u001b[0m\u001b[0;34m\u001b[0m\u001b[0;34m\u001b[0m\u001b[0m\n\u001b[0;32m---> 94\u001b[0;31m                 \u001b[0mlogistic\u001b[0m\u001b[0;34m.\u001b[0m\u001b[0mfit\u001b[0m\u001b[0;34m(\u001b[0m\u001b[0mdf_cleaned\u001b[0m\u001b[0;34m,\u001b[0m \u001b[0mtreatment\u001b[0m\u001b[0;34m)\u001b[0m\u001b[0;34m\u001b[0m\u001b[0;34m\u001b[0m\u001b[0m\n\u001b[0m\u001b[1;32m     95\u001b[0m                 \u001b[0mpscore\u001b[0m \u001b[0;34m=\u001b[0m \u001b[0mlogistic\u001b[0m\u001b[0;34m.\u001b[0m\u001b[0mpredict_proba\u001b[0m\u001b[0;34m(\u001b[0m\u001b[0mdf_cleaned\u001b[0m\u001b[0;34m)\u001b[0m\u001b[0;34m[\u001b[0m\u001b[0;34m:\u001b[0m\u001b[0;34m,\u001b[0m \u001b[0;36m1\u001b[0m\u001b[0;34m]\u001b[0m\u001b[0;34m\u001b[0m\u001b[0;34m\u001b[0m\u001b[0m\n\u001b[1;32m     96\u001b[0m                 \u001b[0mdf_cleaned\u001b[0m\u001b[0;34m[\u001b[0m\u001b[0;34m'propensity_score'\u001b[0m\u001b[0;34m]\u001b[0m \u001b[0;34m=\u001b[0m \u001b[0mpscore\u001b[0m\u001b[0;34m\u001b[0m\u001b[0;34m\u001b[0m\u001b[0m\n",
            "\u001b[0;32m/usr/local/lib/python3.7/dist-packages/sklearn/linear_model/_logistic.py\u001b[0m in \u001b[0;36mfit\u001b[0;34m(self, X, y, sample_weight)\u001b[0m\n\u001b[1;32m   1512\u001b[0m             \u001b[0mdtype\u001b[0m\u001b[0;34m=\u001b[0m\u001b[0m_dtype\u001b[0m\u001b[0;34m,\u001b[0m\u001b[0;34m\u001b[0m\u001b[0;34m\u001b[0m\u001b[0m\n\u001b[1;32m   1513\u001b[0m             \u001b[0morder\u001b[0m\u001b[0;34m=\u001b[0m\u001b[0;34m\"C\"\u001b[0m\u001b[0;34m,\u001b[0m\u001b[0;34m\u001b[0m\u001b[0;34m\u001b[0m\u001b[0m\n\u001b[0;32m-> 1514\u001b[0;31m             \u001b[0maccept_large_sparse\u001b[0m\u001b[0;34m=\u001b[0m\u001b[0msolver\u001b[0m \u001b[0;32mnot\u001b[0m \u001b[0;32min\u001b[0m \u001b[0;34m[\u001b[0m\u001b[0;34m\"liblinear\"\u001b[0m\u001b[0;34m,\u001b[0m \u001b[0;34m\"sag\"\u001b[0m\u001b[0;34m,\u001b[0m \u001b[0;34m\"saga\"\u001b[0m\u001b[0;34m]\u001b[0m\u001b[0;34m,\u001b[0m\u001b[0;34m\u001b[0m\u001b[0;34m\u001b[0m\u001b[0m\n\u001b[0m\u001b[1;32m   1515\u001b[0m         )\n\u001b[1;32m   1516\u001b[0m         \u001b[0mcheck_classification_targets\u001b[0m\u001b[0;34m(\u001b[0m\u001b[0my\u001b[0m\u001b[0;34m)\u001b[0m\u001b[0;34m\u001b[0m\u001b[0;34m\u001b[0m\u001b[0m\n",
            "\u001b[0;32m/usr/local/lib/python3.7/dist-packages/sklearn/base.py\u001b[0m in \u001b[0;36m_validate_data\u001b[0;34m(self, X, y, reset, validate_separately, **check_params)\u001b[0m\n\u001b[1;32m    579\u001b[0m                 \u001b[0my\u001b[0m \u001b[0;34m=\u001b[0m \u001b[0mcheck_array\u001b[0m\u001b[0;34m(\u001b[0m\u001b[0my\u001b[0m\u001b[0;34m,\u001b[0m \u001b[0;34m**\u001b[0m\u001b[0mcheck_y_params\u001b[0m\u001b[0;34m)\u001b[0m\u001b[0;34m\u001b[0m\u001b[0;34m\u001b[0m\u001b[0m\n\u001b[1;32m    580\u001b[0m             \u001b[0;32melse\u001b[0m\u001b[0;34m:\u001b[0m\u001b[0;34m\u001b[0m\u001b[0;34m\u001b[0m\u001b[0m\n\u001b[0;32m--> 581\u001b[0;31m                 \u001b[0mX\u001b[0m\u001b[0;34m,\u001b[0m \u001b[0my\u001b[0m \u001b[0;34m=\u001b[0m \u001b[0mcheck_X_y\u001b[0m\u001b[0;34m(\u001b[0m\u001b[0mX\u001b[0m\u001b[0;34m,\u001b[0m \u001b[0my\u001b[0m\u001b[0;34m,\u001b[0m \u001b[0;34m**\u001b[0m\u001b[0mcheck_params\u001b[0m\u001b[0;34m)\u001b[0m\u001b[0;34m\u001b[0m\u001b[0;34m\u001b[0m\u001b[0m\n\u001b[0m\u001b[1;32m    582\u001b[0m             \u001b[0mout\u001b[0m \u001b[0;34m=\u001b[0m \u001b[0mX\u001b[0m\u001b[0;34m,\u001b[0m \u001b[0my\u001b[0m\u001b[0;34m\u001b[0m\u001b[0;34m\u001b[0m\u001b[0m\n\u001b[1;32m    583\u001b[0m \u001b[0;34m\u001b[0m\u001b[0m\n",
            "\u001b[0;32m/usr/local/lib/python3.7/dist-packages/sklearn/utils/validation.py\u001b[0m in \u001b[0;36mcheck_X_y\u001b[0;34m(X, y, accept_sparse, accept_large_sparse, dtype, order, copy, force_all_finite, ensure_2d, allow_nd, multi_output, ensure_min_samples, ensure_min_features, y_numeric, estimator)\u001b[0m\n\u001b[1;32m    974\u001b[0m         \u001b[0mensure_min_samples\u001b[0m\u001b[0;34m=\u001b[0m\u001b[0mensure_min_samples\u001b[0m\u001b[0;34m,\u001b[0m\u001b[0;34m\u001b[0m\u001b[0;34m\u001b[0m\u001b[0m\n\u001b[1;32m    975\u001b[0m         \u001b[0mensure_min_features\u001b[0m\u001b[0;34m=\u001b[0m\u001b[0mensure_min_features\u001b[0m\u001b[0;34m,\u001b[0m\u001b[0;34m\u001b[0m\u001b[0;34m\u001b[0m\u001b[0m\n\u001b[0;32m--> 976\u001b[0;31m         \u001b[0mestimator\u001b[0m\u001b[0;34m=\u001b[0m\u001b[0mestimator\u001b[0m\u001b[0;34m,\u001b[0m\u001b[0;34m\u001b[0m\u001b[0;34m\u001b[0m\u001b[0m\n\u001b[0m\u001b[1;32m    977\u001b[0m     )\n\u001b[1;32m    978\u001b[0m \u001b[0;34m\u001b[0m\u001b[0m\n",
            "\u001b[0;32m/usr/local/lib/python3.7/dist-packages/sklearn/utils/validation.py\u001b[0m in \u001b[0;36mcheck_array\u001b[0;34m(array, accept_sparse, accept_large_sparse, dtype, order, copy, force_all_finite, ensure_2d, allow_nd, ensure_min_samples, ensure_min_features, estimator)\u001b[0m\n\u001b[1;32m    798\u001b[0m \u001b[0;34m\u001b[0m\u001b[0m\n\u001b[1;32m    799\u001b[0m         \u001b[0;32mif\u001b[0m \u001b[0mforce_all_finite\u001b[0m\u001b[0;34m:\u001b[0m\u001b[0;34m\u001b[0m\u001b[0;34m\u001b[0m\u001b[0m\n\u001b[0;32m--> 800\u001b[0;31m             \u001b[0m_assert_all_finite\u001b[0m\u001b[0;34m(\u001b[0m\u001b[0marray\u001b[0m\u001b[0;34m,\u001b[0m \u001b[0mallow_nan\u001b[0m\u001b[0;34m=\u001b[0m\u001b[0mforce_all_finite\u001b[0m \u001b[0;34m==\u001b[0m \u001b[0;34m\"allow-nan\"\u001b[0m\u001b[0;34m)\u001b[0m\u001b[0;34m\u001b[0m\u001b[0;34m\u001b[0m\u001b[0m\n\u001b[0m\u001b[1;32m    801\u001b[0m \u001b[0;34m\u001b[0m\u001b[0m\n\u001b[1;32m    802\u001b[0m     \u001b[0;32mif\u001b[0m \u001b[0mensure_min_samples\u001b[0m \u001b[0;34m>\u001b[0m \u001b[0;36m0\u001b[0m\u001b[0;34m:\u001b[0m\u001b[0;34m\u001b[0m\u001b[0;34m\u001b[0m\u001b[0m\n",
            "\u001b[0;32m/usr/local/lib/python3.7/dist-packages/sklearn/utils/validation.py\u001b[0m in \u001b[0;36m_assert_all_finite\u001b[0;34m(X, allow_nan, msg_dtype)\u001b[0m\n\u001b[1;32m    114\u001b[0m             raise ValueError(\n\u001b[1;32m    115\u001b[0m                 msg_err.format(\n\u001b[0;32m--> 116\u001b[0;31m                     \u001b[0mtype_err\u001b[0m\u001b[0;34m,\u001b[0m \u001b[0mmsg_dtype\u001b[0m \u001b[0;32mif\u001b[0m \u001b[0mmsg_dtype\u001b[0m \u001b[0;32mis\u001b[0m \u001b[0;32mnot\u001b[0m \u001b[0;32mNone\u001b[0m \u001b[0;32melse\u001b[0m \u001b[0mX\u001b[0m\u001b[0;34m.\u001b[0m\u001b[0mdtype\u001b[0m\u001b[0;34m\u001b[0m\u001b[0;34m\u001b[0m\u001b[0m\n\u001b[0m\u001b[1;32m    117\u001b[0m                 )\n\u001b[1;32m    118\u001b[0m             )\n",
            "\u001b[0;31mValueError\u001b[0m: Input contains NaN, infinity or a value too large for dtype('float64')."
          ]
        }
      ]
    },
    {
      "cell_type": "code",
      "source": [
        "psm.predicted_data"
      ],
      "metadata": {
        "id": "43d6tHs_gJiR"
      },
      "execution_count": null,
      "outputs": []
    },
    {
      "cell_type": "code",
      "source": [
        "psm.knn_matched(matcher='propensity_logit', replacement=False, caliper=None)"
      ],
      "metadata": {
        "id": "sRraJwxJlJYC"
      },
      "execution_count": null,
      "outputs": []
    },
    {
      "cell_type": "code",
      "source": [
        "psm.plot_match(Title='Side by side matched controls', Ylabel='Number of patients', Xlabel= 'Propensity logit', names = ['treatment', 'control'], save=True)"
      ],
      "metadata": {
        "id": "I0sYunu1L0iv"
      },
      "execution_count": null,
      "outputs": []
    },
    {
      "cell_type": "code",
      "source": [
        "psm.effect_size_plot(save=False)"
      ],
      "metadata": {
        "id": "13Ni_mSaMO9X"
      },
      "execution_count": null,
      "outputs": []
    },
    {
      "cell_type": "code",
      "source": [
        "psm.matched_ids"
      ],
      "metadata": {
        "id": "x01-wok9MZVW"
      },
      "execution_count": null,
      "outputs": []
    },
    {
      "cell_type": "markdown",
      "source": [
        "### Second way\n",
        "For this way, you don't need to worry about the 'age' problem, but you can't get the SMD directly and can't use stay_id for the index"
      ],
      "metadata": {
        "id": "ZaX5oerHDWez"
      }
    },
    {
      "cell_type": "code",
      "source": [
        "m = Matcher(mido_data, nomido_data, yvar=\"midodrine\", exclude=['stay_id', 'mortality','mort_28_day','avg_doses_per_24_hrs'])"
      ],
      "metadata": {
        "colab": {
          "base_uri": "https://localhost:8080/"
        },
        "id": "55cOteC9D_97",
        "outputId": "387d14b0-afaf-494c-be0c-6e09cd631917"
      },
      "execution_count": 70,
      "outputs": [
        {
          "output_type": "stream",
          "name": "stdout",
          "text": [
            "Formula:\n",
            "midodrine ~ AFIB_rate+CAD_rate+CPD_or_COPD_rate+Gender+MICU+Maligancy_rate+Renal_rate+adm_weekday+admit_hour+age+bicarbonate+bnp+bun+charlson_index+chloride+creatinine+creatinine_kinase+dbp_mean+glucose_mean+heart_rate_mean+hemoglobin+lactate+mbp_mean+mild_liver_rate+pco2+ph+platelet+po2+potassium+resp_rate_mean+sapsii+sbp_mean+sedative_use+severe_liver_rate+sodium+spo2_mean+temperature_mean+troponin+vasopressor_use+ventilation_use+wbc\n",
            "n majority: 11424\n",
            "n minority: 487\n"
          ]
        }
      ]
    },
    {
      "cell_type": "code",
      "source": [
        "np.random.seed(20220614)\n",
        "# Error due to missing data\n",
        "m.fit_scores(balance=True, nmodels=10,n_jobs = 5,model_type='tree')"
      ],
      "metadata": {
        "colab": {
          "base_uri": "https://localhost:8080/"
        },
        "id": "sakk2waoEHkp",
        "outputId": "a003525d-5b7e-4cc1-dc11-2bc0bef52aa2"
      },
      "execution_count": 71,
      "outputs": [
        {
          "output_type": "stream",
          "name": "stdout",
          "text": [
            "This computer has: 2 cores , The workers should be :2\n",
            "Fitting Models on Balanced Samples , model number :0Fitting Models on Balanced Samples , model number :2\n",
            "\n",
            "\rStatic column dropped: vasopressor_use\rStatic column dropped: ventilation_use\rStatic column dropped: vasopressor_use\rStatic column dropped: ventilation_use\rStatic column dropped: vasopressor_use\rStatic column dropped: ventilation_use\rStatic column dropped: vasopressor_use\rStatic column dropped: ventilation_useError: Error evaluating factor: NameError: no data named 'vasopressor_use' found\n",
            "    Q('midodrine') ~ Q('AFIB_rate')+Q('CAD_rate')+Q('CPD_or_COPD_rate')+Q('Gender')+Q('MICU')+Q('Maligancy_rate')+Q('Renal_rate')+Q('adm_weekday')+Q('admit_hour')+Q('age')+Q('bicarbonate')+Q('bnp')+Q('bun')+Q('charlson_index')+Q('chloride')+Q('creatinine')+Q('creatinine_kinase')+Q('dbp_mean')+Q('glucose_mean')+Q('heart_rate_mean')+Q('hemoglobin')+Q('lactate')+Q('mbp_mean')+Q('mild_liver_rate')+Q('pco2')+Q('ph')+Q('platelet')+Q('po2')+Q('potassium')+Q('resp_rate_mean')+Q('sapsii')+Q('sbp_mean')+Q('sedative_use')+Q('severe_liver_rate')+Q('sodium')+Q('spo2_mean')+Q('temperature_mean')+Q('troponin')+Q('vasopressor_use')+Q('ventilation_use')+Q('wbc')\n",
            "                                                                                                                                                                                                                                                                                                                                                                                                                                                                                                                                                                                                                           ^^^^^^^^^^^^^^^^^^^^\n",
            "Fitting Models on Balanced Samples , model number :3\n",
            "Error: Error evaluating factor: NameError: no data named 'vasopressor_use' found\n",
            "    Q('midodrine') ~ Q('AFIB_rate')+Q('CAD_rate')+Q('CPD_or_COPD_rate')+Q('Gender')+Q('MICU')+Q('Maligancy_rate')+Q('Renal_rate')+Q('adm_weekday')+Q('admit_hour')+Q('age')+Q('bicarbonate')+Q('bnp')+Q('bun')+Q('charlson_index')+Q('chloride')+Q('creatinine')+Q('creatinine_kinase')+Q('dbp_mean')+Q('glucose_mean')+Q('heart_rate_mean')+Q('hemoglobin')+Q('lactate')+Q('mbp_mean')+Q('mild_liver_rate')+Q('pco2')+Q('ph')+Q('platelet')+Q('po2')+Q('potassium')+Q('resp_rate_mean')+Q('sapsii')+Q('sbp_mean')+Q('sedative_use')+Q('severe_liver_rate')+Q('sodium')+Q('spo2_mean')+Q('temperature_mean')+Q('troponin')+Q('vasopressor_use')+Q('ventilation_use')+Q('wbc')\n",
            "                                                                                                                                                                                                                                                                                                                                                                                                                                                                                                                                                                                                                           ^^^^^^^^^^^^^^^^^^^^\n",
            "Fitting Models on Balanced Samples , model number :1\n",
            "\rStatic column dropped: vasopressor_use\rStatic column dropped: vasopressor_use\rStatic column dropped: ventilation_use\rStatic column dropped: ventilation_use\rStatic column dropped: vasopressor_use\rStatic column dropped: ventilation_use\rStatic column dropped: vasopressor_use\rStatic column dropped: ventilation_useError: Error evaluating factor: NameError: no data named 'vasopressor_use' found\n",
            "    Q('midodrine') ~ Q('AFIB_rate')+Q('CAD_rate')+Q('CPD_or_COPD_rate')+Q('Gender')+Q('MICU')+Q('Maligancy_rate')+Q('Renal_rate')+Q('adm_weekday')+Q('admit_hour')+Q('age')+Q('bicarbonate')+Q('bnp')+Q('bun')+Q('charlson_index')+Q('chloride')+Q('creatinine')+Q('creatinine_kinase')+Q('dbp_mean')+Q('glucose_mean')+Q('heart_rate_mean')+Q('hemoglobin')+Q('lactate')+Q('mbp_mean')+Q('mild_liver_rate')+Q('pco2')+Q('ph')+Q('platelet')+Q('po2')+Q('potassium')+Q('resp_rate_mean')+Q('sapsii')+Q('sbp_mean')+Q('sedative_use')+Q('severe_liver_rate')+Q('sodium')+Q('spo2_mean')+Q('temperature_mean')+Q('troponin')+Q('vasopressor_use')+Q('ventilation_use')+Q('wbc')\n",
            "                                                                                                                                                                                                                                                                                                                                                                                                                                                                                                                                                                                                                           ^^^^^^^^^^^^^^^^^^^^\n",
            "Fitting Models on Balanced Samples , model number :4\n",
            "Error: Error evaluating factor: NameError: no data named 'vasopressor_use' found\n",
            "    Q('midodrine') ~ Q('AFIB_rate')+Q('CAD_rate')+Q('CPD_or_COPD_rate')+Q('Gender')+Q('MICU')+Q('Maligancy_rate')+Q('Renal_rate')+Q('adm_weekday')+Q('admit_hour')+Q('age')+Q('bicarbonate')+Q('bnp')+Q('bun')+Q('charlson_index')+Q('chloride')+Q('creatinine')+Q('creatinine_kinase')+Q('dbp_mean')+Q('glucose_mean')+Q('heart_rate_mean')+Q('hemoglobin')+Q('lactate')+Q('mbp_mean')+Q('mild_liver_rate')+Q('pco2')+Q('ph')+Q('platelet')+Q('po2')+Q('potassium')+Q('resp_rate_mean')+Q('sapsii')+Q('sbp_mean')+Q('sedative_use')+Q('severe_liver_rate')+Q('sodium')+Q('spo2_mean')+Q('temperature_mean')+Q('troponin')+Q('vasopressor_use')+Q('ventilation_use')+Q('wbc')\n",
            "                                                                                                                                                                                                                                                                                                                                                                                                                                                                                                                                                                                                                           ^^^^^^^^^^^^^^^^^^^^\n",
            "Fitting Models on Balanced Samples , model number :6\n",
            "Static column dropped: ventilation_useError: Error evaluating factor: NameError: no data named 'vasopressor_use' found\n",
            "    Q('midodrine') ~ Q('AFIB_rate')+Q('CAD_rate')+Q('CPD_or_COPD_rate')+Q('Gender')+Q('MICU')+Q('Maligancy_rate')+Q('Renal_rate')+Q('adm_weekday')+Q('admit_hour')+Q('age')+Q('bicarbonate')+Q('bnp')+Q('bun')+Q('charlson_index')+Q('chloride')+Q('creatinine')+Q('creatinine_kinase')+Q('dbp_mean')+Q('glucose_mean')+Q('heart_rate_mean')+Q('hemoglobin')+Q('lactate')+Q('mbp_mean')+Q('mild_liver_rate')+Q('pco2')+Q('ph')+Q('platelet')+Q('po2')+Q('potassium')+Q('resp_rate_mean')+Q('sapsii')+Q('sbp_mean')+Q('sedative_use')+Q('severe_liver_rate')+Q('sodium')+Q('spo2_mean')+Q('temperature_mean')+Q('troponin')+Q('vasopressor_use')+Q('ventilation_use')+Q('wbc')\n",
            "                                                                                                                                                                                                                                                                                                                                                                                                                                                                                                                                                                                                                           ^^^^^^^^^^^^^^^^^^^^\n",
            "Fitting Models on Balanced Samples , model number :5\n",
            "Error: Error evaluating factor: NameError: no data named 'vasopressor_use' found\n",
            "    Q('midodrine') ~ Q('AFIB_rate')+Q('CAD_rate')+Q('CPD_or_COPD_rate')+Q('Gender')+Q('MICU')+Q('Maligancy_rate')+Q('Renal_rate')+Q('adm_weekday')+Q('admit_hour')+Q('age')+Q('bicarbonate')+Q('bnp')+Q('bun')+Q('charlson_index')+Q('chloride')+Q('creatinine')+Q('creatinine_kinase')+Q('dbp_mean')+Q('glucose_mean')+Q('heart_rate_mean')+Q('hemoglobin')+Q('lactate')+Q('mbp_mean')+Q('mild_liver_rate')+Q('pco2')+Q('ph')+Q('platelet')+Q('po2')+Q('potassium')+Q('resp_rate_mean')+Q('sapsii')+Q('sbp_mean')+Q('sedative_use')+Q('severe_liver_rate')+Q('sodium')+Q('spo2_mean')+Q('temperature_mean')+Q('troponin')+Q('vasopressor_use')+Q('ventilation_use')+Q('wbc')\n",
            "                                                                                                                                                                                                                                                                                                                                                                                                                                                                                                                                                                                                                           ^^^^^^^^^^^^^^^^^^^^\n",
            "Fitting Models on Balanced Samples , model number :7\n",
            "Static column dropped: ventilation_useError: Error evaluating factor: NameError: no data named 'vasopressor_use' found\n",
            "    Q('midodrine') ~ Q('AFIB_rate')+Q('CAD_rate')+Q('CPD_or_COPD_rate')+Q('Gender')+Q('MICU')+Q('Maligancy_rate')+Q('Renal_rate')+Q('adm_weekday')+Q('admit_hour')+Q('age')+Q('bicarbonate')+Q('bnp')+Q('bun')+Q('charlson_index')+Q('chloride')+Q('creatinine')+Q('creatinine_kinase')+Q('dbp_mean')+Q('glucose_mean')+Q('heart_rate_mean')+Q('hemoglobin')+Q('lactate')+Q('mbp_mean')+Q('mild_liver_rate')+Q('pco2')+Q('ph')+Q('platelet')+Q('po2')+Q('potassium')+Q('resp_rate_mean')+Q('sapsii')+Q('sbp_mean')+Q('sedative_use')+Q('severe_liver_rate')+Q('sodium')+Q('spo2_mean')+Q('temperature_mean')+Q('troponin')+Q('vasopressor_use')+Q('ventilation_use')+Q('wbc')\n",
            "                                                                                                                                                                                                                                                                                                                                                                                                                                                                                                                                                                                                                           ^^^^^^^^^^^^^^^^^^^^\n",
            "Static column dropped: vasopressor_use\n",
            "Static column dropped: ventilation_useError: Error evaluating factor: NameError: no data named 'vasopressor_use' found\n",
            "    Q('midodrine') ~ Q('AFIB_rate')+Q('CAD_rate')+Q('CPD_or_COPD_rate')+Q('Gender')+Q('MICU')+Q('Maligancy_rate')+Q('Renal_rate')+Q('adm_weekday')+Q('admit_hour')+Q('age')+Q('bicarbonate')+Q('bnp')+Q('bun')+Q('charlson_index')+Q('chloride')+Q('creatinine')+Q('creatinine_kinase')+Q('dbp_mean')+Q('glucose_mean')+Q('heart_rate_mean')+Q('hemoglobin')+Q('lactate')+Q('mbp_mean')+Q('mild_liver_rate')+Q('pco2')+Q('ph')+Q('platelet')+Q('po2')+Q('potassium')+Q('resp_rate_mean')+Q('sapsii')+Q('sbp_mean')+Q('sedative_use')+Q('severe_liver_rate')+Q('sodium')+Q('spo2_mean')+Q('temperature_mean')+Q('troponin')+Q('vasopressor_use')+Q('ventilation_use')+Q('wbc')\n",
            "                                                                                                                                                                                                                                                                                                                                                                                                                                                                                                                                                                                                                           ^^^^^^^^^^^^^^^^^^^^\n",
            "Static column dropped: ventilation_useError: Error evaluating factor: NameError: no data named 'vasopressor_use' found\n",
            "    Q('midodrine') ~ Q('AFIB_rate')+Q('CAD_rate')+Q('CPD_or_COPD_rate')+Q('Gender')+Q('MICU')+Q('Maligancy_rate')+Q('Renal_rate')+Q('adm_weekday')+Q('admit_hour')+Q('age')+Q('bicarbonate')+Q('bnp')+Q('bun')+Q('charlson_index')+Q('chloride')+Q('creatinine')+Q('creatinine_kinase')+Q('dbp_mean')+Q('glucose_mean')+Q('heart_rate_mean')+Q('hemoglobin')+Q('lactate')+Q('mbp_mean')+Q('mild_liver_rate')+Q('pco2')+Q('ph')+Q('platelet')+Q('po2')+Q('potassium')+Q('resp_rate_mean')+Q('sapsii')+Q('sbp_mean')+Q('sedative_use')+Q('severe_liver_rate')+Q('sodium')+Q('spo2_mean')+Q('temperature_mean')+Q('troponin')+Q('vasopressor_use')+Q('ventilation_use')+Q('wbc')\n",
            "                                                                                                                                                                                                                                                                                                                                                                                                                                                                                                                                                                                                                           ^^^^^^^^^^^^^^^^^^^^\n",
            "Fitting Models on Balanced Samples , model number :9\n",
            "Static column dropped: ventilation_useError: Error evaluating factor: NameError: no data named 'vasopressor_use' found\n",
            "    Q('midodrine') ~ Q('AFIB_rate')+Q('CAD_rate')+Q('CPD_or_COPD_rate')+Q('Gender')+Q('MICU')+Q('Maligancy_rate')+Q('Renal_rate')+Q('adm_weekday')+Q('admit_hour')+Q('age')+Q('bicarbonate')+Q('bnp')+Q('bun')+Q('charlson_index')+Q('chloride')+Q('creatinine')+Q('creatinine_kinase')+Q('dbp_mean')+Q('glucose_mean')+Q('heart_rate_mean')+Q('hemoglobin')+Q('lactate')+Q('mbp_mean')+Q('mild_liver_rate')+Q('pco2')+Q('ph')+Q('platelet')+Q('po2')+Q('potassium')+Q('resp_rate_mean')+Q('sapsii')+Q('sbp_mean')+Q('sedative_use')+Q('severe_liver_rate')+Q('sodium')+Q('spo2_mean')+Q('temperature_mean')+Q('troponin')+Q('vasopressor_use')+Q('ventilation_use')+Q('wbc')\n",
            "                                                                                                                                                                                                                                                                                                                                                                                                                                                                                                                                                                                                                           ^^^^^^^^^^^^^^^^^^^^\n",
            "\n",
            "Average Accuracy: nan%\n"
          ]
        }
      ]
    },
    {
      "cell_type": "code",
      "source": [
        "m.predict_scores()\n",
        "m.plot_scores()"
      ],
      "metadata": {
        "colab": {
          "base_uri": "https://localhost:8080/",
          "height": 363
        },
        "id": "mOJXicdraCs3",
        "outputId": "4efa65da-e4d4-48e6-a8ca-3c3a5a9a26a3"
      },
      "execution_count": 43,
      "outputs": [
        {
          "output_type": "display_data",
          "data": {
            "text/plain": [
              "<Figure size 720x360 with 1 Axes>"
            ],
            "image/png": "[encoded data removed]"
          },
          "metadata": {}
        }
      ]
    },
    {
      "cell_type": "code",
      "source": [
        "m.tune_threshold(method='random')"
      ],
      "metadata": {
        "colab": {
          "base_uri": "https://localhost:8080/",
          "height": 363
        },
        "id": "6TQ2eR9FaK7H",
        "outputId": "926fb0b8-410f-4bd2-83db-7832701b083f"
      },
      "execution_count": 44,
      "outputs": [
        {
          "output_type": "display_data",
          "data": {
            "text/plain": [
              "<Figure size 720x360 with 1 Axes>"
            ],
            "image/png": "[encoded data removed]"
          },
          "metadata": {}
        }
      ]
    },
    {
      "cell_type": "code",
      "source": [
        "m.match(method=\"min\", nmatches=1, threshold=0.0009)"
      ],
      "metadata": {
        "id": "xi3jA9enaYyB"
      },
      "execution_count": null,
      "outputs": []
    },
    {
      "cell_type": "code",
      "source": [
        "m.matched_data.sort_values(\"match_id\")"
      ],
      "metadata": {
        "colab": {
          "base_uri": "https://localhost:8080/",
          "height": 506
        },
        "id": "U_ziHCJvaqkE",
        "outputId": "ca46d973-c0c7-44bc-8479-2e2fcf3c2002"
      },
      "execution_count": null,
      "outputs": [
        {
          "output_type": "stream",
          "name": "stdout",
          "text": [
            "Warning: Total number of columns (43) exceeds max_columns (20). Falling back to pandas display.\n"
          ]
        },
        {
          "output_type": "execute_result",
          "data": {
            "text/plain": [
              "       AFIB_rate  CAD_rate  CPD_or_COPD_rate  Gender  MICU  Maligancy_rate  \\\n",
              "0            0.0       1.0               0.0       0     1             0.0   \n",
              "14874        0.0       0.0               0.0       1     0             0.0   \n",
              "1            0.0       0.0               0.0       0     1             0.0   \n",
              "34160        1.0       0.0               0.0       0     0             0.0   \n",
              "2            1.0       1.0               0.0       0     1             0.0   \n",
              "...          ...       ...               ...     ...   ...             ...   \n",
              "14440        1.0       1.0               1.0       0     0             0.0   \n",
              "808          1.0       0.0               0.0       1     1             1.0   \n",
              "10294        0.0       0.0               0.0       0     0             0.0   \n",
              "809          1.0       0.0               0.0       1     1             0.0   \n",
              "25758        1.0       0.0               0.0       0     0             0.0   \n",
              "\n",
              "       Renal_rate  adm_weekday  age  bicarbonate  ...   stay_id  \\\n",
              "0             0.0            3   91    23.500000  ...  30419609   \n",
              "14874         0.0            4   59    27.529412  ...  39393117   \n",
              "1             0.0            5   18    27.000000  ...  30905391   \n",
              "34160         0.0            1   91    24.181818  ...  38455362   \n",
              "2             0.0            3   91    18.500000  ...  34118048   \n",
              "...           ...          ...  ...          ...  ...       ...   \n",
              "14440         0.0            4   59    33.611111  ...  32935029   \n",
              "808           1.0            5   91    16.400000  ...  38011202   \n",
              "10294         0.0            4   52    22.000000  ...  39952814   \n",
              "809           0.0            5   91    22.181818  ...  39446578   \n",
              "25758         0.0            2   75    27.555556  ...  33998345   \n",
              "\n",
              "       temperature_mean  troponin  vasopressor_use  ventilation_use  \\\n",
              "0             36.805000  1.000000                0              1.0   \n",
              "14874         36.744681  1.000000                1              1.0   \n",
              "1             37.887143  0.000000                0              0.0   \n",
              "34160         37.308667  1.000000                1              1.0   \n",
              "2             36.797857  0.000000                1              0.0   \n",
              "...                 ...       ...              ...              ...   \n",
              "14440         37.060182  0.000000                1              1.0   \n",
              "808           36.657647  1.000000                0              1.0   \n",
              "10294         36.730000  0.000000                1              1.0   \n",
              "809           36.530370  0.666667                1              1.0   \n",
              "25758         38.197059  1.000000                1              1.0   \n",
              "\n",
              "             wbc  weight    scores  match_id  record_id  \n",
              "0      15.900000    68.7  0.702346         0          0  \n",
              "14874   6.085714    77.9  0.702349         0      14874  \n",
              "1       4.650000    67.5  0.797434         1          1  \n",
              "34160  14.440000    66.0  0.797374         1      34160  \n",
              "2      10.480000    65.5  0.917741         2          2  \n",
              "...          ...     ...       ...       ...        ...  \n",
              "14440  13.006667   116.0  0.804565       807      14440  \n",
              "808    31.842857    60.0  0.910174       808        808  \n",
              "10294  15.200000    64.4  0.909980       808      10294  \n",
              "809    31.280000    63.2  0.804519       809        809  \n",
              "25758  16.350000    97.1  0.804527       809      25758  \n",
              "\n",
              "[1620 rows x 43 columns]"
            ],
            "text/html": [
              "\n",
              "  <div id=\"df-34e0bd2b-e828-48c6-80bd-a2a08a83d3be\">\n",
              "    <div class=\"colab-df-container\">\n",
              "      <div>\n",
              "<style scoped>\n",
              "    .dataframe tbody tr th:only-of-type {\n",
              "        vertical-align: middle;\n",
              "    }\n",
              "\n",
              "    .dataframe tbody tr th {\n",
              "        vertical-align: top;\n",
              "    }\n",
              "\n",
              "    .dataframe thead th {\n",
              "        text-align: right;\n",
              "    }\n",
              "</style>\n",
              "<table border=\"1\" class=\"dataframe\">\n",
              "  <thead>\n",
              "    <tr style=\"text-align: right;\">\n",
              "      <th></th>\n",
              "      <th>AFIB_rate</th>\n",
              "      <th>CAD_rate</th>\n",
              "      <th>CPD_or_COPD_rate</th>\n",
              "      <th>Gender</th>\n",
              "      <th>MICU</th>\n",
              "      <th>Maligancy_rate</th>\n",
              "      <th>Renal_rate</th>\n",
              "      <th>adm_weekday</th>\n",
              "      <th>age</th>\n",
              "      <th>bicarbonate</th>\n",
              "      <th>...</th>\n",
              "      <th>stay_id</th>\n",
              "      <th>temperature_mean</th>\n",
              "      <th>troponin</th>\n",
              "      <th>vasopressor_use</th>\n",
              "      <th>ventilation_use</th>\n",
              "      <th>wbc</th>\n",
              "      <th>weight</th>\n",
              "      <th>scores</th>\n",
              "      <th>match_id</th>\n",
              "      <th>record_id</th>\n",
              "    </tr>\n",
              "  </thead>\n",
              "  <tbody>\n",
              "    <tr>\n",
              "      <th>0</th>\n",
              "      <td>0.0</td>\n",
              "      <td>1.0</td>\n",
              "      <td>0.0</td>\n",
              "      <td>0</td>\n",
              "      <td>1</td>\n",
              "      <td>0.0</td>\n",
              "      <td>0.0</td>\n",
              "      <td>3</td>\n",
              "      <td>91</td>\n",
              "      <td>23.500000</td>\n",
              "      <td>...</td>\n",
              "      <td>30419609</td>\n",
              "      <td>36.805000</td>\n",
              "      <td>1.000000</td>\n",
              "      <td>0</td>\n",
              "      <td>1.0</td>\n",
              "      <td>15.900000</td>\n",
              "      <td>68.7</td>\n",
              "      <td>0.702346</td>\n",
              "      <td>0</td>\n",
              "      <td>0</td>\n",
              "    </tr>\n",
              "    <tr>\n",
              "      <th>14874</th>\n",
              "      <td>0.0</td>\n",
              "      <td>0.0</td>\n",
              "      <td>0.0</td>\n",
              "      <td>1</td>\n",
              "      <td>0</td>\n",
              "      <td>0.0</td>\n",
              "      <td>0.0</td>\n",
              "      <td>4</td>\n",
              "      <td>59</td>\n",
              "      <td>27.529412</td>\n",
              "      <td>...</td>\n",
              "      <td>39393117</td>\n",
              "      <td>36.744681</td>\n",
              "      <td>1.000000</td>\n",
              "      <td>1</td>\n",
              "      <td>1.0</td>\n",
              "      <td>6.085714</td>\n",
              "      <td>77.9</td>\n",
              "      <td>0.702349</td>\n",
              "      <td>0</td>\n",
              "      <td>14874</td>\n",
              "    </tr>\n",
              "    <tr>\n",
              "      <th>1</th>\n",
              "      <td>0.0</td>\n",
              "      <td>0.0</td>\n",
              "      <td>0.0</td>\n",
              "      <td>0</td>\n",
              "      <td>1</td>\n",
              "      <td>0.0</td>\n",
              "      <td>0.0</td>\n",
              "      <td>5</td>\n",
              "      <td>18</td>\n",
              "      <td>27.000000</td>\n",
              "      <td>...</td>\n",
              "      <td>30905391</td>\n",
              "      <td>37.887143</td>\n",
              "      <td>0.000000</td>\n",
              "      <td>0</td>\n",
              "      <td>0.0</td>\n",
              "      <td>4.650000</td>\n",
              "      <td>67.5</td>\n",
              "      <td>0.797434</td>\n",
              "      <td>1</td>\n",
              "      <td>1</td>\n",
              "    </tr>\n",
              "    <tr>\n",
              "      <th>34160</th>\n",
              "      <td>1.0</td>\n",
              "      <td>0.0</td>\n",
              "      <td>0.0</td>\n",
              "      <td>0</td>\n",
              "      <td>0</td>\n",
              "      <td>0.0</td>\n",
              "      <td>0.0</td>\n",
              "      <td>1</td>\n",
              "      <td>91</td>\n",
              "      <td>24.181818</td>\n",
              "      <td>...</td>\n",
              "      <td>38455362</td>\n",
              "      <td>37.308667</td>\n",
              "      <td>1.000000</td>\n",
              "      <td>1</td>\n",
              "      <td>1.0</td>\n",
              "      <td>14.440000</td>\n",
              "      <td>66.0</td>\n",
              "      <td>0.797374</td>\n",
              "      <td>1</td>\n",
              "      <td>34160</td>\n",
              "    </tr>\n",
              "    <tr>\n",
              "      <th>2</th>\n",
              "      <td>1.0</td>\n",
              "      <td>1.0</td>\n",
              "      <td>0.0</td>\n",
              "      <td>0</td>\n",
              "      <td>1</td>\n",
              "      <td>0.0</td>\n",
              "      <td>0.0</td>\n",
              "      <td>3</td>\n",
              "      <td>91</td>\n",
              "      <td>18.500000</td>\n",
              "      <td>...</td>\n",
              "      <td>34118048</td>\n",
              "      <td>36.797857</td>\n",
              "      <td>0.000000</td>\n",
              "      <td>1</td>\n",
              "      <td>0.0</td>\n",
              "      <td>10.480000</td>\n",
              "      <td>65.5</td>\n",
              "      <td>0.917741</td>\n",
              "      <td>2</td>\n",
              "      <td>2</td>\n",
              "    </tr>\n",
              "    <tr>\n",
              "      <th>...</th>\n",
              "      <td>...</td>\n",
              "      <td>...</td>\n",
              "      <td>...</td>\n",
              "      <td>...</td>\n",
              "      <td>...</td>\n",
              "      <td>...</td>\n",
              "      <td>...</td>\n",
              "      <td>...</td>\n",
              "      <td>...</td>\n",
              "      <td>...</td>\n",
              "      <td>...</td>\n",
              "      <td>...</td>\n",
              "      <td>...</td>\n",
              "      <td>...</td>\n",
              "      <td>...</td>\n",
              "      <td>...</td>\n",
              "      <td>...</td>\n",
              "      <td>...</td>\n",
              "      <td>...</td>\n",
              "      <td>...</td>\n",
              "      <td>...</td>\n",
              "    </tr>\n",
              "    <tr>\n",
              "      <th>14440</th>\n",
              "      <td>1.0</td>\n",
              "      <td>1.0</td>\n",
              "      <td>1.0</td>\n",
              "      <td>0</td>\n",
              "      <td>0</td>\n",
              "      <td>0.0</td>\n",
              "      <td>0.0</td>\n",
              "      <td>4</td>\n",
              "      <td>59</td>\n",
              "      <td>33.611111</td>\n",
              "      <td>...</td>\n",
              "      <td>32935029</td>\n",
              "      <td>37.060182</td>\n",
              "      <td>0.000000</td>\n",
              "      <td>1</td>\n",
              "      <td>1.0</td>\n",
              "      <td>13.006667</td>\n",
              "      <td>116.0</td>\n",
              "      <td>0.804565</td>\n",
              "      <td>807</td>\n",
              "      <td>14440</td>\n",
              "    </tr>\n",
              "    <tr>\n",
              "      <th>808</th>\n",
              "      <td>1.0</td>\n",
              "      <td>0.0</td>\n",
              "      <td>0.0</td>\n",
              "      <td>1</td>\n",
              "      <td>1</td>\n",
              "      <td>1.0</td>\n",
              "      <td>1.0</td>\n",
              "      <td>5</td>\n",
              "      <td>91</td>\n",
              "      <td>16.400000</td>\n",
              "      <td>...</td>\n",
              "      <td>38011202</td>\n",
              "      <td>36.657647</td>\n",
              "      <td>1.000000</td>\n",
              "      <td>0</td>\n",
              "      <td>1.0</td>\n",
              "      <td>31.842857</td>\n",
              "      <td>60.0</td>\n",
              "      <td>0.910174</td>\n",
              "      <td>808</td>\n",
              "      <td>808</td>\n",
              "    </tr>\n",
              "    <tr>\n",
              "      <th>10294</th>\n",
              "      <td>0.0</td>\n",
              "      <td>0.0</td>\n",
              "      <td>0.0</td>\n",
              "      <td>0</td>\n",
              "      <td>0</td>\n",
              "      <td>0.0</td>\n",
              "      <td>0.0</td>\n",
              "      <td>4</td>\n",
              "      <td>52</td>\n",
              "      <td>22.000000</td>\n",
              "      <td>...</td>\n",
              "      <td>39952814</td>\n",
              "      <td>36.730000</td>\n",
              "      <td>0.000000</td>\n",
              "      <td>1</td>\n",
              "      <td>1.0</td>\n",
              "      <td>15.200000</td>\n",
              "      <td>64.4</td>\n",
              "      <td>0.909980</td>\n",
              "      <td>808</td>\n",
              "      <td>10294</td>\n",
              "    </tr>\n",
              "    <tr>\n",
              "      <th>809</th>\n",
              "      <td>1.0</td>\n",
              "      <td>0.0</td>\n",
              "      <td>0.0</td>\n",
              "      <td>1</td>\n",
              "      <td>1</td>\n",
              "      <td>0.0</td>\n",
              "      <td>0.0</td>\n",
              "      <td>5</td>\n",
              "      <td>91</td>\n",
              "      <td>22.181818</td>\n",
              "      <td>...</td>\n",
              "      <td>39446578</td>\n",
              "      <td>36.530370</td>\n",
              "      <td>0.666667</td>\n",
              "      <td>1</td>\n",
              "      <td>1.0</td>\n",
              "      <td>31.280000</td>\n",
              "      <td>63.2</td>\n",
              "      <td>0.804519</td>\n",
              "      <td>809</td>\n",
              "      <td>809</td>\n",
              "    </tr>\n",
              "    <tr>\n",
              "      <th>25758</th>\n",
              "      <td>1.0</td>\n",
              "      <td>0.0</td>\n",
              "      <td>0.0</td>\n",
              "      <td>0</td>\n",
              "      <td>0</td>\n",
              "      <td>0.0</td>\n",
              "      <td>0.0</td>\n",
              "      <td>2</td>\n",
              "      <td>75</td>\n",
              "      <td>27.555556</td>\n",
              "      <td>...</td>\n",
              "      <td>33998345</td>\n",
              "      <td>38.197059</td>\n",
              "      <td>1.000000</td>\n",
              "      <td>1</td>\n",
              "      <td>1.0</td>\n",
              "      <td>16.350000</td>\n",
              "      <td>97.1</td>\n",
              "      <td>0.804527</td>\n",
              "      <td>809</td>\n",
              "      <td>25758</td>\n",
              "    </tr>\n",
              "  </tbody>\n",
              "</table>\n",
              "<p>1620 rows × 43 columns</p>\n",
              "</div>\n",
              "      <button class=\"colab-df-convert\" onclick=\"convertToInteractive('df-34e0bd2b-e828-48c6-80bd-a2a08a83d3be')\"\n",
              "              title=\"Convert this dataframe to an interactive table.\"\n",
              "              style=\"display:none;\">\n",
              "        \n",
              "  <svg xmlns=\"http://www.w3.org/2000/svg\" height=\"24px\"viewBox=\"0 0 24 24\"\n",
              "       width=\"24px\">\n",
              "    <path d=\"M0 0h24v24H0V0z\" fill=\"none\"/>\n",
              "    <path d=\"M18.56 5.44l.94 2.06.94-2.06 2.06-.94-2.06-.94-.94-2.06-.94 2.06-2.06.94zm-11 1L8.5 8.5l.94-2.06 2.06-.94-2.06-.94L8.5 2.5l-.94 2.06-2.06.94zm10 10l.94 2.06.94-2.06 2.06-.94-2.06-.94-.94-2.06-.94 2.06-2.06.94z\"/><path d=\"M17.41 7.96l-1.37-1.37c-.4-.4-.92-.59-1.43-.59-.52 0-1.04.2-1.43.59L10.3 9.45l-7.72 7.72c-.78.78-.78 2.05 0 2.83L4 21.41c.39.39.9.59 1.41.59.51 0 1.02-.2 1.41-.59l7.78-7.78 2.81-2.81c.8-.78.8-2.07 0-2.86zM5.41 20L4 18.59l7.72-7.72 1.47 1.35L5.41 20z\"/>\n",
              "  </svg>\n",
              "      </button>\n",
              "      \n",
              "  <style>\n",
              "    .colab-df-container {\n",
              "      display:flex;\n",
              "      flex-wrap:wrap;\n",
              "      gap: 12px;\n",
              "    }\n",
              "\n",
              "    .colab-df-convert {\n",
              "      background-color: #E8F0FE;\n",
              "      border: none;\n",
              "      border-radius: 50%;\n",
              "      cursor: pointer;\n",
              "      display: none;\n",
              "      fill: #1967D2;\n",
              "      height: 32px;\n",
              "      padding: 0 0 0 0;\n",
              "      width: 32px;\n",
              "    }\n",
              "\n",
              "    .colab-df-convert:hover {\n",
              "      background-color: #E2EBFA;\n",
              "      box-shadow: 0px 1px 2px rgba(60, 64, 67, 0.3), 0px 1px 3px 1px rgba(60, 64, 67, 0.15);\n",
              "      fill: #174EA6;\n",
              "    }\n",
              "\n",
              "    [theme=dark] .colab-df-convert {\n",
              "      background-color: #3B4455;\n",
              "      fill: #D2E3FC;\n",
              "    }\n",
              "\n",
              "    [theme=dark] .colab-df-convert:hover {\n",
              "      background-color: #434B5C;\n",
              "      box-shadow: 0px 1px 3px 1px rgba(0, 0, 0, 0.15);\n",
              "      filter: drop-shadow(0px 1px 2px rgba(0, 0, 0, 0.3));\n",
              "      fill: #FFFFFF;\n",
              "    }\n",
              "  </style>\n",
              "\n",
              "      <script>\n",
              "        const buttonEl =\n",
              "          document.querySelector('#df-34e0bd2b-e828-48c6-80bd-a2a08a83d3be button.colab-df-convert');\n",
              "        buttonEl.style.display =\n",
              "          google.colab.kernel.accessAllowed ? 'block' : 'none';\n",
              "\n",
              "        async function convertToInteractive(key) {\n",
              "          const element = document.querySelector('#df-34e0bd2b-e828-48c6-80bd-a2a08a83d3be');\n",
              "          const dataTable =\n",
              "            await google.colab.kernel.invokeFunction('convertToInteractive',\n",
              "                                                     [key], {});\n",
              "          if (!dataTable) return;\n",
              "\n",
              "          const docLinkHtml = 'Like what you see? Visit the ' +\n",
              "            '<a target=\"_blank\" href=https://colab.research.google.com/notebooks/data_table.ipynb>data table notebook</a>'\n",
              "            + ' to learn more about interactive tables.';\n",
              "          element.innerHTML = '';\n",
              "          dataTable['output_type'] = 'display_data';\n",
              "          await google.colab.output.renderOutput(dataTable, element);\n",
              "          const docLink = document.createElement('div');\n",
              "          docLink.innerHTML = docLinkHtml;\n",
              "          element.appendChild(docLink);\n",
              "        }\n",
              "      </script>\n",
              "    </div>\n",
              "  </div>\n",
              "  "
            ]
          },
          "metadata": {},
          "execution_count": 66
        }
      ]
    },
    {
      "cell_type": "markdown",
      "source": [
        "### Third Way"
      ],
      "metadata": {
        "id": "B1NpfqYTHQpc"
      }
    },
    {
      "cell_type": "code",
      "source": [
        "X = cohort_table.drop(['stay_id','mortality', 'mort_28_day', 'midodrine', 'avg_doses_per_24_hrs'], axis=1)\n",
        "y = cohort_table['midodrine']"
      ],
      "metadata": {
        "id": "aDJplTOZyaPH"
      },
      "execution_count": 61,
      "outputs": []
    },
    {
      "cell_type": "code",
      "source": [
        "from sklearn.model_selection import train_test_split \n",
        "seed = 20220614 #for reproducible results\n",
        "test_size=0.2 \n",
        "X_train, X_test, y_train, y_test = train_test_split(X, y, test_size=test_size, random_state=seed)"
      ],
      "metadata": {
        "id": "WyQEvvBW50-9"
      },
      "execution_count": 62,
      "outputs": []
    },
    {
      "cell_type": "code",
      "source": [
        "from sklearn.metrics import accuracy_score\n",
        "\n",
        "#instantiate model and train\n",
        "model = XGBClassifier(learning_rate = 0.05, n_estimators=300, max_depth=5)\n",
        "model.fit(X_train, y_train)"
      ],
      "metadata": {
        "id": "g6mHmJcc6JAN",
        "outputId": "bfab5fce-bd0b-4ca4-d2de-dc4bcaa41177",
        "colab": {
          "base_uri": "https://localhost:8080/"
        }
      },
      "execution_count": 63,
      "outputs": [
        {
          "output_type": "execute_result",
          "data": {
            "text/plain": [
              "XGBClassifier(learning_rate=0.05, max_depth=5, n_estimators=300)"
            ]
          },
          "metadata": {},
          "execution_count": 63
        }
      ]
    },
    {
      "cell_type": "code",
      "source": [
        "# make predictions for test set\n",
        "y_pred = model.predict(X_test)\n",
        "predictions = [round(value) for value in y_pred]\n",
        "\n",
        "accuracy = accuracy_score(y_test, predictions)\n",
        "print(\"Accuracy: %.2f%%\" % (accuracy * 100.0))"
      ],
      "metadata": {
        "id": "JhIL9zFVJaQ4",
        "outputId": "bc34a514-8236-48c4-dba3-302799be873a",
        "colab": {
          "base_uri": "https://localhost:8080/"
        }
      },
      "execution_count": 64,
      "outputs": [
        {
          "output_type": "stream",
          "name": "stdout",
          "text": [
            "Accuracy: 97.82%\n"
          ]
        }
      ]
    },
    {
      "cell_type": "code",
      "source": [
        "lr_list = [0.05, 0.075, 0.1, 0.25, 0.5, 0.75, 1]\n",
        "\n",
        "for learning_rate in lr_list:\n",
        "    model = XGBClassifier(n_estimators=300, learning_rate=learning_rate, max_features=2, max_depth=5, random_state=seed)\n",
        "    model.fit(X_train, y_train)\n",
        "\n",
        "    print(\"Learning rate: \", learning_rate)\n",
        "    print(\"Accuracy score (training): {0:.3f}\".format(model.score(X_train, y_train)))\n",
        "    print(\"Accuracy score (validation): {0:.3f}\".format(model.score(X_test, y_test)))"
      ],
      "metadata": {
        "id": "CwCNLcqQFvTm",
        "outputId": "f7e00928-1533-4bcb-8bae-254bbba774af",
        "colab": {
          "base_uri": "https://localhost:8080/"
        }
      },
      "execution_count": 65,
      "outputs": [
        {
          "output_type": "stream",
          "name": "stdout",
          "text": [
            "Learning rate:  0.05\n",
            "Accuracy score (training): 0.987\n",
            "Accuracy score (validation): 0.978\n",
            "Learning rate:  0.075\n",
            "Accuracy score (training): 0.991\n",
            "Accuracy score (validation): 0.978\n",
            "Learning rate:  0.1\n",
            "Accuracy score (training): 0.995\n",
            "Accuracy score (validation): 0.978\n",
            "Learning rate:  0.25\n",
            "Accuracy score (training): 1.000\n",
            "Accuracy score (validation): 0.978\n",
            "Learning rate:  0.5\n",
            "Accuracy score (training): 1.000\n",
            "Accuracy score (validation): 0.977\n",
            "Learning rate:  0.75\n",
            "Accuracy score (training): 1.000\n",
            "Accuracy score (validation): 0.978\n",
            "Learning rate:  1\n",
            "Accuracy score (training): 1.000\n",
            "Accuracy score (validation): 0.978\n"
          ]
        }
      ]
    },
    {
      "cell_type": "code",
      "source": [
        "from xgboost import plot_importance\n",
        "import matplotlib.pyplot as plt\n",
        "\n",
        "# plot feature importance\n",
        "fig, ax = plt.subplots(figsize=(25,20))\n",
        "plot_importance(model, ax=ax)\n",
        "plt.show()"
      ],
      "metadata": {
        "id": "RrFqq6iG6JxY",
        "outputId": "cad92b0a-4de1-47de-e65f-7bcbcf164052",
        "colab": {
          "base_uri": "https://localhost:8080/",
          "height": 1000
        }
      },
      "execution_count": 66,
      "outputs": [
        {
          "output_type": "display_data",
          "data": {
            "text/plain": [
              "<Figure size 1800x1440 with 1 Axes>"
            ],
            "image/png": "[encoded data removed]"
          },
          "metadata": {}
        }
      ]
    },
    {
      "cell_type": "markdown",
      "source": [
        "## TMLE on unweighted cohort"
      ],
      "metadata": {
        "id": "zfaRzkVOx0Xd"
      }
    },
    {
      "cell_type": "code",
      "source": [
        "import statsmodels.api as sm"
      ],
      "metadata": {
        "id": "SzfbH7T2fYUm"
      },
      "execution_count": 72,
      "outputs": []
    },
    {
      "cell_type": "code",
      "source": [
        "# SuperLearner setup\n",
        "labels = [\"LogR\", \"Step.int\", \"RandFor\"]\n",
        "candidates = [GLMSL(sm.families.family.Binomial()), \n",
        "              StepwiseSL(sm.families.family.Binomial(), selection=\"forward\", order_interaction=0),\n",
        "              XGBClassifier()]"
      ],
      "metadata": {
        "id": "9Er_A4YDHS0Y"
      },
      "execution_count": 73,
      "outputs": []
    },
    {
      "cell_type": "code",
      "source": [
        "tml =  TMLE(cohort_table, exposure='midodrine', outcome='mort_28_day')"
      ],
      "metadata": {
        "id": "lWCgsfeIiGUc"
      },
      "execution_count": 76,
      "outputs": []
    },
    {
      "cell_type": "code",
      "source": [
        "cohort_table.columns"
      ],
      "metadata": {
        "colab": {
          "base_uri": "https://localhost:8080/"
        },
        "id": "TZGHnMAuG1Dv",
        "outputId": "531ab89d-e29d-43c0-df61-e538e0c975d9"
      },
      "execution_count": 77,
      "outputs": [
        {
          "output_type": "execute_result",
          "data": {
            "text/plain": [
              "Index(['stay_id', 'age', 'Gender', 'midodrine', 'avg_doses_per_24_hrs', 'MICU',\n",
              "       'adm_weekday', 'weight', 'sapsii', 'charlson_index', 'CPD_or_COPD_rate',\n",
              "       'Maligancy_rate', 'mild_liver_rate', 'severe_liver_rate', 'Renal_rate',\n",
              "       'CAD_rate', 'AFIB_rate', 'hemoglobin', 'platelet', 'wbc', 'sodium',\n",
              "       'potassium', 'bicarbonate', 'chloride', 'bun', 'creatinine', 'lactate',\n",
              "       'ph', 'po2', 'pco2', 'bnp', 'troponin', 'creatinine_kinase',\n",
              "       'heart_rate_mean', 'sbp_mean', 'dbp_mean', 'mbp_mean', 'resp_rate_mean',\n",
              "       'temperature_mean', 'spo2_mean', 'glucose_mean', 'sedative_use',\n",
              "       'ventilation_use', 'vasopressor_use', 'mortality', 'mort_28_day',\n",
              "       'admit_hour'],\n",
              "      dtype='object')"
            ]
          },
          "metadata": {},
          "execution_count": 77
        }
      ]
    },
    {
      "cell_type": "code",
      "source": [
        "tml.exposure_model('age + MICU + Gender + adm_weekday + weight + sapsii + charlson_index + CPD_or_COPD_rate + Maligancy_rate + mild_liver_rate + severe_liver_rate + Renal_rate + CAD_rate + AFIB_rate + hemoglobin + platelet + wbc + sodium + potassium + bicarbonate + chloride + bun + creatinine + lactate + ph + po2 + pco2 + bnp + troponin + creatinine_kinase + temperature_mean + heart_rate_mean + resp_rate_mean + mbp_mean + sedative_use + ventilation_use + vasopressor_use',\n",
        "                  bound=0.01 )  "
      ],
      "metadata": {
        "id": "-n2xo_mGiYzX",
        "outputId": "7fe2d80c-df0f-43c9-c631-b2bc75400dae",
        "colab": {
          "base_uri": "https://localhost:8080/"
        }
      },
      "execution_count": 78,
      "outputs": [
        {
          "output_type": "stream",
          "name": "stdout",
          "text": [
            "==============================================================================\n",
            "Propensity Score Model\n",
            "                 Generalized Linear Model Regression Results                  \n",
            "==============================================================================\n",
            "Dep. Variable:              midodrine   No. Observations:                11644\n",
            "Model:                            GLM   Df Residuals:                    11608\n",
            "Model Family:                Binomial   Df Model:                           35\n",
            "Link Function:                  logit   Scale:                          1.0000\n",
            "Method:                          IRLS   Log-Likelihood:                -1555.8\n",
            "Date:                Wed, 22 Jun 2022   Deviance:                       3111.7\n",
            "Time:                        06:31:57   Pearson chi2:                 1.30e+04\n",
            "No. Iterations:                   100                                         \n",
            "Covariance Type:            nonrobust                                         \n",
            "=====================================================================================\n",
            "                        coef    std err          z      P>|z|      [0.025      0.975]\n",
            "-------------------------------------------------------------------------------------\n",
            "Intercept            -2.8347      3.769     -0.752      0.452     -10.221       4.552\n",
            "age                  -0.0112      0.005     -2.182      0.029      -0.021      -0.001\n",
            "MICU                 -0.2475      0.116     -2.128      0.033      -0.476      -0.020\n",
            "Gender                0.0021      0.112      0.019      0.985      -0.217       0.221\n",
            "adm_weekday           0.0010      0.026      0.040      0.968      -0.049       0.051\n",
            "weight                0.0025      0.002      1.237      0.216      -0.001       0.007\n",
            "sapsii                0.0066      0.005      1.442      0.149      -0.002       0.016\n",
            "charlson_index        0.0443      0.032      1.401      0.161      -0.018       0.106\n",
            "CPD_or_COPD_rate     -0.1053      0.127     -0.833      0.405      -0.353       0.143\n",
            "Maligancy_rate       -0.2608      0.155     -1.686      0.092      -0.564       0.042\n",
            "mild_liver_rate       0.6420      0.152      4.211      0.000       0.343       0.941\n",
            "severe_liver_rate     1.5402      0.166      9.288      0.000       1.215       1.865\n",
            "Renal_rate            0.0896      0.154      0.583      0.560      -0.212       0.391\n",
            "CAD_rate             -0.0644      0.150     -0.428      0.669      -0.359       0.231\n",
            "AFIB_rate             0.5100      0.123      4.136      0.000       0.268       0.752\n",
            "hemoglobin           -0.0743      0.029     -2.566      0.010      -0.131      -0.018\n",
            "platelet             -0.0006      0.001     -1.069      0.285      -0.002       0.000\n",
            "wbc                   0.0060      0.004      1.664      0.096      -0.001       0.013\n",
            "sodium                0.0590      0.020      3.015      0.003       0.021       0.097\n",
            "potassium            -0.0688      0.089     -0.776      0.438      -0.243       0.105\n",
            "bicarbonate          -0.1050      0.029     -3.666      0.000      -0.161      -0.049\n",
            "chloride             -0.0702      0.017     -4.049      0.000      -0.104      -0.036\n",
            "bun                  -0.0007      0.003     -0.282      0.778      -0.006       0.004\n",
            "creatinine            0.0917      0.036      2.568      0.010       0.022       0.162\n",
            "lactate              -0.1131      0.035     -3.212      0.001      -0.182      -0.044\n",
            "ph                    2.9890      1.493      2.002      0.045       0.063       5.915\n",
            "po2                  -0.0022      0.001     -2.149      0.032      -0.004      -0.000\n",
            "pco2                  0.0164      0.014      1.173      0.241      -0.011       0.044\n",
            "bnp                  -0.2224      0.272     -0.818      0.413      -0.755       0.310\n",
            "troponin             -0.0265      0.167     -0.158      0.874      -0.354       0.301\n",
            "creatinine_kinase    -0.1794      0.155     -1.159      0.247      -0.483       0.124\n",
            "temperature_mean     -0.3033      0.086     -3.522      0.000      -0.472      -0.135\n",
            "heart_rate_mean      -0.0020      0.003     -0.573      0.566      -0.009       0.005\n",
            "resp_rate_mean       -0.0034      0.013     -0.260      0.795      -0.029       0.022\n",
            "mbp_mean             -0.0489      0.006     -7.943      0.000      -0.061      -0.037\n",
            "sedative_use          0.2958      0.127      2.325      0.020       0.046       0.545\n",
            "ventilation_use      -2.8347      3.769     -0.752      0.452     -10.221       4.552\n",
            "vasopressor_use      -2.8347      3.769     -0.752      0.452     -10.221       4.552\n",
            "=====================================================================================\n",
            "==============================================================================\n"
          ]
        }
      ]
    },
    {
      "cell_type": "code",
      "source": [
        "tml.outcome_model('age + MICU + Gender + adm_weekday + weight + sapsii + charlson_index + CPD_or_COPD_rate + Maligancy_rate + mild_liver_rate + severe_liver_rate + Renal_rate + CAD_rate + AFIB_rate + hemoglobin + platelet + wbc + sodium + potassium + bicarbonate + chloride + bun + creatinine + lactate + ph + po2 + pco2 + bnp + troponin + creatinine_kinase + temperature_mean + heart_rate_mean + resp_rate_mean + mbp_mean + sedative_use + ventilation_use + vasopressor_use',\n",
        "                  bound=0.01 )"
      ],
      "metadata": {
        "id": "ml-eTU6JmMOf",
        "outputId": "2ca3252e-f5eb-46ec-c0b1-6fc2b249fd5d",
        "colab": {
          "base_uri": "https://localhost:8080/"
        }
      },
      "execution_count": 79,
      "outputs": [
        {
          "output_type": "stream",
          "name": "stdout",
          "text": [
            "==============================================================================\n",
            "Outcome Model\n",
            "                 Generalized Linear Model Regression Results                  \n",
            "==============================================================================\n",
            "Dep. Variable:            mort_28_day   No. Observations:                11644\n",
            "Model:                            GLM   Df Residuals:                    11608\n",
            "Model Family:                Binomial   Df Model:                           35\n",
            "Link Function:                  logit   Scale:                          1.0000\n",
            "Method:                          IRLS   Log-Likelihood:                -4402.6\n",
            "Date:                Wed, 22 Jun 2022   Deviance:                       8805.2\n",
            "Time:                        06:32:28   Pearson chi2:                 1.10e+04\n",
            "No. Iterations:                   100                                         \n",
            "Covariance Type:            nonrobust                                         \n",
            "=====================================================================================\n",
            "                        coef    std err          z      P>|z|      [0.025      0.975]\n",
            "-------------------------------------------------------------------------------------\n",
            "Intercept            -3.6775      2.017     -1.823      0.068      -7.631       0.276\n",
            "age                   0.0031      0.003      1.207      0.227      -0.002       0.008\n",
            "MICU                 -0.0109      0.063     -0.174      0.862      -0.134       0.112\n",
            "Gender               -0.0774      0.059     -1.309      0.191      -0.193       0.038\n",
            "adm_weekday           0.0056      0.014      0.417      0.676      -0.021       0.032\n",
            "weight               -0.0053      0.001     -4.318      0.000      -0.008      -0.003\n",
            "sapsii                0.0406      0.002     16.510      0.000       0.036       0.045\n",
            "charlson_index        0.0861      0.015      5.624      0.000       0.056       0.116\n",
            "CPD_or_COPD_rate     -0.1566      0.065     -2.397      0.017      -0.285      -0.029\n",
            "Maligancy_rate       -0.1620      0.078     -2.086      0.037      -0.314      -0.010\n",
            "mild_liver_rate       0.1320      0.089      1.478      0.139      -0.043       0.307\n",
            "severe_liver_rate     0.3927      0.115      3.425      0.001       0.168       0.617\n",
            "Renal_rate           -0.1486      0.083     -1.780      0.075      -0.312       0.015\n",
            "CAD_rate             -0.1765      0.075     -2.361      0.018      -0.323      -0.030\n",
            "AFIB_rate             0.2182      0.064      3.426      0.001       0.093       0.343\n",
            "hemoglobin           -0.0071      0.015     -0.480      0.631      -0.036       0.022\n",
            "platelet             -0.0003      0.000     -1.081      0.280      -0.001       0.000\n",
            "wbc                   0.0072      0.002      2.942      0.003       0.002       0.012\n",
            "sodium                0.0567      0.011      5.118      0.000       0.035       0.078\n",
            "potassium             0.0150      0.050      0.296      0.767      -0.084       0.114\n",
            "bicarbonate          -0.0489      0.014     -3.398      0.001      -0.077      -0.021\n",
            "chloride             -0.0509      0.010     -5.155      0.000      -0.070      -0.032\n",
            "bun                   0.0036      0.002      2.171      0.030       0.000       0.007\n",
            "creatinine           -0.1319      0.030     -4.467      0.000      -0.190      -0.074\n",
            "lactate               0.1117      0.021      5.350      0.000       0.071       0.153\n",
            "ph                    2.7011      0.802      3.366      0.001       1.128       4.274\n",
            "po2                  -0.0007      0.001     -1.297      0.195      -0.002       0.000\n",
            "pco2                  0.0161      0.007      2.333      0.020       0.003       0.030\n",
            "bnp                   0.0346      0.132      0.262      0.793      -0.224       0.294\n",
            "troponin              0.3338      0.079      4.230      0.000       0.179       0.488\n",
            "creatinine_kinase     0.0893      0.073      1.216      0.224      -0.055       0.233\n",
            "temperature_mean     -0.4485      0.046     -9.795      0.000      -0.538      -0.359\n",
            "heart_rate_mean       0.0077      0.002      4.233      0.000       0.004       0.011\n",
            "resp_rate_mean        0.0671      0.007      9.615      0.000       0.053       0.081\n",
            "mbp_mean             -0.0099      0.003     -3.235      0.001      -0.016      -0.004\n",
            "sedative_use          0.6155      0.069      8.959      0.000       0.481       0.750\n",
            "ventilation_use      -3.6775      2.017     -1.823      0.068      -7.631       0.276\n",
            "vasopressor_use      -3.6775      2.017     -1.823      0.068      -7.631       0.276\n",
            "=====================================================================================\n",
            "==============================================================================\n"
          ]
        }
      ]
    },
    {
      "cell_type": "code",
      "source": [
        "tml.fit() "
      ],
      "metadata": {
        "id": "WLfOyELkmZ1_"
      },
      "execution_count": 80,
      "outputs": []
    },
    {
      "cell_type": "code",
      "source": [
        "tml.summary()"
      ],
      "metadata": {
        "id": "B9Z1QpvEmds8",
        "outputId": "af1ec380-59e9-417f-da9d-2bd8f3c0a104",
        "colab": {
          "base_uri": "https://localhost:8080/"
        }
      },
      "execution_count": 81,
      "outputs": [
        {
          "output_type": "stream",
          "name": "stdout",
          "text": [
            "======================================================================\n",
            "                Targeted Maximum Likelihood Estimator                 \n",
            "======================================================================\n",
            "Treatment:        midodrine       No. Observations:     11644               \n",
            "Outcome:          mort_28_day     No. Missing Outcome:  0                   \n",
            "g-Model:          Logistic        Missing Model:        None                \n",
            "Q-Model:          Logistic       \n",
            "======================================================================\n",
            "Risk Difference:     0.012\n",
            "95.0% two-sided CI: (-0.033 , 0.057)\n",
            "----------------------------------------------------------------------\n",
            "Risk Ratio:          1.067\n",
            "95.0% two-sided CI: (0.845 , 1.346)\n",
            "----------------------------------------------------------------------\n",
            "Odds Ratio:          1.082\n",
            "95.0% two-sided CI: (0.811 , 1.444)\n",
            "======================================================================\n"
          ]
        }
      ]
    },
    {
      "cell_type": "code",
      "source": [
        "tml.run_diagnostics()"
      ],
      "metadata": {
        "id": "SH0qPWnmnG69",
        "outputId": "7606a913-0059-4316-e944-270d49d45ca1",
        "colab": {
          "base_uri": "https://localhost:8080/",
          "height": 1000
        }
      },
      "execution_count": 82,
      "outputs": [
        {
          "output_type": "stream",
          "name": "stdout",
          "text": [
            "\tExposure Model Diagnostics\n",
            "======================================================================\n",
            "                   Weight Positivity Diagnostics\n",
            "======================================================================\n",
            "If the mean of the weights is far from either the min or max, this may\n",
            " indicate the model is incorrect or positivity is violated\n",
            "Average weight should be 2\n",
            "----------------------------------------------------------------------\n",
            "Mean weight:            1.957\n",
            "Standard Deviation:     7.3\n",
            "Minimum weight:         1.01\n",
            "Maximum weight:         100.0\n",
            "======================================================================\n",
            "\n",
            "======================================================================\n",
            "                  Standardized Mean Differences\n",
            "======================================================================\n",
            "                          smd_w     smd_u\n",
            "labels                                   \n",
            "age               -1.350501e-02 -0.059827\n",
            "MICU              -8.628047e-02  0.169140\n",
            "Gender            -7.870642e-02 -0.073722\n",
            "adm_weekday        4.080462e-02 -0.031428\n",
            "weight            -9.623617e-02  0.163847\n",
            "sapsii             1.243305e-01  0.515211\n",
            "charlson_index     1.960068e-02  0.368102\n",
            "CPD_or_COPD_rate  -1.969641e-02 -0.082643\n",
            "Maligancy_rate    -1.740774e-02 -0.058935\n",
            "mild_liver_rate   -7.318970e-02  0.874871\n",
            "severe_liver_rate -1.704501e-02  0.973508\n",
            "Renal_rate         6.701426e-04  0.248176\n",
            "CAD_rate          -8.395258e-03 -0.027575\n",
            "AFIB_rate         -2.467379e-02  0.166806\n",
            "hemoglobin        -7.512305e-03 -0.522879\n",
            "platelet           4.025194e-02 -0.435183\n",
            "wbc                4.882115e-02  0.083164\n",
            "sodium             1.041806e-01 -0.313209\n",
            "potassium          4.782587e-04  0.162134\n",
            "bicarbonate       -3.029092e-02 -0.410513\n",
            "chloride           8.677216e-02 -0.374758\n",
            "bun               -2.568557e-02  0.574515\n",
            "creatinine        -2.396939e-02  0.553335\n",
            "lactate            1.602325e-01  0.295115\n",
            "ph                -1.483225e-01 -0.138612\n",
            "po2                7.585808e-02 -0.288995\n",
            "pco2               3.465671e-02 -0.229533\n",
            "bnp               -6.594271e-02 -0.011589\n",
            "troponin           9.122907e-02  0.042237\n",
            "creatinine_kinase  4.374471e-02 -0.089807\n",
            "temperature_mean   1.864106e-02 -0.307973\n",
            "heart_rate_mean   -9.702535e-02 -0.068970\n",
            "resp_rate_mean    -3.326687e-02  0.012405\n",
            "mbp_mean          -1.197725e-01 -0.636229\n",
            "sedative_use       1.293919e-01  0.146056\n",
            "ventilation_use    6.322027e-08       NaN\n",
            "vasopressor_use    6.322027e-08       NaN\n",
            "======================================================================\n",
            "\n",
            "\tOutcome Model Diagnostics\n",
            "======================================================================\n",
            "                 Natural Course Prediction Accuracy\n",
            "======================================================================\n",
            "Outcome model accuracy summary statistics. Defined as the predicted\n",
            "outcome value minus the observed outcome value\n",
            "----------------------------------------------------------------------\n",
            "Mean value:            0.0\n",
            "Standard Deviation:     0.344\n",
            "Minimum value:         -0.985\n",
            "Maximum value:         0.981\n",
            "======================================================================\n"
          ]
        },
        {
          "output_type": "display_data",
          "data": {
            "text/plain": [
              "<Figure size 576x432 with 3 Axes>"
            ],
            "image/png": "[encoded data removed]"
          },
          "metadata": {}
        }
      ]
    },
    {
      "cell_type": "markdown",
      "source": [
        "## Weighted cohort using tmle"
      ],
      "metadata": {
        "id": "GUIL5QLxKk8r"
      }
    },
    {
      "cell_type": "code",
      "source": [
        "%load_ext rpy2.ipython"
      ],
      "metadata": {
        "id": "knd-jnlMqQMA"
      },
      "execution_count": 3,
      "outputs": []
    },
    {
      "cell_type": "code",
      "source": [
        "%%R\n",
        "library(tidyverse)\n",
        "library(tmle)\n",
        "library(xgboost)"
      ],
      "metadata": {
        "colab": {
          "base_uri": "https://localhost:8080/"
        },
        "id": "I4FTCYKufjej",
        "outputId": "a96c95fb-0c6b-41fb-d58c-9c2f8072369a"
      },
      "execution_count": 4,
      "outputs": [
        {
          "output_type": "stream",
          "name": "stderr",
          "text": [
            "R[write to console]: ── Attaching packages ─────────────────────────────────────── tidyverse 1.3.1 ──\n",
            "\n",
            "R[write to console]: ✔ ggplot2 3.3.6     ✔ purrr   0.3.4\n",
            "✔ tibble  3.1.7     ✔ dplyr   1.0.9\n",
            "✔ tidyr   1.2.0     ✔ stringr 1.4.0\n",
            "✔ readr   2.1.2     ✔ forcats 0.5.1\n",
            "\n",
            "R[write to console]: ── Conflicts ────────────────────────────────────────── tidyverse_conflicts() ──\n",
            "✖ dplyr::filter() masks stats::filter()\n",
            "✖ dplyr::lag()    masks stats::lag()\n",
            "\n",
            "R[write to console]: Loading required package: glmnet\n",
            "\n",
            "R[write to console]: Loading required package: Matrix\n",
            "\n",
            "R[write to console]: \n",
            "Attaching package: ‘Matrix’\n",
            "\n",
            "\n",
            "R[write to console]: The following objects are masked from ‘package:tidyr’:\n",
            "\n",
            "    expand, pack, unpack\n",
            "\n",
            "\n",
            "R[write to console]: Loaded glmnet 4.1-4\n",
            "\n",
            "R[write to console]: Loading required package: SuperLearner\n",
            "\n",
            "R[write to console]: Loading required package: nnls\n",
            "\n",
            "R[write to console]: Loading required package: gam\n",
            "\n",
            "R[write to console]: Loading required package: splines\n",
            "\n",
            "R[write to console]: Loading required package: foreach\n",
            "\n",
            "R[write to console]: \n",
            "Attaching package: ‘foreach’\n",
            "\n",
            "\n",
            "R[write to console]: The following objects are masked from ‘package:purrr’:\n",
            "\n",
            "    accumulate, when\n",
            "\n",
            "\n",
            "R[write to console]: Loaded gam 1.20.1\n",
            "\n",
            "\n",
            "R[write to console]: Super Learner\n",
            "\n",
            "R[write to console]: Version: 2.0-28\n",
            "\n",
            "R[write to console]: Package created on 2021-05-04\n",
            "\n",
            "\n",
            "R[write to console]: Welcome to the tmle package, version 1.5.0-1.1\n",
            "\n",
            "Major changes since v1.3.x. Use tmleNews() to see details on changes and bug fixes\n",
            "\n",
            "R[write to console]: \n",
            "Attaching package: ‘xgboost’\n",
            "\n",
            "\n",
            "R[write to console]: The following object is masked from ‘package:dplyr’:\n",
            "\n",
            "    slice\n",
            "\n",
            "\n"
          ]
        }
      ]
    },
    {
      "cell_type": "code",
      "source": [
        "%%R\n",
        "full_data <- read.csv(\"https://raw.githubusercontent.com/Jarvis-BITS/midodrine-mimic-iv/demo/data/table_cohort.csv\")"
      ],
      "metadata": {
        "id": "HhQDcNR2N3fr"
      },
      "execution_count": 12,
      "outputs": []
    },
    {
      "cell_type": "code",
      "source": [
        "%%R\n",
        "class(full_data)"
      ],
      "metadata": {
        "colab": {
          "base_uri": "https://localhost:8080/"
        },
        "id": "T-6YDBPvSOoD",
        "outputId": "a19ee462-2c7b-4072-bcfe-d2cf1db2af32"
      },
      "execution_count": 5,
      "outputs": [
        {
          "output_type": "stream",
          "name": "stdout",
          "text": [
            "[1] \"data.frame\"\n"
          ]
        }
      ]
    },
    {
      "cell_type": "code",
      "source": [
        "%%R\n",
        "as_tibble(full_data)"
      ],
      "metadata": {
        "colab": {
          "base_uri": "https://localhost:8080/"
        },
        "id": "kA1mGmeBg78B",
        "outputId": "5b4be6f3-dc15-46b9-fd56-03ba22ac47e2"
      },
      "execution_count": 6,
      "outputs": [
        {
          "output_type": "stream",
          "name": "stdout",
          "text": [
            "# A tibble: 35,300 × 50\n",
            "    stay_id hadm_id subject_id   age Gender ethnicity midodrine avg_doses_per_2…\n",
            "      <int>   <int>      <int> <int>  <int> <chr>         <int>            <dbl>\n",
            " 1 36014877  2.72e7   11861017    87      0 WHITE             1             1.60\n",
            " 2 32272859  2.60e7   11259141    60      1 WHITE             1             1.63\n",
            " 3 34023828  2.18e7   18010960    59      0 UNKNOWN           1             1.59\n",
            " 4 37798199  2.98e7   10926537    42      1 BLACK/AF…         1             1.57\n",
            " 5 32309766  2.93e7   15703353    59      1 WHITE             1             1.52\n",
            " 6 32470068  2.99e7   12682108    32      1 WHITE             1             1.67\n",
            " 7 39913468  2.56e7   14695267    26      0 UNKNOWN           1             1.96\n",
            " 8 36158255  2.69e7   11544355    29      0 UNKNOWN           1             1.69\n",
            " 9 39406131  2.71e7   16583373    51      0 WHITE             1             1.64\n",
            "10 38515563  2.42e7   11896370    62      1 WHITE             1             1.37\n",
            "# … with 35,290 more rows, and 42 more variables: MICU <int>,\n",
            "#   adm_weekday <int>, weight <dbl>, sapsii <dbl>, charlson_index <dbl>,\n",
            "#   CPD_or_COPD_rate <dbl>, Maligancy_rate <dbl>, mild_liver_rate <dbl>,\n",
            "#   severe_liver_rate <dbl>, Renal_rate <dbl>, CAD_rate <dbl>, AFIB_rate <dbl>,\n",
            "#   hemoglobin <dbl>, platelet <dbl>, wbc <dbl>, sodium <dbl>, potassium <dbl>,\n",
            "#   bicarbonate <dbl>, chloride <dbl>, bun <dbl>, creatinine <dbl>,\n",
            "#   lactate <dbl>, ph <dbl>, po2 <dbl>, pco2 <dbl>, bnp <dbl>, …\n"
          ]
        }
      ]
    },
    {
      "cell_type": "code",
      "source": [
        "%%R\n",
        "plot(density(full_data$mort_28_day), main = \"mortality plot\") #should come out as bionomial"
      ],
      "metadata": {
        "colab": {
          "base_uri": "https://localhost:8080/",
          "height": 497
        },
        "id": "lugHPnftWF4Z",
        "outputId": "01a7b134-d1f9-4759-fbae-103b0382d551"
      },
      "execution_count": 81,
      "outputs": [
        {
          "output_type": "display_data",
          "data": {
            "image/png": "[encoded data removed]"
          },
          "metadata": {}
        }
      ]
    },
    {
      "cell_type": "code",
      "source": [
        "%%R\n",
        "features = subset(full_data,select=-c(stay_id,hadm_id,subject_id,ethnicity,midodrine,avg_doses_per_24_hrs,mortality,mort_28_day,vasopressor_use))"
      ],
      "metadata": {
        "id": "r84rZoLpoKQd"
      },
      "execution_count": 13,
      "outputs": []
    },
    {
      "cell_type": "code",
      "source": [
        "%%R\n",
        "str(features)"
      ],
      "metadata": {
        "colab": {
          "base_uri": "https://localhost:8080/"
        },
        "id": "qddbLWeVpSLD",
        "outputId": "9cf3b84b-811a-4278-e1ad-7b7fb20aeba9"
      },
      "execution_count": 8,
      "outputs": [
        {
          "output_type": "stream",
          "name": "stdout",
          "text": [
            "'data.frame':\t35300 obs. of  41 variables:\n",
            " $ age              : int  87 60 59 42 59 32 26 29 51 62 ...\n",
            " $ Gender           : int  0 1 0 1 1 1 0 0 0 1 ...\n",
            " $ MICU             : int  0 0 0 0 0 0 0 0 1 0 ...\n",
            " $ adm_weekday      : int  1 7 1 7 6 3 2 7 1 5 ...\n",
            " $ weight           : num  70 81.6 90 73 72.7 86.3 81 66.8 62 111 ...\n",
            " $ sapsii           : num  42 34 15 30 20 18 38 24 31 23 ...\n",
            " $ charlson_index   : num  8.83 3.33 3 2 3 ...\n",
            " $ CPD_or_COPD_rate : num  0 0 0 0 0 0 0 0 0 0 ...\n",
            " $ Maligancy_rate   : num  0 0 0 0 0 0 0 0 0 0 ...\n",
            " $ mild_liver_rate  : num  0 0 0 0 0 0 0 0 1 0 ...\n",
            " $ severe_liver_rate: num  0 0 0 0 0 0 0 0 0 0 ...\n",
            " $ Renal_rate       : num  0 0 0 0 0 0 0 0 0 0 ...\n",
            " $ CAD_rate         : num  1 0 0 0 0 0 0 0 0 0 ...\n",
            " $ AFIB_rate        : num  0 1 0 0 0 0 0 0 1 0 ...\n",
            " $ hemoglobin       : num  10.4 11.2 13.2 12.4 8 ...\n",
            " $ platelet         : num  273 238 157 195 223 ...\n",
            " $ wbc              : num  11.7 10.6 11.5 12.1 10.2 ...\n",
            " $ sodium           : num  136 135 142 140 136 ...\n",
            " $ potassium        : num  3.6 4.17 3.4 3.8 4.25 ...\n",
            " $ bicarbonate      : num  20 24 21 18 22.5 20 18 22 20 24 ...\n",
            " $ chloride         : num  97 103 110 112 101 ...\n",
            " $ bun              : num  15.5 7.67 13 8 10 ...\n",
            " $ creatinine       : num  0.8 0.4 0.8 0.7 0.6 0.7 0.8 0.75 0.6 0.7 ...\n",
            " $ lactate          : num  1.7 1.1 NA NA NA NA 0.7 1.1 NA 1.1 ...\n",
            " $ ph               : num  7.45 7.45 NA NA NA ...\n",
            " $ po2              : num  221 100 NA NA NA ...\n",
            " $ pco2             : num  31 38 NA NA NA NA 35.5 38 40.5 42 ...\n",
            " $ bnp              : num  0 0 0 0 0 0 0 0 0 0 ...\n",
            " $ troponin         : num  0 0 0 0 0 0 0 0 0 0 ...\n",
            " $ creatinine_kinase: num  0 1 1 0 0 1 1 0 0 1 ...\n",
            " $ heart_rate_mean  : num  78.3 100.3 53.9 66.9 82.2 ...\n",
            " $ sbp_mean         : num  123 120 129 121 114 ...\n",
            " $ dbp_mean         : num  51.6 77.6 65.5 71 57.5 ...\n",
            " $ mbp_mean         : num  76.6 93.3 84.7 82.7 77.5 ...\n",
            " $ resp_rate_mean   : num  17.6 17.3 15.4 17.2 21.7 ...\n",
            " $ temperature_mean : num  36.4 36.9 36.8 37.1 37.4 ...\n",
            " $ spo2_mean        : num  100 97.3 96.6 99.8 98.2 ...\n",
            " $ glucose_mean     : num  247 120 98 95 137 ...\n",
            " $ sedative_use     : num  1 1 1 1 1 0 1 1 1 0 ...\n",
            " $ ventilation_use  : num  1 1 1 1 1 1 1 1 1 1 ...\n",
            " $ admit_hour       : int  15 18 15 17 3 12 17 15 0 5 ...\n"
          ]
        }
      ]
    },
    {
      "cell_type": "code",
      "source": [
        "%%R\n",
        "# using colMeans()\n",
        "mean_val <- colMeans(features,na.rm = TRUE)\n",
        "  \n",
        "# replacing NA with mean value of each column\n",
        "for(i in colnames(features))\n",
        "  features[,i][is.na(features[,i])] <- mean_val[i]"
      ],
      "metadata": {
        "id": "5Mg5O6FpfepN"
      },
      "execution_count": 18,
      "outputs": []
    },
    {
      "cell_type": "code",
      "source": [
        "%%R \n",
        "set.seed(20220614)\n",
        "SL.library = c(\"SL.glm\", \"SL.glmnet\", \"SL.xgboost\") # Faster library\n",
        "g.SL.library <- c(\"SL.glm\", \"SL.glmnet\", \"SL.stepAIC\", \"SL.bayesGLM\", \"SL.glm.interaction\", \"SL.mean\", \"SL.earth\", \"SL.gam\", \"SL.xgboost\")\n",
        "Q.SL.library <- c(\"SL.glm\", \"SL.glmnet\", \"SL.stepAIC\", \"SL.rpartPrune\", \"SL.mean\")"
      ],
      "metadata": {
        "id": "IyZjhtyvKsJV"
      },
      "execution_count": 21,
      "outputs": []
    },
    {
      "cell_type": "code",
      "source": [
        "%%R\n",
        "colnames(features)"
      ],
      "metadata": {
        "colab": {
          "base_uri": "https://localhost:8080/"
        },
        "id": "pPDQw-QReWdG",
        "outputId": "75c5acc3-be80-41f0-f934-55044b6033d3"
      },
      "execution_count": 11,
      "outputs": [
        {
          "output_type": "stream",
          "name": "stdout",
          "text": [
            " [1] \"age\"               \"Gender\"            \"MICU\"             \n",
            " [4] \"adm_weekday\"       \"weight\"            \"sapsii\"           \n",
            " [7] \"charlson_index\"    \"CPD_or_COPD_rate\"  \"Maligancy_rate\"   \n",
            "[10] \"mild_liver_rate\"   \"severe_liver_rate\" \"Renal_rate\"       \n",
            "[13] \"CAD_rate\"          \"AFIB_rate\"         \"hemoglobin\"       \n",
            "[16] \"platelet\"          \"wbc\"               \"sodium\"           \n",
            "[19] \"potassium\"         \"bicarbonate\"       \"chloride\"         \n",
            "[22] \"bun\"               \"creatinine\"        \"lactate\"          \n",
            "[25] \"ph\"                \"po2\"               \"pco2\"             \n",
            "[28] \"bnp\"               \"troponin\"          \"creatinine_kinase\"\n",
            "[31] \"heart_rate_mean\"   \"sbp_mean\"          \"dbp_mean\"         \n",
            "[34] \"mbp_mean\"          \"resp_rate_mean\"    \"temperature_mean\" \n",
            "[37] \"spo2_mean\"         \"glucose_mean\"      \"sedative_use\"     \n",
            "[40] \"ventilation_use\"   \"admit_hour\"       \n"
          ]
        }
      ]
    },
    {
      "cell_type": "code",
      "source": [
        "%%R\n",
        "tmle.fit <- tmle::tmle(Y = full_data$mort_28_day, \n",
        "                   A = full_data$midodrine, \n",
        "                   W = features,\n",
        "                   family = \"binomial\",\n",
        "                   V = 3,\n",
        "                   Q.SL.library = SL.library, \n",
        "                   g.SL.library = SL.library)"
      ],
      "metadata": {
        "id": "1ycCy1ilTHBR"
      },
      "execution_count": 22,
      "outputs": []
    },
    {
      "cell_type": "code",
      "source": [
        "%%R\n",
        "tmle.fit"
      ],
      "metadata": {
        "colab": {
          "base_uri": "https://localhost:8080/"
        },
        "id": "5dF7bbRj0FAa",
        "outputId": "6db38507-dc80-4c6e-e7ff-b35c161507e8"
      },
      "execution_count": 23,
      "outputs": [
        {
          "output_type": "stream",
          "name": "stdout",
          "text": [
            " Additive Effect\n",
            "   Parameter Estimate:  0.016993\n",
            "   Estimated Variance:  3.6085e-06\n",
            "              p-value:  <2e-16\n",
            "    95% Conf Interval: (0.01327, 0.020717) \n",
            "\n",
            " Additive Effect among the Treated\n",
            "   Parameter Estimate:  0.035811\n",
            "   Estimated Variance:  0.00024758\n",
            "              p-value:  0.022852\n",
            "    95% Conf Interval: (0.0049706, 0.066651) \n",
            "\n",
            " Additive Effect among the Controls\n",
            "   Parameter Estimate:  -0.088951\n",
            "   Estimated Variance:  3.4588e-06\n",
            "              p-value:  <2e-16\n",
            "    95% Conf Interval: (-0.092596, -0.085306) \n",
            "\n",
            " Relative Risk\n",
            "   Parameter Estimate:  1.1529\n",
            "              p-value:  <2e-16\n",
            "    95% Conf Interval: (1.1169, 1.1901) \n",
            "\n",
            "              log(RR):  0.1423\n",
            "    variance(log(RR)):  0.00026239 \n",
            "\n",
            " Odds Ratio\n",
            "   Parameter Estimate:  1.1754\n",
            "              p-value:  <2e-16\n",
            "    95% Conf Interval: (1.1339, 1.2184) \n",
            "\n",
            "              log(OR):  0.1616\n",
            "    variance(log(OR)):  0.00033644 \n"
          ]
        }
      ]
    },
    {
      "cell_type": "code",
      "source": [
        "%%R\n",
        "summary(tmle.fit)"
      ],
      "metadata": {
        "colab": {
          "base_uri": "https://localhost:8080/"
        },
        "id": "ovhPkvOA0g0B",
        "outputId": "f7a8671a-fc9a-489c-dc09-5af774967d91"
      },
      "execution_count": 24,
      "outputs": [
        {
          "output_type": "stream",
          "name": "stdout",
          "text": [
            " Initial estimation of Q\n",
            "\t Procedure: cv-SuperLearner, ensemble\n",
            "\t Model:\n",
            "\t\t Y ~  SL.glm_All + SL.glmnet_All + SL.xgboost_All\n",
            "\n",
            "\t Coefficients: \n",
            "\t      SL.glm_All    0.3244076 \n",
            "\t   SL.glmnet_All    0 \n",
            "\t  SL.xgboost_All    0.6755924 \n",
            "\n",
            "\t Cross-validated pseudo R squared :  0.2924 \n",
            "\n",
            " Estimation of g (treatment mechanism)\n",
            "\t Procedure: SuperLearner, ensemble\t Empirical AUC = 0.9955 \n",
            "\n",
            "\t Model:\n",
            "\t\t A ~  SL.glm_All + SL.glmnet_All + SL.xgboost_All \n",
            "\n",
            "\t Coefficients: \n",
            "\t      SL.glm_All    0.3162209 \n",
            "\t   SL.glmnet_All    0.2786243 \n",
            "\t  SL.xgboost_All    0.4051549 \n",
            "\n",
            " Estimation of g.Z (intermediate variable assignment mechanism)\n",
            "\t Procedure: No intermediate variable \n",
            "\n",
            " Estimation of g.Delta (missingness mechanism)\n",
            "\t Procedure: No missingness, ensemble\n",
            "\n",
            " Bounds on g: (0.0025, 1) \n",
            "\n",
            " Bounds on g for ATT/ATE: (0.0025, 0.9975) \n",
            "\n",
            " Additive Effect\n",
            "   Parameter Estimate:  0.016993\n",
            "   Estimated Variance:  3.6085e-06\n",
            "              p-value:  <2e-16\n",
            "    95% Conf Interval: (0.01327, 0.020717) \n",
            "\n",
            " Additive Effect among the Treated\n",
            "   Parameter Estimate:  0.035811\n",
            "   Estimated Variance:  0.00024758\n",
            "              p-value:  0.022852\n",
            "    95% Conf Interval: (0.0049706, 0.066651) \n",
            "\n",
            " Additive Effect among the Controls\n",
            "   Parameter Estimate:  -0.088951\n",
            "   Estimated Variance:  3.4588e-06\n",
            "              p-value:  <2e-16\n",
            "    95% Conf Interval: (-0.092596, -0.085306) \n",
            "\n",
            " Relative Risk\n",
            "   Parameter Estimate:  1.1529\n",
            "              p-value:  <2e-16\n",
            "    95% Conf Interval: (1.1169, 1.1901) \n",
            "\n",
            "              log(RR):  0.1423\n",
            "    variance(log(RR)):  0.00026239 \n",
            "\n",
            " Odds Ratio\n",
            "   Parameter Estimate:  1.1754\n",
            "              p-value:  <2e-16\n",
            "    95% Conf Interval: (1.1339, 1.2184) \n",
            "\n",
            "              log(OR):  0.1616\n",
            "    variance(log(OR)):  0.00033644 \n"
          ]
        }
      ]
    },
    {
      "cell_type": "code",
      "source": [
        "%%R\n",
        "tmle_est_tr <- tmle.fit$estimates$ATE$psi\n",
        "tmle_est_tr"
      ],
      "metadata": {
        "colab": {
          "base_uri": "https://localhost:8080/"
        },
        "id": "PjITDG8l0nV_",
        "outputId": "088c5b0d-ae53-4b32-d28e-71cc3ecdeca4"
      },
      "execution_count": 25,
      "outputs": [
        {
          "output_type": "stream",
          "name": "stdout",
          "text": [
            "[1] 0.01699342\n"
          ]
        }
      ]
    },
    {
      "cell_type": "markdown",
      "source": [
        "## Extract matched no-midodrine data\n",
        "Here I use the first way"
      ],
      "metadata": {
        "id": "8xgcjsBSQ7yi"
      }
    },
    {
      "cell_type": "code",
      "source": [
        "nomid_matched = table_init[table_init['stay_id'].isin(psm.matched_ids['matched_ID'])]"
      ],
      "metadata": {
        "id": "bWY9WG3iQojM"
      },
      "execution_count": null,
      "outputs": []
    },
    {
      "cell_type": "code",
      "source": [
        "nomid_matched.describe()"
      ],
      "metadata": {
        "id": "T8vqlizlfkza"
      },
      "execution_count": null,
      "outputs": []
    },
    {
      "cell_type": "code",
      "source": [
        "nomid_group.describe()"
      ],
      "metadata": {
        "id": "JM-QFfa2fno5"
      },
      "execution_count": null,
      "outputs": []
    },
    {
      "cell_type": "code",
      "source": [
        "psm.effect_size"
      ],
      "metadata": {
        "id": "JWNGX6kmGL2f"
      },
      "execution_count": null,
      "outputs": []
    },
    {
      "cell_type": "markdown",
      "source": [
        "## Save the results"
      ],
      "metadata": {
        "id": "EpkwjvgMFbP2"
      }
    },
    {
      "cell_type": "code",
      "source": [
        "mid_group.describe().to_csv('/content/drive/MyDrive/midodrine_table1_results/mid_group.csv')\n",
        "nomid_group.describe().to_csv('/content/drive/MyDrive/midodrine_table1_results/nomid_group.csv')\n",
        "nomid_matched.describe().to_csv('/content/drive/MyDrive/midodrine_table1_results/nomid_matched.csv')\n",
        "psm.effect_size.to_csv('/content/drive/MyDrive/midodrine_table1_results/psm_effect_size.csv')"
      ],
      "metadata": {
        "id": "X1_BeO1H853Q"
      },
      "execution_count": null,
      "outputs": []
    },
    {
      "cell_type": "code",
      "source": [
        ""
      ],
      "metadata": {
        "id": "JvxpKsU8GC5S"
      },
      "execution_count": null,
      "outputs": []
    }
  ],
  "metadata": {
    "colab": {
      "background_execution": "on",
      "collapsed_sections": [],
      "name": "Midodrine-analysis.ipynb",
      "provenance": [],
      "include_colab_link": true
    },
    "kernelspec": {
      "display_name": "Python 3",
      "name": "python3"
    },
    "language_info": {
      "name": "python"
    },
    "gpuClass": "standard",
    "accelerator": "GPU"
  },
  "nbformat": 4,
  "nbformat_minor": 0
}