{
  "cells": [
    {
      "cell_type": "markdown",
      "metadata": {
        "id": "view-in-github",
        "colab_type": "text"
      },
      "source": [
        "<a href=\"https://colab.research.google.com/github/Jarvis-BITS/midodrine-mimic-iv/blob/demo/notebook/03_tmle_ps.ipynb\" target=\"_parent\"><img src=\"https://colab.research.google.com/assets/colab-badge.svg\" alt=\"Open In Colab\"/></a>"
      ]
    },
    {
      "cell_type": "markdown",
      "metadata": {
        "id": "_HjDBG56TISW"
      },
      "source": [
        "Import libraries"
      ]
    },
    {
      "cell_type": "code",
      "source": [
        "!pip install causalml\n",
        "!pip install zepid\n",
        "!pip install rpy2"
      ],
      "metadata": {
        "id": "BZ_aFSIUS5-L"
      },
      "execution_count": null,
      "outputs": []
    },
    {
      "cell_type": "code",
      "execution_count": 3,
      "metadata": {
        "id": "2vbq436UTFSP",
        "colab": {
          "base_uri": "https://localhost:8080/"
        },
        "outputId": "a4815811-a2e1-4f58-e3a5-c13e25d6d9a3"
      },
      "outputs": [
        {
          "output_type": "stream",
          "name": "stderr",
          "text": [
            "/usr/local/lib/python3.7/dist-packages/statsmodels/tools/_testing.py:19: FutureWarning: pandas.util.testing is deprecated. Use the functions in the public API at pandas.testing instead.\n",
            "  import pandas.util.testing as tm\n"
          ]
        }
      ],
      "source": [
        "import pandas as pd\n",
        "import matplotlib.pyplot as plt\n",
        "import numpy as np\n",
        "\n",
        "import tensorflow as tf \n",
        "from causalml import match\n",
        "from zepid import (RiskDifference, RiskRatio, OddsRatio, NNT,\n",
        "                   IncidenceRateRatio, IncidenceRateDifference)\n",
        "from zepid.superlearner import GLMSL, StepwiseSL, SuperLearner\n",
        "from zepid.causal.doublyrobust import TMLE, SingleCrossfitAIPTW, SingleCrossfitTMLE\n",
        "\n",
        "import rpy2.robjects as ro\n",
        "from rpy2.robjects import r, pandas2ri\n",
        "from rpy2.robjects.conversion import localconverter \n",
        "import seaborn as sns\n",
        "sns.set(rc={'figure.figsize':(16,10)}, font_scale=1.3)\n",
        "\n",
        "import sys\n",
        "import requests \n",
        "import io\n",
        "import os\n",
        "import warnings\n",
        "warnings.filterwarnings('ignore')"
      ]
    },
    {
      "cell_type": "code",
      "source": [
        "%load_ext rpy2.ipython"
      ],
      "metadata": {
        "id": "-de-rNF45E8D"
      },
      "execution_count": 4,
      "outputs": []
    },
    {
      "cell_type": "code",
      "source": [
        "from google.colab import drive\n",
        "drive.mount(\"/content/gdrive\")"
      ],
      "metadata": {
        "id": "lNaMcIGQ8rTI",
        "outputId": "da47e416-2008-4cab-9de2-9d359610d73c",
        "colab": {
          "base_uri": "https://localhost:8080/"
        }
      },
      "execution_count": 5,
      "outputs": [
        {
          "output_type": "stream",
          "name": "stdout",
          "text": [
            "Drive already mounted at /content/gdrive; to attempt to forcibly remount, call drive.mount(\"/content/gdrive\", force_remount=True).\n"
          ]
        }
      ]
    },
    {
      "cell_type": "markdown",
      "source": [
        "Check to see if GPU connected. \n",
        "It is advised to add GPU from Runtime<Change runtime type<Hardware Accelaration<GPU for faster processing speeds"
      ],
      "metadata": {
        "id": "VJiP7tcPIMXX"
      }
    },
    {
      "cell_type": "code",
      "source": [
        "device_name = tf.test.gpu_device_name()\n",
        "if device_name != '/device:GPU:0':\n",
        "  raise SystemError('GPU device not found')\n",
        "print('Found GPU at: {}'.format(device_name))"
      ],
      "metadata": {
        "colab": {
          "base_uri": "https://localhost:8080/"
        },
        "id": "MxyKCFb-IJxA",
        "outputId": "08ac5ada-21d7-43ae-d1db-d0d9857340e3"
      },
      "execution_count": null,
      "outputs": [
        {
          "output_type": "stream",
          "name": "stdout",
          "text": [
            "Found GPU at: /device:GPU:0\n"
          ]
        }
      ]
    },
    {
      "cell_type": "markdown",
      "source": [
        "## Importing cohort_table"
      ],
      "metadata": {
        "id": "ZjmnXLRqXSb6"
      }
    },
    {
      "cell_type": "code",
      "source": [
        "path = \"/content/gdrive/MyDrive/midodrine\"\n",
        "fnames = os.listdir(path)\n",
        "print(fnames)"
      ],
      "metadata": {
        "id": "JG3aTlc09E27",
        "outputId": "917d16a4-22fb-47a6-b91c-f15c03c29823",
        "colab": {
          "base_uri": "https://localhost:8080/"
        }
      },
      "execution_count": 9,
      "outputs": [
        {
          "output_type": "stream",
          "name": "stdout",
          "text": [
            "['features_complete.csv', 'table_cohort.csv']\n"
          ]
        }
      ]
    },
    {
      "cell_type": "code",
      "source": [
        "cohort_table = pd.read_csv(os.path.join(path, fnames[1]))\n",
        "cohort_table"
      ],
      "metadata": {
        "colab": {
          "base_uri": "https://localhost:8080/",
          "height": 505
        },
        "id": "dtF7xgZl2L9D",
        "outputId": "26870706-7880-481d-efe8-82a17fd9472d"
      },
      "execution_count": 10,
      "outputs": [
        {
          "output_type": "execute_result",
          "data": {
            "text/plain": [
              "        stay_id   hadm_id  subject_id  age  Gender               ethnicity  \\\n",
              "0      36014877  27162817    11861017   87       0                   WHITE   \n",
              "1      32272859  25963696    11259141   60       1                   WHITE   \n",
              "2      34023828  21782431    18010960   59       0                 UNKNOWN   \n",
              "3      37798199  29764966    10926537   42       1  BLACK/AFRICAN AMERICAN   \n",
              "4      32309766  29272306    15703353   59       1                   WHITE   \n",
              "...         ...       ...         ...  ...     ...                     ...   \n",
              "35295  39955170  24679700    12799579   55       1                   WHITE   \n",
              "35296  39977793  20968809    13886051   66       1                   WHITE   \n",
              "35297  39980385  21253505    11392990   73       0                   WHITE   \n",
              "35298  39985296  29295929    19632565   59       1                   WHITE   \n",
              "35299  39987031  23194856    12762280   82       1                   WHITE   \n",
              "\n",
              "       midodrine  avg_doses_per_24_hrs  MICU  adm_weekday  ...  \\\n",
              "0              1              1.595745     0            1  ...   \n",
              "1              1              1.633333     0            7  ...   \n",
              "2              1              1.589041     0            1  ...   \n",
              "3              1              1.568627     0            7  ...   \n",
              "4              1              1.517241     0            6  ...   \n",
              "...          ...                   ...   ...          ...  ...   \n",
              "35295          0              1.464286     1            7  ...   \n",
              "35296          0              1.407407     1            3  ...   \n",
              "35297          0              1.592593     1            5  ...   \n",
              "35298          0              1.782609     1            2  ...   \n",
              "35299          0              2.035714     1            7  ...   \n",
              "\n",
              "       resp_rate_mean  temperature_mean   spo2_mean  glucose_mean  \\\n",
              "0           17.600000         36.416667  100.000000    247.375000   \n",
              "1           17.333333         36.898333   97.259259    120.200000   \n",
              "2           15.392857         36.786667   96.629630     98.000000   \n",
              "3           17.240000         37.142857   99.791667     95.000000   \n",
              "4           21.740741         37.372000   98.178571    136.800000   \n",
              "...               ...               ...         ...           ...   \n",
              "35295       24.148148         37.325000   94.115385    148.333333   \n",
              "35296       14.400000         36.646364   97.205882     96.333333   \n",
              "35297       19.605263         36.835000   93.605263    203.200000   \n",
              "35298       25.692308         36.603333   96.296296    173.400000   \n",
              "35299       18.608696         36.508571   96.095238    118.666667   \n",
              "\n",
              "       sedative_use  ventilation_use  vasopressor_use  mortality  mort_28_day  \\\n",
              "0               1.0              1.0                1          0            0   \n",
              "1               1.0              1.0                1          0            0   \n",
              "2               1.0              1.0                1          0            0   \n",
              "3               1.0              1.0                1          0            0   \n",
              "4               1.0              1.0                1          0            0   \n",
              "...             ...              ...              ...        ...          ...   \n",
              "35295           0.0              1.0                1          0            0   \n",
              "35296           0.0              1.0                1          1            1   \n",
              "35297           0.0              1.0                1          1            0   \n",
              "35298           0.0              1.0                1          1            1   \n",
              "35299           0.0              1.0                1          0            0   \n",
              "\n",
              "       admit_hour  \n",
              "0              15  \n",
              "1              18  \n",
              "2              15  \n",
              "3              17  \n",
              "4               3  \n",
              "...           ...  \n",
              "35295          19  \n",
              "35296          19  \n",
              "35297           6  \n",
              "35298          15  \n",
              "35299          22  \n",
              "\n",
              "[35300 rows x 50 columns]"
            ],
            "text/html": [
              "\n",
              "  <div id=\"df-7e85a2ef-e8b3-421e-a262-dcb7e1b25909\">\n",
              "    <div class=\"colab-df-container\">\n",
              "      <div>\n",
              "<style scoped>\n",
              "    .dataframe tbody tr th:only-of-type {\n",
              "        vertical-align: middle;\n",
              "    }\n",
              "\n",
              "    .dataframe tbody tr th {\n",
              "        vertical-align: top;\n",
              "    }\n",
              "\n",
              "    .dataframe thead th {\n",
              "        text-align: right;\n",
              "    }\n",
              "</style>\n",
              "<table border=\"1\" class=\"dataframe\">\n",
              "  <thead>\n",
              "    <tr style=\"text-align: right;\">\n",
              "      <th></th>\n",
              "      <th>stay_id</th>\n",
              "      <th>hadm_id</th>\n",
              "      <th>subject_id</th>\n",
              "      <th>age</th>\n",
              "      <th>Gender</th>\n",
              "      <th>ethnicity</th>\n",
              "      <th>midodrine</th>\n",
              "      <th>avg_doses_per_24_hrs</th>\n",
              "      <th>MICU</th>\n",
              "      <th>adm_weekday</th>\n",
              "      <th>...</th>\n",
              "      <th>resp_rate_mean</th>\n",
              "      <th>temperature_mean</th>\n",
              "      <th>spo2_mean</th>\n",
              "      <th>glucose_mean</th>\n",
              "      <th>sedative_use</th>\n",
              "      <th>ventilation_use</th>\n",
              "      <th>vasopressor_use</th>\n",
              "      <th>mortality</th>\n",
              "      <th>mort_28_day</th>\n",
              "      <th>admit_hour</th>\n",
              "    </tr>\n",
              "  </thead>\n",
              "  <tbody>\n",
              "    <tr>\n",
              "      <th>0</th>\n",
              "      <td>36014877</td>\n",
              "      <td>27162817</td>\n",
              "      <td>11861017</td>\n",
              "      <td>87</td>\n",
              "      <td>0</td>\n",
              "      <td>WHITE</td>\n",
              "      <td>1</td>\n",
              "      <td>1.595745</td>\n",
              "      <td>0</td>\n",
              "      <td>1</td>\n",
              "      <td>...</td>\n",
              "      <td>17.600000</td>\n",
              "      <td>36.416667</td>\n",
              "      <td>100.000000</td>\n",
              "      <td>247.375000</td>\n",
              "      <td>1.0</td>\n",
              "      <td>1.0</td>\n",
              "      <td>1</td>\n",
              "      <td>0</td>\n",
              "      <td>0</td>\n",
              "      <td>15</td>\n",
              "    </tr>\n",
              "    <tr>\n",
              "      <th>1</th>\n",
              "      <td>32272859</td>\n",
              "      <td>25963696</td>\n",
              "      <td>11259141</td>\n",
              "      <td>60</td>\n",
              "      <td>1</td>\n",
              "      <td>WHITE</td>\n",
              "      <td>1</td>\n",
              "      <td>1.633333</td>\n",
              "      <td>0</td>\n",
              "      <td>7</td>\n",
              "      <td>...</td>\n",
              "      <td>17.333333</td>\n",
              "      <td>36.898333</td>\n",
              "      <td>97.259259</td>\n",
              "      <td>120.200000</td>\n",
              "      <td>1.0</td>\n",
              "      <td>1.0</td>\n",
              "      <td>1</td>\n",
              "      <td>0</td>\n",
              "      <td>0</td>\n",
              "      <td>18</td>\n",
              "    </tr>\n",
              "    <tr>\n",
              "      <th>2</th>\n",
              "      <td>34023828</td>\n",
              "      <td>21782431</td>\n",
              "      <td>18010960</td>\n",
              "      <td>59</td>\n",
              "      <td>0</td>\n",
              "      <td>UNKNOWN</td>\n",
              "      <td>1</td>\n",
              "      <td>1.589041</td>\n",
              "      <td>0</td>\n",
              "      <td>1</td>\n",
              "      <td>...</td>\n",
              "      <td>15.392857</td>\n",
              "      <td>36.786667</td>\n",
              "      <td>96.629630</td>\n",
              "      <td>98.000000</td>\n",
              "      <td>1.0</td>\n",
              "      <td>1.0</td>\n",
              "      <td>1</td>\n",
              "      <td>0</td>\n",
              "      <td>0</td>\n",
              "      <td>15</td>\n",
              "    </tr>\n",
              "    <tr>\n",
              "      <th>3</th>\n",
              "      <td>37798199</td>\n",
              "      <td>29764966</td>\n",
              "      <td>10926537</td>\n",
              "      <td>42</td>\n",
              "      <td>1</td>\n",
              "      <td>BLACK/AFRICAN AMERICAN</td>\n",
              "      <td>1</td>\n",
              "      <td>1.568627</td>\n",
              "      <td>0</td>\n",
              "      <td>7</td>\n",
              "      <td>...</td>\n",
              "      <td>17.240000</td>\n",
              "      <td>37.142857</td>\n",
              "      <td>99.791667</td>\n",
              "      <td>95.000000</td>\n",
              "      <td>1.0</td>\n",
              "      <td>1.0</td>\n",
              "      <td>1</td>\n",
              "      <td>0</td>\n",
              "      <td>0</td>\n",
              "      <td>17</td>\n",
              "    </tr>\n",
              "    <tr>\n",
              "      <th>4</th>\n",
              "      <td>32309766</td>\n",
              "      <td>29272306</td>\n",
              "      <td>15703353</td>\n",
              "      <td>59</td>\n",
              "      <td>1</td>\n",
              "      <td>WHITE</td>\n",
              "      <td>1</td>\n",
              "      <td>1.517241</td>\n",
              "      <td>0</td>\n",
              "      <td>6</td>\n",
              "      <td>...</td>\n",
              "      <td>21.740741</td>\n",
              "      <td>37.372000</td>\n",
              "      <td>98.178571</td>\n",
              "      <td>136.800000</td>\n",
              "      <td>1.0</td>\n",
              "      <td>1.0</td>\n",
              "      <td>1</td>\n",
              "      <td>0</td>\n",
              "      <td>0</td>\n",
              "      <td>3</td>\n",
              "    </tr>\n",
              "    <tr>\n",
              "      <th>...</th>\n",
              "      <td>...</td>\n",
              "      <td>...</td>\n",
              "      <td>...</td>\n",
              "      <td>...</td>\n",
              "      <td>...</td>\n",
              "      <td>...</td>\n",
              "      <td>...</td>\n",
              "      <td>...</td>\n",
              "      <td>...</td>\n",
              "      <td>...</td>\n",
              "      <td>...</td>\n",
              "      <td>...</td>\n",
              "      <td>...</td>\n",
              "      <td>...</td>\n",
              "      <td>...</td>\n",
              "      <td>...</td>\n",
              "      <td>...</td>\n",
              "      <td>...</td>\n",
              "      <td>...</td>\n",
              "      <td>...</td>\n",
              "      <td>...</td>\n",
              "    </tr>\n",
              "    <tr>\n",
              "      <th>35295</th>\n",
              "      <td>39955170</td>\n",
              "      <td>24679700</td>\n",
              "      <td>12799579</td>\n",
              "      <td>55</td>\n",
              "      <td>1</td>\n",
              "      <td>WHITE</td>\n",
              "      <td>0</td>\n",
              "      <td>1.464286</td>\n",
              "      <td>1</td>\n",
              "      <td>7</td>\n",
              "      <td>...</td>\n",
              "      <td>24.148148</td>\n",
              "      <td>37.325000</td>\n",
              "      <td>94.115385</td>\n",
              "      <td>148.333333</td>\n",
              "      <td>0.0</td>\n",
              "      <td>1.0</td>\n",
              "      <td>1</td>\n",
              "      <td>0</td>\n",
              "      <td>0</td>\n",
              "      <td>19</td>\n",
              "    </tr>\n",
              "    <tr>\n",
              "      <th>35296</th>\n",
              "      <td>39977793</td>\n",
              "      <td>20968809</td>\n",
              "      <td>13886051</td>\n",
              "      <td>66</td>\n",
              "      <td>1</td>\n",
              "      <td>WHITE</td>\n",
              "      <td>0</td>\n",
              "      <td>1.407407</td>\n",
              "      <td>1</td>\n",
              "      <td>3</td>\n",
              "      <td>...</td>\n",
              "      <td>14.400000</td>\n",
              "      <td>36.646364</td>\n",
              "      <td>97.205882</td>\n",
              "      <td>96.333333</td>\n",
              "      <td>0.0</td>\n",
              "      <td>1.0</td>\n",
              "      <td>1</td>\n",
              "      <td>1</td>\n",
              "      <td>1</td>\n",
              "      <td>19</td>\n",
              "    </tr>\n",
              "    <tr>\n",
              "      <th>35297</th>\n",
              "      <td>39980385</td>\n",
              "      <td>21253505</td>\n",
              "      <td>11392990</td>\n",
              "      <td>73</td>\n",
              "      <td>0</td>\n",
              "      <td>WHITE</td>\n",
              "      <td>0</td>\n",
              "      <td>1.592593</td>\n",
              "      <td>1</td>\n",
              "      <td>5</td>\n",
              "      <td>...</td>\n",
              "      <td>19.605263</td>\n",
              "      <td>36.835000</td>\n",
              "      <td>93.605263</td>\n",
              "      <td>203.200000</td>\n",
              "      <td>0.0</td>\n",
              "      <td>1.0</td>\n",
              "      <td>1</td>\n",
              "      <td>1</td>\n",
              "      <td>0</td>\n",
              "      <td>6</td>\n",
              "    </tr>\n",
              "    <tr>\n",
              "      <th>35298</th>\n",
              "      <td>39985296</td>\n",
              "      <td>29295929</td>\n",
              "      <td>19632565</td>\n",
              "      <td>59</td>\n",
              "      <td>1</td>\n",
              "      <td>WHITE</td>\n",
              "      <td>0</td>\n",
              "      <td>1.782609</td>\n",
              "      <td>1</td>\n",
              "      <td>2</td>\n",
              "      <td>...</td>\n",
              "      <td>25.692308</td>\n",
              "      <td>36.603333</td>\n",
              "      <td>96.296296</td>\n",
              "      <td>173.400000</td>\n",
              "      <td>0.0</td>\n",
              "      <td>1.0</td>\n",
              "      <td>1</td>\n",
              "      <td>1</td>\n",
              "      <td>1</td>\n",
              "      <td>15</td>\n",
              "    </tr>\n",
              "    <tr>\n",
              "      <th>35299</th>\n",
              "      <td>39987031</td>\n",
              "      <td>23194856</td>\n",
              "      <td>12762280</td>\n",
              "      <td>82</td>\n",
              "      <td>1</td>\n",
              "      <td>WHITE</td>\n",
              "      <td>0</td>\n",
              "      <td>2.035714</td>\n",
              "      <td>1</td>\n",
              "      <td>7</td>\n",
              "      <td>...</td>\n",
              "      <td>18.608696</td>\n",
              "      <td>36.508571</td>\n",
              "      <td>96.095238</td>\n",
              "      <td>118.666667</td>\n",
              "      <td>0.0</td>\n",
              "      <td>1.0</td>\n",
              "      <td>1</td>\n",
              "      <td>0</td>\n",
              "      <td>0</td>\n",
              "      <td>22</td>\n",
              "    </tr>\n",
              "  </tbody>\n",
              "</table>\n",
              "<p>35300 rows × 50 columns</p>\n",
              "</div>\n",
              "      <button class=\"colab-df-convert\" onclick=\"convertToInteractive('df-7e85a2ef-e8b3-421e-a262-dcb7e1b25909')\"\n",
              "              title=\"Convert this dataframe to an interactive table.\"\n",
              "              style=\"display:none;\">\n",
              "        \n",
              "  <svg xmlns=\"http://www.w3.org/2000/svg\" height=\"24px\"viewBox=\"0 0 24 24\"\n",
              "       width=\"24px\">\n",
              "    <path d=\"M0 0h24v24H0V0z\" fill=\"none\"/>\n",
              "    <path d=\"M18.56 5.44l.94 2.06.94-2.06 2.06-.94-2.06-.94-.94-2.06-.94 2.06-2.06.94zm-11 1L8.5 8.5l.94-2.06 2.06-.94-2.06-.94L8.5 2.5l-.94 2.06-2.06.94zm10 10l.94 2.06.94-2.06 2.06-.94-2.06-.94-.94-2.06-.94 2.06-2.06.94z\"/><path d=\"M17.41 7.96l-1.37-1.37c-.4-.4-.92-.59-1.43-.59-.52 0-1.04.2-1.43.59L10.3 9.45l-7.72 7.72c-.78.78-.78 2.05 0 2.83L4 21.41c.39.39.9.59 1.41.59.51 0 1.02-.2 1.41-.59l7.78-7.78 2.81-2.81c.8-.78.8-2.07 0-2.86zM5.41 20L4 18.59l7.72-7.72 1.47 1.35L5.41 20z\"/>\n",
              "  </svg>\n",
              "      </button>\n",
              "      \n",
              "  <style>\n",
              "    .colab-df-container {\n",
              "      display:flex;\n",
              "      flex-wrap:wrap;\n",
              "      gap: 12px;\n",
              "    }\n",
              "\n",
              "    .colab-df-convert {\n",
              "      background-color: #E8F0FE;\n",
              "      border: none;\n",
              "      border-radius: 50%;\n",
              "      cursor: pointer;\n",
              "      display: none;\n",
              "      fill: #1967D2;\n",
              "      height: 32px;\n",
              "      padding: 0 0 0 0;\n",
              "      width: 32px;\n",
              "    }\n",
              "\n",
              "    .colab-df-convert:hover {\n",
              "      background-color: #E2EBFA;\n",
              "      box-shadow: 0px 1px 2px rgba(60, 64, 67, 0.3), 0px 1px 3px 1px rgba(60, 64, 67, 0.15);\n",
              "      fill: #174EA6;\n",
              "    }\n",
              "\n",
              "    [theme=dark] .colab-df-convert {\n",
              "      background-color: #3B4455;\n",
              "      fill: #D2E3FC;\n",
              "    }\n",
              "\n",
              "    [theme=dark] .colab-df-convert:hover {\n",
              "      background-color: #434B5C;\n",
              "      box-shadow: 0px 1px 3px 1px rgba(0, 0, 0, 0.15);\n",
              "      filter: drop-shadow(0px 1px 2px rgba(0, 0, 0, 0.3));\n",
              "      fill: #FFFFFF;\n",
              "    }\n",
              "  </style>\n",
              "\n",
              "      <script>\n",
              "        const buttonEl =\n",
              "          document.querySelector('#df-7e85a2ef-e8b3-421e-a262-dcb7e1b25909 button.colab-df-convert');\n",
              "        buttonEl.style.display =\n",
              "          google.colab.kernel.accessAllowed ? 'block' : 'none';\n",
              "\n",
              "        async function convertToInteractive(key) {\n",
              "          const element = document.querySelector('#df-7e85a2ef-e8b3-421e-a262-dcb7e1b25909');\n",
              "          const dataTable =\n",
              "            await google.colab.kernel.invokeFunction('convertToInteractive',\n",
              "                                                     [key], {});\n",
              "          if (!dataTable) return;\n",
              "\n",
              "          const docLinkHtml = 'Like what you see? Visit the ' +\n",
              "            '<a target=\"_blank\" href=https://colab.research.google.com/notebooks/data_table.ipynb>data table notebook</a>'\n",
              "            + ' to learn more about interactive tables.';\n",
              "          element.innerHTML = '';\n",
              "          dataTable['output_type'] = 'display_data';\n",
              "          await google.colab.output.renderOutput(dataTable, element);\n",
              "          const docLink = document.createElement('div');\n",
              "          docLink.innerHTML = docLinkHtml;\n",
              "          element.appendChild(docLink);\n",
              "        }\n",
              "      </script>\n",
              "    </div>\n",
              "  </div>\n",
              "  "
            ]
          },
          "metadata": {},
          "execution_count": 10
        }
      ]
    },
    {
      "cell_type": "code",
      "source": [
        "cohort_table.columns"
      ],
      "metadata": {
        "colab": {
          "base_uri": "https://localhost:8080/"
        },
        "id": "LBgql2I6aZ6x",
        "outputId": "6b416be5-1435-4aa6-d14a-5479d04c5f36"
      },
      "execution_count": null,
      "outputs": [
        {
          "output_type": "execute_result",
          "data": {
            "text/plain": [
              "Index(['stay_id', 'hadm_id', 'subject_id', 'age', 'Gender', 'ethnicity',\n",
              "       'midodrine', 'avg_doses_per_24_hrs', 'MICU', 'adm_weekday', 'weight',\n",
              "       'sapsii', 'charlson_index', 'CPD_or_COPD_rate', 'Maligancy_rate',\n",
              "       'mild_liver_rate', 'severe_liver_rate', 'Renal_rate', 'CAD_rate',\n",
              "       'AFIB_rate', 'hemoglobin', 'platelet', 'wbc', 'sodium', 'potassium',\n",
              "       'bicarbonate', 'chloride', 'bun', 'creatinine', 'lactate', 'ph', 'po2',\n",
              "       'pco2', 'bnp', 'troponin', 'creatinine_kinase', 'heart_rate_mean',\n",
              "       'sbp_mean', 'dbp_mean', 'mbp_mean', 'resp_rate_mean',\n",
              "       'temperature_mean', 'spo2_mean', 'glucose_mean', 'sedative_use',\n",
              "       'ventilation_use', 'vasopressor_use', 'mortality', 'mort_28_day',\n",
              "       'admit_hour'],\n",
              "      dtype='object')"
            ]
          },
          "metadata": {},
          "execution_count": 33
        }
      ]
    },
    {
      "cell_type": "code",
      "source": [
        "cohort_table.describe()"
      ],
      "metadata": {
        "colab": {
          "base_uri": "https://localhost:8080/",
          "height": 393
        },
        "id": "eY01lw6aXqwD",
        "outputId": "ac49d95d-7135-4252-8d8e-ba1401f8a748"
      },
      "execution_count": null,
      "outputs": [
        {
          "output_type": "execute_result",
          "data": {
            "text/plain": [
              "            stay_id       hadm_id    subject_id           age        Gender  \\\n",
              "count  3.530000e+04  3.530000e+04  3.530000e+04  35300.000000  35300.000000   \n",
              "mean   3.498390e+07  2.497613e+07  1.499966e+07     62.705694      0.469830   \n",
              "std    2.892380e+06  2.889905e+06  2.887420e+06     18.424232      0.499096   \n",
              "min    3.000015e+07  2.000035e+07  1.000003e+07     18.000000      0.000000   \n",
              "25%    3.245169e+07  2.247389e+07  1.249361e+07     51.000000      0.000000   \n",
              "50%    3.499433e+07  2.494200e+07  1.501041e+07     64.000000      0.000000   \n",
              "75%    3.748920e+07  2.747473e+07  1.750540e+07     77.000000      1.000000   \n",
              "max    3.999938e+07  2.999962e+07  1.999999e+07    102.000000      1.000000   \n",
              "\n",
              "          midodrine  avg_doses_per_24_hrs          MICU   adm_weekday  \\\n",
              "count  35300.000000          35184.000000  35300.000000  35300.000000   \n",
              "mean       0.022946              1.622051      0.534334      3.992663   \n",
              "std        0.149734              0.357446      0.498827      1.995172   \n",
              "min        0.000000              0.000000      0.000000      1.000000   \n",
              "25%        0.000000              1.400000      0.000000      2.000000   \n",
              "50%        0.000000              1.575000      1.000000      4.000000   \n",
              "75%        0.000000              1.794872      1.000000      6.000000   \n",
              "max        1.000000              9.250000      1.000000      7.000000   \n",
              "\n",
              "             weight  ...  resp_rate_mean  temperature_mean     spo2_mean  \\\n",
              "count  34620.000000  ...    35235.000000      34986.000000  35214.000000   \n",
              "mean      80.654058  ...       19.282602         36.878330     96.686357   \n",
              "std       26.148795  ...        3.934879          0.543675      2.634797   \n",
              "min        1.000000  ...        6.000000         30.400000     26.600000   \n",
              "25%       64.700000  ...       16.500000         36.626278     95.542857   \n",
              "50%       77.100000  ...       18.653846         36.853333     96.941176   \n",
              "75%       92.300000  ...       21.454545         37.135714     98.315789   \n",
              "max     1120.000000  ...       48.000000         40.104118    100.000000   \n",
              "\n",
              "        glucose_mean  sedative_use  ventilation_use  vasopressor_use  \\\n",
              "count   34326.000000  35113.000000          25512.0          35300.0   \n",
              "mean      260.224735      0.392647              1.0              1.0   \n",
              "std      7141.871173      0.488346              0.0              0.0   \n",
              "min        34.000000      0.000000              1.0              1.0   \n",
              "25%       107.333333      0.000000              1.0              1.0   \n",
              "50%       129.000000      0.000000              1.0              1.0   \n",
              "75%       159.750000      1.000000              1.0              1.0   \n",
              "max    999999.000000      1.000000              1.0              1.0   \n",
              "\n",
              "          mortality   mort_28_day    admit_hour  \n",
              "count  35300.000000  35300.000000  35300.000000  \n",
              "mean       0.172550      0.111841     12.855581  \n",
              "std        0.377863      0.315176      7.540701  \n",
              "min        0.000000      0.000000      0.000000  \n",
              "25%        0.000000      0.000000      5.000000  \n",
              "50%        0.000000      0.000000     15.000000  \n",
              "75%        0.000000      0.000000     19.000000  \n",
              "max        1.000000      1.000000     23.000000  \n",
              "\n",
              "[8 rows x 49 columns]"
            ],
            "text/html": [
              "\n",
              "  <div id=\"df-4114f013-405c-4567-afff-599137c30ca8\">\n",
              "    <div class=\"colab-df-container\">\n",
              "      <div>\n",
              "<style scoped>\n",
              "    .dataframe tbody tr th:only-of-type {\n",
              "        vertical-align: middle;\n",
              "    }\n",
              "\n",
              "    .dataframe tbody tr th {\n",
              "        vertical-align: top;\n",
              "    }\n",
              "\n",
              "    .dataframe thead th {\n",
              "        text-align: right;\n",
              "    }\n",
              "</style>\n",
              "<table border=\"1\" class=\"dataframe\">\n",
              "  <thead>\n",
              "    <tr style=\"text-align: right;\">\n",
              "      <th></th>\n",
              "      <th>stay_id</th>\n",
              "      <th>hadm_id</th>\n",
              "      <th>subject_id</th>\n",
              "      <th>age</th>\n",
              "      <th>Gender</th>\n",
              "      <th>midodrine</th>\n",
              "      <th>avg_doses_per_24_hrs</th>\n",
              "      <th>MICU</th>\n",
              "      <th>adm_weekday</th>\n",
              "      <th>weight</th>\n",
              "      <th>...</th>\n",
              "      <th>resp_rate_mean</th>\n",
              "      <th>temperature_mean</th>\n",
              "      <th>spo2_mean</th>\n",
              "      <th>glucose_mean</th>\n",
              "      <th>sedative_use</th>\n",
              "      <th>ventilation_use</th>\n",
              "      <th>vasopressor_use</th>\n",
              "      <th>mortality</th>\n",
              "      <th>mort_28_day</th>\n",
              "      <th>admit_hour</th>\n",
              "    </tr>\n",
              "  </thead>\n",
              "  <tbody>\n",
              "    <tr>\n",
              "      <th>count</th>\n",
              "      <td>3.530000e+04</td>\n",
              "      <td>3.530000e+04</td>\n",
              "      <td>3.530000e+04</td>\n",
              "      <td>35300.000000</td>\n",
              "      <td>35300.000000</td>\n",
              "      <td>35300.000000</td>\n",
              "      <td>35184.000000</td>\n",
              "      <td>35300.000000</td>\n",
              "      <td>35300.000000</td>\n",
              "      <td>34620.000000</td>\n",
              "      <td>...</td>\n",
              "      <td>35235.000000</td>\n",
              "      <td>34986.000000</td>\n",
              "      <td>35214.000000</td>\n",
              "      <td>34326.000000</td>\n",
              "      <td>35113.000000</td>\n",
              "      <td>25512.0</td>\n",
              "      <td>35300.0</td>\n",
              "      <td>35300.000000</td>\n",
              "      <td>35300.000000</td>\n",
              "      <td>35300.000000</td>\n",
              "    </tr>\n",
              "    <tr>\n",
              "      <th>mean</th>\n",
              "      <td>3.498390e+07</td>\n",
              "      <td>2.497613e+07</td>\n",
              "      <td>1.499966e+07</td>\n",
              "      <td>62.705694</td>\n",
              "      <td>0.469830</td>\n",
              "      <td>0.022946</td>\n",
              "      <td>1.622051</td>\n",
              "      <td>0.534334</td>\n",
              "      <td>3.992663</td>\n",
              "      <td>80.654058</td>\n",
              "      <td>...</td>\n",
              "      <td>19.282602</td>\n",
              "      <td>36.878330</td>\n",
              "      <td>96.686357</td>\n",
              "      <td>260.224735</td>\n",
              "      <td>0.392647</td>\n",
              "      <td>1.0</td>\n",
              "      <td>1.0</td>\n",
              "      <td>0.172550</td>\n",
              "      <td>0.111841</td>\n",
              "      <td>12.855581</td>\n",
              "    </tr>\n",
              "    <tr>\n",
              "      <th>std</th>\n",
              "      <td>2.892380e+06</td>\n",
              "      <td>2.889905e+06</td>\n",
              "      <td>2.887420e+06</td>\n",
              "      <td>18.424232</td>\n",
              "      <td>0.499096</td>\n",
              "      <td>0.149734</td>\n",
              "      <td>0.357446</td>\n",
              "      <td>0.498827</td>\n",
              "      <td>1.995172</td>\n",
              "      <td>26.148795</td>\n",
              "      <td>...</td>\n",
              "      <td>3.934879</td>\n",
              "      <td>0.543675</td>\n",
              "      <td>2.634797</td>\n",
              "      <td>7141.871173</td>\n",
              "      <td>0.488346</td>\n",
              "      <td>0.0</td>\n",
              "      <td>0.0</td>\n",
              "      <td>0.377863</td>\n",
              "      <td>0.315176</td>\n",
              "      <td>7.540701</td>\n",
              "    </tr>\n",
              "    <tr>\n",
              "      <th>min</th>\n",
              "      <td>3.000015e+07</td>\n",
              "      <td>2.000035e+07</td>\n",
              "      <td>1.000003e+07</td>\n",
              "      <td>18.000000</td>\n",
              "      <td>0.000000</td>\n",
              "      <td>0.000000</td>\n",
              "      <td>0.000000</td>\n",
              "      <td>0.000000</td>\n",
              "      <td>1.000000</td>\n",
              "      <td>1.000000</td>\n",
              "      <td>...</td>\n",
              "      <td>6.000000</td>\n",
              "      <td>30.400000</td>\n",
              "      <td>26.600000</td>\n",
              "      <td>34.000000</td>\n",
              "      <td>0.000000</td>\n",
              "      <td>1.0</td>\n",
              "      <td>1.0</td>\n",
              "      <td>0.000000</td>\n",
              "      <td>0.000000</td>\n",
              "      <td>0.000000</td>\n",
              "    </tr>\n",
              "    <tr>\n",
              "      <th>25%</th>\n",
              "      <td>3.245169e+07</td>\n",
              "      <td>2.247389e+07</td>\n",
              "      <td>1.249361e+07</td>\n",
              "      <td>51.000000</td>\n",
              "      <td>0.000000</td>\n",
              "      <td>0.000000</td>\n",
              "      <td>1.400000</td>\n",
              "      <td>0.000000</td>\n",
              "      <td>2.000000</td>\n",
              "      <td>64.700000</td>\n",
              "      <td>...</td>\n",
              "      <td>16.500000</td>\n",
              "      <td>36.626278</td>\n",
              "      <td>95.542857</td>\n",
              "      <td>107.333333</td>\n",
              "      <td>0.000000</td>\n",
              "      <td>1.0</td>\n",
              "      <td>1.0</td>\n",
              "      <td>0.000000</td>\n",
              "      <td>0.000000</td>\n",
              "      <td>5.000000</td>\n",
              "    </tr>\n",
              "    <tr>\n",
              "      <th>50%</th>\n",
              "      <td>3.499433e+07</td>\n",
              "      <td>2.494200e+07</td>\n",
              "      <td>1.501041e+07</td>\n",
              "      <td>64.000000</td>\n",
              "      <td>0.000000</td>\n",
              "      <td>0.000000</td>\n",
              "      <td>1.575000</td>\n",
              "      <td>1.000000</td>\n",
              "      <td>4.000000</td>\n",
              "      <td>77.100000</td>\n",
              "      <td>...</td>\n",
              "      <td>18.653846</td>\n",
              "      <td>36.853333</td>\n",
              "      <td>96.941176</td>\n",
              "      <td>129.000000</td>\n",
              "      <td>0.000000</td>\n",
              "      <td>1.0</td>\n",
              "      <td>1.0</td>\n",
              "      <td>0.000000</td>\n",
              "      <td>0.000000</td>\n",
              "      <td>15.000000</td>\n",
              "    </tr>\n",
              "    <tr>\n",
              "      <th>75%</th>\n",
              "      <td>3.748920e+07</td>\n",
              "      <td>2.747473e+07</td>\n",
              "      <td>1.750540e+07</td>\n",
              "      <td>77.000000</td>\n",
              "      <td>1.000000</td>\n",
              "      <td>0.000000</td>\n",
              "      <td>1.794872</td>\n",
              "      <td>1.000000</td>\n",
              "      <td>6.000000</td>\n",
              "      <td>92.300000</td>\n",
              "      <td>...</td>\n",
              "      <td>21.454545</td>\n",
              "      <td>37.135714</td>\n",
              "      <td>98.315789</td>\n",
              "      <td>159.750000</td>\n",
              "      <td>1.000000</td>\n",
              "      <td>1.0</td>\n",
              "      <td>1.0</td>\n",
              "      <td>0.000000</td>\n",
              "      <td>0.000000</td>\n",
              "      <td>19.000000</td>\n",
              "    </tr>\n",
              "    <tr>\n",
              "      <th>max</th>\n",
              "      <td>3.999938e+07</td>\n",
              "      <td>2.999962e+07</td>\n",
              "      <td>1.999999e+07</td>\n",
              "      <td>102.000000</td>\n",
              "      <td>1.000000</td>\n",
              "      <td>1.000000</td>\n",
              "      <td>9.250000</td>\n",
              "      <td>1.000000</td>\n",
              "      <td>7.000000</td>\n",
              "      <td>1120.000000</td>\n",
              "      <td>...</td>\n",
              "      <td>48.000000</td>\n",
              "      <td>40.104118</td>\n",
              "      <td>100.000000</td>\n",
              "      <td>999999.000000</td>\n",
              "      <td>1.000000</td>\n",
              "      <td>1.0</td>\n",
              "      <td>1.0</td>\n",
              "      <td>1.000000</td>\n",
              "      <td>1.000000</td>\n",
              "      <td>23.000000</td>\n",
              "    </tr>\n",
              "  </tbody>\n",
              "</table>\n",
              "<p>8 rows × 49 columns</p>\n",
              "</div>\n",
              "      <button class=\"colab-df-convert\" onclick=\"convertToInteractive('df-4114f013-405c-4567-afff-599137c30ca8')\"\n",
              "              title=\"Convert this dataframe to an interactive table.\"\n",
              "              style=\"display:none;\">\n",
              "        \n",
              "  <svg xmlns=\"http://www.w3.org/2000/svg\" height=\"24px\"viewBox=\"0 0 24 24\"\n",
              "       width=\"24px\">\n",
              "    <path d=\"M0 0h24v24H0V0z\" fill=\"none\"/>\n",
              "    <path d=\"M18.56 5.44l.94 2.06.94-2.06 2.06-.94-2.06-.94-.94-2.06-.94 2.06-2.06.94zm-11 1L8.5 8.5l.94-2.06 2.06-.94-2.06-.94L8.5 2.5l-.94 2.06-2.06.94zm10 10l.94 2.06.94-2.06 2.06-.94-2.06-.94-.94-2.06-.94 2.06-2.06.94z\"/><path d=\"M17.41 7.96l-1.37-1.37c-.4-.4-.92-.59-1.43-.59-.52 0-1.04.2-1.43.59L10.3 9.45l-7.72 7.72c-.78.78-.78 2.05 0 2.83L4 21.41c.39.39.9.59 1.41.59.51 0 1.02-.2 1.41-.59l7.78-7.78 2.81-2.81c.8-.78.8-2.07 0-2.86zM5.41 20L4 18.59l7.72-7.72 1.47 1.35L5.41 20z\"/>\n",
              "  </svg>\n",
              "      </button>\n",
              "      \n",
              "  <style>\n",
              "    .colab-df-container {\n",
              "      display:flex;\n",
              "      flex-wrap:wrap;\n",
              "      gap: 12px;\n",
              "    }\n",
              "\n",
              "    .colab-df-convert {\n",
              "      background-color: #E8F0FE;\n",
              "      border: none;\n",
              "      border-radius: 50%;\n",
              "      cursor: pointer;\n",
              "      display: none;\n",
              "      fill: #1967D2;\n",
              "      height: 32px;\n",
              "      padding: 0 0 0 0;\n",
              "      width: 32px;\n",
              "    }\n",
              "\n",
              "    .colab-df-convert:hover {\n",
              "      background-color: #E2EBFA;\n",
              "      box-shadow: 0px 1px 2px rgba(60, 64, 67, 0.3), 0px 1px 3px 1px rgba(60, 64, 67, 0.15);\n",
              "      fill: #174EA6;\n",
              "    }\n",
              "\n",
              "    [theme=dark] .colab-df-convert {\n",
              "      background-color: #3B4455;\n",
              "      fill: #D2E3FC;\n",
              "    }\n",
              "\n",
              "    [theme=dark] .colab-df-convert:hover {\n",
              "      background-color: #434B5C;\n",
              "      box-shadow: 0px 1px 3px 1px rgba(0, 0, 0, 0.15);\n",
              "      filter: drop-shadow(0px 1px 2px rgba(0, 0, 0, 0.3));\n",
              "      fill: #FFFFFF;\n",
              "    }\n",
              "  </style>\n",
              "\n",
              "      <script>\n",
              "        const buttonEl =\n",
              "          document.querySelector('#df-4114f013-405c-4567-afff-599137c30ca8 button.colab-df-convert');\n",
              "        buttonEl.style.display =\n",
              "          google.colab.kernel.accessAllowed ? 'block' : 'none';\n",
              "\n",
              "        async function convertToInteractive(key) {\n",
              "          const element = document.querySelector('#df-4114f013-405c-4567-afff-599137c30ca8');\n",
              "          const dataTable =\n",
              "            await google.colab.kernel.invokeFunction('convertToInteractive',\n",
              "                                                     [key], {});\n",
              "          if (!dataTable) return;\n",
              "\n",
              "          const docLinkHtml = 'Like what you see? Visit the ' +\n",
              "            '<a target=\"_blank\" href=https://colab.research.google.com/notebooks/data_table.ipynb>data table notebook</a>'\n",
              "            + ' to learn more about interactive tables.';\n",
              "          element.innerHTML = '';\n",
              "          dataTable['output_type'] = 'display_data';\n",
              "          await google.colab.output.renderOutput(dataTable, element);\n",
              "          const docLink = document.createElement('div');\n",
              "          docLink.innerHTML = docLinkHtml;\n",
              "          element.appendChild(docLink);\n",
              "        }\n",
              "      </script>\n",
              "    </div>\n",
              "  </div>\n",
              "  "
            ]
          },
          "metadata": {},
          "execution_count": 34
        }
      ]
    },
    {
      "cell_type": "code",
      "source": [
        "cohort_table.info()"
      ],
      "metadata": {
        "colab": {
          "base_uri": "https://localhost:8080/"
        },
        "id": "_lJajQun82uH",
        "outputId": "212f46a0-79bf-49f7-f065-d7049281bd91"
      },
      "execution_count": null,
      "outputs": [
        {
          "output_type": "stream",
          "name": "stdout",
          "text": [
            "<class 'pandas.core.frame.DataFrame'>\n",
            "RangeIndex: 35300 entries, 0 to 35299\n",
            "Data columns (total 50 columns):\n",
            " #   Column                Non-Null Count  Dtype  \n",
            "---  ------                --------------  -----  \n",
            " 0   stay_id               35300 non-null  int64  \n",
            " 1   hadm_id               35300 non-null  int64  \n",
            " 2   subject_id            35300 non-null  int64  \n",
            " 3   age                   35300 non-null  int64  \n",
            " 4   Gender                35300 non-null  int64  \n",
            " 5   ethnicity             35300 non-null  object \n",
            " 6   midodrine             35300 non-null  int64  \n",
            " 7   avg_doses_per_24_hrs  35184 non-null  float64\n",
            " 8   MICU                  35300 non-null  int64  \n",
            " 9   adm_weekday           35300 non-null  int64  \n",
            " 10  weight                34620 non-null  float64\n",
            " 11  sapsii                26683 non-null  float64\n",
            " 12  charlson_index        35300 non-null  float64\n",
            " 13  CPD_or_COPD_rate      35300 non-null  float64\n",
            " 14  Maligancy_rate        35300 non-null  float64\n",
            " 15  mild_liver_rate       35300 non-null  float64\n",
            " 16  severe_liver_rate     35300 non-null  float64\n",
            " 17  Renal_rate            35300 non-null  float64\n",
            " 18  CAD_rate              35300 non-null  float64\n",
            " 19  AFIB_rate             35300 non-null  float64\n",
            " 20  hemoglobin            34084 non-null  float64\n",
            " 21  platelet              34091 non-null  float64\n",
            " 22  wbc                   34093 non-null  float64\n",
            " 23  sodium                34292 non-null  float64\n",
            " 24  potassium             34296 non-null  float64\n",
            " 25  bicarbonate           34272 non-null  float64\n",
            " 26  chloride              34286 non-null  float64\n",
            " 27  bun                   34284 non-null  float64\n",
            " 28  creatinine            34295 non-null  float64\n",
            " 29  lactate               15841 non-null  float64\n",
            " 30  ph                    18805 non-null  float64\n",
            " 31  po2                   18806 non-null  float64\n",
            " 32  pco2                  18806 non-null  float64\n",
            " 33  bnp                   35300 non-null  float64\n",
            " 34  troponin              35300 non-null  float64\n",
            " 35  creatinine_kinase     35300 non-null  float64\n",
            " 36  heart_rate_mean       35241 non-null  float64\n",
            " 37  sbp_mean              35153 non-null  float64\n",
            " 38  dbp_mean              35152 non-null  float64\n",
            " 39  mbp_mean              35227 non-null  float64\n",
            " 40  resp_rate_mean        35235 non-null  float64\n",
            " 41  temperature_mean      34986 non-null  float64\n",
            " 42  spo2_mean             35214 non-null  float64\n",
            " 43  glucose_mean          34326 non-null  float64\n",
            " 44  sedative_use          35113 non-null  float64\n",
            " 45  ventilation_use       25512 non-null  float64\n",
            " 46  vasopressor_use       35300 non-null  int64  \n",
            " 47  mortality             35300 non-null  int64  \n",
            " 48  mort_28_day           35300 non-null  int64  \n",
            " 49  admit_hour            35300 non-null  int64  \n",
            "dtypes: float64(37), int64(12), object(1)\n",
            "memory usage: 13.5+ MB\n"
          ]
        }
      ]
    },
    {
      "cell_type": "code",
      "source": [
        "cohort_table = cohort_table.drop(columns=['ethnicity','hadm_id','subject_id'])"
      ],
      "metadata": {
        "id": "x3-hIpMV9Gc7"
      },
      "execution_count": null,
      "outputs": []
    },
    {
      "cell_type": "code",
      "source": [
        "mido_data = cohort_table.loc[cohort_table['midodrine'] == 1]\n",
        "nomido_data = cohort_table.loc[cohort_table['midodrine'] == 0]"
      ],
      "metadata": {
        "id": "5NGxDZWJFHy7"
      },
      "execution_count": null,
      "outputs": []
    },
    {
      "cell_type": "markdown",
      "source": [
        "# TMLE"
      ],
      "metadata": {
        "id": "PsjK-gZo2JUw"
      }
    },
    {
      "cell_type": "markdown",
      "source": [
        "## Simple TMLE"
      ],
      "metadata": {
        "id": "zfaRzkVOx0Xd"
      }
    },
    {
      "cell_type": "code",
      "source": [
        "import statsmodels.api as sm"
      ],
      "metadata": {
        "id": "SzfbH7T2fYUm"
      },
      "execution_count": null,
      "outputs": []
    },
    {
      "cell_type": "code",
      "source": [
        "# SuperLearner setup\n",
        "labels = [\"LogR\", \"Step.int\", \"RandFor\"]\n",
        "candidates = [GLMSL(sm.families.family.Binomial()), \n",
        "              StepwiseSL(sm.families.family.Binomial(), selection=\"forward\", order_interaction=0),\n",
        "              XGBClassifier()]"
      ],
      "metadata": {
        "id": "9Er_A4YDHS0Y"
      },
      "execution_count": null,
      "outputs": []
    },
    {
      "cell_type": "code",
      "source": [
        "tml =  TMLE(cohort_table, exposure='midodrine', outcome='mort_28_day')"
      ],
      "metadata": {
        "id": "lWCgsfeIiGUc"
      },
      "execution_count": null,
      "outputs": []
    },
    {
      "cell_type": "code",
      "source": [
        "cohort_table.columns"
      ],
      "metadata": {
        "colab": {
          "base_uri": "https://localhost:8080/"
        },
        "id": "TZGHnMAuG1Dv",
        "outputId": "531ab89d-e29d-43c0-df61-e538e0c975d9"
      },
      "execution_count": null,
      "outputs": [
        {
          "output_type": "execute_result",
          "data": {
            "text/plain": [
              "Index(['stay_id', 'age', 'Gender', 'midodrine', 'avg_doses_per_24_hrs', 'MICU',\n",
              "       'adm_weekday', 'weight', 'sapsii', 'charlson_index', 'CPD_or_COPD_rate',\n",
              "       'Maligancy_rate', 'mild_liver_rate', 'severe_liver_rate', 'Renal_rate',\n",
              "       'CAD_rate', 'AFIB_rate', 'hemoglobin', 'platelet', 'wbc', 'sodium',\n",
              "       'potassium', 'bicarbonate', 'chloride', 'bun', 'creatinine', 'lactate',\n",
              "       'ph', 'po2', 'pco2', 'bnp', 'troponin', 'creatinine_kinase',\n",
              "       'heart_rate_mean', 'sbp_mean', 'dbp_mean', 'mbp_mean', 'resp_rate_mean',\n",
              "       'temperature_mean', 'spo2_mean', 'glucose_mean', 'sedative_use',\n",
              "       'ventilation_use', 'vasopressor_use', 'mortality', 'mort_28_day',\n",
              "       'admit_hour'],\n",
              "      dtype='object')"
            ]
          },
          "metadata": {},
          "execution_count": 77
        }
      ]
    },
    {
      "cell_type": "code",
      "source": [
        "tml.exposure_model('age + MICU + Gender + adm_weekday + weight + sapsii + charlson_index + CPD_or_COPD_rate + Maligancy_rate + mild_liver_rate + severe_liver_rate + Renal_rate + CAD_rate + AFIB_rate + hemoglobin + platelet + wbc + sodium + potassium + bicarbonate + chloride + bun + creatinine + lactate + ph + po2 + pco2 + bnp + troponin + creatinine_kinase + temperature_mean + heart_rate_mean + resp_rate_mean + mbp_mean + sedative_use + ventilation_use + vasopressor_use',\n",
        "                  bound=0.01 )  "
      ],
      "metadata": {
        "id": "-n2xo_mGiYzX",
        "outputId": "7fe2d80c-df0f-43c9-c631-b2bc75400dae",
        "colab": {
          "base_uri": "https://localhost:8080/"
        }
      },
      "execution_count": null,
      "outputs": [
        {
          "output_type": "stream",
          "name": "stdout",
          "text": [
            "==============================================================================\n",
            "Propensity Score Model\n",
            "                 Generalized Linear Model Regression Results                  \n",
            "==============================================================================\n",
            "Dep. Variable:              midodrine   No. Observations:                11644\n",
            "Model:                            GLM   Df Residuals:                    11608\n",
            "Model Family:                Binomial   Df Model:                           35\n",
            "Link Function:                  logit   Scale:                          1.0000\n",
            "Method:                          IRLS   Log-Likelihood:                -1555.8\n",
            "Date:                Wed, 22 Jun 2022   Deviance:                       3111.7\n",
            "Time:                        06:31:57   Pearson chi2:                 1.30e+04\n",
            "No. Iterations:                   100                                         \n",
            "Covariance Type:            nonrobust                                         \n",
            "=====================================================================================\n",
            "                        coef    std err          z      P>|z|      [0.025      0.975]\n",
            "-------------------------------------------------------------------------------------\n",
            "Intercept            -2.8347      3.769     -0.752      0.452     -10.221       4.552\n",
            "age                  -0.0112      0.005     -2.182      0.029      -0.021      -0.001\n",
            "MICU                 -0.2475      0.116     -2.128      0.033      -0.476      -0.020\n",
            "Gender                0.0021      0.112      0.019      0.985      -0.217       0.221\n",
            "adm_weekday           0.0010      0.026      0.040      0.968      -0.049       0.051\n",
            "weight                0.0025      0.002      1.237      0.216      -0.001       0.007\n",
            "sapsii                0.0066      0.005      1.442      0.149      -0.002       0.016\n",
            "charlson_index        0.0443      0.032      1.401      0.161      -0.018       0.106\n",
            "CPD_or_COPD_rate     -0.1053      0.127     -0.833      0.405      -0.353       0.143\n",
            "Maligancy_rate       -0.2608      0.155     -1.686      0.092      -0.564       0.042\n",
            "mild_liver_rate       0.6420      0.152      4.211      0.000       0.343       0.941\n",
            "severe_liver_rate     1.5402      0.166      9.288      0.000       1.215       1.865\n",
            "Renal_rate            0.0896      0.154      0.583      0.560      -0.212       0.391\n",
            "CAD_rate             -0.0644      0.150     -0.428      0.669      -0.359       0.231\n",
            "AFIB_rate             0.5100      0.123      4.136      0.000       0.268       0.752\n",
            "hemoglobin           -0.0743      0.029     -2.566      0.010      -0.131      -0.018\n",
            "platelet             -0.0006      0.001     -1.069      0.285      -0.002       0.000\n",
            "wbc                   0.0060      0.004      1.664      0.096      -0.001       0.013\n",
            "sodium                0.0590      0.020      3.015      0.003       0.021       0.097\n",
            "potassium            -0.0688      0.089     -0.776      0.438      -0.243       0.105\n",
            "bicarbonate          -0.1050      0.029     -3.666      0.000      -0.161      -0.049\n",
            "chloride             -0.0702      0.017     -4.049      0.000      -0.104      -0.036\n",
            "bun                  -0.0007      0.003     -0.282      0.778      -0.006       0.004\n",
            "creatinine            0.0917      0.036      2.568      0.010       0.022       0.162\n",
            "lactate              -0.1131      0.035     -3.212      0.001      -0.182      -0.044\n",
            "ph                    2.9890      1.493      2.002      0.045       0.063       5.915\n",
            "po2                  -0.0022      0.001     -2.149      0.032      -0.004      -0.000\n",
            "pco2                  0.0164      0.014      1.173      0.241      -0.011       0.044\n",
            "bnp                  -0.2224      0.272     -0.818      0.413      -0.755       0.310\n",
            "troponin             -0.0265      0.167     -0.158      0.874      -0.354       0.301\n",
            "creatinine_kinase    -0.1794      0.155     -1.159      0.247      -0.483       0.124\n",
            "temperature_mean     -0.3033      0.086     -3.522      0.000      -0.472      -0.135\n",
            "heart_rate_mean      -0.0020      0.003     -0.573      0.566      -0.009       0.005\n",
            "resp_rate_mean       -0.0034      0.013     -0.260      0.795      -0.029       0.022\n",
            "mbp_mean             -0.0489      0.006     -7.943      0.000      -0.061      -0.037\n",
            "sedative_use          0.2958      0.127      2.325      0.020       0.046       0.545\n",
            "ventilation_use      -2.8347      3.769     -0.752      0.452     -10.221       4.552\n",
            "vasopressor_use      -2.8347      3.769     -0.752      0.452     -10.221       4.552\n",
            "=====================================================================================\n",
            "==============================================================================\n"
          ]
        }
      ]
    },
    {
      "cell_type": "code",
      "source": [
        "tml.outcome_model('age + MICU + Gender + adm_weekday + weight + sapsii + charlson_index + CPD_or_COPD_rate + Maligancy_rate + mild_liver_rate + severe_liver_rate + Renal_rate + CAD_rate + AFIB_rate + hemoglobin + platelet + wbc + sodium + potassium + bicarbonate + chloride + bun + creatinine + lactate + ph + po2 + pco2 + bnp + troponin + creatinine_kinase + temperature_mean + heart_rate_mean + resp_rate_mean + mbp_mean + sedative_use + ventilation_use + vasopressor_use',\n",
        "                  bound=0.01 )"
      ],
      "metadata": {
        "id": "ml-eTU6JmMOf",
        "outputId": "2ca3252e-f5eb-46ec-c0b1-6fc2b249fd5d",
        "colab": {
          "base_uri": "https://localhost:8080/"
        }
      },
      "execution_count": null,
      "outputs": [
        {
          "output_type": "stream",
          "name": "stdout",
          "text": [
            "==============================================================================\n",
            "Outcome Model\n",
            "                 Generalized Linear Model Regression Results                  \n",
            "==============================================================================\n",
            "Dep. Variable:            mort_28_day   No. Observations:                11644\n",
            "Model:                            GLM   Df Residuals:                    11608\n",
            "Model Family:                Binomial   Df Model:                           35\n",
            "Link Function:                  logit   Scale:                          1.0000\n",
            "Method:                          IRLS   Log-Likelihood:                -4402.6\n",
            "Date:                Wed, 22 Jun 2022   Deviance:                       8805.2\n",
            "Time:                        06:32:28   Pearson chi2:                 1.10e+04\n",
            "No. Iterations:                   100                                         \n",
            "Covariance Type:            nonrobust                                         \n",
            "=====================================================================================\n",
            "                        coef    std err          z      P>|z|      [0.025      0.975]\n",
            "-------------------------------------------------------------------------------------\n",
            "Intercept            -3.6775      2.017     -1.823      0.068      -7.631       0.276\n",
            "age                   0.0031      0.003      1.207      0.227      -0.002       0.008\n",
            "MICU                 -0.0109      0.063     -0.174      0.862      -0.134       0.112\n",
            "Gender               -0.0774      0.059     -1.309      0.191      -0.193       0.038\n",
            "adm_weekday           0.0056      0.014      0.417      0.676      -0.021       0.032\n",
            "weight               -0.0053      0.001     -4.318      0.000      -0.008      -0.003\n",
            "sapsii                0.0406      0.002     16.510      0.000       0.036       0.045\n",
            "charlson_index        0.0861      0.015      5.624      0.000       0.056       0.116\n",
            "CPD_or_COPD_rate     -0.1566      0.065     -2.397      0.017      -0.285      -0.029\n",
            "Maligancy_rate       -0.1620      0.078     -2.086      0.037      -0.314      -0.010\n",
            "mild_liver_rate       0.1320      0.089      1.478      0.139      -0.043       0.307\n",
            "severe_liver_rate     0.3927      0.115      3.425      0.001       0.168       0.617\n",
            "Renal_rate           -0.1486      0.083     -1.780      0.075      -0.312       0.015\n",
            "CAD_rate             -0.1765      0.075     -2.361      0.018      -0.323      -0.030\n",
            "AFIB_rate             0.2182      0.064      3.426      0.001       0.093       0.343\n",
            "hemoglobin           -0.0071      0.015     -0.480      0.631      -0.036       0.022\n",
            "platelet             -0.0003      0.000     -1.081      0.280      -0.001       0.000\n",
            "wbc                   0.0072      0.002      2.942      0.003       0.002       0.012\n",
            "sodium                0.0567      0.011      5.118      0.000       0.035       0.078\n",
            "potassium             0.0150      0.050      0.296      0.767      -0.084       0.114\n",
            "bicarbonate          -0.0489      0.014     -3.398      0.001      -0.077      -0.021\n",
            "chloride             -0.0509      0.010     -5.155      0.000      -0.070      -0.032\n",
            "bun                   0.0036      0.002      2.171      0.030       0.000       0.007\n",
            "creatinine           -0.1319      0.030     -4.467      0.000      -0.190      -0.074\n",
            "lactate               0.1117      0.021      5.350      0.000       0.071       0.153\n",
            "ph                    2.7011      0.802      3.366      0.001       1.128       4.274\n",
            "po2                  -0.0007      0.001     -1.297      0.195      -0.002       0.000\n",
            "pco2                  0.0161      0.007      2.333      0.020       0.003       0.030\n",
            "bnp                   0.0346      0.132      0.262      0.793      -0.224       0.294\n",
            "troponin              0.3338      0.079      4.230      0.000       0.179       0.488\n",
            "creatinine_kinase     0.0893      0.073      1.216      0.224      -0.055       0.233\n",
            "temperature_mean     -0.4485      0.046     -9.795      0.000      -0.538      -0.359\n",
            "heart_rate_mean       0.0077      0.002      4.233      0.000       0.004       0.011\n",
            "resp_rate_mean        0.0671      0.007      9.615      0.000       0.053       0.081\n",
            "mbp_mean             -0.0099      0.003     -3.235      0.001      -0.016      -0.004\n",
            "sedative_use          0.6155      0.069      8.959      0.000       0.481       0.750\n",
            "ventilation_use      -3.6775      2.017     -1.823      0.068      -7.631       0.276\n",
            "vasopressor_use      -3.6775      2.017     -1.823      0.068      -7.631       0.276\n",
            "=====================================================================================\n",
            "==============================================================================\n"
          ]
        }
      ]
    },
    {
      "cell_type": "code",
      "source": [
        "tml.fit() "
      ],
      "metadata": {
        "id": "WLfOyELkmZ1_"
      },
      "execution_count": null,
      "outputs": []
    },
    {
      "cell_type": "code",
      "source": [
        "tml.summary()"
      ],
      "metadata": {
        "id": "B9Z1QpvEmds8",
        "outputId": "af1ec380-59e9-417f-da9d-2bd8f3c0a104",
        "colab": {
          "base_uri": "https://localhost:8080/"
        }
      },
      "execution_count": null,
      "outputs": [
        {
          "output_type": "stream",
          "name": "stdout",
          "text": [
            "======================================================================\n",
            "                Targeted Maximum Likelihood Estimator                 \n",
            "======================================================================\n",
            "Treatment:        midodrine       No. Observations:     11644               \n",
            "Outcome:          mort_28_day     No. Missing Outcome:  0                   \n",
            "g-Model:          Logistic        Missing Model:        None                \n",
            "Q-Model:          Logistic       \n",
            "======================================================================\n",
            "Risk Difference:     0.012\n",
            "95.0% two-sided CI: (-0.033 , 0.057)\n",
            "----------------------------------------------------------------------\n",
            "Risk Ratio:          1.067\n",
            "95.0% two-sided CI: (0.845 , 1.346)\n",
            "----------------------------------------------------------------------\n",
            "Odds Ratio:          1.082\n",
            "95.0% two-sided CI: (0.811 , 1.444)\n",
            "======================================================================\n"
          ]
        }
      ]
    },
    {
      "cell_type": "code",
      "source": [
        "tml.run_diagnostics()"
      ],
      "metadata": {
        "id": "SH0qPWnmnG69",
        "outputId": "7606a913-0059-4316-e944-270d49d45ca1",
        "colab": {
          "base_uri": "https://localhost:8080/",
          "height": 1000
        }
      },
      "execution_count": null,
      "outputs": [
        {
          "output_type": "stream",
          "name": "stdout",
          "text": [
            "\tExposure Model Diagnostics\n",
            "======================================================================\n",
            "                   Weight Positivity Diagnostics\n",
            "======================================================================\n",
            "If the mean of the weights is far from either the min or max, this may\n",
            " indicate the model is incorrect or positivity is violated\n",
            "Average weight should be 2\n",
            "----------------------------------------------------------------------\n",
            "Mean weight:            1.957\n",
            "Standard Deviation:     7.3\n",
            "Minimum weight:         1.01\n",
            "Maximum weight:         100.0\n",
            "======================================================================\n",
            "\n",
            "======================================================================\n",
            "                  Standardized Mean Differences\n",
            "======================================================================\n",
            "                          smd_w     smd_u\n",
            "labels                                   \n",
            "age               -1.350501e-02 -0.059827\n",
            "MICU              -8.628047e-02  0.169140\n",
            "Gender            -7.870642e-02 -0.073722\n",
            "adm_weekday        4.080462e-02 -0.031428\n",
            "weight            -9.623617e-02  0.163847\n",
            "sapsii             1.243305e-01  0.515211\n",
            "charlson_index     1.960068e-02  0.368102\n",
            "CPD_or_COPD_rate  -1.969641e-02 -0.082643\n",
            "Maligancy_rate    -1.740774e-02 -0.058935\n",
            "mild_liver_rate   -7.318970e-02  0.874871\n",
            "severe_liver_rate -1.704501e-02  0.973508\n",
            "Renal_rate         6.701426e-04  0.248176\n",
            "CAD_rate          -8.395258e-03 -0.027575\n",
            "AFIB_rate         -2.467379e-02  0.166806\n",
            "hemoglobin        -7.512305e-03 -0.522879\n",
            "platelet           4.025194e-02 -0.435183\n",
            "wbc                4.882115e-02  0.083164\n",
            "sodium             1.041806e-01 -0.313209\n",
            "potassium          4.782587e-04  0.162134\n",
            "bicarbonate       -3.029092e-02 -0.410513\n",
            "chloride           8.677216e-02 -0.374758\n",
            "bun               -2.568557e-02  0.574515\n",
            "creatinine        -2.396939e-02  0.553335\n",
            "lactate            1.602325e-01  0.295115\n",
            "ph                -1.483225e-01 -0.138612\n",
            "po2                7.585808e-02 -0.288995\n",
            "pco2               3.465671e-02 -0.229533\n",
            "bnp               -6.594271e-02 -0.011589\n",
            "troponin           9.122907e-02  0.042237\n",
            "creatinine_kinase  4.374471e-02 -0.089807\n",
            "temperature_mean   1.864106e-02 -0.307973\n",
            "heart_rate_mean   -9.702535e-02 -0.068970\n",
            "resp_rate_mean    -3.326687e-02  0.012405\n",
            "mbp_mean          -1.197725e-01 -0.636229\n",
            "sedative_use       1.293919e-01  0.146056\n",
            "ventilation_use    6.322027e-08       NaN\n",
            "vasopressor_use    6.322027e-08       NaN\n",
            "======================================================================\n",
            "\n",
            "\tOutcome Model Diagnostics\n",
            "======================================================================\n",
            "                 Natural Course Prediction Accuracy\n",
            "======================================================================\n",
            "Outcome model accuracy summary statistics. Defined as the predicted\n",
            "outcome value minus the observed outcome value\n",
            "----------------------------------------------------------------------\n",
            "Mean value:            0.0\n",
            "Standard Deviation:     0.344\n",
            "Minimum value:         -0.985\n",
            "Maximum value:         0.981\n",
            "======================================================================\n"
          ]
        },
        {
          "output_type": "display_data",
          "data": {
            "text/plain": [
              "<Figure size 576x432 with 3 Axes>"
            ],
            "image/png": "[encoded data removed]"
          },
          "metadata": {}
        }
      ]
    },
    {
      "cell_type": "markdown",
      "source": [
        "## Superlearner TMLE "
      ],
      "metadata": {
        "id": "GUIL5QLxKk8r"
      }
    },
    {
      "cell_type": "code",
      "source": [
        "%%R\n",
        "install.packages(\"tmle\")\n",
        "install.packages(\"xgboost\")\n",
        "install.packages(\"earth\")"
      ],
      "metadata": {
        "id": "UGTI1Mvl5HY3"
      },
      "execution_count": null,
      "outputs": []
    },
    {
      "cell_type": "code",
      "source": [
        "%%R\n",
        "library(tidyverse)\n",
        "library(tmle)\n",
        "library(xgboost)\n",
        "library(earth)"
      ],
      "metadata": {
        "colab": {
          "base_uri": "https://localhost:8080/"
        },
        "id": "I4FTCYKufjej",
        "outputId": "3b236e4a-ba6e-4146-f409-a63f05c27e90"
      },
      "execution_count": 18,
      "outputs": [
        {
          "output_type": "stream",
          "name": "stderr",
          "text": [
            "R[write to console]: Loading required package: Formula\n",
            "\n",
            "R[write to console]: Loading required package: plotmo\n",
            "\n",
            "R[write to console]: Loading required package: plotrix\n",
            "\n",
            "R[write to console]: Loading required package: TeachingDemos\n",
            "\n"
          ]
        }
      ]
    },
    {
      "cell_type": "code",
      "source": [
        "%%R\n",
        "cohort_data <- read.csv(\"/content/gdrive/MyDrive/midodrine/table_cohort.csv\")"
      ],
      "metadata": {
        "id": "HhQDcNR2N3fr"
      },
      "execution_count": 8,
      "outputs": []
    },
    {
      "cell_type": "code",
      "source": [
        "%%R\n",
        "class(cohort_data)"
      ],
      "metadata": {
        "colab": {
          "base_uri": "https://localhost:8080/"
        },
        "id": "T-6YDBPvSOoD",
        "outputId": "bd600a66-968a-4600-d190-ceae0d2232f4"
      },
      "execution_count": 12,
      "outputs": [
        {
          "output_type": "stream",
          "name": "stdout",
          "text": [
            "[1] \"data.frame\"\n"
          ]
        }
      ]
    },
    {
      "cell_type": "code",
      "source": [
        "%%R\n",
        "as_tibble(cohort_data)"
      ],
      "metadata": {
        "colab": {
          "base_uri": "https://localhost:8080/"
        },
        "id": "kA1mGmeBg78B",
        "outputId": "06d0a855-4e62-4564-b6e5-f54807da4750"
      },
      "execution_count": 29,
      "outputs": [
        {
          "output_type": "stream",
          "name": "stdout",
          "text": [
            "# A tibble: 35,300 × 50\n",
            "    stay_id hadm_id subject_id   age Gender ethnicity midodrine avg_doses_per_2…\n",
            "      <int>   <int>      <int> <int>  <int> <chr>         <int>            <dbl>\n",
            " 1 36014877  2.72e7   11861017    87      0 WHITE             1             1.60\n",
            " 2 32272859  2.60e7   11259141    60      1 WHITE             1             1.63\n",
            " 3 34023828  2.18e7   18010960    59      0 UNKNOWN           1             1.59\n",
            " 4 37798199  2.98e7   10926537    42      1 BLACK/AF…         1             1.57\n",
            " 5 32309766  2.93e7   15703353    59      1 WHITE             1             1.52\n",
            " 6 32470068  2.99e7   12682108    32      1 WHITE             1             1.67\n",
            " 7 39913468  2.56e7   14695267    26      0 UNKNOWN           1             1.96\n",
            " 8 36158255  2.69e7   11544355    29      0 UNKNOWN           1             1.69\n",
            " 9 39406131  2.71e7   16583373    51      0 WHITE             1             1.64\n",
            "10 38515563  2.42e7   11896370    62      1 WHITE             1             1.37\n",
            "# … with 35,290 more rows, and 42 more variables: MICU <int>,\n",
            "#   adm_weekday <int>, weight <dbl>, sapsii <dbl>, charlson_index <dbl>,\n",
            "#   CPD_or_COPD_rate <dbl>, Maligancy_rate <dbl>, mild_liver_rate <dbl>,\n",
            "#   severe_liver_rate <dbl>, Renal_rate <dbl>, CAD_rate <dbl>, AFIB_rate <dbl>,\n",
            "#   hemoglobin <dbl>, platelet <dbl>, wbc <dbl>, sodium <dbl>, potassium <dbl>,\n",
            "#   bicarbonate <dbl>, chloride <dbl>, bun <dbl>, creatinine <dbl>,\n",
            "#   lactate <dbl>, ph <dbl>, po2 <dbl>, pco2 <dbl>, bnp <dbl>, …\n"
          ]
        }
      ]
    },
    {
      "cell_type": "code",
      "source": [
        "%%R\n",
        "plot(density(cohort_data$mort_28_day), main = \"mortality plot\") #should come out as bionomial"
      ],
      "metadata": {
        "colab": {
          "base_uri": "https://localhost:8080/",
          "height": 497
        },
        "id": "lugHPnftWF4Z",
        "outputId": "01a7b134-d1f9-4759-fbae-103b0382d551"
      },
      "execution_count": null,
      "outputs": [
        {
          "output_type": "display_data",
          "data": {
            "image/png": "[encoded data removed]"
          },
          "metadata": {}
        }
      ]
    },
    {
      "cell_type": "code",
      "source": [
        "%%R\n",
        "features = subset(cohort_data,select=-c(stay_id,hadm_id,subject_id,ethnicity,midodrine,avg_doses_per_24_hrs,mortality,mort_28_day,vasopressor_use))"
      ],
      "metadata": {
        "id": "r84rZoLpoKQd"
      },
      "execution_count": 9,
      "outputs": []
    },
    {
      "cell_type": "code",
      "source": [
        "%%R\n",
        "features_complete <- read.csv(\"/content/gdrive/MyDrive/midodrine/features_complete.csv\") #Imputed feature table\n",
        "features_complete = subset(features_complete,select=-c(X))"
      ],
      "metadata": {
        "id": "RJDCBRcW-821"
      },
      "execution_count": 10,
      "outputs": []
    },
    {
      "cell_type": "code",
      "source": [
        "%%R\n",
        "str(features_complete)"
      ],
      "metadata": {
        "id": "GBEMFSON_YnH",
        "outputId": "424d8aea-b4b9-45ba-a1a9-5483726c93c4",
        "colab": {
          "base_uri": "https://localhost:8080/"
        }
      },
      "execution_count": 20,
      "outputs": [
        {
          "output_type": "stream",
          "name": "stdout",
          "text": [
            "'data.frame':\t35300 obs. of  41 variables:\n",
            " $ age              : int  87 60 59 42 59 32 26 29 51 62 ...\n",
            " $ Gender           : int  0 1 0 1 1 1 0 0 0 1 ...\n",
            " $ MICU             : int  0 0 0 0 0 0 0 0 1 0 ...\n",
            " $ adm_weekday      : int  1 7 1 7 6 3 2 7 1 5 ...\n",
            " $ weight           : num  70 81.6 90 73 72.7 86.3 81 66.8 62 111 ...\n",
            " $ sapsii           : int  42 34 15 30 20 18 38 24 31 23 ...\n",
            " $ charlson_index   : num  8.83 3.33 3 2 3 ...\n",
            " $ CPD_or_COPD_rate : int  0 0 0 0 0 0 0 0 0 0 ...\n",
            " $ Maligancy_rate   : int  0 0 0 0 0 0 0 0 0 0 ...\n",
            " $ mild_liver_rate  : int  0 0 0 0 0 0 0 0 1 0 ...\n",
            " $ severe_liver_rate: int  0 0 0 0 0 0 0 0 0 0 ...\n",
            " $ Renal_rate       : int  0 0 0 0 0 0 0 0 0 0 ...\n",
            " $ CAD_rate         : int  1 0 0 0 0 0 0 0 0 0 ...\n",
            " $ AFIB_rate        : int  0 1 0 0 0 0 0 0 1 0 ...\n",
            " $ hemoglobin       : num  10.4 11.2 13.2 12.4 8 ...\n",
            " $ platelet         : num  273 238 157 195 223 ...\n",
            " $ wbc              : num  11.7 10.6 11.5 12.1 10.2 ...\n",
            " $ sodium           : num  136 135 142 140 136 ...\n",
            " $ potassium        : num  3.6 4.17 3.4 3.8 4.25 ...\n",
            " $ bicarbonate      : num  20 24 21 18 22.5 20 18 22 20 24 ...\n",
            " $ chloride         : num  97 103 110 112 101 ...\n",
            " $ bun              : num  15.5 7.67 13 8 10 ...\n",
            " $ creatinine       : num  0.8 0.4 0.8 0.7 0.6 0.7 0.8 0.75 0.6 0.7 ...\n",
            " $ lactate          : num  1.7 1.1 2 0.7 1.05 1.6 0.7 1.1 3.4 1.1 ...\n",
            " $ ph               : num  7.45 7.45 7.31 7.46 7.4 ...\n",
            " $ po2              : num  221 100 114 222 82 ...\n",
            " $ pco2             : num  31 38 53.5 25 39.5 37.5 35.5 38 40.5 42 ...\n",
            " $ bnp              : num  0 0 0 0 0 0 0 0 0 0 ...\n",
            " $ troponin         : num  0 0 0 0 0 0 0 0 0 0 ...\n",
            " $ creatinine_kinase: num  0 1 1 0 0 1 1 0 0 1 ...\n",
            " $ heart_rate_mean  : num  78.3 100.3 53.9 66.9 82.2 ...\n",
            " $ sbp_mean         : num  123 120 129 121 114 ...\n",
            " $ dbp_mean         : num  51.6 77.6 65.5 71 57.5 ...\n",
            " $ mbp_mean         : num  76.6 93.3 84.7 82.8 77.5 ...\n",
            " $ resp_rate_mean   : num  17.6 17.3 15.4 17.2 21.7 ...\n",
            " $ temperature_mean : num  36.4 36.9 36.8 37.1 37.4 ...\n",
            " $ spo2_mean        : num  100 97.3 96.6 99.8 98.2 ...\n",
            " $ glucose_mean     : num  247 120 98 95 137 ...\n",
            " $ sedative_use     : int  1 1 1 1 1 0 1 1 1 0 ...\n",
            " $ ventilation_use  : int  1 1 1 1 1 1 1 1 1 1 ...\n",
            " $ admit_hour       : int  15 18 15 17 3 12 17 15 0 5 ...\n"
          ]
        }
      ]
    },
    {
      "cell_type": "code",
      "source": [
        "%%R\n",
        "summary(features_complete)"
      ],
      "metadata": {
        "id": "aHWsWbfvDT3o",
        "outputId": "f3b7fbda-41c3-41e7-d75b-b6d270418937",
        "colab": {
          "base_uri": "https://localhost:8080/"
        }
      },
      "execution_count": 11,
      "outputs": [
        {
          "output_type": "stream",
          "name": "stdout",
          "text": [
            "      age             Gender            MICU         adm_weekday   \n",
            " Min.   : 18.00   Min.   :0.0000   Min.   :0.0000   Min.   :1.000  \n",
            " 1st Qu.: 51.00   1st Qu.:0.0000   1st Qu.:0.0000   1st Qu.:2.000  \n",
            " Median : 64.00   Median :0.0000   Median :1.0000   Median :4.000  \n",
            " Mean   : 62.71   Mean   :0.4698   Mean   :0.5343   Mean   :3.993  \n",
            " 3rd Qu.: 77.00   3rd Qu.:1.0000   3rd Qu.:1.0000   3rd Qu.:6.000  \n",
            " Max.   :102.00   Max.   :1.0000   Max.   :1.0000   Max.   :7.000  \n",
            "                                                                   \n",
            "     weight           sapsii       charlson_index   CPD_or_COPD_rate\n",
            " Min.   :   1.0   Min.   :  0.00   Min.   : 0.000   Min.   :0.0000  \n",
            " 1st Qu.:  64.7   1st Qu.: 24.00   1st Qu.: 3.000   1st Qu.:0.0000  \n",
            " Median :  77.1   Median : 32.00   Median : 5.000   Median :0.0000  \n",
            " Mean   :  80.7   Mean   : 34.06   Mean   : 5.026   Mean   :0.2337  \n",
            " 3rd Qu.:  92.4   3rd Qu.: 42.00   3rd Qu.: 7.000   3rd Qu.:0.0000  \n",
            " Max.   :1120.0   Max.   :114.00   Max.   :19.000   Max.   :1.0000  \n",
            "                                                                    \n",
            " Maligancy_rate   mild_liver_rate  severe_liver_rate   Renal_rate    \n",
            " Min.   :0.0000   Min.   :0.0000   Min.   :0.00000   Min.   :0.0000  \n",
            " 1st Qu.:0.0000   1st Qu.:0.0000   1st Qu.:0.00000   1st Qu.:0.0000  \n",
            " Median :0.0000   Median :0.0000   Median :0.00000   Median :0.0000  \n",
            " Mean   :0.1613   Mean   :0.1245   Mean   :0.05601   Mean   :0.1646  \n",
            " 3rd Qu.:0.0000   3rd Qu.:0.0000   3rd Qu.:0.00000   3rd Qu.:0.0000  \n",
            " Max.   :1.0000   Max.   :1.0000   Max.   :1.00000   Max.   :1.0000  \n",
            "                                                                     \n",
            "    CAD_rate        AFIB_rate        hemoglobin        platelet     \n",
            " Min.   :0.0000   Min.   :0.0000   Min.   : 3.500   Min.   :   6.0  \n",
            " 1st Qu.:0.0000   1st Qu.:0.0000   1st Qu.: 9.333   1st Qu.: 144.0  \n",
            " Median :0.0000   Median :0.0000   Median :10.850   Median : 198.5  \n",
            " Mean   :0.1583   Mean   :0.2182   Mean   :10.905   Mean   : 212.1  \n",
            " 3rd Qu.:0.0000   3rd Qu.:0.0000   3rd Qu.:12.400   3rd Qu.: 261.0  \n",
            " Max.   :1.0000   Max.   :1.0000   Max.   :20.940   Max.   :2436.0  \n",
            "                                                                    \n",
            "      wbc             sodium        potassium      bicarbonate   \n",
            " Min.   :  0.10   Min.   :104.2   Min.   :1.600   Min.   : 3.00  \n",
            " 1st Qu.:  7.55   1st Qu.:136.0   1st Qu.:3.733   1st Qu.:20.50  \n",
            " Median : 10.40   Median :139.0   Median :4.050   Median :23.00  \n",
            " Mean   : 12.03   Mean   :138.5   Mean   :4.124   Mean   :23.05  \n",
            " 3rd Qu.: 14.20   3rd Qu.:141.0   3rd Qu.:4.400   3rd Qu.:25.50  \n",
            " Max.   :474.70   Max.   :179.0   Max.   :9.600   Max.   :49.00  \n",
            "                                                                 \n",
            "    chloride          bun          creatinine        lactate      \n",
            " Min.   : 67.0   Min.   :  1.0   Min.   : 0.100   Min.   : 0.200  \n",
            " 1st Qu.:101.0   1st Qu.: 12.0   1st Qu.: 0.700   1st Qu.: 1.133  \n",
            " Median :104.5   Median : 17.5   Median : 0.900   Median : 1.600  \n",
            " Mean   :104.2   Mean   : 24.3   Mean   : 1.341   Mean   : 2.040  \n",
            " 3rd Qu.:108.0   3rd Qu.: 28.5   3rd Qu.: 1.300   3rd Qu.: 2.367  \n",
            " Max.   :152.2   Max.   :228.0   Max.   :31.950   Max.   :26.660  \n",
            "                                                                  \n",
            "       ph             po2             pco2             bnp        \n",
            " Min.   :6.720   Min.   : 14.0   Min.   : 10.40   Min.   :0.0000  \n",
            " 1st Qu.:7.330   1st Qu.: 61.5   1st Qu.: 36.00   1st Qu.:0.0000  \n",
            " Median :7.380   Median : 95.0   Median : 40.67   Median :0.0000  \n",
            " Mean   :7.374   Mean   :115.4   Mean   : 41.94   Mean   :0.0297  \n",
            " 3rd Qu.:7.426   3rd Qu.:150.5   3rd Qu.: 46.00   3rd Qu.:0.0000  \n",
            " Max.   :7.690   Max.   :587.0   Max.   :228.50   Max.   :1.0000  \n",
            "                                                                  \n",
            "    troponin      creatinine_kinase heart_rate_mean     sbp_mean     \n",
            " Min.   :0.0000   Min.   :0.0000    Min.   : 29.81   Min.   : 34.17  \n",
            " 1st Qu.:0.0000   1st Qu.:0.0000    1st Qu.: 74.08   1st Qu.:107.87  \n",
            " Median :0.0000   Median :0.0000    Median : 85.00   Median :118.83  \n",
            " Mean   :0.1701   Mean   :0.2565    Mean   : 86.13   Mean   :120.43  \n",
            " 3rd Qu.:0.0000   3rd Qu.:0.6667    3rd Qu.: 97.00   3rd Qu.:131.60  \n",
            " Max.   :1.0000   Max.   :1.0000    Max.   :167.00   Max.   :206.39  \n",
            "                                                                     \n",
            "    dbp_mean         mbp_mean      resp_rate_mean  temperature_mean\n",
            " Min.   : 17.00   Min.   : 24.07   Min.   : 6.00   Min.   :30.40   \n",
            " 1st Qu.: 57.07   1st Qu.: 71.44   1st Qu.:16.50   1st Qu.:36.62   \n",
            " Median : 64.00   Median : 78.49   Median :18.65   Median :36.85   \n",
            " Mean   : 64.98   Mean   : 79.61   Mean   :19.28   Mean   :36.88   \n",
            " 3rd Qu.: 71.95   3rd Qu.: 86.75   3rd Qu.:21.45   3rd Qu.:37.14   \n",
            " Max.   :131.00   Max.   :151.53   Max.   :48.00   Max.   :40.10   \n",
            "                                                                   \n",
            "   spo2_mean       glucose_mean       sedative_use    ventilation_use\n",
            " Min.   : 26.60   Min.   :    34.0   Min.   :0.0000   Min.   :1      \n",
            " 1st Qu.: 95.54   1st Qu.:   107.3   1st Qu.:0.0000   1st Qu.:1      \n",
            " Median : 96.94   Median :   128.8   Median :0.0000   Median :1      \n",
            " Mean   : 96.69   Mean   :   256.8   Mean   :0.3922   Mean   :1      \n",
            " 3rd Qu.: 98.32   3rd Qu.:   159.6   3rd Qu.:1.0000   3rd Qu.:1      \n",
            " Max.   :100.00   Max.   :999999.0   Max.   :1.0000   Max.   :1      \n",
            "                                                      NA's   :9788   \n",
            "   admit_hour   \n",
            " Min.   : 0.00  \n",
            " 1st Qu.: 5.00  \n",
            " Median :15.00  \n",
            " Mean   :12.86  \n",
            " 3rd Qu.:19.00  \n",
            " Max.   :23.00  \n",
            "                \n"
          ]
        }
      ]
    },
    {
      "cell_type": "code",
      "source": [
        "%%R\n",
        "# using colMeans()\n",
        "mean_val <- colMeans(features_complete,na.rm = TRUE)\n",
        "  \n",
        "# replacing NA with mean value of each column\n",
        "for(i in colnames(features_complete))\n",
        "  features_complete[,i][is.na(features_complete[,i])] <- mean_val[i]"
      ],
      "metadata": {
        "id": "XMdZj5BnCd2z"
      },
      "execution_count": 12,
      "outputs": []
    },
    {
      "cell_type": "code",
      "source": [
        "%%R\n",
        "summary(features_complete)"
      ],
      "metadata": {
        "id": "gMFKZ96FDWg2",
        "outputId": "49fc134f-94e6-4744-9ca8-dd47292a02ab",
        "colab": {
          "base_uri": "https://localhost:8080/"
        }
      },
      "execution_count": 13,
      "outputs": [
        {
          "output_type": "stream",
          "name": "stdout",
          "text": [
            "      age             Gender            MICU         adm_weekday   \n",
            " Min.   : 18.00   Min.   :0.0000   Min.   :0.0000   Min.   :1.000  \n",
            " 1st Qu.: 51.00   1st Qu.:0.0000   1st Qu.:0.0000   1st Qu.:2.000  \n",
            " Median : 64.00   Median :0.0000   Median :1.0000   Median :4.000  \n",
            " Mean   : 62.71   Mean   :0.4698   Mean   :0.5343   Mean   :3.993  \n",
            " 3rd Qu.: 77.00   3rd Qu.:1.0000   3rd Qu.:1.0000   3rd Qu.:6.000  \n",
            " Max.   :102.00   Max.   :1.0000   Max.   :1.0000   Max.   :7.000  \n",
            "     weight           sapsii       charlson_index   CPD_or_COPD_rate\n",
            " Min.   :   1.0   Min.   :  0.00   Min.   : 0.000   Min.   :0.0000  \n",
            " 1st Qu.:  64.7   1st Qu.: 24.00   1st Qu.: 3.000   1st Qu.:0.0000  \n",
            " Median :  77.1   Median : 32.00   Median : 5.000   Median :0.0000  \n",
            " Mean   :  80.7   Mean   : 34.06   Mean   : 5.026   Mean   :0.2337  \n",
            " 3rd Qu.:  92.4   3rd Qu.: 42.00   3rd Qu.: 7.000   3rd Qu.:0.0000  \n",
            " Max.   :1120.0   Max.   :114.00   Max.   :19.000   Max.   :1.0000  \n",
            " Maligancy_rate   mild_liver_rate  severe_liver_rate   Renal_rate    \n",
            " Min.   :0.0000   Min.   :0.0000   Min.   :0.00000   Min.   :0.0000  \n",
            " 1st Qu.:0.0000   1st Qu.:0.0000   1st Qu.:0.00000   1st Qu.:0.0000  \n",
            " Median :0.0000   Median :0.0000   Median :0.00000   Median :0.0000  \n",
            " Mean   :0.1613   Mean   :0.1245   Mean   :0.05601   Mean   :0.1646  \n",
            " 3rd Qu.:0.0000   3rd Qu.:0.0000   3rd Qu.:0.00000   3rd Qu.:0.0000  \n",
            " Max.   :1.0000   Max.   :1.0000   Max.   :1.00000   Max.   :1.0000  \n",
            "    CAD_rate        AFIB_rate        hemoglobin        platelet     \n",
            " Min.   :0.0000   Min.   :0.0000   Min.   : 3.500   Min.   :   6.0  \n",
            " 1st Qu.:0.0000   1st Qu.:0.0000   1st Qu.: 9.333   1st Qu.: 144.0  \n",
            " Median :0.0000   Median :0.0000   Median :10.850   Median : 198.5  \n",
            " Mean   :0.1583   Mean   :0.2182   Mean   :10.905   Mean   : 212.1  \n",
            " 3rd Qu.:0.0000   3rd Qu.:0.0000   3rd Qu.:12.400   3rd Qu.: 261.0  \n",
            " Max.   :1.0000   Max.   :1.0000   Max.   :20.940   Max.   :2436.0  \n",
            "      wbc             sodium        potassium      bicarbonate   \n",
            " Min.   :  0.10   Min.   :104.2   Min.   :1.600   Min.   : 3.00  \n",
            " 1st Qu.:  7.55   1st Qu.:136.0   1st Qu.:3.733   1st Qu.:20.50  \n",
            " Median : 10.40   Median :139.0   Median :4.050   Median :23.00  \n",
            " Mean   : 12.03   Mean   :138.5   Mean   :4.124   Mean   :23.05  \n",
            " 3rd Qu.: 14.20   3rd Qu.:141.0   3rd Qu.:4.400   3rd Qu.:25.50  \n",
            " Max.   :474.70   Max.   :179.0   Max.   :9.600   Max.   :49.00  \n",
            "    chloride          bun          creatinine        lactate      \n",
            " Min.   : 67.0   Min.   :  1.0   Min.   : 0.100   Min.   : 0.200  \n",
            " 1st Qu.:101.0   1st Qu.: 12.0   1st Qu.: 0.700   1st Qu.: 1.133  \n",
            " Median :104.5   Median : 17.5   Median : 0.900   Median : 1.600  \n",
            " Mean   :104.2   Mean   : 24.3   Mean   : 1.341   Mean   : 2.040  \n",
            " 3rd Qu.:108.0   3rd Qu.: 28.5   3rd Qu.: 1.300   3rd Qu.: 2.367  \n",
            " Max.   :152.2   Max.   :228.0   Max.   :31.950   Max.   :26.660  \n",
            "       ph             po2             pco2             bnp        \n",
            " Min.   :6.720   Min.   : 14.0   Min.   : 10.40   Min.   :0.0000  \n",
            " 1st Qu.:7.330   1st Qu.: 61.5   1st Qu.: 36.00   1st Qu.:0.0000  \n",
            " Median :7.380   Median : 95.0   Median : 40.67   Median :0.0000  \n",
            " Mean   :7.374   Mean   :115.4   Mean   : 41.94   Mean   :0.0297  \n",
            " 3rd Qu.:7.426   3rd Qu.:150.5   3rd Qu.: 46.00   3rd Qu.:0.0000  \n",
            " Max.   :7.690   Max.   :587.0   Max.   :228.50   Max.   :1.0000  \n",
            "    troponin      creatinine_kinase heart_rate_mean     sbp_mean     \n",
            " Min.   :0.0000   Min.   :0.0000    Min.   : 29.81   Min.   : 34.17  \n",
            " 1st Qu.:0.0000   1st Qu.:0.0000    1st Qu.: 74.08   1st Qu.:107.87  \n",
            " Median :0.0000   Median :0.0000    Median : 85.00   Median :118.83  \n",
            " Mean   :0.1701   Mean   :0.2565    Mean   : 86.13   Mean   :120.43  \n",
            " 3rd Qu.:0.0000   3rd Qu.:0.6667    3rd Qu.: 97.00   3rd Qu.:131.60  \n",
            " Max.   :1.0000   Max.   :1.0000    Max.   :167.00   Max.   :206.39  \n",
            "    dbp_mean         mbp_mean      resp_rate_mean  temperature_mean\n",
            " Min.   : 17.00   Min.   : 24.07   Min.   : 6.00   Min.   :30.40   \n",
            " 1st Qu.: 57.07   1st Qu.: 71.44   1st Qu.:16.50   1st Qu.:36.62   \n",
            " Median : 64.00   Median : 78.49   Median :18.65   Median :36.85   \n",
            " Mean   : 64.98   Mean   : 79.61   Mean   :19.28   Mean   :36.88   \n",
            " 3rd Qu.: 71.95   3rd Qu.: 86.75   3rd Qu.:21.45   3rd Qu.:37.14   \n",
            " Max.   :131.00   Max.   :151.53   Max.   :48.00   Max.   :40.10   \n",
            "   spo2_mean       glucose_mean       sedative_use    ventilation_use\n",
            " Min.   : 26.60   Min.   :    34.0   Min.   :0.0000   Min.   :1      \n",
            " 1st Qu.: 95.54   1st Qu.:   107.3   1st Qu.:0.0000   1st Qu.:1      \n",
            " Median : 96.94   Median :   128.8   Median :0.0000   Median :1      \n",
            " Mean   : 96.69   Mean   :   256.8   Mean   :0.3922   Mean   :1      \n",
            " 3rd Qu.: 98.32   3rd Qu.:   159.6   3rd Qu.:1.0000   3rd Qu.:1      \n",
            " Max.   :100.00   Max.   :999999.0   Max.   :1.0000   Max.   :1      \n",
            "   admit_hour   \n",
            " Min.   : 0.00  \n",
            " 1st Qu.: 5.00  \n",
            " Median :15.00  \n",
            " Mean   :12.86  \n",
            " 3rd Qu.:19.00  \n",
            " Max.   :23.00  \n"
          ]
        }
      ]
    },
    {
      "cell_type": "code",
      "source": [
        "%%R \n",
        "set.seed(20220614)\n",
        "SL.library = c(\"SL.glm\", \"SL.glmnet\", \"SL.xgboost\") # Faster library\n",
        "g.SL.library <- c(\"SL.glm\", \"SL.glmnet\", \"SL.stepAIC\", \"SL.glm.interaction\", \"SL.mean\", \"SL.earth\", \"SL.gam\", \"SL.xgboost\")\n",
        "Q.SL.library <- c(\"SL.glm\", \"SL.glmnet\", \"SL.stepAIC\", \"SL.rpartPrune\", \"SL.mean\", \"SL.xgboost\")"
      ],
      "metadata": {
        "id": "IyZjhtyvKsJV"
      },
      "execution_count": 21,
      "outputs": []
    },
    {
      "cell_type": "code",
      "source": [
        "%%R\n",
        "colnames(features_complete)"
      ],
      "metadata": {
        "colab": {
          "base_uri": "https://localhost:8080/"
        },
        "id": "pPDQw-QReWdG",
        "outputId": "a624cb29-0edb-4dd3-ce62-3c2e3ad7f8d1"
      },
      "execution_count": 26,
      "outputs": [
        {
          "output_type": "stream",
          "name": "stdout",
          "text": [
            " [1] \"age\"               \"Gender\"            \"MICU\"             \n",
            " [4] \"adm_weekday\"       \"weight\"            \"sapsii\"           \n",
            " [7] \"charlson_index\"    \"CPD_or_COPD_rate\"  \"Maligancy_rate\"   \n",
            "[10] \"mild_liver_rate\"   \"severe_liver_rate\" \"Renal_rate\"       \n",
            "[13] \"CAD_rate\"          \"AFIB_rate\"         \"hemoglobin\"       \n",
            "[16] \"platelet\"          \"wbc\"               \"sodium\"           \n",
            "[19] \"potassium\"         \"bicarbonate\"       \"chloride\"         \n",
            "[22] \"bun\"               \"creatinine\"        \"lactate\"          \n",
            "[25] \"ph\"                \"po2\"               \"pco2\"             \n",
            "[28] \"bnp\"               \"troponin\"          \"creatinine_kinase\"\n",
            "[31] \"heart_rate_mean\"   \"sbp_mean\"          \"dbp_mean\"         \n",
            "[34] \"mbp_mean\"          \"resp_rate_mean\"    \"temperature_mean\" \n",
            "[37] \"spo2_mean\"         \"glucose_mean\"      \"sedative_use\"     \n",
            "[40] \"ventilation_use\"   \"admit_hour\"       \n"
          ]
        }
      ]
    },
    {
      "cell_type": "code",
      "source": [
        "%%R\n",
        "tmle.fit <- tmle::tmle(Y = cohort_data$mort_28_day, \n",
        "                   A = cohort_data$midodrine, \n",
        "                   W = features_complete,\n",
        "                   family = \"binomial\",\n",
        "                   V = 3,\n",
        "                   Q.SL.library = Q.SL.library, \n",
        "                   g.SL.library = g.SL.library)"
      ],
      "metadata": {
        "id": "1ycCy1ilTHBR"
      },
      "execution_count": 22,
      "outputs": []
    },
    {
      "cell_type": "code",
      "source": [
        "%%R\n",
        "tmle.fit"
      ],
      "metadata": {
        "id": "SYPL2ouCcj8j",
        "outputId": "e60d7cca-987b-4625-9d32-c3bd308fb007",
        "colab": {
          "base_uri": "https://localhost:8080/"
        }
      },
      "execution_count": 24,
      "outputs": [
        {
          "output_type": "stream",
          "name": "stdout",
          "text": [
            " Additive Effect\n",
            "   Parameter Estimate:  0.020201\n",
            "   Estimated Variance:  6.2452e-06\n",
            "              p-value:  6.2992e-16\n",
            "    95% Conf Interval: (0.015303, 0.025099) \n",
            "\n",
            " Additive Effect among the Treated\n",
            "   Parameter Estimate:  0.044206\n",
            "   Estimated Variance:  0.00024874\n",
            "              p-value:  0.0050642\n",
            "    95% Conf Interval: (0.013294, 0.075119) \n",
            "\n",
            " Additive Effect among the Controls\n",
            "   Parameter Estimate:  -0.073219\n",
            "   Estimated Variance:  5.6632e-06\n",
            "              p-value:  <2e-16\n",
            "    95% Conf Interval: (-0.077883, -0.068554) \n",
            "\n",
            " Relative Risk\n",
            "   Parameter Estimate:  1.1821\n",
            "              p-value:  2.0489e-16\n",
            "    95% Conf Interval: (1.1359, 1.2303) \n",
            "\n",
            "              log(RR):  0.16732\n",
            "    variance(log(RR)):  0.00041441 \n",
            "\n",
            " Odds Ratio\n",
            "   Parameter Estimate:  1.2096\n",
            "              p-value:  2.3183e-16\n",
            "    95% Conf Interval: (1.1559, 1.2659) \n",
            "\n",
            "              log(OR):  0.1903\n",
            "    variance(log(OR)):  0.00053802 \n"
          ]
        }
      ]
    },
    {
      "cell_type": "code",
      "source": [
        "%%R\n",
        "summary(tmle.fit)"
      ],
      "metadata": {
        "colab": {
          "base_uri": "https://localhost:8080/"
        },
        "id": "ovhPkvOA0g0B",
        "outputId": "cc93b204-684e-493b-9f42-0f8b6d513ddc"
      },
      "execution_count": 25,
      "outputs": [
        {
          "output_type": "stream",
          "name": "stdout",
          "text": [
            " Initial estimation of Q\n",
            "\t Procedure: cv-SuperLearner, ensemble\n",
            "\t Model:\n",
            "\t\t Y ~  SL.glm_All + SL.glmnet_All + SL.stepAIC_All + SL.rpartPrune_All + SL.mean_All + SL.xgboost_All\n",
            "\n",
            "\t Coefficients: \n",
            "\t      SL.glm_All    0.3197596 \n",
            "\t   SL.glmnet_All    0 \n",
            "\t  SL.stepAIC_All    0 \n",
            "\t SL.rpartPrune_All    0.002885355 \n",
            "\t     SL.mean_All    0.07231428 \n",
            "\t  SL.xgboost_All    0.6050407 \n",
            "\n",
            "\t Cross-validated pseudo R squared :  0.2764 \n",
            "\n",
            " Estimation of g (treatment mechanism)\n",
            "\t Procedure: SuperLearner, ensemble\t Empirical AUC = 0.9877 \n",
            "\n",
            "\t Model:\n",
            "\t\t A ~  SL.glm_All + SL.glmnet_All + SL.stepAIC_All + SL.glm.interaction_All + SL.mean_All + SL.earth_All + SL.gam_All + SL.xgboost_All \n",
            "\n",
            "\t Coefficients: \n",
            "\t      SL.glm_All    0 \n",
            "\t   SL.glmnet_All    0 \n",
            "\t  SL.stepAIC_All    0 \n",
            "\t SL.glm.interaction_All    0.03884595 \n",
            "\t     SL.mean_All    0.04402138 \n",
            "\t    SL.earth_All    0.2330481 \n",
            "\t      SL.gam_All    0.4837776 \n",
            "\t  SL.xgboost_All    0.2003069 \n",
            "\n",
            " Estimation of g.Z (intermediate variable assignment mechanism)\n",
            "\t Procedure: No intermediate variable \n",
            "\n",
            " Estimation of g.Delta (missingness mechanism)\n",
            "\t Procedure: No missingness, ensemble\n",
            "\n",
            " Bounds on g: (0.0025, 1) \n",
            "\n",
            " Bounds on g for ATT/ATE: (0.0025, 0.9975) \n",
            "\n",
            " Additive Effect\n",
            "   Parameter Estimate:  0.020201\n",
            "   Estimated Variance:  6.2452e-06\n",
            "              p-value:  6.2992e-16\n",
            "    95% Conf Interval: (0.015303, 0.025099) \n",
            "\n",
            " Additive Effect among the Treated\n",
            "   Parameter Estimate:  0.044206\n",
            "   Estimated Variance:  0.00024874\n",
            "              p-value:  0.0050642\n",
            "    95% Conf Interval: (0.013294, 0.075119) \n",
            "\n",
            " Additive Effect among the Controls\n",
            "   Parameter Estimate:  -0.073219\n",
            "   Estimated Variance:  5.6632e-06\n",
            "              p-value:  <2e-16\n",
            "    95% Conf Interval: (-0.077883, -0.068554) \n",
            "\n",
            " Relative Risk\n",
            "   Parameter Estimate:  1.1821\n",
            "              p-value:  2.0489e-16\n",
            "    95% Conf Interval: (1.1359, 1.2303) \n",
            "\n",
            "              log(RR):  0.16732\n",
            "    variance(log(RR)):  0.00041441 \n",
            "\n",
            " Odds Ratio\n",
            "   Parameter Estimate:  1.2096\n",
            "              p-value:  2.3183e-16\n",
            "    95% Conf Interval: (1.1559, 1.2659) \n",
            "\n",
            "              log(OR):  0.1903\n",
            "    variance(log(OR)):  0.00053802 \n"
          ]
        }
      ]
    },
    {
      "cell_type": "code",
      "source": [
        "%%R\n",
        "tmle.fit$estimates$ATE"
      ],
      "metadata": {
        "colab": {
          "base_uri": "https://localhost:8080/"
        },
        "id": "PjITDG8l0nV_",
        "outputId": "dccb279e-f15d-4ca9-c80b-d13b086c4324"
      },
      "execution_count": 30,
      "outputs": [
        {
          "output_type": "stream",
          "name": "stdout",
          "text": [
            "$psi\n",
            "[1] 0.02020073\n",
            "\n",
            "$var.psi\n",
            "[1] 6.245215e-06\n",
            "\n",
            "$CI\n",
            "[1] 0.01530261 0.02509886\n",
            "\n",
            "$pvalue\n",
            "[1] 6.299186e-16\n",
            "\n"
          ]
        }
      ]
    },
    {
      "cell_type": "code",
      "source": [
        "%%R\n",
        "tmle.fit$estimates$ATT"
      ],
      "metadata": {
        "id": "Ktt8XLDQdzav",
        "outputId": "ea9ab217-7fc2-46e4-d469-ff245dd86026",
        "colab": {
          "base_uri": "https://localhost:8080/"
        }
      },
      "execution_count": 29,
      "outputs": [
        {
          "output_type": "stream",
          "name": "stdout",
          "text": [
            "$psi\n",
            "[1] 0.04420634\n",
            "\n",
            "$converged\n",
            "[1] TRUE\n",
            "\n",
            "$var.psi\n",
            "[1] 0.0002487409\n",
            "\n",
            "$CI\n",
            "[1] 0.01329415 0.07511852\n",
            "\n",
            "$pvalue\n",
            "[1] 0.005064199\n",
            "\n"
          ]
        }
      ]
    },
    {
      "cell_type": "code",
      "source": [
        "%%R\n",
        "propensity_score <- tmle.fit$g$g1W"
      ],
      "metadata": {
        "id": "9wI3E5U1kQIh"
      },
      "execution_count": 36,
      "outputs": []
    },
    {
      "cell_type": "code",
      "source": [
        "%%R\n",
        "write.csv(propensity_score, \"ps.csv\")"
      ],
      "metadata": {
        "id": "vGUxOXcmm94S"
      },
      "execution_count": 37,
      "outputs": []
    }
  ],
  "metadata": {
    "colab": {
      "background_execution": "on",
      "collapsed_sections": [],
      "name": "Midodrine-analysis.ipynb",
      "provenance": [],
      "include_colab_link": true
    },
    "kernelspec": {
      "display_name": "Python 3",
      "name": "python3"
    },
    "language_info": {
      "name": "python"
    },
    "gpuClass": "standard",
    "accelerator": "GPU"
  },
  "nbformat": 4,
  "nbformat_minor": 0
}