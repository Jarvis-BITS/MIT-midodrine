{
  "cells": [
    {
      "cell_type": "markdown",
      "metadata": {
        "id": "view-in-github",
        "colab_type": "text"
      },
      "source": [
        "<a href=\"https://colab.research.google.com/github/Jarvis-BITS/midodrine-mimic-iv/blob/main/notebook/01a_feature_importance.ipynb\" target=\"_parent\"><img src=\"https://colab.research.google.com/assets/colab-badge.svg\" alt=\"Open In Colab\"/></a>"
      ]
    },
    {
      "cell_type": "markdown",
      "metadata": {
        "id": "_HjDBG56TISW"
      },
      "source": [
        "Import libraries"
      ]
    },
    {
      "cell_type": "code",
      "source": [
        "!pip install xgboost"
      ],
      "metadata": {
        "id": "BZ_aFSIUS5-L",
        "outputId": "df5f4ea7-ca46-4dbb-d709-b789d8d21b19",
        "colab": {
          "base_uri": "https://localhost:8080/"
        }
      },
      "execution_count": 1,
      "outputs": [
        {
          "output_type": "stream",
          "name": "stdout",
          "text": [
            "Looking in indexes: https://pypi.org/simple, https://us-python.pkg.dev/colab-wheels/public/simple/\n",
            "Requirement already satisfied: xgboost in /usr/local/lib/python3.7/dist-packages (0.90)\n",
            "Requirement already satisfied: numpy in /usr/local/lib/python3.7/dist-packages (from xgboost) (1.21.6)\n",
            "Requirement already satisfied: scipy in /usr/local/lib/python3.7/dist-packages (from xgboost) (1.7.3)\n"
          ]
        }
      ]
    },
    {
      "cell_type": "code",
      "execution_count": 1,
      "metadata": {
        "id": "2vbq436UTFSP"
      },
      "outputs": [],
      "source": [
        "import pandas as pd\n",
        "import matplotlib.pyplot as plt\n",
        "import numpy as np\n",
        "import tensorflow as tf \n",
        "from sklearn.linear_model import LogisticRegression as lr\n",
        "from sklearn.ensemble import RandomForestClassifier \n",
        "import xgboost as xgb\n",
        "from  xgboost import XGBClassifier\n",
        "from sklearn.model_selection import train_test_split \n",
        "from sklearn.metrics import accuracy_score\n",
        "import seaborn as sns\n",
        "sns.set(rc={'figure.figsize':(16,10)}, font_scale=1.3)\n",
        "\n",
        "import sys\n",
        "import requests \n",
        "import io\n",
        "import warnings\n",
        "warnings.filterwarnings('ignore')"
      ]
    },
    {
      "cell_type": "markdown",
      "source": [
        "Check to see if GPU connected. \n",
        "It is advised to add GPU from Runtime<Change runtime type<Hardware Accelaration<GPU for faster processing speeds"
      ],
      "metadata": {
        "id": "VJiP7tcPIMXX"
      }
    },
    {
      "cell_type": "code",
      "source": [
        "device_name = tf.test.gpu_device_name()\n",
        "if device_name != '/device:GPU:0':\n",
        "  raise SystemError('GPU device not found')\n",
        "print('Found GPU at: {}'.format(device_name))"
      ],
      "metadata": {
        "colab": {
          "base_uri": "https://localhost:8080/"
        },
        "id": "MxyKCFb-IJxA",
        "outputId": "2b970733-8998-4bc6-ea98-1e2837c2b100"
      },
      "execution_count": 3,
      "outputs": [
        {
          "output_type": "stream",
          "name": "stdout",
          "text": [
            "Found GPU at: /device:GPU:0\n"
          ]
        }
      ]
    },
    {
      "cell_type": "markdown",
      "source": [
        "## Importing csv "
      ],
      "metadata": {
        "id": "ZjmnXLRqXSb6"
      }
    },
    {
      "cell_type": "code",
      "source": [
        "table_cohort = pd.read_csv('table_cohort.csv')"
      ],
      "metadata": {
        "id": "IEAXgI9HXUs4"
      },
      "execution_count": 43,
      "outputs": []
    },
    {
      "cell_type": "code",
      "source": [
        "table_cohort.describe()"
      ],
      "metadata": {
        "colab": {
          "base_uri": "https://localhost:8080/",
          "height": 394
        },
        "id": "eY01lw6aXqwD",
        "outputId": "178971fa-ab8a-4d40-d6eb-a5be36ae164c"
      },
      "execution_count": 44,
      "outputs": [
        {
          "output_type": "execute_result",
          "data": {
            "text/plain": [
              "            stay_id       hadm_id    subject_id          age    midodrine  \\\n",
              "count  8.674000e+03  8.674000e+03  8.674000e+03  8674.000000  8674.000000   \n",
              "mean   3.497774e+07  2.502663e+07  1.500673e+07    65.522712     0.098455   \n",
              "std    2.896182e+06  2.876491e+06  2.865990e+06    15.851190     0.297946   \n",
              "min    3.000048e+07  2.000130e+07  1.000188e+07    18.000000     0.000000   \n",
              "25%    3.242515e+07  2.257122e+07  1.255871e+07    56.000000     0.000000   \n",
              "50%    3.499144e+07  2.504838e+07  1.501399e+07    67.000000     0.000000   \n",
              "75%    3.749099e+07  2.752799e+07  1.746052e+07    77.000000     0.000000   \n",
              "max    3.999923e+07  2.999910e+07  1.999984e+07   102.000000     1.000000   \n",
              "\n",
              "       avg_doses_per_24_hrs  los_hospital      los_icu  adm_weekday  \\\n",
              "count           8674.000000   8674.000000  8674.000000  8674.000000   \n",
              "mean               1.554209     15.618630     8.015915     3.988241   \n",
              "std                0.264804     16.022397     8.391177     2.000196   \n",
              "min                0.806452      1.000000     1.000000     1.000000   \n",
              "25%                1.373737      6.000000     2.710000     2.000000   \n",
              "50%                1.525000     11.000000     5.000000     4.000000   \n",
              "75%                1.700000     20.000000    10.250000     6.000000   \n",
              "max                4.580000    467.000000   101.750000     7.000000   \n",
              "\n",
              "            weight  ...    epi_rate  norepinephrine_use  norepi_rate  \\\n",
              "count  8498.000000  ...  465.000000              6878.0  6878.000000   \n",
              "mean     82.518946  ...    0.158489                 1.0     0.132138   \n",
              "std      26.824864  ...    0.271936                 0.0     0.163415   \n",
              "min       1.000000  ...    0.010001                 1.0     0.010000   \n",
              "25%      65.400000  ...    0.040038                 1.0     0.058011   \n",
              "50%      78.000000  ...    0.075199                 1.0     0.096937   \n",
              "75%      95.000000  ...    0.136470                 1.0     0.166468   \n",
              "max     833.000000  ...    2.389600                 1.0     6.399658   \n",
              "\n",
              "       phenylephrine_use  phenyl_rate  milrinone_use  mort_28_day  \\\n",
              "count             3864.0  3864.000000          100.0  8674.000000   \n",
              "mean                 1.0     1.594022            1.0     0.256975   \n",
              "std                  0.0     5.394138            0.0     0.436991   \n",
              "min                  1.0     0.020001            1.0     0.000000   \n",
              "25%                  1.0     0.657065            1.0     0.000000   \n",
              "50%                  1.0     1.036963            1.0     0.000000   \n",
              "75%                  1.0     1.984483            1.0     1.000000   \n",
              "max                  1.0   298.685819            1.0     1.000000   \n",
              "\n",
              "        admit_hour         MICU       Gender  \n",
              "count  8674.000000  8674.000000  8674.000000  \n",
              "mean     12.822343     0.628430     0.447890  \n",
              "std       7.462557     0.483252     0.497306  \n",
              "min       0.000000     0.000000     0.000000  \n",
              "25%       6.000000     0.000000     0.000000  \n",
              "50%      15.000000     1.000000     0.000000  \n",
              "75%      19.000000     1.000000     1.000000  \n",
              "max      23.000000     1.000000     1.000000  \n",
              "\n",
              "[8 rows x 66 columns]"
            ],
            "text/html": [
              "\n",
              "  <div id=\"df-a0b6fb8a-438e-45c7-8580-c4caaa60e03c\">\n",
              "    <div class=\"colab-df-container\">\n",
              "      <div>\n",
              "<style scoped>\n",
              "    .dataframe tbody tr th:only-of-type {\n",
              "        vertical-align: middle;\n",
              "    }\n",
              "\n",
              "    .dataframe tbody tr th {\n",
              "        vertical-align: top;\n",
              "    }\n",
              "\n",
              "    .dataframe thead th {\n",
              "        text-align: right;\n",
              "    }\n",
              "</style>\n",
              "<table border=\"1\" class=\"dataframe\">\n",
              "  <thead>\n",
              "    <tr style=\"text-align: right;\">\n",
              "      <th></th>\n",
              "      <th>stay_id</th>\n",
              "      <th>hadm_id</th>\n",
              "      <th>subject_id</th>\n",
              "      <th>age</th>\n",
              "      <th>midodrine</th>\n",
              "      <th>avg_doses_per_24_hrs</th>\n",
              "      <th>los_hospital</th>\n",
              "      <th>los_icu</th>\n",
              "      <th>adm_weekday</th>\n",
              "      <th>weight</th>\n",
              "      <th>...</th>\n",
              "      <th>epi_rate</th>\n",
              "      <th>norepinephrine_use</th>\n",
              "      <th>norepi_rate</th>\n",
              "      <th>phenylephrine_use</th>\n",
              "      <th>phenyl_rate</th>\n",
              "      <th>milrinone_use</th>\n",
              "      <th>mort_28_day</th>\n",
              "      <th>admit_hour</th>\n",
              "      <th>MICU</th>\n",
              "      <th>Gender</th>\n",
              "    </tr>\n",
              "  </thead>\n",
              "  <tbody>\n",
              "    <tr>\n",
              "      <th>count</th>\n",
              "      <td>8.674000e+03</td>\n",
              "      <td>8.674000e+03</td>\n",
              "      <td>8.674000e+03</td>\n",
              "      <td>8674.000000</td>\n",
              "      <td>8674.000000</td>\n",
              "      <td>8674.000000</td>\n",
              "      <td>8674.000000</td>\n",
              "      <td>8674.000000</td>\n",
              "      <td>8674.000000</td>\n",
              "      <td>8498.000000</td>\n",
              "      <td>...</td>\n",
              "      <td>465.000000</td>\n",
              "      <td>6878.0</td>\n",
              "      <td>6878.000000</td>\n",
              "      <td>3864.0</td>\n",
              "      <td>3864.000000</td>\n",
              "      <td>100.0</td>\n",
              "      <td>8674.000000</td>\n",
              "      <td>8674.000000</td>\n",
              "      <td>8674.000000</td>\n",
              "      <td>8674.000000</td>\n",
              "    </tr>\n",
              "    <tr>\n",
              "      <th>mean</th>\n",
              "      <td>3.497774e+07</td>\n",
              "      <td>2.502663e+07</td>\n",
              "      <td>1.500673e+07</td>\n",
              "      <td>65.522712</td>\n",
              "      <td>0.098455</td>\n",
              "      <td>1.554209</td>\n",
              "      <td>15.618630</td>\n",
              "      <td>8.015915</td>\n",
              "      <td>3.988241</td>\n",
              "      <td>82.518946</td>\n",
              "      <td>...</td>\n",
              "      <td>0.158489</td>\n",
              "      <td>1.0</td>\n",
              "      <td>0.132138</td>\n",
              "      <td>1.0</td>\n",
              "      <td>1.594022</td>\n",
              "      <td>1.0</td>\n",
              "      <td>0.256975</td>\n",
              "      <td>12.822343</td>\n",
              "      <td>0.628430</td>\n",
              "      <td>0.447890</td>\n",
              "    </tr>\n",
              "    <tr>\n",
              "      <th>std</th>\n",
              "      <td>2.896182e+06</td>\n",
              "      <td>2.876491e+06</td>\n",
              "      <td>2.865990e+06</td>\n",
              "      <td>15.851190</td>\n",
              "      <td>0.297946</td>\n",
              "      <td>0.264804</td>\n",
              "      <td>16.022397</td>\n",
              "      <td>8.391177</td>\n",
              "      <td>2.000196</td>\n",
              "      <td>26.824864</td>\n",
              "      <td>...</td>\n",
              "      <td>0.271936</td>\n",
              "      <td>0.0</td>\n",
              "      <td>0.163415</td>\n",
              "      <td>0.0</td>\n",
              "      <td>5.394138</td>\n",
              "      <td>0.0</td>\n",
              "      <td>0.436991</td>\n",
              "      <td>7.462557</td>\n",
              "      <td>0.483252</td>\n",
              "      <td>0.497306</td>\n",
              "    </tr>\n",
              "    <tr>\n",
              "      <th>min</th>\n",
              "      <td>3.000048e+07</td>\n",
              "      <td>2.000130e+07</td>\n",
              "      <td>1.000188e+07</td>\n",
              "      <td>18.000000</td>\n",
              "      <td>0.000000</td>\n",
              "      <td>0.806452</td>\n",
              "      <td>1.000000</td>\n",
              "      <td>1.000000</td>\n",
              "      <td>1.000000</td>\n",
              "      <td>1.000000</td>\n",
              "      <td>...</td>\n",
              "      <td>0.010001</td>\n",
              "      <td>1.0</td>\n",
              "      <td>0.010000</td>\n",
              "      <td>1.0</td>\n",
              "      <td>0.020001</td>\n",
              "      <td>1.0</td>\n",
              "      <td>0.000000</td>\n",
              "      <td>0.000000</td>\n",
              "      <td>0.000000</td>\n",
              "      <td>0.000000</td>\n",
              "    </tr>\n",
              "    <tr>\n",
              "      <th>25%</th>\n",
              "      <td>3.242515e+07</td>\n",
              "      <td>2.257122e+07</td>\n",
              "      <td>1.255871e+07</td>\n",
              "      <td>56.000000</td>\n",
              "      <td>0.000000</td>\n",
              "      <td>1.373737</td>\n",
              "      <td>6.000000</td>\n",
              "      <td>2.710000</td>\n",
              "      <td>2.000000</td>\n",
              "      <td>65.400000</td>\n",
              "      <td>...</td>\n",
              "      <td>0.040038</td>\n",
              "      <td>1.0</td>\n",
              "      <td>0.058011</td>\n",
              "      <td>1.0</td>\n",
              "      <td>0.657065</td>\n",
              "      <td>1.0</td>\n",
              "      <td>0.000000</td>\n",
              "      <td>6.000000</td>\n",
              "      <td>0.000000</td>\n",
              "      <td>0.000000</td>\n",
              "    </tr>\n",
              "    <tr>\n",
              "      <th>50%</th>\n",
              "      <td>3.499144e+07</td>\n",
              "      <td>2.504838e+07</td>\n",
              "      <td>1.501399e+07</td>\n",
              "      <td>67.000000</td>\n",
              "      <td>0.000000</td>\n",
              "      <td>1.525000</td>\n",
              "      <td>11.000000</td>\n",
              "      <td>5.000000</td>\n",
              "      <td>4.000000</td>\n",
              "      <td>78.000000</td>\n",
              "      <td>...</td>\n",
              "      <td>0.075199</td>\n",
              "      <td>1.0</td>\n",
              "      <td>0.096937</td>\n",
              "      <td>1.0</td>\n",
              "      <td>1.036963</td>\n",
              "      <td>1.0</td>\n",
              "      <td>0.000000</td>\n",
              "      <td>15.000000</td>\n",
              "      <td>1.000000</td>\n",
              "      <td>0.000000</td>\n",
              "    </tr>\n",
              "    <tr>\n",
              "      <th>75%</th>\n",
              "      <td>3.749099e+07</td>\n",
              "      <td>2.752799e+07</td>\n",
              "      <td>1.746052e+07</td>\n",
              "      <td>77.000000</td>\n",
              "      <td>0.000000</td>\n",
              "      <td>1.700000</td>\n",
              "      <td>20.000000</td>\n",
              "      <td>10.250000</td>\n",
              "      <td>6.000000</td>\n",
              "      <td>95.000000</td>\n",
              "      <td>...</td>\n",
              "      <td>0.136470</td>\n",
              "      <td>1.0</td>\n",
              "      <td>0.166468</td>\n",
              "      <td>1.0</td>\n",
              "      <td>1.984483</td>\n",
              "      <td>1.0</td>\n",
              "      <td>1.000000</td>\n",
              "      <td>19.000000</td>\n",
              "      <td>1.000000</td>\n",
              "      <td>1.000000</td>\n",
              "    </tr>\n",
              "    <tr>\n",
              "      <th>max</th>\n",
              "      <td>3.999923e+07</td>\n",
              "      <td>2.999910e+07</td>\n",
              "      <td>1.999984e+07</td>\n",
              "      <td>102.000000</td>\n",
              "      <td>1.000000</td>\n",
              "      <td>4.580000</td>\n",
              "      <td>467.000000</td>\n",
              "      <td>101.750000</td>\n",
              "      <td>7.000000</td>\n",
              "      <td>833.000000</td>\n",
              "      <td>...</td>\n",
              "      <td>2.389600</td>\n",
              "      <td>1.0</td>\n",
              "      <td>6.399658</td>\n",
              "      <td>1.0</td>\n",
              "      <td>298.685819</td>\n",
              "      <td>1.0</td>\n",
              "      <td>1.000000</td>\n",
              "      <td>23.000000</td>\n",
              "      <td>1.000000</td>\n",
              "      <td>1.000000</td>\n",
              "    </tr>\n",
              "  </tbody>\n",
              "</table>\n",
              "<p>8 rows × 66 columns</p>\n",
              "</div>\n",
              "      <button class=\"colab-df-convert\" onclick=\"convertToInteractive('df-a0b6fb8a-438e-45c7-8580-c4caaa60e03c')\"\n",
              "              title=\"Convert this dataframe to an interactive table.\"\n",
              "              style=\"display:none;\">\n",
              "        \n",
              "  <svg xmlns=\"http://www.w3.org/2000/svg\" height=\"24px\"viewBox=\"0 0 24 24\"\n",
              "       width=\"24px\">\n",
              "    <path d=\"M0 0h24v24H0V0z\" fill=\"none\"/>\n",
              "    <path d=\"M18.56 5.44l.94 2.06.94-2.06 2.06-.94-2.06-.94-.94-2.06-.94 2.06-2.06.94zm-11 1L8.5 8.5l.94-2.06 2.06-.94-2.06-.94L8.5 2.5l-.94 2.06-2.06.94zm10 10l.94 2.06.94-2.06 2.06-.94-2.06-.94-.94-2.06-.94 2.06-2.06.94z\"/><path d=\"M17.41 7.96l-1.37-1.37c-.4-.4-.92-.59-1.43-.59-.52 0-1.04.2-1.43.59L10.3 9.45l-7.72 7.72c-.78.78-.78 2.05 0 2.83L4 21.41c.39.39.9.59 1.41.59.51 0 1.02-.2 1.41-.59l7.78-7.78 2.81-2.81c.8-.78.8-2.07 0-2.86zM5.41 20L4 18.59l7.72-7.72 1.47 1.35L5.41 20z\"/>\n",
              "  </svg>\n",
              "      </button>\n",
              "      \n",
              "  <style>\n",
              "    .colab-df-container {\n",
              "      display:flex;\n",
              "      flex-wrap:wrap;\n",
              "      gap: 12px;\n",
              "    }\n",
              "\n",
              "    .colab-df-convert {\n",
              "      background-color: #E8F0FE;\n",
              "      border: none;\n",
              "      border-radius: 50%;\n",
              "      cursor: pointer;\n",
              "      display: none;\n",
              "      fill: #1967D2;\n",
              "      height: 32px;\n",
              "      padding: 0 0 0 0;\n",
              "      width: 32px;\n",
              "    }\n",
              "\n",
              "    .colab-df-convert:hover {\n",
              "      background-color: #E2EBFA;\n",
              "      box-shadow: 0px 1px 2px rgba(60, 64, 67, 0.3), 0px 1px 3px 1px rgba(60, 64, 67, 0.15);\n",
              "      fill: #174EA6;\n",
              "    }\n",
              "\n",
              "    [theme=dark] .colab-df-convert {\n",
              "      background-color: #3B4455;\n",
              "      fill: #D2E3FC;\n",
              "    }\n",
              "\n",
              "    [theme=dark] .colab-df-convert:hover {\n",
              "      background-color: #434B5C;\n",
              "      box-shadow: 0px 1px 3px 1px rgba(0, 0, 0, 0.15);\n",
              "      filter: drop-shadow(0px 1px 2px rgba(0, 0, 0, 0.3));\n",
              "      fill: #FFFFFF;\n",
              "    }\n",
              "  </style>\n",
              "\n",
              "      <script>\n",
              "        const buttonEl =\n",
              "          document.querySelector('#df-a0b6fb8a-438e-45c7-8580-c4caaa60e03c button.colab-df-convert');\n",
              "        buttonEl.style.display =\n",
              "          google.colab.kernel.accessAllowed ? 'block' : 'none';\n",
              "\n",
              "        async function convertToInteractive(key) {\n",
              "          const element = document.querySelector('#df-a0b6fb8a-438e-45c7-8580-c4caaa60e03c');\n",
              "          const dataTable =\n",
              "            await google.colab.kernel.invokeFunction('convertToInteractive',\n",
              "                                                     [key], {});\n",
              "          if (!dataTable) return;\n",
              "\n",
              "          const docLinkHtml = 'Like what you see? Visit the ' +\n",
              "            '<a target=\"_blank\" href=https://colab.research.google.com/notebooks/data_table.ipynb>data table notebook</a>'\n",
              "            + ' to learn more about interactive tables.';\n",
              "          element.innerHTML = '';\n",
              "          dataTable['output_type'] = 'display_data';\n",
              "          await google.colab.output.renderOutput(dataTable, element);\n",
              "          const docLink = document.createElement('div');\n",
              "          docLink.innerHTML = docLinkHtml;\n",
              "          element.appendChild(docLink);\n",
              "        }\n",
              "      </script>\n",
              "    </div>\n",
              "  </div>\n",
              "  "
            ]
          },
          "metadata": {},
          "execution_count": 44
        }
      ]
    },
    {
      "cell_type": "code",
      "source": [
        "table_cohort['vaso_starttime'] = pd.to_datetime(table_cohort['vaso_starttime'])\n",
        "table_cohort['vaso_endtime'] = pd.to_datetime(table_cohort['vaso_endtime'])\n",
        "table_cohort['icu_intime'] = pd.to_datetime(table_cohort['icu_intime'])\n",
        "table_cohort['icu_outtime'] = pd.to_datetime(table_cohort['icu_outtime'])\n",
        "\n",
        "table_cohort['english'] = table_cohort['language'].str.contains('english', case=False).astype(np.int32)\n",
        "table_cohort.drop(['language'], axis=1, inplace=True)"
      ],
      "metadata": {
        "id": "o8E5eusxvlaO"
      },
      "execution_count": 45,
      "outputs": []
    },
    {
      "cell_type": "code",
      "source": [
        "table_cohort['vaso_duration'] = ((table_cohort['vaso_endtime'] - table_cohort['vaso_starttime']).dt.total_seconds() / 3600) # converting secs to hrs"
      ],
      "metadata": {
        "id": "t3m3RsWGZjKN"
      },
      "execution_count": 218,
      "outputs": []
    },
    {
      "cell_type": "code",
      "source": [
        "table_cohort.info()"
      ],
      "metadata": {
        "colab": {
          "base_uri": "https://localhost:8080/"
        },
        "id": "_lJajQun82uH",
        "outputId": "3a0d5366-36a6-44b6-8be9-ff670a8ffefc"
      },
      "execution_count": 206,
      "outputs": [
        {
          "output_type": "stream",
          "name": "stdout",
          "text": [
            "<class 'pandas.core.frame.DataFrame'>\n",
            "RangeIndex: 8674 entries, 0 to 8673\n",
            "Data columns (total 85 columns):\n",
            " #   Column                Non-Null Count  Dtype         \n",
            "---  ------                --------------  -----         \n",
            " 0   stay_id               8674 non-null   int64         \n",
            " 1   hadm_id               8674 non-null   int64         \n",
            " 2   subject_id            8674 non-null   int64         \n",
            " 3   age                   8674 non-null   int64         \n",
            " 4   ethnicity             8674 non-null   object        \n",
            " 5   midodrine             8674 non-null   int64         \n",
            " 6   avg_doses_per_24_hrs  8674 non-null   float64       \n",
            " 7   icu_intime            8674 non-null   datetime64[ns]\n",
            " 8   icu_outtime           8674 non-null   datetime64[ns]\n",
            " 9   los_hospital          8674 non-null   int64         \n",
            " 10  los_icu               8674 non-null   float64       \n",
            " 11  adm_weekday           8674 non-null   int64         \n",
            " 12  weight                8498 non-null   float64       \n",
            " 13  sapsii                8674 non-null   int64         \n",
            " 14  sirs                  8674 non-null   int64         \n",
            " 15  sofa_avg_24hrs        8671 non-null   float64       \n",
            " 16  charlson_index        8674 non-null   int64         \n",
            " 17  CPD_or_COPD           8674 non-null   int64         \n",
            " 18  Maligancy             8674 non-null   int64         \n",
            " 19  Mild_Liver            8674 non-null   int64         \n",
            " 20  Severe_Liver          8674 non-null   int64         \n",
            " 21  Renal                 8674 non-null   int64         \n",
            " 22  AIDS                  8674 non-null   int64         \n",
            " 23  CAD_rate              8669 non-null   float64       \n",
            " 24  AFIB_rate             8669 non-null   float64       \n",
            " 25  hemoglobin            8569 non-null   float64       \n",
            " 26  hematocrit            8579 non-null   float64       \n",
            " 27  platelet              8572 non-null   float64       \n",
            " 28  wbc                   8568 non-null   float64       \n",
            " 29  sodium                8585 non-null   float64       \n",
            " 30  potassium             8585 non-null   float64       \n",
            " 31  bicarbonate           8584 non-null   float64       \n",
            " 32  chloride              8585 non-null   float64       \n",
            " 33  bun                   8581 non-null   float64       \n",
            " 34  creatinine            8581 non-null   float64       \n",
            " 35  lactate               6869 non-null   float64       \n",
            " 36  ph                    7369 non-null   float64       \n",
            " 37  po2                   7370 non-null   float64       \n",
            " 38  pco2                  7369 non-null   float64       \n",
            " 39  bnp                   3802 non-null   float64       \n",
            " 40  troponin              3802 non-null   float64       \n",
            " 41  creatinine_kinase     3802 non-null   float64       \n",
            " 42  heart_rate_mean       8672 non-null   float64       \n",
            " 43  sbp_mean              8656 non-null   float64       \n",
            " 44  dbp_mean              8656 non-null   float64       \n",
            " 45  mbp_mean              8672 non-null   float64       \n",
            " 46  resp_rate_mean        8671 non-null   float64       \n",
            " 47  temperature_mean      8615 non-null   float64       \n",
            " 48  spo2_mean             8671 non-null   float64       \n",
            " 49  glucose_mean          8624 non-null   float64       \n",
            " 50  sedative_use          8674 non-null   float64       \n",
            " 51  ventilation_use       8044 non-null   float64       \n",
            " 52  vasopressin_use       2149 non-null   float64       \n",
            " 53  pressin_starttime     2149 non-null   object        \n",
            " 54  pressin_endtime       2149 non-null   object        \n",
            " 55  pressin_rate          2149 non-null   float64       \n",
            " 56  dobutamine_use        274 non-null    float64       \n",
            " 57  dobut_starttime       274 non-null    object        \n",
            " 58  dobut_endtime         274 non-null    object        \n",
            " 59  dobut_rate            274 non-null    float64       \n",
            " 60  dopamine_use          550 non-null    float64       \n",
            " 61  dopa_starttime        550 non-null    object        \n",
            " 62  dopa_endtime          550 non-null    object        \n",
            " 63  dopa_rate             550 non-null    float64       \n",
            " 64  epinephrine_use       465 non-null    float64       \n",
            " 65  epi_starttime         465 non-null    object        \n",
            " 66  epi_endtime           465 non-null    object        \n",
            " 67  epi_rate              465 non-null    float64       \n",
            " 68  norepinephrine_use    6878 non-null   float64       \n",
            " 69  norepi_starttime      6878 non-null   object        \n",
            " 70  norepi_endtime        6878 non-null   object        \n",
            " 71  norepi_rate           6878 non-null   float64       \n",
            " 72  phenylephrine_use     3864 non-null   float64       \n",
            " 73  phenyl_starttime      3864 non-null   object        \n",
            " 74  phenyl_endtime        3864 non-null   object        \n",
            " 75  phenyl_rate           3864 non-null   float64       \n",
            " 76  milrinone_use         100 non-null    float64       \n",
            " 77  vaso_starttime        8674 non-null   datetime64[ns]\n",
            " 78  vaso_endtime          8674 non-null   datetime64[ns]\n",
            " 79  mort_28_day           8674 non-null   int64         \n",
            " 80  admit_hour            8674 non-null   int64         \n",
            " 81  MICU                  8674 non-null   int64         \n",
            " 82  Gender                8674 non-null   int64         \n",
            " 83  english               8674 non-null   int32         \n",
            " 84  vaso_duration         8674 non-null   float64       \n",
            "dtypes: datetime64[ns](4), float64(47), int32(1), int64(20), object(13)\n",
            "memory usage: 5.6+ MB\n"
          ]
        }
      ]
    },
    {
      "cell_type": "code",
      "source": [
        "mido_data = table_cohort.loc[table_cohort['midodrine'] == 1]\n",
        "nomido_data = table_cohort.loc[table_cohort['midodrine'] == 0]"
      ],
      "metadata": {
        "id": "5NGxDZWJFHy7"
      },
      "execution_count": 219,
      "outputs": []
    },
    {
      "cell_type": "markdown",
      "source": [
        "## EDA"
      ],
      "metadata": {
        "id": "W5JlaOyShKht"
      }
    },
    {
      "cell_type": "code",
      "source": [
        "vaso_start_day_mid = (mido_data['vaso_starttime'] - mido_data['icu_intime']).dt.days\n",
        "vaso_start_day_nomid = (nomido_data['vaso_starttime'] - nomido_data['icu_intime']).dt.days"
      ],
      "metadata": {
        "id": "JZwTrAnObIej"
      },
      "execution_count": 216,
      "outputs": []
    },
    {
      "cell_type": "code",
      "source": [
        "plt.hist([vaso_start_day_nomid, vaso_start_day_mid], bins = [0,1,2,3,4,5,6,7], label=['no-midodrine', 'midodrine'], density=True)\n",
        "plt.legend(loc='upper right')\n",
        "plt.xlabel(\"Day on which vasopressor given in ICU\")\n",
        "plt.ylabel(\"Fraction of patients\")\n",
        "plt.figure(figsize=(15,15))\n",
        "plt.show()"
      ],
      "metadata": {
        "id": "ncO0xEvS1O-D",
        "outputId": "ea630426-f3de-49eb-f9a9-da9fe9d273d2",
        "colab": {
          "base_uri": "https://localhost:8080/",
          "height": 308
        }
      },
      "execution_count": 217,
      "outputs": [
        {
          "output_type": "display_data",
          "data": {
            "text/plain": [
              "<Figure size 432x288 with 1 Axes>"
            ],
            "image/png": "[encoded data removed]"
          },
          "metadata": {
            "needs_background": "light"
          }
        },
        {
          "output_type": "display_data",
          "data": {
            "text/plain": [
              "<Figure size 1080x1080 with 0 Axes>"
            ]
          },
          "metadata": {}
        }
      ]
    },
    {
      "cell_type": "code",
      "source": [
        "sns.histplot(x = table_cohort['ethnicity'], hue=table_cohort['midodrine'], palette='hls', multiple=\"dodge\", stat = 'density', common_norm=False)\n",
        "plt.xticks(rotation = 90) \n",
        "plt.ylabel(\"Fraction of patients\")\n",
        "plt.figure(figsize=(15,15))\n",
        "plt.show()"
      ],
      "metadata": {
        "id": "zhtemH426giA",
        "outputId": "647e70cd-5af6-4e89-a139-4cf8086e5c28",
        "colab": {
          "base_uri": "https://localhost:8080/",
          "height": 539
        }
      },
      "execution_count": 94,
      "outputs": [
        {
          "output_type": "display_data",
          "data": {
            "text/plain": [
              "<Figure size 432x288 with 1 Axes>"
            ],
            "image/png": "[encoded data removed]"
          },
          "metadata": {
            "needs_background": "light"
          }
        },
        {
          "output_type": "display_data",
          "data": {
            "text/plain": [
              "<Figure size 1080x1080 with 0 Axes>"
            ]
          },
          "metadata": {}
        }
      ]
    },
    {
      "cell_type": "markdown",
      "source": [
        "### Feature importance"
      ],
      "metadata": {
        "id": "B1NpfqYTHQpc"
      }
    },
    {
      "cell_type": "code",
      "source": [
        "X = table_cohort.drop(['subject_id', 'hadm_id', 'stay_id', 'ethnicity', 'mort_28_day', 'midodrine', 'avg_doses_per_24_hrs', 'icu_intime', 'icu_outtime',\n",
        "                       'los_hospital', 'los_icu', 'vasopressin_use', 'pressin_starttime', 'pressin_endtime',\n",
        "                       'pressin_rate', 'dobutamine_use', 'dobut_starttime', 'dobut_endtime',\n",
        "                       'dobut_rate', 'dopamine_use', 'dopa_starttime', 'dopa_endtime',\n",
        "                       'dopa_rate', 'epinephrine_use', 'epi_starttime', 'epi_endtime',\n",
        "                       'epi_rate', 'norepinephrine_use', 'norepi_starttime', 'norepi_endtime',\n",
        "                       'norepi_rate', 'phenylephrine_use', 'phenyl_starttime',\n",
        "                       'phenyl_endtime', 'phenyl_rate', 'milrinone_use', 'vaso_starttime',\n",
        "                       'vaso_endtime'], axis=1)\n",
        "\n",
        "y = table_cohort['midodrine']"
      ],
      "metadata": {
        "id": "aDJplTOZyaPH"
      },
      "execution_count": 75,
      "outputs": []
    },
    {
      "cell_type": "code",
      "source": [
        "seed = 20220614 #for reproducible results\n",
        "test_size=0.2 \n",
        "X_train, X_test, y_train, y_test = train_test_split(X, y, test_size=test_size, random_state=seed)"
      ],
      "metadata": {
        "id": "WyQEvvBW50-9"
      },
      "execution_count": 76,
      "outputs": []
    },
    {
      "cell_type": "code",
      "source": [
        "#instantiate model and train\n",
        "model = XGBClassifier(learning_rate = 0.05, n_estimators=300, max_depth=5)\n",
        "model.fit(X_train, y_train)"
      ],
      "metadata": {
        "id": "g6mHmJcc6JAN",
        "outputId": "da9a0858-baf2-4728-8925-9a0606e5d339",
        "colab": {
          "base_uri": "https://localhost:8080/"
        }
      },
      "execution_count": 77,
      "outputs": [
        {
          "output_type": "execute_result",
          "data": {
            "text/plain": [
              "XGBClassifier(learning_rate=0.05, max_depth=5, n_estimators=300)"
            ]
          },
          "metadata": {},
          "execution_count": 77
        }
      ]
    },
    {
      "cell_type": "code",
      "source": [
        "# make predictions for test set\n",
        "y_pred = model.predict(X_test)\n",
        "predictions = [round(value) for value in y_pred]\n",
        "\n",
        "accuracy = accuracy_score(y_test, predictions)\n",
        "print(\"Accuracy: %.2f%%\" % (accuracy * 100.0))"
      ],
      "metadata": {
        "id": "JhIL9zFVJaQ4",
        "outputId": "96f17092-e2c9-489c-aab7-c28cdc9533bb",
        "colab": {
          "base_uri": "https://localhost:8080/"
        }
      },
      "execution_count": 78,
      "outputs": [
        {
          "output_type": "stream",
          "name": "stdout",
          "text": [
            "Accuracy: 92.10%\n"
          ]
        }
      ]
    },
    {
      "cell_type": "code",
      "source": [
        "lr_list = [0.05, 0.075, 0.1, 0.25, 0.5, 0.75, 1]\n",
        "\n",
        "for learning_rate in lr_list:\n",
        "    model = XGBClassifier(n_estimators=300, learning_rate=learning_rate, max_features=2, max_depth=5, random_state=seed)\n",
        "    model.fit(X_train, y_train)\n",
        "\n",
        "    print(\"Learning rate: \", learning_rate)\n",
        "    print(\"Accuracy score (training): {0:.3f}\".format(model.score(X_train, y_train)))\n",
        "    print(\"Accuracy score (validation): {0:.3f}\".format(model.score(X_test, y_test)))"
      ],
      "metadata": {
        "id": "CwCNLcqQFvTm",
        "outputId": "c3d1e87a-d062-4496-dbc5-5287320a1f0a",
        "colab": {
          "base_uri": "https://localhost:8080/"
        }
      },
      "execution_count": 79,
      "outputs": [
        {
          "output_type": "stream",
          "name": "stdout",
          "text": [
            "Learning rate:  0.05\n",
            "Accuracy score (training): 0.983\n",
            "Accuracy score (validation): 0.921\n",
            "Learning rate:  0.075\n",
            "Accuracy score (training): 0.993\n",
            "Accuracy score (validation): 0.920\n",
            "Learning rate:  0.1\n",
            "Accuracy score (training): 0.999\n",
            "Accuracy score (validation): 0.922\n",
            "Learning rate:  0.25\n",
            "Accuracy score (training): 1.000\n",
            "Accuracy score (validation): 0.920\n",
            "Learning rate:  0.5\n",
            "Accuracy score (training): 1.000\n",
            "Accuracy score (validation): 0.924\n",
            "Learning rate:  0.75\n",
            "Accuracy score (training): 1.000\n",
            "Accuracy score (validation): 0.918\n",
            "Learning rate:  1\n",
            "Accuracy score (training): 1.000\n",
            "Accuracy score (validation): 0.919\n"
          ]
        }
      ]
    },
    {
      "cell_type": "code",
      "source": [
        "from xgboost import plot_importance\n",
        "import matplotlib.pyplot as plt\n",
        "\n",
        "# plot feature importance\n",
        "fig, ax = plt.subplots(figsize=(25,25))\n",
        "plot_importance(model, ax=ax)\n",
        "plt.show()"
      ],
      "metadata": {
        "id": "RrFqq6iG6JxY",
        "outputId": "989d188b-7ad6-4310-cd61-4d472f7dc4f8",
        "colab": {
          "base_uri": "https://localhost:8080/",
          "height": 1000
        }
      },
      "execution_count": 82,
      "outputs": [
        {
          "output_type": "display_data",
          "data": {
            "text/plain": [
              "<Figure size 1800x1800 with 1 Axes>"
            ],
            "image/png": "[encoded data removed]"
          },
          "metadata": {
            "needs_background": "light"
          }
        }
      ]
    }
  ],
  "metadata": {
    "colab": {
      "background_execution": "on",
      "collapsed_sections": [],
      "name": "Midodrine-analysis.ipynb",
      "provenance": [],
      "include_colab_link": true
    },
    "kernelspec": {
      "display_name": "Python 3",
      "name": "python3"
    },
    "language_info": {
      "name": "python"
    },
    "gpuClass": "standard",
    "accelerator": "GPU"
  },
  "nbformat": 4,
  "nbformat_minor": 0
}